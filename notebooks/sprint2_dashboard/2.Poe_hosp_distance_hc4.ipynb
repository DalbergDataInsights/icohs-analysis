{
 "cells": [
  {
   "cell_type": "code",
   "execution_count": 57,
   "metadata": {},
   "outputs": [],
   "source": [
    "import pandas as pd\n",
    "pd.options.mode.chained_assignment = None \n",
    "import numpy as np\n",
    "import geopy.distance"
   ]
  },
  {
   "cell_type": "code",
   "execution_count": 58,
   "metadata": {},
   "outputs": [],
   "source": [
    "poe_path = '../Data/PoE/2_POE53_from_jenny.csv'\n",
    "hosp_path = '../Data/Hospitals/hospital_map.csv'\n",
    "Poe_df = pd.read_csv(poe_path)\n",
    "hos_all_df = pd.read_csv(hosp_path)"
   ]
  },
  {
   "cell_type": "code",
   "execution_count": 59,
   "metadata": {},
   "outputs": [],
   "source": [
    "Poe_df.dropna(inplace=True)\n",
    "hos_all_df.dropna(inplace=True)\n",
    "Poe_df.reset_index(drop=True, inplace =True)\n",
    "hos_all_df.reset_index(drop=True,inplace=True)\n"
   ]
  },
  {
   "cell_type": "code",
   "execution_count": 60,
   "metadata": {},
   "outputs": [],
   "source": [
    "hos_df=hos_all_df[hos_all_df['Level'].isin([\"Regional Referral Hospital\",\"National Referral Hospital\"])].copy()\n",
    "hos_hc4_df=hos_all_df[hos_all_df['Level'].isin([\"Regional Referral Hospital\",\"National Referral Hospital\",\"Hospital\",'Health Centre IV'])].copy()"
   ]
  },
  {
   "cell_type": "code",
   "execution_count": 61,
   "metadata": {},
   "outputs": [],
   "source": [
    "hos_df.rename(columns={'Health Facility':'facility_name'},inplace=True)\n",
    "hos_hc4_df.rename(columns={'Health Facility':'facility_name'},inplace=True)"
   ]
  },
  {
   "cell_type": "code",
   "execution_count": 62,
   "metadata": {},
   "outputs": [
    {
     "data": {
      "text/plain": [
       "16"
      ]
     },
     "execution_count": 62,
     "metadata": {},
     "output_type": "execute_result"
    }
   ],
   "source": [
    "len(hos_df)"
   ]
  },
  {
   "cell_type": "markdown",
   "metadata": {},
   "source": [
    "## PoE to hospital\n"
   ]
  },
  {
   "cell_type": "code",
   "execution_count": 63,
   "metadata": {},
   "outputs": [
    {
     "data": {
      "text/plain": [
       "(49, 16)"
      ]
     },
     "execution_count": 63,
     "metadata": {},
     "output_type": "execute_result"
    }
   ],
   "source": [
    "# Create matrix to hold the distances\n",
    "poe_hospitals_matrix = np.zeros((Poe_df.shape[0],hos_df.shape[0]))\n",
    "poe_hospitals_matrix.shape"
   ]
  },
  {
   "cell_type": "code",
   "execution_count": 64,
   "metadata": {},
   "outputs": [],
   "source": [
    "# Dictionary that maps PoE and facility naes to index (need that as we are going to convert the df to numpy array)\n",
    "hos_column_dict =  {k: v for v, k in enumerate(hos_df.facility_name)}\n",
    "poe_column_dict = {k: v for v, k in enumerate(Poe_df.PoEs)}"
   ]
  },
  {
   "cell_type": "code",
   "execution_count": 65,
   "metadata": {},
   "outputs": [],
   "source": [
    "#fuction to access the index from the above dictionaries\n",
    "def get_index(poe_name, hos_name):\n",
    "    return poe_column_dict[poe_name], hos_column_dict[hos_name]"
   ]
  },
  {
   "cell_type": "code",
   "execution_count": 66,
   "metadata": {},
   "outputs": [],
   "source": [
    "#Function to compute the distance from Poe to hospitals\n",
    "def compute_PoE_Hospitals_dist():\n",
    "    for i in Poe_df.PoEs.values:    \n",
    "        for j in hos_df.facility_name.values:\n",
    "            coords_1 = (Poe_df[Poe_df['PoEs']==i]['LON'].values[0], Poe_df[Poe_df['PoEs']==i]['LAT'].values[0])\n",
    "            coords_2 = (hos_df[hos_df['facility_name']==j]['lon'].values[0], hos_df[hos_df['facility_name']==j]['lat'].values[0])\n",
    "\n",
    "\n",
    "            poe_hospitals_matrix[get_index(i,j)] = geopy.distance.geodesic(coords_1, coords_2).km\n",
    "    return poe_hospitals_matrix\n",
    "poe_hospitals_matrix = compute_PoE_Hospitals_dist()"
   ]
  },
  {
   "cell_type": "code",
   "execution_count": 67,
   "metadata": {},
   "outputs": [],
   "source": [
    "## Get top 3 hospitals closest to each PoE \n",
    "\n",
    "hos_column_dict1 =  {v: k for v, k in enumerate(hos_df.facility_name)}\n",
    "df = pd.DataFrame()\n",
    "df['index']= range(poe_hospitals_matrix.shape[0])\n",
    "df['top1'] = np.nan\n",
    "df['top2'] = np.nan\n",
    "df['top3'] = np.nan\n",
    "df['top1_dist'] = np.nan\n",
    "df['top2_dist'] = np.nan\n",
    "df['top3_dist'] = np.nan\n",
    "df['category'] = np.nan\n",
    "\n",
    "    \n",
    "for i in range(poe_hospitals_matrix.shape[0]):\n",
    "    poe_hos = poe_hospitals_matrix[i]\n",
    "\n",
    "  \n",
    "    top_3 = np.argsort(poe_hos)[:3]\n",
    " \n",
    "    hos_column_dict1 =  {v: k for v, k in enumerate(hos_df.facility_name)}\n",
    "    hosp1 = hos_column_dict1[top_3[0]]\n",
    "    \n",
    "    hosp2 = hos_column_dict1[top_3[1]]\n",
    "    hosp3 = hos_column_dict1[top_3[2]]\n",
    "\n",
    "\n",
    "    mask = df['index'] == i\n",
    "    df['top1'][mask] = hosp1\n",
    "    df['top2'][mask] = hosp2\n",
    "    df['top3'][mask]  = hosp3\n",
    "    \n",
    "    df['top1_dist'][mask] = poe_hos[top_3[0]]\n",
    "    df['top2_dist'][mask] = poe_hos[top_3[1]]\n",
    "    df['top3_dist'][mask] = poe_hos[top_3[2]]\n",
    "    \n",
    "    \n",
    "    df['category'] = \"PoE\"\n",
    "    df['level'] = \"PoE\"\n",
    "  \n",
    "df['Long'] = Poe_df['LON']\n",
    "df['lat']  = Poe_df['LAT']\n",
    "df['hospital or poe']= Poe_df['PoEs']    "
   ]
  },
  {
   "cell_type": "markdown",
   "metadata": {},
   "source": [
    "## Hospital  to PoE\n",
    "\n",
    "\n",
    "Find distance from Hosptitals to PoE"
   ]
  },
  {
   "cell_type": "code",
   "execution_count": 68,
   "metadata": {},
   "outputs": [
    {
     "data": {
      "text/html": [
       "<div>\n",
       "<style scoped>\n",
       "    .dataframe tbody tr th:only-of-type {\n",
       "        vertical-align: middle;\n",
       "    }\n",
       "\n",
       "    .dataframe tbody tr th {\n",
       "        vertical-align: top;\n",
       "    }\n",
       "\n",
       "    .dataframe thead th {\n",
       "        text-align: right;\n",
       "    }\n",
       "</style>\n",
       "<table border=\"1\" class=\"dataframe\">\n",
       "  <thead>\n",
       "    <tr style=\"text-align: right;\">\n",
       "      <th></th>\n",
       "      <th>Unnamed: 0</th>\n",
       "      <th>facility_name</th>\n",
       "      <th>Level</th>\n",
       "      <th>Ownership</th>\n",
       "      <th>lat</th>\n",
       "      <th>lon</th>\n",
       "    </tr>\n",
       "  </thead>\n",
       "  <tbody>\n",
       "    <tr>\n",
       "      <th>1</th>\n",
       "      <td>1</td>\n",
       "      <td>Buikwe St. Charles Lwanga HOSPITAL</td>\n",
       "      <td>Hospital</td>\n",
       "      <td>Private Not For Profit</td>\n",
       "      <td>0.339440</td>\n",
       "      <td>33.031810</td>\n",
       "    </tr>\n",
       "    <tr>\n",
       "      <th>6</th>\n",
       "      <td>6</td>\n",
       "      <td>Kawolo HOSPITAL</td>\n",
       "      <td>Hospital</td>\n",
       "      <td>Government</td>\n",
       "      <td>0.367830</td>\n",
       "      <td>32.945080</td>\n",
       "    </tr>\n",
       "    <tr>\n",
       "      <th>11</th>\n",
       "      <td>11</td>\n",
       "      <td>Makonge HC III</td>\n",
       "      <td>Health Centre IV</td>\n",
       "      <td>Private Not For Profit</td>\n",
       "      <td>0.270890</td>\n",
       "      <td>33.149990</td>\n",
       "    </tr>\n",
       "    <tr>\n",
       "      <th>22</th>\n",
       "      <td>24</td>\n",
       "      <td>Nkokonjeru  HOSPITAL</td>\n",
       "      <td>Hospital</td>\n",
       "      <td>Private Not For Profit</td>\n",
       "      <td>0.235990</td>\n",
       "      <td>32.923020</td>\n",
       "    </tr>\n",
       "    <tr>\n",
       "      <th>25</th>\n",
       "      <td>27</td>\n",
       "      <td>St. Francis Nyenga HOSPITAL</td>\n",
       "      <td>Hospital</td>\n",
       "      <td>Private Not For Profit</td>\n",
       "      <td>0.395050</td>\n",
       "      <td>33.140650</td>\n",
       "    </tr>\n",
       "    <tr>\n",
       "      <th>...</th>\n",
       "      <td>...</td>\n",
       "      <td>...</td>\n",
       "      <td>...</td>\n",
       "      <td>...</td>\n",
       "      <td>...</td>\n",
       "      <td>...</td>\n",
       "    </tr>\n",
       "    <tr>\n",
       "      <th>5933</th>\n",
       "      <td>6135</td>\n",
       "      <td>Senta Medicare HC IV</td>\n",
       "      <td>Health Centre IV</td>\n",
       "      <td>PFP</td>\n",
       "      <td>0.234496</td>\n",
       "      <td>32.600494</td>\n",
       "    </tr>\n",
       "    <tr>\n",
       "      <th>5943</th>\n",
       "      <td>6145</td>\n",
       "      <td>Spring Medicare HC IV</td>\n",
       "      <td>Health Centre IV</td>\n",
       "      <td>PFP</td>\n",
       "      <td>0.409001</td>\n",
       "      <td>32.485988</td>\n",
       "    </tr>\n",
       "    <tr>\n",
       "      <th>6007</th>\n",
       "      <td>6209</td>\n",
       "      <td>URO Care Hospital</td>\n",
       "      <td>Hospital</td>\n",
       "      <td>PFP</td>\n",
       "      <td>0.368888</td>\n",
       "      <td>32.534516</td>\n",
       "    </tr>\n",
       "    <tr>\n",
       "      <th>6011</th>\n",
       "      <td>6213</td>\n",
       "      <td>Victoria Medical Services HC IV</td>\n",
       "      <td>Health Centre IV</td>\n",
       "      <td>PFP</td>\n",
       "      <td>0.214877</td>\n",
       "      <td>32.577385</td>\n",
       "    </tr>\n",
       "    <tr>\n",
       "      <th>6019</th>\n",
       "      <td>6221</td>\n",
       "      <td>Wagagai HC IV</td>\n",
       "      <td>Health Centre IV</td>\n",
       "      <td>PFP</td>\n",
       "      <td>0.424645</td>\n",
       "      <td>32.357262</td>\n",
       "    </tr>\n",
       "  </tbody>\n",
       "</table>\n",
       "<p>379 rows × 6 columns</p>\n",
       "</div>"
      ],
      "text/plain": [
       "      Unnamed: 0                       facility_name             Level  \\\n",
       "1              1  Buikwe St. Charles Lwanga HOSPITAL          Hospital   \n",
       "6              6                     Kawolo HOSPITAL          Hospital   \n",
       "11            11                      Makonge HC III  Health Centre IV   \n",
       "22            24                Nkokonjeru  HOSPITAL          Hospital   \n",
       "25            27         St. Francis Nyenga HOSPITAL          Hospital   \n",
       "...          ...                                 ...               ...   \n",
       "5933        6135                Senta Medicare HC IV  Health Centre IV   \n",
       "5943        6145               Spring Medicare HC IV  Health Centre IV   \n",
       "6007        6209                   URO Care Hospital          Hospital   \n",
       "6011        6213     Victoria Medical Services HC IV  Health Centre IV   \n",
       "6019        6221                       Wagagai HC IV  Health Centre IV   \n",
       "\n",
       "                   Ownership       lat        lon  \n",
       "1     Private Not For Profit  0.339440  33.031810  \n",
       "6                 Government  0.367830  32.945080  \n",
       "11    Private Not For Profit  0.270890  33.149990  \n",
       "22    Private Not For Profit  0.235990  32.923020  \n",
       "25    Private Not For Profit  0.395050  33.140650  \n",
       "...                      ...       ...        ...  \n",
       "5933                     PFP  0.234496  32.600494  \n",
       "5943                     PFP  0.409001  32.485988  \n",
       "6007                     PFP  0.368888  32.534516  \n",
       "6011                     PFP  0.214877  32.577385  \n",
       "6019                     PFP  0.424645  32.357262  \n",
       "\n",
       "[379 rows x 6 columns]"
      ]
     },
     "execution_count": 68,
     "metadata": {},
     "output_type": "execute_result"
    }
   ],
   "source": [
    "hos_hc4_df"
   ]
  },
  {
   "cell_type": "code",
   "execution_count": 69,
   "metadata": {},
   "outputs": [],
   "source": [
    "hos_hc4_column_dict =  {k: v for v, k in enumerate(hos_hc4_df.facility_name)}\n",
    "poe_column_dict = {k: v for v, k in enumerate(Poe_df.PoEs)}"
   ]
  },
  {
   "cell_type": "code",
   "execution_count": 70,
   "metadata": {},
   "outputs": [],
   "source": [
    "#Matrix to hold the distances\n",
    "hospitals_poe_matrix = np.zeros((hos_hc4_df.shape[0],Poe_df.shape[0]))\n",
    "\n",
    "#Get index of a given PoE and hospital\n",
    "def get_index2(poe_name, hos_name):\n",
    "    return hos_hc4_column_dict[hos_name], poe_column_dict[poe_name]\n"
   ]
  },
  {
   "cell_type": "code",
   "execution_count": 71,
   "metadata": {},
   "outputs": [],
   "source": [
    "def compute_Hospitals_PoE_dist():\n",
    "    for i in hos_hc4_df.facility_name.values:    \n",
    "        for j in Poe_df.PoEs.values:\n",
    "            coords_1 = (Poe_df[Poe_df['PoEs']==j]['LON'].values[0], Poe_df[Poe_df['PoEs']==j]['LAT'].values[0])\n",
    "            coords_2 = (hos_hc4_df[hos_hc4_df['facility_name']==i]['lon'].values[0], hos_hc4_df[hos_hc4_df['facility_name']==i]['lat'].values[0])\n",
    "\n",
    "            hospitals_poe_matrix[get_index2(j,i)] = geopy.distance.geodesic(coords_1, coords_2).km\n",
    "    return hospitals_poe_matrix"
   ]
  },
  {
   "cell_type": "code",
   "execution_count": 72,
   "metadata": {},
   "outputs": [
    {
     "data": {
      "text/plain": [
       "(379, 49)"
      ]
     },
     "execution_count": 72,
     "metadata": {},
     "output_type": "execute_result"
    }
   ],
   "source": [
    "hospitals_poe_matrix = compute_Hospitals_PoE_dist()\n",
    "hospitals_poe_matrix.shape"
   ]
  },
  {
   "cell_type": "code",
   "execution_count": 73,
   "metadata": {},
   "outputs": [],
   "source": [
    "## Get top 3 PoE closest to each Hospitals \n",
    "\n",
    "poe_column_dict1 = {v: k for v, k in enumerate(Poe_df.PoEs)}\n",
    "df1 = pd.DataFrame()\n",
    "df1['index']= range(hospitals_poe_matrix.shape[0])\n",
    "df1['top1'] = np.nan\n",
    "df1['top2'] = np.nan\n",
    "df1['top3'] = np.nan\n",
    "df1['top1_dist'] = np.nan\n",
    "df1['top2_dist'] = np.nan\n",
    "df1['top3_dist'] = np.nan\n",
    "df1['category'] = np.nan\n",
    "\n",
    "    \n",
    "for i in range(hospitals_poe_matrix.shape[0]):\n",
    "    poe_hos = hospitals_poe_matrix[i]\n",
    "  \n",
    "    \n",
    "    top_3 = np.argsort(poe_hos)[:3]\n",
    "    hos_column_dict1 =  {v: k for v, k in enumerate(Poe_df.PoEs)}\n",
    "    \n",
    "    hosp1 = hos_column_dict1[top_3[0]]\n",
    "    hosp2 = hos_column_dict1[top_3[1]]\n",
    "    hosp3 = hos_column_dict1[top_3[2]]\n",
    "\n",
    "\n",
    "    mask = df1['index'] == i\n",
    "    df1['top1'][mask] = hosp1\n",
    "    df1['top2'][mask] = hosp2\n",
    "    df1['top3'][mask] = hosp3\n",
    "    df1['top1_dist'][mask] = poe_hos[top_3[0]]\n",
    "    df1['top2_dist'][mask] = poe_hos[top_3[1]]\n",
    "    df1['top3_dist'][mask] = poe_hos[top_3[2]]\n",
    "    \n",
    "    \n",
    "    df1['category'] = \"hospital\"\n",
    "    df1['level'] = list(hos_hc4_df['Level'])"
   ]
  },
  {
   "cell_type": "code",
   "execution_count": 90,
   "metadata": {},
   "outputs": [
    {
     "data": {
      "text/plain": [
       "array([1, 0, 3], dtype=int64)"
      ]
     },
     "execution_count": 90,
     "metadata": {},
     "output_type": "execute_result"
    }
   ],
   "source": [
    "top_3"
   ]
  },
  {
   "cell_type": "code",
   "execution_count": 74,
   "metadata": {},
   "outputs": [],
   "source": [
    "df1['Long'] = list(hos_hc4_df['lon'])\n",
    "df1['lat'] = list(hos_hc4_df['lat'])\n",
    "df1['hospital or poe']= list(hos_hc4_df['facility_name'])"
   ]
  },
  {
   "cell_type": "markdown",
   "metadata": {},
   "source": [
    "## Stack the two dataframes"
   ]
  },
  {
   "cell_type": "code",
   "execution_count": 79,
   "metadata": {},
   "outputs": [],
   "source": [
    "all_dfs = [df, df1]\n",
    "\n",
    "main_df = pd.concat(all_dfs).reset_index(drop=True)\n",
    "main_df.drop('index', axis=1, inplace = True)"
   ]
  },
  {
   "cell_type": "code",
   "execution_count": 80,
   "metadata": {},
   "outputs": [
    {
     "data": {
      "text/html": [
       "<div>\n",
       "<style scoped>\n",
       "    .dataframe tbody tr th:only-of-type {\n",
       "        vertical-align: middle;\n",
       "    }\n",
       "\n",
       "    .dataframe tbody tr th {\n",
       "        vertical-align: top;\n",
       "    }\n",
       "\n",
       "    .dataframe thead th {\n",
       "        text-align: right;\n",
       "    }\n",
       "</style>\n",
       "<table border=\"1\" class=\"dataframe\">\n",
       "  <thead>\n",
       "    <tr style=\"text-align: right;\">\n",
       "      <th></th>\n",
       "      <th>top1</th>\n",
       "      <th>top2</th>\n",
       "      <th>top3</th>\n",
       "      <th>top1_dist</th>\n",
       "      <th>top2_dist</th>\n",
       "      <th>top3_dist</th>\n",
       "      <th>category</th>\n",
       "      <th>level</th>\n",
       "      <th>Long</th>\n",
       "      <th>lat</th>\n",
       "      <th>hospital or poe</th>\n",
       "    </tr>\n",
       "  </thead>\n",
       "  <tbody>\n",
       "    <tr>\n",
       "      <th>0</th>\n",
       "      <td>Butabika NATIONAL REFERAL HOSPITAL</td>\n",
       "      <td>Naguru  Hospital  - China Uganda Friendship</td>\n",
       "      <td>Mulago National Hospital- Old NATIONAL REFERAL...</td>\n",
       "      <td>2.356913</td>\n",
       "      <td>6.406779</td>\n",
       "      <td>9.747405</td>\n",
       "      <td>PoE</td>\n",
       "      <td>PoE</td>\n",
       "      <td>32.654000</td>\n",
       "      <td>0.290000</td>\n",
       "      <td>Port Bell</td>\n",
       "    </tr>\n",
       "    <tr>\n",
       "      <th>1</th>\n",
       "      <td>Mulago National Hospital- Old NATIONAL REFERAL...</td>\n",
       "      <td>Naguru  Hospital  - China Uganda Friendship</td>\n",
       "      <td>Butabika NATIONAL REFERAL HOSPITAL</td>\n",
       "      <td>31.267736</td>\n",
       "      <td>32.280677</td>\n",
       "      <td>34.678985</td>\n",
       "      <td>PoE</td>\n",
       "      <td>PoE</td>\n",
       "      <td>32.443055</td>\n",
       "      <td>0.044721</td>\n",
       "      <td>Entebbe Airport</td>\n",
       "    </tr>\n",
       "    <tr>\n",
       "      <th>2</th>\n",
       "      <td>Jinja Regional Ref HOSPITAL</td>\n",
       "      <td>Butabika NATIONAL REFERAL HOSPITAL</td>\n",
       "      <td>Naguru  Hospital  - China Uganda Friendship</td>\n",
       "      <td>15.598351</td>\n",
       "      <td>54.424288</td>\n",
       "      <td>59.995283</td>\n",
       "      <td>PoE</td>\n",
       "      <td>PoE</td>\n",
       "      <td>33.145901</td>\n",
       "      <td>0.279041</td>\n",
       "      <td>Kiyindi</td>\n",
       "    </tr>\n",
       "    <tr>\n",
       "      <th>3</th>\n",
       "      <td>Butabika NATIONAL REFERAL HOSPITAL</td>\n",
       "      <td>Naguru  Hospital  - China Uganda Friendship</td>\n",
       "      <td>Mulago National Hospital- Old NATIONAL REFERAL...</td>\n",
       "      <td>22.941662</td>\n",
       "      <td>27.927281</td>\n",
       "      <td>31.135860</td>\n",
       "      <td>PoE</td>\n",
       "      <td>PoE</td>\n",
       "      <td>32.803276</td>\n",
       "      <td>0.143008</td>\n",
       "      <td>Katosi</td>\n",
       "    </tr>\n",
       "    <tr>\n",
       "      <th>4</th>\n",
       "      <td>Masaka REGIONAL REF HOSPITAL</td>\n",
       "      <td>Mbarara REGIONAL REF HOSPITAL</td>\n",
       "      <td>Mubende RR HOSPITAL</td>\n",
       "      <td>72.753453</td>\n",
       "      <td>91.675881</td>\n",
       "      <td>149.082476</td>\n",
       "      <td>PoE</td>\n",
       "      <td>PoE</td>\n",
       "      <td>31.416706</td>\n",
       "      <td>-1.000000</td>\n",
       "      <td>Mutukula</td>\n",
       "    </tr>\n",
       "  </tbody>\n",
       "</table>\n",
       "</div>"
      ],
      "text/plain": [
       "                                                top1  \\\n",
       "0                 Butabika NATIONAL REFERAL HOSPITAL   \n",
       "1  Mulago National Hospital- Old NATIONAL REFERAL...   \n",
       "2                        Jinja Regional Ref HOSPITAL   \n",
       "3                 Butabika NATIONAL REFERAL HOSPITAL   \n",
       "4                       Masaka REGIONAL REF HOSPITAL   \n",
       "\n",
       "                                           top2  \\\n",
       "0  Naguru  Hospital  - China Uganda Friendship    \n",
       "1  Naguru  Hospital  - China Uganda Friendship    \n",
       "2            Butabika NATIONAL REFERAL HOSPITAL   \n",
       "3  Naguru  Hospital  - China Uganda Friendship    \n",
       "4                 Mbarara REGIONAL REF HOSPITAL   \n",
       "\n",
       "                                                top3  top1_dist  top2_dist  \\\n",
       "0  Mulago National Hospital- Old NATIONAL REFERAL...   2.356913   6.406779   \n",
       "1                 Butabika NATIONAL REFERAL HOSPITAL  31.267736  32.280677   \n",
       "2       Naguru  Hospital  - China Uganda Friendship   15.598351  54.424288   \n",
       "3  Mulago National Hospital- Old NATIONAL REFERAL...  22.941662  27.927281   \n",
       "4                                Mubende RR HOSPITAL  72.753453  91.675881   \n",
       "\n",
       "    top3_dist category level       Long       lat  hospital or poe  \n",
       "0    9.747405      PoE   PoE  32.654000  0.290000        Port Bell  \n",
       "1   34.678985      PoE   PoE  32.443055  0.044721  Entebbe Airport  \n",
       "2   59.995283      PoE   PoE  33.145901  0.279041          Kiyindi  \n",
       "3   31.135860      PoE   PoE  32.803276  0.143008           Katosi  \n",
       "4  149.082476      PoE   PoE  31.416706 -1.000000         Mutukula  "
      ]
     },
     "execution_count": 80,
     "metadata": {},
     "output_type": "execute_result"
    }
   ],
   "source": [
    "main_df.head()"
   ]
  },
  {
   "cell_type": "code",
   "execution_count": 81,
   "metadata": {},
   "outputs": [],
   "source": [
    "main_df = main_df[['hospital or poe','category', 'level','Long', 'lat', 'top1', 'top2','top3','top1_dist','top2_dist','top3_dist']]"
   ]
  },
  {
   "cell_type": "code",
   "execution_count": 83,
   "metadata": {},
   "outputs": [],
   "source": [
    "main_df.to_csv('../Data/Results/PoE-RRH_facilities_top3.csv')"
   ]
  },
  {
   "cell_type": "code",
   "execution_count": 48,
   "metadata": {},
   "outputs": [
    {
     "data": {
      "text/html": [
       "<div>\n",
       "<style scoped>\n",
       "    .dataframe tbody tr th:only-of-type {\n",
       "        vertical-align: middle;\n",
       "    }\n",
       "\n",
       "    .dataframe tbody tr th {\n",
       "        vertical-align: top;\n",
       "    }\n",
       "\n",
       "    .dataframe thead th {\n",
       "        text-align: right;\n",
       "    }\n",
       "</style>\n",
       "<table border=\"1\" class=\"dataframe\">\n",
       "  <thead>\n",
       "    <tr style=\"text-align: right;\">\n",
       "      <th></th>\n",
       "      <th>hospital or poe</th>\n",
       "      <th>category</th>\n",
       "      <th>Long</th>\n",
       "      <th>lat</th>\n",
       "      <th>top1</th>\n",
       "      <th>top2</th>\n",
       "      <th>top3</th>\n",
       "      <th>top1_dist</th>\n",
       "      <th>top2_dist</th>\n",
       "      <th>top3_dist</th>\n",
       "    </tr>\n",
       "  </thead>\n",
       "  <tbody>\n",
       "    <tr>\n",
       "      <th>0</th>\n",
       "      <td>Port Bell</td>\n",
       "      <td>PoE</td>\n",
       "      <td>32.654000</td>\n",
       "      <td>0.290000</td>\n",
       "      <td>Naguru  Hospital  - China Uganda Friendship</td>\n",
       "      <td>Jinja Regional Ref HOSPITAL</td>\n",
       "      <td>Masaka REGIONAL REF HOSPITAL</td>\n",
       "      <td>6.406779</td>\n",
       "      <td>62.373754</td>\n",
       "      <td>117.515295</td>\n",
       "    </tr>\n",
       "    <tr>\n",
       "      <th>1</th>\n",
       "      <td>Entebbe Airport</td>\n",
       "      <td>PoE</td>\n",
       "      <td>32.443055</td>\n",
       "      <td>0.044721</td>\n",
       "      <td>Naguru  Hospital  - China Uganda Friendship</td>\n",
       "      <td>Masaka REGIONAL REF HOSPITAL</td>\n",
       "      <td>Jinja Regional Ref HOSPITAL</td>\n",
       "      <td>32.280677</td>\n",
       "      <td>86.153220</td>\n",
       "      <td>91.794509</td>\n",
       "    </tr>\n",
       "    <tr>\n",
       "      <th>2</th>\n",
       "      <td>Kiyindi</td>\n",
       "      <td>PoE</td>\n",
       "      <td>33.145901</td>\n",
       "      <td>0.279041</td>\n",
       "      <td>Jinja Regional Ref HOSPITAL</td>\n",
       "      <td>Naguru  Hospital  - China Uganda Friendship</td>\n",
       "      <td>Mbale REGIONAL REF HOSPITAL</td>\n",
       "      <td>15.598351</td>\n",
       "      <td>59.995283</td>\n",
       "      <td>136.087597</td>\n",
       "    </tr>\n",
       "    <tr>\n",
       "      <th>3</th>\n",
       "      <td>Katosi</td>\n",
       "      <td>PoE</td>\n",
       "      <td>32.803276</td>\n",
       "      <td>0.143008</td>\n",
       "      <td>Naguru  Hospital  - China Uganda Friendship</td>\n",
       "      <td>Jinja Regional Ref HOSPITAL</td>\n",
       "      <td>Masaka REGIONAL REF HOSPITAL</td>\n",
       "      <td>27.927281</td>\n",
       "      <td>51.944846</td>\n",
       "      <td>126.609952</td>\n",
       "    </tr>\n",
       "    <tr>\n",
       "      <th>4</th>\n",
       "      <td>Mutukula</td>\n",
       "      <td>PoE</td>\n",
       "      <td>31.416706</td>\n",
       "      <td>-1.000000</td>\n",
       "      <td>Masaka REGIONAL REF HOSPITAL</td>\n",
       "      <td>Mbarara REGIONAL REF HOSPITAL</td>\n",
       "      <td>Mubende RR HOSPITAL</td>\n",
       "      <td>72.753453</td>\n",
       "      <td>91.675881</td>\n",
       "      <td>149.082476</td>\n",
       "    </tr>\n",
       "  </tbody>\n",
       "</table>\n",
       "</div>"
      ],
      "text/plain": [
       "   hospital or poe category       Long       lat  \\\n",
       "0        Port Bell      PoE  32.654000  0.290000   \n",
       "1  Entebbe Airport      PoE  32.443055  0.044721   \n",
       "2          Kiyindi      PoE  33.145901  0.279041   \n",
       "3           Katosi      PoE  32.803276  0.143008   \n",
       "4         Mutukula      PoE  31.416706 -1.000000   \n",
       "\n",
       "                                           top1  \\\n",
       "0  Naguru  Hospital  - China Uganda Friendship    \n",
       "1  Naguru  Hospital  - China Uganda Friendship    \n",
       "2                   Jinja Regional Ref HOSPITAL   \n",
       "3  Naguru  Hospital  - China Uganda Friendship    \n",
       "4                  Masaka REGIONAL REF HOSPITAL   \n",
       "\n",
       "                                           top2                          top3  \\\n",
       "0                   Jinja Regional Ref HOSPITAL  Masaka REGIONAL REF HOSPITAL   \n",
       "1                  Masaka REGIONAL REF HOSPITAL   Jinja Regional Ref HOSPITAL   \n",
       "2  Naguru  Hospital  - China Uganda Friendship    Mbale REGIONAL REF HOSPITAL   \n",
       "3                   Jinja Regional Ref HOSPITAL  Masaka REGIONAL REF HOSPITAL   \n",
       "4                 Mbarara REGIONAL REF HOSPITAL           Mubende RR HOSPITAL   \n",
       "\n",
       "   top1_dist  top2_dist   top3_dist  \n",
       "0   6.406779  62.373754  117.515295  \n",
       "1  32.280677  86.153220   91.794509  \n",
       "2  15.598351  59.995283  136.087597  \n",
       "3  27.927281  51.944846  126.609952  \n",
       "4  72.753453  91.675881  149.082476  "
      ]
     },
     "execution_count": 48,
     "metadata": {},
     "output_type": "execute_result"
    }
   ],
   "source": [
    "main_df.head()"
   ]
  },
  {
   "cell_type": "code",
   "execution_count": null,
   "metadata": {},
   "outputs": [],
   "source": []
  }
 ],
 "metadata": {
  "kernelspec": {
   "display_name": "Python 3",
   "language": "python",
   "name": "python3"
  },
  "language_info": {
   "codemirror_mode": {
    "name": "ipython",
    "version": 3
   },
   "file_extension": ".py",
   "mimetype": "text/x-python",
   "name": "python",
   "nbconvert_exporter": "python",
   "pygments_lexer": "ipython3",
   "version": "3.8.2"
  }
 },
 "nbformat": 4,
 "nbformat_minor": 4
}
