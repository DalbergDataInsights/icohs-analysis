{
 "cells": [
  {
   "cell_type": "code",
   "execution_count": 25,
   "metadata": {},
   "outputs": [],
   "source": [
    "import numpy as np\n",
    "import pandas as pd\n",
    "import geopandas as gpd\n",
    "from pyproj import CRS\n",
    "from shapely.geometry import Point"
   ]
  },
  {
   "cell_type": "markdown",
   "metadata": {},
   "source": [
    "# Hospital"
   ]
  },
  {
   "cell_type": "code",
   "execution_count": 30,
   "metadata": {},
   "outputs": [],
   "source": [
    "hosp_path='../Data/Hospitals/hospital_map.csv'\n",
    "poe_path='../Data/PoE/2_POE53_from_jenny.csv'\n",
    "\n",
    "hosp_data = pd.read_csv(hosp_path)\n",
    "poe_data = pd.read_csv(poe_path)"
   ]
  },
  {
   "cell_type": "code",
   "execution_count": 31,
   "metadata": {},
   "outputs": [],
   "source": [
    "hosp_data = hosp_data[['Health Facility','Level','lon','lat']].copy()\n",
    "hosp_data.rename(columns={'Health Facility':'name','Level':'level'},inplace=True)\n",
    "hosp_data['type']= 'Hospital' \n",
    "\n",
    "\n",
    "poe_data.rename({'PoEs':'name','LON':'lon','LAT':'lat'},axis=1,inplace=True)\n",
    "poe_data.drop(['District','#'],inplace=True,axis=1)\n",
    "poe_data['level']='PoE'\n",
    "poe_data['type']='PoE'"
   ]
  },
  {
   "cell_type": "code",
   "execution_count": 32,
   "metadata": {},
   "outputs": [
    {
     "data": {
      "text/html": [
       "<div>\n",
       "<style scoped>\n",
       "    .dataframe tbody tr th:only-of-type {\n",
       "        vertical-align: middle;\n",
       "    }\n",
       "\n",
       "    .dataframe tbody tr th {\n",
       "        vertical-align: top;\n",
       "    }\n",
       "\n",
       "    .dataframe thead th {\n",
       "        text-align: right;\n",
       "    }\n",
       "</style>\n",
       "<table border=\"1\" class=\"dataframe\">\n",
       "  <thead>\n",
       "    <tr style=\"text-align: right;\">\n",
       "      <th></th>\n",
       "      <th>name</th>\n",
       "      <th>lon</th>\n",
       "      <th>lat</th>\n",
       "      <th>level</th>\n",
       "      <th>type</th>\n",
       "    </tr>\n",
       "  </thead>\n",
       "  <tbody>\n",
       "    <tr>\n",
       "      <th>0</th>\n",
       "      <td>Port Bell</td>\n",
       "      <td>32.654000</td>\n",
       "      <td>0.290000</td>\n",
       "      <td>PoE</td>\n",
       "      <td>PoE</td>\n",
       "    </tr>\n",
       "    <tr>\n",
       "      <th>1</th>\n",
       "      <td>Entebbe Airport</td>\n",
       "      <td>32.443055</td>\n",
       "      <td>0.044721</td>\n",
       "      <td>PoE</td>\n",
       "      <td>PoE</td>\n",
       "    </tr>\n",
       "    <tr>\n",
       "      <th>2</th>\n",
       "      <td>Kiyindi</td>\n",
       "      <td>33.145901</td>\n",
       "      <td>0.279041</td>\n",
       "      <td>PoE</td>\n",
       "      <td>PoE</td>\n",
       "    </tr>\n",
       "    <tr>\n",
       "      <th>3</th>\n",
       "      <td>Katosi</td>\n",
       "      <td>32.803276</td>\n",
       "      <td>0.143008</td>\n",
       "      <td>PoE</td>\n",
       "      <td>PoE</td>\n",
       "    </tr>\n",
       "    <tr>\n",
       "      <th>4</th>\n",
       "      <td>Mutukula</td>\n",
       "      <td>31.416706</td>\n",
       "      <td>-1.000000</td>\n",
       "      <td>PoE</td>\n",
       "      <td>PoE</td>\n",
       "    </tr>\n",
       "  </tbody>\n",
       "</table>\n",
       "</div>"
      ],
      "text/plain": [
       "              name        lon       lat level type\n",
       "0        Port Bell  32.654000  0.290000   PoE  PoE\n",
       "1  Entebbe Airport  32.443055  0.044721   PoE  PoE\n",
       "2          Kiyindi  33.145901  0.279041   PoE  PoE\n",
       "3           Katosi  32.803276  0.143008   PoE  PoE\n",
       "4         Mutukula  31.416706 -1.000000   PoE  PoE"
      ]
     },
     "execution_count": 32,
     "metadata": {},
     "output_type": "execute_result"
    }
   ],
   "source": [
    "poe_data.head()"
   ]
  },
  {
   "cell_type": "code",
   "execution_count": 33,
   "metadata": {},
   "outputs": [],
   "source": [
    "poe_hosp_map=pd.concat([hosp_data,poe_data],ignore_index=True)"
   ]
  },
  {
   "cell_type": "code",
   "execution_count": 34,
   "metadata": {},
   "outputs": [
    {
     "data": {
      "text/html": [
       "<div>\n",
       "<style scoped>\n",
       "    .dataframe tbody tr th:only-of-type {\n",
       "        vertical-align: middle;\n",
       "    }\n",
       "\n",
       "    .dataframe tbody tr th {\n",
       "        vertical-align: top;\n",
       "    }\n",
       "\n",
       "    .dataframe thead th {\n",
       "        text-align: right;\n",
       "    }\n",
       "</style>\n",
       "<table border=\"1\" class=\"dataframe\">\n",
       "  <thead>\n",
       "    <tr style=\"text-align: right;\">\n",
       "      <th></th>\n",
       "      <th>name</th>\n",
       "      <th>level</th>\n",
       "      <th>lon</th>\n",
       "      <th>lat</th>\n",
       "      <th>type</th>\n",
       "    </tr>\n",
       "  </thead>\n",
       "  <tbody>\n",
       "    <tr>\n",
       "      <th>6286</th>\n",
       "      <td>Kamion</td>\n",
       "      <td>PoE</td>\n",
       "      <td>34.233300</td>\n",
       "      <td>3.716700</td>\n",
       "      <td>PoE</td>\n",
       "    </tr>\n",
       "    <tr>\n",
       "      <th>6287</th>\n",
       "      <td>Kidepo Airstrip</td>\n",
       "      <td>PoE</td>\n",
       "      <td>33.752497</td>\n",
       "      <td>3.718164</td>\n",
       "      <td>PoE</td>\n",
       "    </tr>\n",
       "    <tr>\n",
       "      <th>6288</th>\n",
       "      <td>Madi Opei</td>\n",
       "      <td>PoE</td>\n",
       "      <td>33.201484</td>\n",
       "      <td>3.773955</td>\n",
       "      <td>PoE</td>\n",
       "    </tr>\n",
       "    <tr>\n",
       "      <th>6289</th>\n",
       "      <td>Ngor-omoro</td>\n",
       "      <td>PoE</td>\n",
       "      <td>32.576667</td>\n",
       "      <td>3.699167</td>\n",
       "      <td>PoE</td>\n",
       "    </tr>\n",
       "    <tr>\n",
       "      <th>6290</th>\n",
       "      <td>Waligo</td>\n",
       "      <td>PoE</td>\n",
       "      <td>32.363889</td>\n",
       "      <td>3.606667</td>\n",
       "      <td>PoE</td>\n",
       "    </tr>\n",
       "  </tbody>\n",
       "</table>\n",
       "</div>"
      ],
      "text/plain": [
       "                  name level        lon       lat type\n",
       "6286            Kamion   PoE  34.233300  3.716700  PoE\n",
       "6287  Kidepo Airstrip    PoE  33.752497  3.718164  PoE\n",
       "6288         Madi Opei   PoE  33.201484  3.773955  PoE\n",
       "6289        Ngor-omoro   PoE  32.576667  3.699167  PoE\n",
       "6290            Waligo   PoE  32.363889  3.606667  PoE"
      ]
     },
     "execution_count": 34,
     "metadata": {},
     "output_type": "execute_result"
    }
   ],
   "source": [
    "poe_hosp_map.tail()"
   ]
  },
  {
   "cell_type": "code",
   "execution_count": 35,
   "metadata": {},
   "outputs": [],
   "source": [
    "poe_hosp_map.to_csv('../Data/Results/poe_hosp_map.csv')"
   ]
  },
  {
   "cell_type": "markdown",
   "metadata": {},
   "source": [
    "# Roads"
   ]
  },
  {
   "cell_type": "code",
   "execution_count": 18,
   "metadata": {},
   "outputs": [],
   "source": [
    "road_path='../Data/Roads/uga_trs_roads_osm.shp'\n",
    "road_df = gpd.read_file(road_path)"
   ]
  },
  {
   "cell_type": "code",
   "execution_count": 19,
   "metadata": {},
   "outputs": [],
   "source": [
    "road_target_df = road_df[['ntlclass','geometry']].copy()\n",
    "road_target_df.rename({'ntlclass':'level'},axis=1,inplace=True)"
   ]
  },
  {
   "cell_type": "code",
   "execution_count": 20,
   "metadata": {},
   "outputs": [
    {
     "data": {
      "text/html": [
       "<div>\n",
       "<style scoped>\n",
       "    .dataframe tbody tr th:only-of-type {\n",
       "        vertical-align: middle;\n",
       "    }\n",
       "\n",
       "    .dataframe tbody tr th {\n",
       "        vertical-align: top;\n",
       "    }\n",
       "\n",
       "    .dataframe thead th {\n",
       "        text-align: right;\n",
       "    }\n",
       "</style>\n",
       "<table border=\"1\" class=\"dataframe\">\n",
       "  <thead>\n",
       "    <tr style=\"text-align: right;\">\n",
       "      <th></th>\n",
       "      <th>level</th>\n",
       "      <th>geometry</th>\n",
       "    </tr>\n",
       "  </thead>\n",
       "  <tbody>\n",
       "    <tr>\n",
       "      <th>0</th>\n",
       "      <td>unclassified</td>\n",
       "      <td>LINESTRING (30.81111 3.20032, 30.81102 3.19982...</td>\n",
       "    </tr>\n",
       "    <tr>\n",
       "      <th>1</th>\n",
       "      <td>unclassified</td>\n",
       "      <td>LINESTRING (30.35011 -0.00881, 30.35006 -0.008...</td>\n",
       "    </tr>\n",
       "    <tr>\n",
       "      <th>2</th>\n",
       "      <td>unclassified</td>\n",
       "      <td>LINESTRING (31.25898 3.69032, 31.25812 3.69025...</td>\n",
       "    </tr>\n",
       "    <tr>\n",
       "      <th>3</th>\n",
       "      <td>track</td>\n",
       "      <td>LINESTRING (30.82643 3.20231, 30.82661 3.20228...</td>\n",
       "    </tr>\n",
       "    <tr>\n",
       "      <th>4</th>\n",
       "      <td>unclassified</td>\n",
       "      <td>LINESTRING (31.25818 3.56422, 31.25819 3.56442...</td>\n",
       "    </tr>\n",
       "  </tbody>\n",
       "</table>\n",
       "</div>"
      ],
      "text/plain": [
       "          level                                           geometry\n",
       "0  unclassified  LINESTRING (30.81111 3.20032, 30.81102 3.19982...\n",
       "1  unclassified  LINESTRING (30.35011 -0.00881, 30.35006 -0.008...\n",
       "2  unclassified  LINESTRING (31.25898 3.69032, 31.25812 3.69025...\n",
       "3         track  LINESTRING (30.82643 3.20231, 30.82661 3.20228...\n",
       "4  unclassified  LINESTRING (31.25818 3.56422, 31.25819 3.56442..."
      ]
     },
     "execution_count": 20,
     "metadata": {},
     "output_type": "execute_result"
    }
   ],
   "source": [
    "road_target_df.head()"
   ]
  },
  {
   "cell_type": "code",
   "execution_count": 21,
   "metadata": {},
   "outputs": [
    {
     "data": {
      "text/plain": [
       "array(['unclassified', 'track', 'tertiary', 'road', 'primary_link',\n",
       "       'tertiary_link', 'trunk_link', 'secondary_link', 'motorway_link',\n",
       "       'secondary', 'primary', 'trunk', 'motorway'], dtype=object)"
      ]
     },
     "execution_count": 21,
     "metadata": {},
     "output_type": "execute_result"
    }
   ],
   "source": [
    "road_target_df['level'].unique()"
   ]
  },
  {
   "cell_type": "code",
   "execution_count": 22,
   "metadata": {},
   "outputs": [],
   "source": [
    "motorway=road_target_df[road_target_df['level']=='motorway'].copy()\n",
    "trunk=road_target_df[road_target_df['level']=='trunk'].copy()\n",
    "primary=road_target_df[road_target_df['level']=='primary'].copy()\n",
    "secondary=road_target_df[road_target_df['level']=='secondary'].copy()\n",
    "tertiary=road_target_df[road_target_df['level']=='tertiary'].copy()"
   ]
  },
  {
   "cell_type": "code",
   "execution_count": 23,
   "metadata": {},
   "outputs": [
    {
     "data": {
      "text/plain": [
       "116"
      ]
     },
     "execution_count": 23,
     "metadata": {},
     "output_type": "execute_result"
    }
   ],
   "source": [
    "len(motorway)"
   ]
  },
  {
   "cell_type": "code",
   "execution_count": 24,
   "metadata": {},
   "outputs": [],
   "source": [
    "motorway.to_file('../Data/Results/Road shapes/motorway.shp')\n",
    "trunk.to_file('../Data/Results/Road shapes/trunk.shp')\n",
    "primary.to_file('../Data/Results/Road shapes/primary.shp')\n",
    "secondary.to_file('../Data/Results/Road shapes/secondary.shp')\n",
    "tertiary.to_file('../Data/Results/Road shapes/tertiary.shp')"
   ]
  },
  {
   "cell_type": "code",
   "execution_count": null,
   "metadata": {},
   "outputs": [],
   "source": []
  }
 ],
 "metadata": {
  "kernelspec": {
   "display_name": "Python 3",
   "language": "python",
   "name": "python3"
  },
  "language_info": {
   "codemirror_mode": {
    "name": "ipython",
    "version": 3
   },
   "file_extension": ".py",
   "mimetype": "text/x-python",
   "name": "python",
   "nbconvert_exporter": "python",
   "pygments_lexer": "ipython3",
   "version": "3.8.2"
  }
 },
 "nbformat": 4,
 "nbformat_minor": 4
}
