{
 "cells": [
  {
   "cell_type": "code",
   "execution_count": 1,
   "metadata": {},
   "outputs": [],
   "source": [
    "import numpy as np\n",
    "import pandas as pd\n",
    "import geopandas as gpd\n",
    "from pyproj import CRS\n",
    "from shapely.geometry import Point"
   ]
  },
  {
   "cell_type": "code",
   "execution_count": 4,
   "metadata": {},
   "outputs": [
    {
     "data": {
      "text/html": [
       "<div>\n",
       "<style scoped>\n",
       "    .dataframe tbody tr th:only-of-type {\n",
       "        vertical-align: middle;\n",
       "    }\n",
       "\n",
       "    .dataframe tbody tr th {\n",
       "        vertical-align: top;\n",
       "    }\n",
       "\n",
       "    .dataframe thead th {\n",
       "        text-align: right;\n",
       "    }\n",
       "</style>\n",
       "<table border=\"1\" class=\"dataframe\">\n",
       "  <thead>\n",
       "    <tr style=\"text-align: right;\">\n",
       "      <th></th>\n",
       "      <th>F15Regions</th>\n",
       "      <th>DName2016</th>\n",
       "      <th>DNama2017</th>\n",
       "      <th>dc2017</th>\n",
       "      <th>DName2018</th>\n",
       "      <th>dc2018</th>\n",
       "      <th>DName2019</th>\n",
       "      <th>geometry</th>\n",
       "    </tr>\n",
       "  </thead>\n",
       "  <tbody>\n",
       "    <tr>\n",
       "      <th>0</th>\n",
       "      <td>SOUTH BUGANDA</td>\n",
       "      <td>MASAKA</td>\n",
       "      <td>MASAKA</td>\n",
       "      <td>105</td>\n",
       "      <td>MASAKA</td>\n",
       "      <td>105</td>\n",
       "      <td>MASAKA</td>\n",
       "      <td>POLYGON ((32.00051 -0.60761, 32.00053 -0.60993...</td>\n",
       "    </tr>\n",
       "    <tr>\n",
       "      <th>1</th>\n",
       "      <td>BUKEDI</td>\n",
       "      <td>PALLISA</td>\n",
       "      <td>BUTEBO</td>\n",
       "      <td>233</td>\n",
       "      <td>BUTEBO</td>\n",
       "      <td>233</td>\n",
       "      <td>BUTEBO</td>\n",
       "      <td>POLYGON ((33.87314 1.22742, 33.87306 1.22897, ...</td>\n",
       "    </tr>\n",
       "    <tr>\n",
       "      <th>2</th>\n",
       "      <td>LANGO</td>\n",
       "      <td>ALEBTONG</td>\n",
       "      <td>ALEBTONG</td>\n",
       "      <td>323</td>\n",
       "      <td>ALEBTONG</td>\n",
       "      <td>323</td>\n",
       "      <td>ALEBTONG</td>\n",
       "      <td>POLYGON ((33.44290 2.36391, 33.44264 2.36336, ...</td>\n",
       "    </tr>\n",
       "    <tr>\n",
       "      <th>3</th>\n",
       "      <td>TESO</td>\n",
       "      <td>BUKEDEA</td>\n",
       "      <td>BUKEDEA</td>\n",
       "      <td>219</td>\n",
       "      <td>BUKEDEA</td>\n",
       "      <td>219</td>\n",
       "      <td>BUKEDEA</td>\n",
       "      <td>POLYGON ((34.23013 1.49615, 34.22982 1.49197, ...</td>\n",
       "    </tr>\n",
       "    <tr>\n",
       "      <th>4</th>\n",
       "      <td>BUKEDI</td>\n",
       "      <td>BUSIA</td>\n",
       "      <td>BUSIA</td>\n",
       "      <td>202</td>\n",
       "      <td>BUSIA</td>\n",
       "      <td>202</td>\n",
       "      <td>BUSIA</td>\n",
       "      <td>POLYGON ((33.92632 0.39287, 33.92622 0.39309, ...</td>\n",
       "    </tr>\n",
       "  </tbody>\n",
       "</table>\n",
       "</div>"
      ],
      "text/plain": [
       "      F15Regions DName2016 DNama2017  dc2017 DName2018  dc2018 DName2019  \\\n",
       "0  SOUTH BUGANDA    MASAKA    MASAKA     105    MASAKA     105    MASAKA   \n",
       "1         BUKEDI   PALLISA    BUTEBO     233    BUTEBO     233    BUTEBO   \n",
       "2          LANGO  ALEBTONG  ALEBTONG     323  ALEBTONG     323  ALEBTONG   \n",
       "3           TESO   BUKEDEA   BUKEDEA     219   BUKEDEA     219   BUKEDEA   \n",
       "4         BUKEDI     BUSIA     BUSIA     202     BUSIA     202     BUSIA   \n",
       "\n",
       "                                            geometry  \n",
       "0  POLYGON ((32.00051 -0.60761, 32.00053 -0.60993...  \n",
       "1  POLYGON ((33.87314 1.22742, 33.87306 1.22897, ...  \n",
       "2  POLYGON ((33.44290 2.36391, 33.44264 2.36336, ...  \n",
       "3  POLYGON ((34.23013 1.49615, 34.22982 1.49197, ...  \n",
       "4  POLYGON ((33.92632 0.39287, 33.92622 0.39309, ...  "
      ]
     },
     "execution_count": 4,
     "metadata": {},
     "output_type": "execute_result"
    }
   ],
   "source": [
    "#admin1_path = '../Data/Mapping layout/UBOS19 135 districts data/uganda_districts_2019_i.shp'\n",
    "admin1_path = 'data/UBOS19/uganda_districts_2019_i.shp'\n",
    "admin1_df = gpd.read_file(admin1_path)\n",
    "admin1_df.to_crs(crs=\"EPSG:4326\").head()"
   ]
  },
  {
   "cell_type": "code",
   "execution_count": 5,
   "metadata": {},
   "outputs": [],
   "source": [
    "#poe_path='../Data/PoE/2_POE53_from_jenny.csv'\n",
    "poe_path='data/2_POE53_from_jenny.csv'\n",
    "poe_data = pd.read_csv(poe_path)\n",
    "poe_data.rename({'PoEs':'name','LON':'lon','LAT':'lat'},axis=1,inplace=True)\n",
    "poe_data.drop('#',inplace=True,axis=1)"
   ]
  },
  {
   "cell_type": "code",
   "execution_count": 7,
   "metadata": {},
   "outputs": [],
   "source": [
    "poe_data['District']= poe_data['District'].str.upper() \n",
    "#poe_data[poe_data['District']==\"MUKONO\"]\n",
    "admin1_df.rename(columns={'DName2019':'District'}, inplace=True)\n",
    "df1 = pd.DataFrame(admin1_df)\n",
    "\n",
    "#df = df[df['EPS'].notna()]"
   ]
  },
  {
   "cell_type": "code",
   "execution_count": 8,
   "metadata": {},
   "outputs": [
    {
     "data": {
      "text/plain": [
       "30"
      ]
     },
     "execution_count": 8,
     "metadata": {},
     "output_type": "execute_result"
    }
   ],
   "source": [
    "len(poe_data['District'].unique())"
   ]
  },
  {
   "cell_type": "code",
   "execution_count": 9,
   "metadata": {},
   "outputs": [
    {
     "data": {
      "text/html": [
       "<div>\n",
       "<style scoped>\n",
       "    .dataframe tbody tr th:only-of-type {\n",
       "        vertical-align: middle;\n",
       "    }\n",
       "\n",
       "    .dataframe tbody tr th {\n",
       "        vertical-align: top;\n",
       "    }\n",
       "\n",
       "    .dataframe thead th {\n",
       "        text-align: right;\n",
       "    }\n",
       "</style>\n",
       "<table border=\"1\" class=\"dataframe\">\n",
       "  <thead>\n",
       "    <tr style=\"text-align: right;\">\n",
       "      <th></th>\n",
       "      <th>F15Regions</th>\n",
       "      <th>DName2016</th>\n",
       "      <th>DNama2017</th>\n",
       "      <th>dc2017</th>\n",
       "      <th>DName2018</th>\n",
       "      <th>dc2018</th>\n",
       "      <th>District</th>\n",
       "      <th>geometry</th>\n",
       "    </tr>\n",
       "  </thead>\n",
       "  <tbody>\n",
       "    <tr>\n",
       "      <th>95</th>\n",
       "      <td>KAMPALA</td>\n",
       "      <td>KAMPALA</td>\n",
       "      <td>KAMPALA</td>\n",
       "      <td>102</td>\n",
       "      <td>KAMPALA</td>\n",
       "      <td>102</td>\n",
       "      <td>KAMPALA</td>\n",
       "      <td>POLYGON ((450239.264 10038828.318, 450241.226 ...</td>\n",
       "    </tr>\n",
       "  </tbody>\n",
       "</table>\n",
       "</div>"
      ],
      "text/plain": [
       "   F15Regions DName2016 DNama2017  dc2017 DName2018  dc2018 District  \\\n",
       "95    KAMPALA   KAMPALA   KAMPALA     102   KAMPALA     102  KAMPALA   \n",
       "\n",
       "                                             geometry  \n",
       "95  POLYGON ((450239.264 10038828.318, 450241.226 ...  "
      ]
     },
     "execution_count": 9,
     "metadata": {},
     "output_type": "execute_result"
    }
   ],
   "source": [
    "admin1_df[admin1_df['District']=='KAMPALA']"
   ]
  },
  {
   "cell_type": "markdown",
   "metadata": {},
   "source": [
    "### Districts with  an official PoE"
   ]
  },
  {
   "cell_type": "code",
   "execution_count": 10,
   "metadata": {},
   "outputs": [
    {
     "data": {
      "text/plain": [
       "<matplotlib.axes._subplots.AxesSubplot at 0x7fcba6db0910>"
      ]
     },
     "execution_count": 10,
     "metadata": {},
     "output_type": "execute_result"
    },
    {
     "data": {
      "image/png": "[encoded data removed]",
      "text/plain": [
       "<Figure size 432x288 with 1 Axes>"
      ]
     },
     "metadata": {
      "needs_background": "light"
     },
     "output_type": "display_data"
    }
   ],
   "source": [
    "# Get districts with PoE\n",
    "PoE_districts= admin1_df.merge(poe_data)\n",
    "PoE_districts.plot()"
   ]
  },
  {
   "cell_type": "code",
   "execution_count": 11,
   "metadata": {},
   "outputs": [
    {
     "data": {
      "text/plain": [
       "<matplotlib.axes._subplots.AxesSubplot at 0x7fcba6a16810>"
      ]
     },
     "execution_count": 11,
     "metadata": {},
     "output_type": "execute_result"
    },
    {
     "data": {
      "image/png": "[encoded data removed]",
      "text/plain": [
       "<Figure size 432x288 with 1 Axes>"
      ]
     },
     "metadata": {
      "needs_background": "light"
     },
     "output_type": "display_data"
    }
   ],
   "source": [
    "PoE_districts.drop_duplicates(subset='District',inplace=True)\n",
    "PoE_districts.plot()"
   ]
  },
  {
   "cell_type": "code",
   "execution_count": 12,
   "metadata": {},
   "outputs": [
    {
     "data": {
      "text/plain": [
       "29"
      ]
     },
     "execution_count": 12,
     "metadata": {},
     "output_type": "execute_result"
    }
   ],
   "source": [
    "len(PoE_districts)"
   ]
  },
  {
   "cell_type": "markdown",
   "metadata": {},
   "source": [
    "### Districts at the borders"
   ]
  },
  {
   "cell_type": "code",
   "execution_count": 13,
   "metadata": {},
   "outputs": [
    {
     "data": {
      "text/plain": [
       "<matplotlib.axes._subplots.AxesSubplot at 0x7fcba69b4450>"
      ]
     },
     "execution_count": 13,
     "metadata": {},
     "output_type": "execute_result"
    },
    {
     "data": {
      "image/png": "[encoded data removed]",
      "text/plain": [
       "<Figure size 432x288 with 1 Axes>"
      ]
     },
     "metadata": {
      "needs_background": "light"
     },
     "output_type": "display_data"
    }
   ],
   "source": [
    "\n",
    "congo = [\"Kisoro\",\"Kanungu\",\"Rubirizi\",\"Kasese\",\"Rukungiri\",\"Bundibugyo\",\n",
    "         \"Ntoroko\",\"kikuube\",\"Hoima\",\"Buliisa\",\n",
    "         \"Pakwach\",\"Nebbi\",\"Zombo\",\"Maracha\", \"Arua\"]\n",
    "sudan = [\"Koboko\",\"Yumbe\",\"Moyo\",\"Adjumani\",\"Amuru\",\n",
    "         \"Lamwo\",\"Kitgum\",\"Karenga\",\"Kaabong\"]\n",
    "kenya = [\"Moroto\",\"Amudat\",\"Bukwo\",\"Kween\",\n",
    "         \"Bududa\",\"Namisindwa\",\"Tororo\",\"Busia\",\n",
    "         \"Namayingo\"]\n",
    "tanzania = [\"Mayuge\",\"Buvuma\",\"Kalangala\",\"Buikwe\",\n",
    "         \"Mukono\",\"Kampala\",\"Wakiso\",\"Mpigi\",\n",
    "          \"Kalungu\",\"Masaka\",\"Kyotera\",\"Rakai\",\"Isingiro\"]\n",
    "rwanda = [\"Ntungamo\",\"Kabale\",\"Kisoro\",\"Rukiga\",\"Rubanda\"]            \n",
    "         \n",
    "\n",
    "border_districts = sudan + kenya + tanzania + rwanda + congo\n",
    "border_districts = [x.upper() for x in border_districts]\n",
    "border_df  = pd.DataFrame()\n",
    "border_df[\"District\"] = border_districts\n",
    "border_df.drop_duplicates(inplace=False)\n",
    "\n",
    "border_districts = admin1_df.merge(border_df, on=\"District\")\n",
    "border_districts.plot()"
   ]
  },
  {
   "cell_type": "markdown",
   "metadata": {},
   "source": [
    "### Border districts with official PoE"
   ]
  },
  {
   "cell_type": "code",
   "execution_count": 14,
   "metadata": {},
   "outputs": [
    {
     "data": {
      "text/plain": [
       "<matplotlib.axes._subplots.AxesSubplot at 0x7fcba691a150>"
      ]
     },
     "execution_count": 14,
     "metadata": {},
     "output_type": "execute_result"
    },
    {
     "data": {
      "image/png": "[encoded data removed]",
      "text/plain": [
       "<Figure size 432x288 with 1 Axes>"
      ]
     },
     "metadata": {
      "needs_background": "light"
     },
     "output_type": "display_data"
    }
   ],
   "source": [
    "border_districts\n",
    "border_with_poe = border_districts.merge(PoE_districts)\n",
    "border_with_poe.plot()"
   ]
  },
  {
   "cell_type": "markdown",
   "metadata": {},
   "source": [
    "### Borders_without official PoE"
   ]
  },
  {
   "cell_type": "code",
   "execution_count": 15,
   "metadata": {},
   "outputs": [],
   "source": [
    "border_without_poe = border_districts.set_index('District').drop(index=list(border_with_poe['District']))"
   ]
  },
  {
   "cell_type": "code",
   "execution_count": 16,
   "metadata": {},
   "outputs": [],
   "source": [
    "border_without_poe.reset_index(inplace=True)"
   ]
  },
  {
   "cell_type": "code",
   "execution_count": 17,
   "metadata": {},
   "outputs": [
    {
     "name": "stdout",
     "output_type": "stream",
     "text": [
      "51 52\n"
     ]
    }
   ],
   "source": [
    "print(len(border_without_poe)+len(border_with_poe),len(border_districts))\n",
    "\n",
    "# Maybe an issue there?"
   ]
  },
  {
   "cell_type": "markdown",
   "metadata": {},
   "source": [
    "### Get centroid "
   ]
  },
  {
   "cell_type": "code",
   "execution_count": 18,
   "metadata": {},
   "outputs": [],
   "source": [
    "admin1_df['centroid']=admin1_df['geometry'].centroid"
   ]
  },
  {
   "cell_type": "code",
   "execution_count": 19,
   "metadata": {},
   "outputs": [
    {
     "data": {
      "text/html": [
       "<div>\n",
       "<style scoped>\n",
       "    .dataframe tbody tr th:only-of-type {\n",
       "        vertical-align: middle;\n",
       "    }\n",
       "\n",
       "    .dataframe tbody tr th {\n",
       "        vertical-align: top;\n",
       "    }\n",
       "\n",
       "    .dataframe thead th {\n",
       "        text-align: right;\n",
       "    }\n",
       "</style>\n",
       "<table border=\"1\" class=\"dataframe\">\n",
       "  <thead>\n",
       "    <tr style=\"text-align: right;\">\n",
       "      <th></th>\n",
       "      <th>District</th>\n",
       "      <th>name</th>\n",
       "      <th>lon</th>\n",
       "      <th>lat</th>\n",
       "      <th>geometry</th>\n",
       "    </tr>\n",
       "  </thead>\n",
       "  <tbody>\n",
       "    <tr>\n",
       "      <th>0</th>\n",
       "      <td>KAMPALA</td>\n",
       "      <td>Port Bell</td>\n",
       "      <td>32.654000</td>\n",
       "      <td>0.290000</td>\n",
       "      <td>POINT (32.65400 0.29000)</td>\n",
       "    </tr>\n",
       "    <tr>\n",
       "      <th>1</th>\n",
       "      <td>WAKISO</td>\n",
       "      <td>Entebbe Airport</td>\n",
       "      <td>32.443055</td>\n",
       "      <td>0.044721</td>\n",
       "      <td>POINT (32.44306 0.04472)</td>\n",
       "    </tr>\n",
       "    <tr>\n",
       "      <th>2</th>\n",
       "      <td>BUIKWE</td>\n",
       "      <td>Kiyindi</td>\n",
       "      <td>33.145901</td>\n",
       "      <td>0.279041</td>\n",
       "      <td>POINT (33.14590 0.27904)</td>\n",
       "    </tr>\n",
       "    <tr>\n",
       "      <th>3</th>\n",
       "      <td>MUKONO</td>\n",
       "      <td>Katosi</td>\n",
       "      <td>32.803276</td>\n",
       "      <td>0.143008</td>\n",
       "      <td>POINT (32.80328 0.14301)</td>\n",
       "    </tr>\n",
       "    <tr>\n",
       "      <th>4</th>\n",
       "      <td>KYOTERA</td>\n",
       "      <td>Mutukula</td>\n",
       "      <td>31.416706</td>\n",
       "      <td>-1.000000</td>\n",
       "      <td>POINT (31.41671 -1.00000)</td>\n",
       "    </tr>\n",
       "  </tbody>\n",
       "</table>\n",
       "</div>"
      ],
      "text/plain": [
       "  District             name        lon       lat                   geometry\n",
       "0  KAMPALA        Port Bell  32.654000  0.290000   POINT (32.65400 0.29000)\n",
       "1   WAKISO  Entebbe Airport  32.443055  0.044721   POINT (32.44306 0.04472)\n",
       "2   BUIKWE          Kiyindi  33.145901  0.279041   POINT (33.14590 0.27904)\n",
       "3   MUKONO           Katosi  32.803276  0.143008   POINT (32.80328 0.14301)\n",
       "4  KYOTERA         Mutukula  31.416706 -1.000000  POINT (31.41671 -1.00000)"
      ]
     },
     "execution_count": 19,
     "metadata": {},
     "output_type": "execute_result"
    }
   ],
   "source": [
    "#WIP\n",
    "\n",
    "# Getting this csv into a shapefile\n",
    "\n",
    "# creating a geometry column \n",
    "geometry = [Point(xy) for xy in zip(poe_data['lon'], poe_data['lat'])]\n",
    "\n",
    "# Coordinate reference system : WGS84\n",
    "crs = CRS('epsg:4326')\n",
    "\n",
    "# Creating a Geographic data frame \n",
    "poe_df = gpd.GeoDataFrame(poe_data, crs=crs, geometry=geometry)\n",
    "\n",
    "poe_df.head()"
   ]
  },
  {
   "cell_type": "code",
   "execution_count": 20,
   "metadata": {},
   "outputs": [
    {
     "name": "stdout",
     "output_type": "stream",
     "text": [
      "KAMPALA\n",
      " KAMPALA\n",
      " 10045510.493014101\n"
     ]
    }
   ],
   "source": [
    "print(admin1_df.loc[95,'District']+\"\\n\",\n",
    "      poe_df.loc[0,'District']+\"\\n\",\n",
    "      admin1_df.loc[95,'centroid'].distance(poe_df.loc[0,'geometry'],))"
   ]
  },
  {
   "cell_type": "code",
   "execution_count": 22,
   "metadata": {},
   "outputs": [
    {
     "data": {
      "text/plain": [
       "[9952963.11644209,\n",
       " 10149300.00308898,\n",
       " 10264442.349246563,\n",
       " 10170119.928308113,\n",
       " 10064435.542408489,\n",
       " 10315691.401157428,\n",
       " 10072713.645333262,\n",
       " 10199329.665926266,\n",
       " 10116830.331995334,\n",
       " 10135805.055546256,\n",
       " 10361819.67310098,\n",
       " 10099510.996546451,\n",
       " 10115787.464616619,\n",
       " 9945990.079305304,\n",
       " 10046761.99392293,\n",
       " 10102107.747729652,\n",
       " 10264527.60475717,\n",
       " 10190211.844327293,\n",
       " 10403342.152906723,\n",
       " 9993969.855081135,\n",
       " 10034232.132972274,\n",
       " 10410991.212467024,\n",
       " 10056763.184068242,\n",
       " 10095847.29430995,\n",
       " 10159095.28208156,\n",
       " 10200545.63491115,\n",
       " 9982632.020381508,\n",
       " 9923350.74692533,\n",
       " 10061103.763117738,\n",
       " 9970739.208732493,\n",
       " 10280915.419208692,\n",
       " 9871822.303481983,\n",
       " 10103467.068118295,\n",
       " 10211741.358048396,\n",
       " 10133438.838394394,\n",
       " 10304592.291876594,\n",
       " 9874539.205638662,\n",
       " 10181515.559635982,\n",
       " 10344824.947926404,\n",
       " 10389341.601880442,\n",
       " 10053970.996091997,\n",
       " 10179185.1092288,\n",
       " 9911528.002781145,\n",
       " 10282321.60006938,\n",
       " 10164950.63702384,\n",
       " 10075748.105269445,\n",
       " 10076412.341696428,\n",
       " 10170327.034280274,\n",
       " 10116008.890763875,\n",
       " 10238171.762785852,\n",
       " 9935563.7188237,\n",
       " 10394216.036354553,\n",
       " 10014695.350206118,\n",
       " 9972860.808719056,\n",
       " 10363036.938087763,\n",
       " 10152753.592974082,\n",
       " 9866390.591986287,\n",
       " 9897992.741076367,\n",
       " 9948466.684468966,\n",
       " 10219797.270616453,\n",
       " 10338181.985487048,\n",
       " 9991992.484249346,\n",
       " 10093036.020967972,\n",
       " 10148618.65681212,\n",
       " 10015951.986738265,\n",
       " 10227072.82493559,\n",
       " 9932629.952258255,\n",
       " 9959885.58043019,\n",
       " 10120595.47994989,\n",
       " 9980079.526912121,\n",
       " 10002339.782356607,\n",
       " 10135683.24730906,\n",
       " 10335988.241515957,\n",
       " 10216391.789588565,\n",
       " 10152715.973565841,\n",
       " 10266886.881760534,\n",
       " 10352569.444100989,\n",
       " 10025146.834519489,\n",
       " 9995738.054369256,\n",
       " 10231317.24014064,\n",
       " 9965222.829543944,\n",
       " 10222051.130124416,\n",
       " 10037821.035910802,\n",
       " 10117391.93188383,\n",
       " 10130285.69032589,\n",
       " 10284732.962907694,\n",
       " 9966012.133916007,\n",
       " 10112718.738605376,\n",
       " 10100479.100607794,\n",
       " 10076084.064118223,\n",
       " 10288166.833049964,\n",
       " 10181294.93974305,\n",
       " 10340492.21101237,\n",
       " 10150443.102954265,\n",
       " 10273348.473922424,\n",
       " 10045506.75186422,\n",
       " 10335476.84685866,\n",
       " 10132784.310208878,\n",
       " 10113959.287282862,\n",
       " 10315603.677944751,\n",
       " 10182453.318097593,\n",
       " 10041979.154251212,\n",
       " 9917376.22466346,\n",
       " 9854426.371399777,\n",
       " 10224249.051623208,\n",
       " 10006270.84193164,\n",
       " 9948442.877925718,\n",
       " 10124429.431282496,\n",
       " 10057066.218362825,\n",
       " 9909432.876962999,\n",
       " 10114208.959417721,\n",
       " 10286501.636798913,\n",
       " 10078749.293062622,\n",
       " 10231481.901940009,\n",
       " 10118286.653306866,\n",
       " 10272046.291690879,\n",
       " 10393953.646842755,\n",
       " 10172016.083975252,\n",
       " 10028235.095034735,\n",
       " 9926994.806913927,\n",
       " 10409359.799367588,\n",
       " 10133878.437773194,\n",
       " 10066288.41610628,\n",
       " 10179678.717276562,\n",
       " 10222985.115036685,\n",
       " 10261516.227753635,\n",
       " 10245826.137620907,\n",
       " 10085541.901696084,\n",
       " 9996692.967453972,\n",
       " 9920182.491556704,\n",
       " 10003729.030830493,\n",
       " 10320257.283877796,\n",
       " 10428956.971205149,\n",
       " 10380891.237068746,\n",
       " 10217259.767423252,\n",
       " 10008117.744779032]"
      ]
     },
     "execution_count": 22,
     "metadata": {},
     "output_type": "execute_result"
    }
   ],
   "source": [
    "# Get the closest point of entry to centroid \n",
    "admin1_df\n",
    "dist_2_closest=[]\n",
    "\n",
    "for x in admin1_df.index:\n",
    "    poe_dist = []\n",
    "    for y in poe_data.index:        \n",
    "        dist = admin1_df.loc[x,'centroid'].distance(poe_data.loc[y,'geometry'])\n",
    "        poe_dist.append(dist)\n",
    "    dist_2_closest.append(min(poe_dist))\n",
    "        \n",
    "        \n",
    "\n",
    "dist_2_closest"
   ]
  },
  {
   "cell_type": "code",
   "execution_count": 25,
   "metadata": {},
   "outputs": [
    {
     "data": {
      "text/plain": [
       "[9952.96311644209,\n",
       " 10149.300003088982,\n",
       " 10264.442349246563,\n",
       " 10170.119928308113,\n",
       " 10064.435542408488,\n",
       " 10315.691401157428,\n",
       " 10072.713645333262,\n",
       " 10199.329665926267,\n",
       " 10116.830331995334,\n",
       " 10135.805055546256,\n",
       " 10361.81967310098,\n",
       " 10099.51099654645,\n",
       " 10115.787464616618,\n",
       " 9945.990079305304,\n",
       " 10046.76199392293,\n",
       " 10102.107747729651,\n",
       " 10264.52760475717,\n",
       " 10190.211844327294,\n",
       " 10403.342152906724,\n",
       " 9993.969855081135,\n",
       " 10034.232132972274,\n",
       " 10410.991212467025,\n",
       " 10056.763184068242,\n",
       " 10095.84729430995,\n",
       " 10159.09528208156,\n",
       " 10200.54563491115,\n",
       " 9982.632020381508,\n",
       " 9923.350746925329,\n",
       " 10061.103763117739,\n",
       " 9970.739208732493,\n",
       " 10280.915419208692,\n",
       " 9871.822303481984,\n",
       " 10103.467068118294,\n",
       " 10211.741358048395,\n",
       " 10133.438838394393,\n",
       " 10304.592291876594,\n",
       " 9874.539205638663,\n",
       " 10181.515559635982,\n",
       " 10344.824947926403,\n",
       " 10389.341601880442,\n",
       " 10053.970996091997,\n",
       " 10179.1851092288,\n",
       " 9911.528002781146,\n",
       " 10282.32160006938,\n",
       " 10164.95063702384,\n",
       " 10075.748105269446,\n",
       " 10076.412341696428,\n",
       " 10170.327034280273,\n",
       " 10116.008890763875,\n",
       " 10238.171762785852,\n",
       " 9935.5637188237,\n",
       " 10394.216036354554,\n",
       " 10014.695350206119,\n",
       " 9972.860808719055,\n",
       " 10363.036938087764,\n",
       " 10152.753592974082,\n",
       " 9866.390591986288,\n",
       " 9897.992741076367,\n",
       " 9948.466684468965,\n",
       " 10219.797270616453,\n",
       " 10338.181985487048,\n",
       " 9991.992484249346,\n",
       " 10093.036020967971,\n",
       " 10148.618656812121,\n",
       " 10015.951986738264,\n",
       " 10227.07282493559,\n",
       " 9932.629952258256,\n",
       " 9959.88558043019,\n",
       " 10120.59547994989,\n",
       " 9980.07952691212,\n",
       " 10002.339782356607,\n",
       " 10135.68324730906,\n",
       " 10335.988241515957,\n",
       " 10216.391789588564,\n",
       " 10152.71597356584,\n",
       " 10266.886881760534,\n",
       " 10352.56944410099,\n",
       " 10025.146834519488,\n",
       " 9995.738054369256,\n",
       " 10231.31724014064,\n",
       " 9965.222829543944,\n",
       " 10222.051130124417,\n",
       " 10037.821035910802,\n",
       " 10117.39193188383,\n",
       " 10130.285690325889,\n",
       " 10284.732962907694,\n",
       " 9966.012133916007,\n",
       " 10112.718738605376,\n",
       " 10100.479100607794,\n",
       " 10076.084064118224,\n",
       " 10288.166833049963,\n",
       " 10181.29493974305,\n",
       " 10340.492211012372,\n",
       " 10150.443102954265,\n",
       " 10273.348473922424,\n",
       " 10045.506751864219,\n",
       " 10335.476846858659,\n",
       " 10132.784310208877,\n",
       " 10113.959287282862,\n",
       " 10315.603677944751,\n",
       " 10182.453318097594,\n",
       " 10041.979154251212,\n",
       " 9917.376224663461,\n",
       " 9854.426371399777,\n",
       " 10224.249051623208,\n",
       " 10006.270841931639,\n",
       " 9948.442877925718,\n",
       " 10124.429431282497,\n",
       " 10057.066218362825,\n",
       " 9909.432876963,\n",
       " 10114.208959417721,\n",
       " 10286.501636798912,\n",
       " 10078.749293062621,\n",
       " 10231.48190194001,\n",
       " 10118.286653306866,\n",
       " 10272.046291690878,\n",
       " 10393.953646842756,\n",
       " 10172.016083975252,\n",
       " 10028.235095034735,\n",
       " 9926.994806913926,\n",
       " 10409.359799367588,\n",
       " 10133.878437773194,\n",
       " 10066.28841610628,\n",
       " 10179.678717276562,\n",
       " 10222.985115036685,\n",
       " 10261.516227753635,\n",
       " 10245.826137620907,\n",
       " 10085.541901696084,\n",
       " 9996.692967453972,\n",
       " 9920.182491556705,\n",
       " 10003.729030830493,\n",
       " 10320.257283877796,\n",
       " 10428.956971205149,\n",
       " 10380.891237068747,\n",
       " 10217.259767423251,\n",
       " 10008.117744779032]"
      ]
     },
     "execution_count": 25,
     "metadata": {},
     "output_type": "execute_result"
    }
   ],
   "source": [
    "dist_min = []\n",
    "\n",
    "for i in admin1_df.index:\n",
    "    i_dist = []\n",
    "    for j in poe_df.index:\n",
    "        d=admin1_df.loc[i,'centroid'].distance(poe_df.loc[j,'geometry'])/1000\n",
    "        i_dist.append(d)\n",
    "        min_i=min(i_dist)\n",
    "    dist_min.append(min_i)\n",
    "    \n",
    "\n",
    "dist_min"
   ]
  },
  {
   "cell_type": "code",
   "execution_count": 29,
   "metadata": {},
   "outputs": [],
   "source": [
    "border_with_poe['tag']=1\n",
    "border_without_poe['tag']=2\n",
    "\n",
    "border_with_poe_target=border_with_poe[['District','tag']]\n",
    "border_with_poe_target.set_index('District',drop=True,inplace=True)\n",
    "\n",
    "border_without_poe_target=border_without_poe[['District','tag']]\n",
    "border_without_poe_target.set_index('District',drop=True,inplace=True)\n"
   ]
  },
  {
   "cell_type": "code",
   "execution_count": null,
   "metadata": {},
   "outputs": [],
   "source": [
    "poe=pd.concat([border_with_poe_target,border_without_poe_target])\n",
    "\n",
    "admin1_df['tag']=0\n",
    "admin1_export = admin1_df[['District','tag']]#set_index('District',drop=True,inplace=True)\n",
    "admin1_export.join(poe)"
   ]
  }
 ],
 "metadata": {
  "kernelspec": {
   "display_name": "Python 3",
   "language": "python",
   "name": "python3"
  },
  "language_info": {
   "codemirror_mode": {
    "name": "ipython",
    "version": 3
   },
   "file_extension": ".py",
   "mimetype": "text/x-python",
   "name": "python",
   "nbconvert_exporter": "python",
   "pygments_lexer": "ipython3",
   "version": "3.7.4"
  }
 },
 "nbformat": 4,
 "nbformat_minor": 4
}
