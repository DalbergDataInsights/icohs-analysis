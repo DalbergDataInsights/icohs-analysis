{
 "cells": [
  {
   "cell_type": "code",
   "execution_count": 1,
   "metadata": {},
   "outputs": [],
   "source": [
    "import pandas as pd\n",
    "import numpy as np\n",
    "import geopandas as gpd\n",
    "import difflib as dfl"
   ]
  },
  {
   "cell_type": "code",
   "execution_count": 2,
   "metadata": {},
   "outputs": [],
   "source": [
    "# Get the files\n",
    "\n",
    "path = '../Data/Health_facilities/data_used/MFL-Dec-19.csv'\n",
    "shape_path = '../Data/Mapping layout/Admin3/uga_admbnda_adm3_UBOS_v5_cleaned [CB].shp'\n",
    "\n",
    "hos_19 = pd.read_csv(path,encoding = \"cp1252\")\n",
    "shape = gpd.read_file(shape_path)"
   ]
  },
  {
   "cell_type": "code",
   "execution_count": 126,
   "metadata": {},
   "outputs": [
    {
     "name": "stdout",
     "output_type": "stream",
     "text": [
      "We focus on PFP facilities, which account for a total of 3035 functionnal facilities\n"
     ]
    }
   ],
   "source": [
    "# Isolate the facility data we are interested in \n",
    "\n",
    "hos_19_pfp = hos_19.loc[(hos_19['Ownership'] == 'PFP')&(hos_19['Operional Status'] == 'Functional')].copy()\n",
    "hos_19_pfp.rename(columns = {'Sub county' : 'Sub_county'},inplace=True)\n",
    "print ('We focus on PFP facilities, which account for a total of ' + str(len(hos_19_pfp)) + ' functionnal facilities')"
   ]
  },
  {
   "cell_type": "code",
   "execution_count": 127,
   "metadata": {},
   "outputs": [],
   "source": [
    "# Clean the district and facility names\n",
    "\n",
    "hos_19_pfp['district_clean']=hos_19_pfp.copy().District.str.replace(' District','')\n",
    "hos_19_pfp['sub_county_clean']=hos_19_pfp.copy().Sub_county.str.replace(' Subcounty','')\n",
    "hos_19_pfp.drop(['District','Sub_county','Sub county UID','Health Facility UID','Operional Status'],axis=1,inplace=True)"
   ]
  },
  {
   "cell_type": "code",
   "execution_count": 128,
   "metadata": {},
   "outputs": [],
   "source": [
    "# Create the matching codes\n",
    "\n",
    "shape['code']=shape.ADM1_EN.apply(lambda x: x[0:5])+\"/\"+shape['ADM3_EN']\n",
    "hos_19_pfp['code']=hos_19_pfp.district_clean.apply(lambda x: x[0:5])+\"/\"+hos_19_pfp['sub_county_clean']\n",
    "hos_19_pfp['code'] = hos_19_pfp['code'].str.upper() \n"
   ]
  },
  {
   "cell_type": "code",
   "execution_count": 129,
   "metadata": {},
   "outputs": [
    {
     "name": "stdout",
     "output_type": "stream",
     "text": [
      "This gives us a percentage of null of 8.83 % \n",
      "For a total number of null values of 268\n"
     ]
    }
   ],
   "source": [
    "# Here I do th fuzzy matching \n",
    "\n",
    "# Still needs some attantion as it still fails to locate 15%+ of the dataset\n",
    "\n",
    "codes = []\n",
    "certainty = []\n",
    "\n",
    "for code in hos_19_pfp['code']:\n",
    "    match_code = dfl.get_close_matches(code, shape['code'],n=1,cutoff=0.69)\n",
    "    if len(match_code) > 0:\n",
    "        codes.append(match_code[0])\n",
    "        score = dfl.SequenceMatcher(None, code, match_code[0]).ratio()\n",
    "        certainty.append(score)\n",
    "    else :\n",
    "        codes.append(None)\n",
    "        certainty.append(None)\n",
    "\n",
    "hos_19_pfp['match_code'] = codes\n",
    "hos_19_pfp['certainty'] = certainty\n",
    "\n",
    "print('This gives us a percentage of null of ' + str(round((hos_19_pfp['match_code'].isnull().sum()/len(hos_19_pfp))*100,2)) + \" %\",\n",
    "     '\\nFor a total number of null values of ' + str(hos_19_pfp['match_code'].isnull().sum()))"
   ]
  },
  {
   "cell_type": "code",
   "execution_count": 130,
   "metadata": {},
   "outputs": [],
   "source": [
    "# Add the corresponding PCODES from the shape admin files\n",
    "\n",
    "\n",
    "shape_code_only = shape[['code','ADM3_PCODE','geometry']].set_index('code')\n",
    "\n",
    "hos_19_pfp=pd.merge(hos_19_pfp,shape_code_only,how='left',left_on='match_code',right_on='code')\n",
    "\n"
   ]
  },
  {
   "cell_type": "code",
   "execution_count": 131,
   "metadata": {},
   "outputs": [],
   "source": [
    "# Now clean the rows from null 'geometry' values - i.e. my failed matches - and exclude outlier facility types \n",
    "\n",
    "hos_19_pfp_clean = hos_19_pfp.loc[(hos_19_pfp['geometry'].notnull())\n",
    "                                  &(hos_19_pfp['Level'] != 'No')\n",
    "                                  &(hos_19_pfp['Level'] != 'Drug Shop')].copy()"
   ]
  },
  {
   "cell_type": "code",
   "execution_count": 132,
   "metadata": {},
   "outputs": [
    {
     "data": {
      "text/plain": [
       "2701"
      ]
     },
     "execution_count": 132,
     "metadata": {},
     "output_type": "execute_result"
    }
   ],
   "source": [
    "len(hos_19_pfp_clean)"
   ]
  },
  {
   "cell_type": "code",
   "execution_count": 133,
   "metadata": {},
   "outputs": [],
   "source": [
    "# Extracting the lat and long coordinates\n",
    "\n",
    "lon = []\n",
    "lat = []\n",
    "\n",
    "for hosp in list(hos_19_pfp_clean.index):\n",
    "    x = hos_19_pfp_clean.loc[hosp,'geometry'].centroid.x\n",
    "    y = hos_19_pfp_clean.loc[hosp,'geometry'].centroid.y\n",
    "    lon.append(x)\n",
    "    lat.append(y)\n",
    "\n",
    "hos_19_pfp_clean['lon'] = lon\n",
    "hos_19_pfp_clean['lat'] = lat"
   ]
  },
  {
   "cell_type": "code",
   "execution_count": 134,
   "metadata": {},
   "outputs": [
    {
     "data": {
      "text/html": [
       "<div>\n",
       "<style scoped>\n",
       "    .dataframe tbody tr th:only-of-type {\n",
       "        vertical-align: middle;\n",
       "    }\n",
       "\n",
       "    .dataframe tbody tr th {\n",
       "        vertical-align: top;\n",
       "    }\n",
       "\n",
       "    .dataframe thead th {\n",
       "        text-align: right;\n",
       "    }\n",
       "</style>\n",
       "<table border=\"1\" class=\"dataframe\">\n",
       "  <thead>\n",
       "    <tr style=\"text-align: right;\">\n",
       "      <th></th>\n",
       "      <th>Region</th>\n",
       "      <th>Health Facility</th>\n",
       "      <th>Level</th>\n",
       "      <th>Ownership</th>\n",
       "      <th>Authority</th>\n",
       "      <th>district_clean</th>\n",
       "      <th>sub_county_clean</th>\n",
       "      <th>code</th>\n",
       "      <th>match_code</th>\n",
       "      <th>certainty</th>\n",
       "      <th>ADM3_PCODE</th>\n",
       "      <th>geometry</th>\n",
       "      <th>lon</th>\n",
       "      <th>lat</th>\n",
       "    </tr>\n",
       "  </thead>\n",
       "  <tbody>\n",
       "    <tr>\n",
       "      <th>0</th>\n",
       "      <td>Karamoja</td>\n",
       "      <td>Arembwola HC II</td>\n",
       "      <td>HC II</td>\n",
       "      <td>PFP</td>\n",
       "      <td>Private</td>\n",
       "      <td>Abim</td>\n",
       "      <td>Abim</td>\n",
       "      <td>ABIM/ABIM</td>\n",
       "      <td>ABIM/ABIM</td>\n",
       "      <td>1.000000</td>\n",
       "      <td>UG314101</td>\n",
       "      <td>POLYGON ((33.53202 2.70592, 33.53191 2.70617, ...</td>\n",
       "      <td>33.616027</td>\n",
       "      <td>2.741836</td>\n",
       "    </tr>\n",
       "    <tr>\n",
       "      <th>1</th>\n",
       "      <td>West Nile</td>\n",
       "      <td>Anzoa Medical Bureau HC III</td>\n",
       "      <td>HC III</td>\n",
       "      <td>PFP</td>\n",
       "      <td>Private</td>\n",
       "      <td>Adjumani</td>\n",
       "      <td>Adjumani Town Council</td>\n",
       "      <td>ADJUM/ADJUMANI TOWN COUNCIL</td>\n",
       "      <td>ADJUM/ADJUMANI TOWN COUNCIL</td>\n",
       "      <td>1.000000</td>\n",
       "      <td>UG301107</td>\n",
       "      <td>POLYGON ((31.80801 3.37272, 31.80798 3.37259, ...</td>\n",
       "      <td>31.787840</td>\n",
       "      <td>3.375797</td>\n",
       "    </tr>\n",
       "    <tr>\n",
       "      <th>4</th>\n",
       "      <td>West Nile</td>\n",
       "      <td>Maaji C HC II</td>\n",
       "      <td>HC II</td>\n",
       "      <td>PFP</td>\n",
       "      <td>Private</td>\n",
       "      <td>Adjumani</td>\n",
       "      <td>Ukusijoni</td>\n",
       "      <td>ADJUM/UKUSIJONI</td>\n",
       "      <td>ADJUM/OKUSIJONI</td>\n",
       "      <td>0.933333</td>\n",
       "      <td>UG301114</td>\n",
       "      <td>POLYGON ((31.40431 2.98945, 31.40430 2.98946, ...</td>\n",
       "      <td>31.570216</td>\n",
       "      <td>3.100765</td>\n",
       "    </tr>\n",
       "    <tr>\n",
       "      <th>10</th>\n",
       "      <td>Lango</td>\n",
       "      <td>Alelluyah Joint Maternity Clinic</td>\n",
       "      <td>HC II</td>\n",
       "      <td>PFP</td>\n",
       "      <td>Private</td>\n",
       "      <td>Alebtong</td>\n",
       "      <td>Aloi</td>\n",
       "      <td>ALEBT/ALOI</td>\n",
       "      <td>ALEBT/ALOI</td>\n",
       "      <td>1.000000</td>\n",
       "      <td>UG323137</td>\n",
       "      <td>POLYGON ((33.13058 2.26648, 33.13117 2.26675, ...</td>\n",
       "      <td>33.203181</td>\n",
       "      <td>2.299010</td>\n",
       "    </tr>\n",
       "    <tr>\n",
       "      <th>11</th>\n",
       "      <td>Lango</td>\n",
       "      <td>Ocan Community Clinic</td>\n",
       "      <td>HC II</td>\n",
       "      <td>PFP</td>\n",
       "      <td>Private</td>\n",
       "      <td>Alebtong</td>\n",
       "      <td>Awei</td>\n",
       "      <td>ALEBT/AWEI</td>\n",
       "      <td>ALEBT/AWEI</td>\n",
       "      <td>1.000000</td>\n",
       "      <td>UG323140</td>\n",
       "      <td>POLYGON ((33.13440 2.13399, 33.13419 2.13418, ...</td>\n",
       "      <td>33.197595</td>\n",
       "      <td>2.171717</td>\n",
       "    </tr>\n",
       "  </tbody>\n",
       "</table>\n",
       "</div>"
      ],
      "text/plain": [
       "       Region                   Health Facility   Level Ownership Authority  \\\n",
       "0    Karamoja                   Arembwola HC II   HC II       PFP   Private   \n",
       "1   West Nile       Anzoa Medical Bureau HC III  HC III       PFP   Private   \n",
       "4   West Nile                     Maaji C HC II   HC II       PFP   Private   \n",
       "10      Lango  Alelluyah Joint Maternity Clinic   HC II       PFP   Private   \n",
       "11      Lango             Ocan Community Clinic   HC II       PFP   Private   \n",
       "\n",
       "   district_clean       sub_county_clean                         code  \\\n",
       "0            Abim                   Abim                    ABIM/ABIM   \n",
       "1        Adjumani  Adjumani Town Council  ADJUM/ADJUMANI TOWN COUNCIL   \n",
       "4        Adjumani              Ukusijoni              ADJUM/UKUSIJONI   \n",
       "10       Alebtong                   Aloi                   ALEBT/ALOI   \n",
       "11       Alebtong                   Awei                   ALEBT/AWEI   \n",
       "\n",
       "                     match_code  certainty ADM3_PCODE  \\\n",
       "0                     ABIM/ABIM   1.000000   UG314101   \n",
       "1   ADJUM/ADJUMANI TOWN COUNCIL   1.000000   UG301107   \n",
       "4               ADJUM/OKUSIJONI   0.933333   UG301114   \n",
       "10                   ALEBT/ALOI   1.000000   UG323137   \n",
       "11                   ALEBT/AWEI   1.000000   UG323140   \n",
       "\n",
       "                                             geometry        lon       lat  \n",
       "0   POLYGON ((33.53202 2.70592, 33.53191 2.70617, ...  33.616027  2.741836  \n",
       "1   POLYGON ((31.80801 3.37272, 31.80798 3.37259, ...  31.787840  3.375797  \n",
       "4   POLYGON ((31.40431 2.98945, 31.40430 2.98946, ...  31.570216  3.100765  \n",
       "10  POLYGON ((33.13058 2.26648, 33.13117 2.26675, ...  33.203181  2.299010  \n",
       "11  POLYGON ((33.13440 2.13399, 33.13419 2.13418, ...  33.197595  2.171717  "
      ]
     },
     "execution_count": 134,
     "metadata": {},
     "output_type": "execute_result"
    }
   ],
   "source": [
    "hos_19_pfp_clean.head()"
   ]
  },
  {
   "cell_type": "code",
   "execution_count": 135,
   "metadata": {},
   "outputs": [],
   "source": [
    "hos_pfp_export = hos_19_pfp_clean[['Health Facility','Level','Ownership','lon','lat']].copy()\n",
    "hos_pfp_export.to_csv('../Data/Health_facilities/data_used/pfp_facilities_map.csv')\n",
    "hos_19_pfp_clean.drop('geometry',axis=1).to_csv('../Data/Health_facilities/Old/Test_pfp_facilities.csv')"
   ]
  },
  {
   "cell_type": "markdown",
   "metadata": {},
   "source": [
    "Outstanding issues :\n",
    "- The issue with using just centroid is that it will give us a bunvh of hospitals in the middle of Lake Victoria \n",
    "- I still leave 9%+ of values on the side withy my fuzzy matching, with maybe mismatches in there "
   ]
  },
  {
   "cell_type": "markdown",
   "metadata": {},
   "source": [
    "# Now mixing with the DHIS2 Facility data"
   ]
  },
  {
   "cell_type": "code",
   "execution_count": 136,
   "metadata": {},
   "outputs": [],
   "source": [
    "hos_gvt_nfp_path = '../Data/Health_facilities/data_used/Facilities_DHIS2_20160412.csv'\n",
    "hos_gvt_nfp_full = pd.read_csv(hos_gvt_nfp_path)#,encoding = \"cp1252\")\n",
    "\n",
    "hos_gvt_nfp = hos_gvt_nfp_full.loc[(hos_gvt_nfp_full.ownership != 'Private For Profit')&\n",
    "                                   (hos_gvt_nfp_full.status != 'Non Functional'),\n",
    "                                   ['name','type','ownership','Lat','Long']]\n",
    "\n",
    "hos_gvt_nfp.columns = ['Health Facility', 'Level', 'Ownership','lat', 'lon']\n",
    "hos_gvt_nfp.to_csv('../Data/Health_facilities/data_used/gvt_nfp_facilities_map.csv')\n"
   ]
  },
  {
   "cell_type": "code",
   "execution_count": 137,
   "metadata": {},
   "outputs": [],
   "source": [
    "hosp=pd.concat([hos_gvt_nfp,hos_pfp_export],ignore_index=True)"
   ]
  },
  {
   "cell_type": "code",
   "execution_count": 138,
   "metadata": {},
   "outputs": [
    {
     "data": {
      "text/plain": [
       "array(['HC III', 'General Hospital', 'HC II', 'Clinic', 'HC IV', nan,\n",
       "       'NR Hospital', 'RR Hospital'], dtype=object)"
      ]
     },
     "execution_count": 138,
     "metadata": {},
     "output_type": "execute_result"
    }
   ],
   "source": [
    "hos_19_pfp_clean['Level'].unique()\n",
    "hos_gvt_nfp['Level'].unique()"
   ]
  },
  {
   "cell_type": "code",
   "execution_count": 139,
   "metadata": {},
   "outputs": [],
   "source": [
    "# Based on amnaula check, teh ~50 nan values are at +95% HC II\n",
    "\n",
    "hosp['Level'].where(hosp['Level'].notnull(),'HC II',inplace=True)"
   ]
  },
  {
   "cell_type": "code",
   "execution_count": 140,
   "metadata": {},
   "outputs": [
    {
     "data": {
      "text/plain": [
       "array(['HC III', 'General Hospital', 'HC II', 'Clinic', 'HC IV',\n",
       "       'NR Hospital', 'RR Hospital', 'Clinc', 'Hospital',\n",
       "       'Special Clincs'], dtype=object)"
      ]
     },
     "execution_count": 140,
     "metadata": {},
     "output_type": "execute_result"
    }
   ],
   "source": [
    "hosp['Level'].unique()"
   ]
  },
  {
   "cell_type": "code",
   "execution_count": 141,
   "metadata": {},
   "outputs": [],
   "source": [
    "Level_dict = {'HC II': 'Health Centre II', \n",
    "              'HC III': 'Health Centre III', \n",
    "              'Clinc': 'Clinic',\n",
    "              'HC IV': 'Health Centre IV',\n",
    "              'Special Clincs': 'Clinic',\n",
    "              'General Hospital':'Hospital',\n",
    "              'NR Hospital':'National Referral Hospital', \n",
    "              'RR Hospital':'Regional Referral Hospital'}"
   ]
  },
  {
   "cell_type": "code",
   "execution_count": 142,
   "metadata": {},
   "outputs": [],
   "source": [
    "hosp.replace({'Level' : Level_dict },inplace=True)"
   ]
  },
  {
   "cell_type": "code",
   "execution_count": 143,
   "metadata": {},
   "outputs": [
    {
     "data": {
      "text/plain": [
       "array(['Health Centre III', 'Hospital', 'Health Centre II', 'Clinic',\n",
       "       'Health Centre IV', 'National Referral Hospital',\n",
       "       'Regional Referral Hospital'], dtype=object)"
      ]
     },
     "execution_count": 143,
     "metadata": {},
     "output_type": "execute_result"
    }
   ],
   "source": [
    "hosp['Level'].unique()"
   ]
  },
  {
   "cell_type": "code",
   "execution_count": 144,
   "metadata": {},
   "outputs": [],
   "source": [
    "hosp.to_csv('../Data/Health_facilities/hospital_map.csv')\n",
    "hosp.to_csv('../../SPRINT_2/Data/Hospitals/hospital_map.csv')"
   ]
  },
  {
   "cell_type": "code",
   "execution_count": null,
   "metadata": {},
   "outputs": [],
   "source": []
  }
 ],
 "metadata": {
  "kernelspec": {
   "display_name": "Python 3",
   "language": "python",
   "name": "python3"
  },
  "language_info": {
   "codemirror_mode": {
    "name": "ipython",
    "version": 3
   },
   "file_extension": ".py",
   "mimetype": "text/x-python",
   "name": "python",
   "nbconvert_exporter": "python",
   "pygments_lexer": "ipython3",
   "version": "3.8.3"
  }
 },
 "nbformat": 4,
 "nbformat_minor": 4
}
