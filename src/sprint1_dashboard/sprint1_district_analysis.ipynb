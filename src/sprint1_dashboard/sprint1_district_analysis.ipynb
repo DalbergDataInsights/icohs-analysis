{
 "cells": [
  {
   "cell_type": "markdown",
   "metadata": {},
   "source": [
    "# 0 - Imports and set up"
   ]
  },
  {
   "cell_type": "code",
   "execution_count": 254,
   "metadata": {},
   "outputs": [],
   "source": [
    "import pandas as pd\n",
    "import numpy as np\n",
    "import geopandas as gpd\n",
    "import difflib as dfl\n",
    "import timeit\n",
    "import os\n",
    "\n",
    "import rasterio as rio\n",
    "from rasterio.mask import mask\n",
    "from pyproj import CRS\n",
    "from shapely.geometry import Point\n",
    "from shapely.geometry import shape\n",
    "\n",
    "import fiona # needed?\n",
    "\n",
    "pd.set_option('display.max_columns', None)\n"
   ]
  },
  {
   "cell_type": "code",
   "execution_count": 121,
   "metadata": {},
   "outputs": [],
   "source": [
    "shape_path = '../../data/shapes/district/districts_17_19_clean.shp'\n",
    "input_path = '../../data/input/'\n",
    "output_path = '../../data/output/sprint1_analysis/'\n",
    "shape_sc_path = '../../data/shapes/subcounty/uga_admbnda_adm3_UBOS_v5_cleaned [CB].shp'"
   ]
  },
  {
   "cell_type": "markdown",
   "metadata": {},
   "source": [
    "# 1 - Get facility data"
   ]
  },
  {
   "cell_type": "code",
   "execution_count": 122,
   "metadata": {},
   "outputs": [],
   "source": [
    "shape = gpd.read_file(shape_path)\n"
   ]
  },
  {
   "cell_type": "code",
   "execution_count": 198,
   "metadata": {},
   "outputs": [
    {
     "name": "stdout",
     "output_type": "stream",
     "text": [
      "116\n",
      "122\n",
      "128\n",
      "135\n"
     ]
    }
   ],
   "source": [
    "for x in ['name_16', 'name_17', 'name_18','name_19']:\n",
    "    print(len(shape[x].unique()))"
   ]
  },
  {
   "cell_type": "markdown",
   "metadata": {},
   "source": [
    "## a - Extract the private for profit (PFP) facilities from MoH long list and locate them"
   ]
  },
  {
   "cell_type": "code",
   "execution_count": 123,
   "metadata": {},
   "outputs": [],
   "source": [
    "hos_19 = pd.read_csv(input_path+'hospitals/original_data/MFL-Dec-19.csv',encoding = \"cp1252\")\n"
   ]
  },
  {
   "cell_type": "code",
   "execution_count": 124,
   "metadata": {},
   "outputs": [],
   "source": [
    "# Note that the district names in this shaefile correspond to the column 'name_17' of the reference district shapefile\n",
    "\n",
    "shape_sc = gpd.read_file(shape_sc_path)"
   ]
  },
  {
   "cell_type": "code",
   "execution_count": 125,
   "metadata": {},
   "outputs": [
    {
     "name": "stdout",
     "output_type": "stream",
     "text": [
      "We focus on PFP facilities, which account for a total of 3035 functionnal facilities\n"
     ]
    }
   ],
   "source": [
    "# Isolate the facility data we are interested in \n",
    "\n",
    "hos_19_pfp = hos_19.loc[(hos_19['Ownership'] == 'PFP')&(hos_19['Operional Status'] == 'Functional')].copy()\n",
    "hos_19_pfp.rename(columns = {'Sub county' : 'Sub_county'},inplace=True)\n",
    "print ('We focus on PFP facilities, which account for a total of ' + str(len(hos_19_pfp)) + ' functionnal facilities')"
   ]
  },
  {
   "cell_type": "code",
   "execution_count": 126,
   "metadata": {},
   "outputs": [],
   "source": [
    "# Clean the district and facility names\n",
    "\n",
    "hos_19_pfp['district_clean']=hos_19_pfp.copy().District.str.replace(' District','')\n",
    "hos_19_pfp['sub_county_clean']=hos_19_pfp.copy().Sub_county.str.replace(' Subcounty','')\n",
    "hos_19_pfp.drop(['District','Sub_county','Sub county UID','Health Facility UID','Operional Status'],axis=1,inplace=True)"
   ]
  },
  {
   "cell_type": "code",
   "execution_count": 127,
   "metadata": {},
   "outputs": [],
   "source": [
    "# Create the matching codes\n",
    "\n",
    "shape_sc['code']=shape_sc.ADM1_EN.apply(lambda x: x[0:5])+\"/\"+shape_sc['ADM3_EN']\n",
    "hos_19_pfp['code']=hos_19_pfp.district_clean.apply(lambda x: x[0:5])+\"/\"+hos_19_pfp['sub_county_clean']\n",
    "hos_19_pfp['code'] = hos_19_pfp['code'].str.upper() \n"
   ]
  },
  {
   "cell_type": "code",
   "execution_count": 128,
   "metadata": {},
   "outputs": [
    {
     "name": "stdout",
     "output_type": "stream",
     "text": [
      "This gives us a percentage of null of 8.83 % \n",
      "For a total number of null values of 268\n"
     ]
    }
   ],
   "source": [
    "# Here I do th fuzzy matching \n",
    "\n",
    "# If time, improve performance and matching %\n",
    "\n",
    "\n",
    "codes = []\n",
    "certainty = []\n",
    "\n",
    "for code in hos_19_pfp['code']:\n",
    "    match_code = dfl.get_close_matches(code, shape_sc['code'],n=1,cutoff=0.69)\n",
    "    if len(match_code) > 0:\n",
    "        codes.append(match_code[0])\n",
    "        score = dfl.SequenceMatcher(None, code, match_code[0]).ratio()\n",
    "        certainty.append(score)\n",
    "    else :\n",
    "        codes.append(None)\n",
    "        certainty.append(None)\n",
    "\n",
    "hos_19_pfp['match_code'] = codes\n",
    "hos_19_pfp['certainty'] = certainty\n",
    "\n",
    "print('This gives us a percentage of null of ' + str(round((hos_19_pfp['match_code'].isnull().sum()/len(hos_19_pfp))*100,2)) + \" %\",\n",
    "     '\\nFor a total number of null values of ' + str(hos_19_pfp['match_code'].isnull().sum()))"
   ]
  },
  {
   "cell_type": "code",
   "execution_count": 129,
   "metadata": {},
   "outputs": [],
   "source": [
    "# Add the corresponding PCODES from the shape_sc admin files\n",
    "\n",
    "\n",
    "shape_sc_code_only = shape_sc[['code','ADM3_PCODE','geometry']].set_index('code')\n",
    "\n",
    "hos_19_pfp=pd.merge(hos_19_pfp,shape_sc_code_only,how='left',left_on='match_code',right_on='code')\n",
    "\n"
   ]
  },
  {
   "cell_type": "code",
   "execution_count": 130,
   "metadata": {},
   "outputs": [
    {
     "data": {
      "text/plain": [
       "2701"
      ]
     },
     "execution_count": 130,
     "metadata": {},
     "output_type": "execute_result"
    }
   ],
   "source": [
    "# Now clean the rows from null 'geometry' values - i.e. my failed matches - and exclude irrelevant facility types \n",
    "\n",
    "hos_19_pfp_clean = hos_19_pfp.loc[(hos_19_pfp['geometry'].notnull())\n",
    "                                  &(hos_19_pfp['Level'] != 'No')\n",
    "                                  &(hos_19_pfp['Level'] != 'Drug Shop')].copy()\n",
    "len(hos_19_pfp_clean)"
   ]
  },
  {
   "cell_type": "code",
   "execution_count": 131,
   "metadata": {},
   "outputs": [],
   "source": [
    "# Extracting the lat and long coordinates\n",
    "\n",
    "lon = []\n",
    "lat = []\n",
    "\n",
    "for hosp in list(hos_19_pfp_clean.index):\n",
    "    x = hos_19_pfp_clean.loc[hosp,'geometry'].centroid.x\n",
    "    y = hos_19_pfp_clean.loc[hosp,'geometry'].centroid.y\n",
    "    lon.append(x)\n",
    "    lat.append(y)\n",
    "\n",
    "hos_19_pfp_clean['lon'] = lon\n",
    "hos_19_pfp_clean['lat'] = lat"
   ]
  },
  {
   "cell_type": "code",
   "execution_count": 132,
   "metadata": {},
   "outputs": [],
   "source": [
    "hos_pfp_merge = hos_19_pfp_clean[['Health Facility','Level','Ownership','lon','lat']].copy()"
   ]
  },
  {
   "cell_type": "code",
   "execution_count": 133,
   "metadata": {},
   "outputs": [
    {
     "data": {
      "text/html": [
       "<div>\n",
       "<style scoped>\n",
       "    .dataframe tbody tr th:only-of-type {\n",
       "        vertical-align: middle;\n",
       "    }\n",
       "\n",
       "    .dataframe tbody tr th {\n",
       "        vertical-align: top;\n",
       "    }\n",
       "\n",
       "    .dataframe thead th {\n",
       "        text-align: right;\n",
       "    }\n",
       "</style>\n",
       "<table border=\"1\" class=\"dataframe\">\n",
       "  <thead>\n",
       "    <tr style=\"text-align: right;\">\n",
       "      <th></th>\n",
       "      <th>Health Facility</th>\n",
       "      <th>Level</th>\n",
       "      <th>Ownership</th>\n",
       "      <th>lon</th>\n",
       "      <th>lat</th>\n",
       "    </tr>\n",
       "  </thead>\n",
       "  <tbody>\n",
       "    <tr>\n",
       "      <th>0</th>\n",
       "      <td>Arembwola HC II</td>\n",
       "      <td>HC II</td>\n",
       "      <td>PFP</td>\n",
       "      <td>33.616027</td>\n",
       "      <td>2.741836</td>\n",
       "    </tr>\n",
       "    <tr>\n",
       "      <th>1</th>\n",
       "      <td>Anzoa Medical Bureau HC III</td>\n",
       "      <td>HC III</td>\n",
       "      <td>PFP</td>\n",
       "      <td>31.787840</td>\n",
       "      <td>3.375797</td>\n",
       "    </tr>\n",
       "    <tr>\n",
       "      <th>4</th>\n",
       "      <td>Maaji C HC II</td>\n",
       "      <td>HC II</td>\n",
       "      <td>PFP</td>\n",
       "      <td>31.570216</td>\n",
       "      <td>3.100765</td>\n",
       "    </tr>\n",
       "    <tr>\n",
       "      <th>10</th>\n",
       "      <td>Alelluyah Joint Maternity Clinic</td>\n",
       "      <td>HC II</td>\n",
       "      <td>PFP</td>\n",
       "      <td>33.203181</td>\n",
       "      <td>2.299010</td>\n",
       "    </tr>\n",
       "    <tr>\n",
       "      <th>11</th>\n",
       "      <td>Ocan Community Clinic</td>\n",
       "      <td>HC II</td>\n",
       "      <td>PFP</td>\n",
       "      <td>33.197595</td>\n",
       "      <td>2.171717</td>\n",
       "    </tr>\n",
       "  </tbody>\n",
       "</table>\n",
       "</div>"
      ],
      "text/plain": [
       "                     Health Facility   Level Ownership        lon       lat\n",
       "0                    Arembwola HC II   HC II       PFP  33.616027  2.741836\n",
       "1        Anzoa Medical Bureau HC III  HC III       PFP  31.787840  3.375797\n",
       "4                      Maaji C HC II   HC II       PFP  31.570216  3.100765\n",
       "10  Alelluyah Joint Maternity Clinic   HC II       PFP  33.203181  2.299010\n",
       "11             Ocan Community Clinic   HC II       PFP  33.197595  2.171717"
      ]
     },
     "execution_count": 133,
     "metadata": {},
     "output_type": "execute_result"
    }
   ],
   "source": [
    "hos_pfp_merge.head()"
   ]
  },
  {
   "cell_type": "markdown",
   "metadata": {},
   "source": [
    "## b - Extract the public and nfp hospital location from DHIS2 location data"
   ]
  },
  {
   "cell_type": "code",
   "execution_count": 134,
   "metadata": {},
   "outputs": [],
   "source": [
    "hos_gvt_nfp_full = pd.read_csv(input_path+'hospitals/original_data/Facilities_DHIS2_20160412.csv')\n",
    "\n",
    "hos_gvt_nfp = hos_gvt_nfp_full.loc[(hos_gvt_nfp_full.ownership != 'Private For Profit')&\n",
    "                                   (hos_gvt_nfp_full.status != 'Non Functional'),\n",
    "                                   ['name','type','ownership','Lat','Long']]\n",
    "\n",
    "hos_gvt_nfp.columns = ['Health Facility', 'Level', 'Ownership','lat', 'lon']\n"
   ]
  },
  {
   "cell_type": "markdown",
   "metadata": {},
   "source": [
    "## c - Build the hospital map"
   ]
  },
  {
   "cell_type": "code",
   "execution_count": 135,
   "metadata": {},
   "outputs": [],
   "source": [
    "hosp=pd.concat([hos_gvt_nfp,hos_pfp_merge],ignore_index=True)"
   ]
  },
  {
   "cell_type": "code",
   "execution_count": 136,
   "metadata": {},
   "outputs": [
    {
     "data": {
      "text/plain": [
       "array(['HC III', 'General Hospital', 'HC II', 'Clinic', 'HC IV', nan,\n",
       "       'NR Hospital', 'RR Hospital', 'Clinc', 'Hospital',\n",
       "       'Special Clincs'], dtype=object)"
      ]
     },
     "execution_count": 136,
     "metadata": {},
     "output_type": "execute_result"
    }
   ],
   "source": [
    "hosp['Level'].unique()"
   ]
  },
  {
   "cell_type": "code",
   "execution_count": 137,
   "metadata": {},
   "outputs": [],
   "source": [
    "# Around ~50 nan values for levels, which are at +95% HC II based on manual check, \n",
    "\n",
    "hosp['Level'].where(hosp['Level'].notnull(),'HC II',inplace=True)"
   ]
  },
  {
   "cell_type": "code",
   "execution_count": 138,
   "metadata": {},
   "outputs": [],
   "source": [
    "Level_dict = {'HC II': 'Health Centre II', \n",
    "              'HC III': 'Health Centre III', \n",
    "              'Clinc': 'Clinic',\n",
    "              'HC IV': 'Health Centre IV',\n",
    "              'Special Clincs': 'Clinic',\n",
    "              'General Hospital':'Hospital',\n",
    "              'NR Hospital':'National Referral Hospital', \n",
    "              'RR Hospital':'Regional Referral Hospital'}"
   ]
  },
  {
   "cell_type": "code",
   "execution_count": 139,
   "metadata": {},
   "outputs": [],
   "source": [
    "hosp.replace({'Level' : Level_dict },inplace=True)"
   ]
  },
  {
   "cell_type": "code",
   "execution_count": 140,
   "metadata": {},
   "outputs": [
    {
     "data": {
      "text/plain": [
       "array(['Health Centre III', 'Hospital', 'Health Centre II', 'Clinic',\n",
       "       'Health Centre IV', 'National Referral Hospital',\n",
       "       'Regional Referral Hospital'], dtype=object)"
      ]
     },
     "execution_count": 140,
     "metadata": {},
     "output_type": "execute_result"
    }
   ],
   "source": [
    "hosp['Level'].unique()"
   ]
  },
  {
   "cell_type": "code",
   "execution_count": 141,
   "metadata": {},
   "outputs": [],
   "source": [
    "hosp.to_csv(output_path+'/hospital_map.csv')\n",
    "hosp.to_csv(input_path+'hospitals//hospital_map.csv')"
   ]
  },
  {
   "cell_type": "markdown",
   "metadata": {},
   "source": [
    "# 2 - Building the health coverage map"
   ]
  },
  {
   "cell_type": "code",
   "execution_count": 142,
   "metadata": {},
   "outputs": [],
   "source": [
    "#pop_data = input_path+'/demographics/UG_2020_population.tif'\n",
    "#shape_file = '../Data/Mapping layout/Admin3/uga_admbnda_adm3_UBOS_v5_cleaned [CB].shp'"
   ]
  },
  {
   "cell_type": "markdown",
   "metadata": {},
   "source": [
    "## a - Get the population data"
   ]
  },
  {
   "cell_type": "code",
   "execution_count": 143,
   "metadata": {},
   "outputs": [],
   "source": [
    "dem_path=input_path+'/demographics/UG_2020_population.tif'\n",
    "raster = rio.open(dem_path)\n"
   ]
  },
  {
   "cell_type": "code",
   "execution_count": 144,
   "metadata": {},
   "outputs": [],
   "source": [
    "dem_data = raster.read(1, masked = True)"
   ]
  },
  {
   "cell_type": "markdown",
   "metadata": {},
   "source": [
    "## b - Adding this into sub-county boundaries"
   ]
  },
  {
   "cell_type": "code",
   "execution_count": 146,
   "metadata": {},
   "outputs": [],
   "source": [
    "def mask_raster(raster_path, shape, indexes=1, crop=True, nodata=-9999):\n",
    "    with rio.open(raster_path) as raster:\n",
    "        out_data, out_transform = mask(raster, [shape], indexes=indexes, crop=crop, nodata=nodata)\n",
    "        out_meta = raster.meta\n",
    "    return (out_data, out_transform, out_meta)"
   ]
  },
  {
   "cell_type": "code",
   "execution_count": 148,
   "metadata": {},
   "outputs": [],
   "source": [
    "total = []\n",
    "for s in shape['geometry']:\n",
    "    out_data, _, _ = mask_raster(dem_path, s)\n",
    "    values = out_data.flatten()[out_data.flatten() > 0]\n",
    "    # if empty array switch to np.nan to prevent warnings\n",
    "    if values.size == 0:\n",
    "        values = np.nan\n",
    "    total.append(np.sum(values))"
   ]
  },
  {
   "cell_type": "code",
   "execution_count": 149,
   "metadata": {},
   "outputs": [],
   "source": [
    "shape['total_pop'] = total"
   ]
  },
  {
   "cell_type": "code",
   "execution_count": 169,
   "metadata": {},
   "outputs": [],
   "source": [
    "#shape[['name_16','name_17','name_18','name_19','ADM1_PCODE','total_pop']].to_csv('pop_data.csv')"
   ]
  },
  {
   "cell_type": "markdown",
   "metadata": {},
   "source": [
    "## c - Get the hospital data into a shapefile"
   ]
  },
  {
   "cell_type": "code",
   "execution_count": 156,
   "metadata": {},
   "outputs": [
    {
     "data": {
      "text/html": [
       "<div>\n",
       "<style scoped>\n",
       "    .dataframe tbody tr th:only-of-type {\n",
       "        vertical-align: middle;\n",
       "    }\n",
       "\n",
       "    .dataframe tbody tr th {\n",
       "        vertical-align: top;\n",
       "    }\n",
       "\n",
       "    .dataframe thead th {\n",
       "        text-align: right;\n",
       "    }\n",
       "</style>\n",
       "<table border=\"1\" class=\"dataframe\">\n",
       "  <thead>\n",
       "    <tr style=\"text-align: right;\">\n",
       "      <th></th>\n",
       "      <th>Health_Facility</th>\n",
       "      <th>Level</th>\n",
       "      <th>Ownership</th>\n",
       "      <th>geometry</th>\n",
       "    </tr>\n",
       "  </thead>\n",
       "  <tbody>\n",
       "    <tr>\n",
       "      <th>0</th>\n",
       "      <td>Buikwe HC III</td>\n",
       "      <td>Health Centre III</td>\n",
       "      <td>Government</td>\n",
       "      <td>POINT (33.02732 0.34348)</td>\n",
       "    </tr>\n",
       "    <tr>\n",
       "      <th>1</th>\n",
       "      <td>Buikwe St. Charles Lwanga HOSPITAL</td>\n",
       "      <td>Hospital</td>\n",
       "      <td>Private Not For Profit</td>\n",
       "      <td>POINT (33.03181 0.33944)</td>\n",
       "    </tr>\n",
       "    <tr>\n",
       "      <th>2</th>\n",
       "      <td>Kasaku HC II</td>\n",
       "      <td>Health Centre II</td>\n",
       "      <td>NGO</td>\n",
       "      <td>POINT (32.89112 0.36330)</td>\n",
       "    </tr>\n",
       "    <tr>\n",
       "      <th>3</th>\n",
       "      <td>Busabaga HC III</td>\n",
       "      <td>Health Centre III</td>\n",
       "      <td>Government</td>\n",
       "      <td>POINT (32.90639 0.29694)</td>\n",
       "    </tr>\n",
       "    <tr>\n",
       "      <th>4</th>\n",
       "      <td>ENG BD Military Lugazi HC III</td>\n",
       "      <td>Health Centre III</td>\n",
       "      <td>Government</td>\n",
       "      <td>POINT (32.91223 0.37140)</td>\n",
       "    </tr>\n",
       "  </tbody>\n",
       "</table>\n",
       "</div>"
      ],
      "text/plain": [
       "                      Health_Facility              Level  \\\n",
       "0                       Buikwe HC III  Health Centre III   \n",
       "1  Buikwe St. Charles Lwanga HOSPITAL           Hospital   \n",
       "2                        Kasaku HC II   Health Centre II   \n",
       "3                     Busabaga HC III  Health Centre III   \n",
       "4       ENG BD Military Lugazi HC III  Health Centre III   \n",
       "\n",
       "                Ownership                  geometry  \n",
       "0              Government  POINT (33.02732 0.34348)  \n",
       "1  Private Not For Profit  POINT (33.03181 0.33944)  \n",
       "2                     NGO  POINT (32.89112 0.36330)  \n",
       "3              Government  POINT (32.90639 0.29694)  \n",
       "4              Government  POINT (32.91223 0.37140)  "
      ]
     },
     "execution_count": 156,
     "metadata": {},
     "output_type": "execute_result"
    }
   ],
   "source": [
    "# Getting this csv into a shapefile\n",
    "\n",
    "# creating a geometry column \n",
    "geometry = [Point(xy) for xy in zip(hosp['lon'], hosp['lat'])]\n",
    "\n",
    "# Coordinate reference system : WGS84\n",
    "crs = CRS('epsg:4326')\n",
    "\n",
    "# Creating a Geographic data frame \n",
    "h_df = gpd.GeoDataFrame(hosp, crs=crs, geometry=geometry)\n",
    "h_df = h_df[['Health Facility','Level','Ownership' ,'geometry']]\n",
    "h_df.rename({'Health Facility':'Health_Facility'},axis=1,inplace=True)\n",
    "\n",
    "h_df.head()"
   ]
  },
  {
   "cell_type": "markdown",
   "metadata": {},
   "source": [
    "## d - Calculate hospital coverage "
   ]
  },
  {
   "cell_type": "code",
   "execution_count": 157,
   "metadata": {},
   "outputs": [],
   "source": [
    "# Define the population served by different facility types \n",
    "# Based on page 7 of this : http://library.health.go.ug/sites/default/files/resources/National%20Health%20Facility%20Master%20List%202018_0.pdf\n",
    "\n",
    "pop_served = {'Clinic' : 1000, \n",
    "              'Health Centre II' : 5000,\n",
    "              'Health Centre III': 20000,\n",
    "              'Health Centre IV': 100000,\n",
    "              'Hospital' : 500000,\n",
    "              'Regional Referral Hospital' : 2000000,\n",
    "              'National Referral Hospital': 10000000}\n",
    "\n",
    "# Tweak this to only account for larger facilities, from HC-IV onwards\n",
    "\n",
    "pop_served_hc4 = {'Clinic' : 0, \n",
    "              'Health Centre II' : 0,\n",
    "              'Health Centre III': 0,\n",
    "              'Health Centre IV': 100000,\n",
    "              'Hospital' : 500000,\n",
    "              'Regional Referral Hospital' : 2000000,\n",
    "              'National Referral Hospital': 10000000}\n",
    "\n",
    "# List what admin level each facility size is referring to\n",
    "\n",
    "significance = {'Clinic' : 'name_19', \n",
    "                  'Health Centre II' : 'name_19',\n",
    "                  'Health Centre III': 'name_19',\n",
    "                  'Health Centre IV': 'name_19',\n",
    "                  'Hospital' : 'name_19',\n",
    "                  'Regional Referral Hospital' : 'region',\n",
    "                  'National Referral Hospital': 'country'}"
   ]
  },
  {
   "cell_type": "code",
   "execution_count": 158,
   "metadata": {},
   "outputs": [],
   "source": [
    "# Get teh list of hopsital names (not unique) and add the coverage of each \n",
    "\n",
    "hospitals = list(h_df.Health_Facility.unique())\n",
    "h_df['served'] = h_df['Level'].apply(lambda x: pop_served.get(x))"
   ]
  },
  {
   "cell_type": "code",
   "execution_count": 159,
   "metadata": {},
   "outputs": [],
   "source": [
    "# Create new columns for the vars I am about to create \n",
    "\n",
    "shape['contribution'] = 0\n",
    "\n",
    "shape['contribution_hc4'] = 0\n",
    "\n",
    "for facility_type in pop_served.keys():\n",
    "    shape[facility_type]=0\n",
    "    \n",
    "shape['contribution_pfp'] = 0"
   ]
  },
  {
   "cell_type": "code",
   "execution_count": 161,
   "metadata": {},
   "outputs": [],
   "source": [
    "# Define the tools I'll combine to extract which point is in which polygon\n",
    "\n",
    "# Gets one point and runs through which polygons include it\n",
    "def get_complex_mask(point_list, df):\n",
    "    masks = []\n",
    "    for point in point_list:\n",
    "        masks.append(df.geometry.contains(point))\n",
    "    return combine_masks(masks)\n",
    "\n",
    "# Return a single mask saying whether each polygons contains at least one of the points entrered as input of get_complex\n",
    "def combine_masks(masks):\n",
    "    final_mask = masks[0]\n",
    "    for i in range(1, len(masks)):\n",
    "        for m in range(len(masks[i])):\n",
    "            final_mask[m] = final_mask[m] + masks[i][m]\n",
    "    out = [True if x > 0 else False for x in final_mask]\n",
    "    return out"
   ]
  },
  {
   "cell_type": "code",
   "execution_count": 162,
   "metadata": {},
   "outputs": [],
   "source": [
    "for hospital in hospitals:# add [:1] to reduce that to one example\n",
    "    df = h_df[h_df.Health_Facility == hospital].reset_index() # get only one hospital's data \n",
    "    \n",
    "    h_type = df.loc[0, 'Level'] # type of the hospital to understand hospital serve count\n",
    "    owner = int(df.loc[0, 'Ownership']=='PFP')\n",
    "    sig = significance.get(h_type) # get the coverage area oh the hospital / gives us teh column name \n",
    "    \n",
    "    mask = get_complex_mask(df.geometry.tolist(), shape) #get the mask for each hospital points \n",
    "    \n",
    "    if sum(mask) < 1:# For hospitals with no location data \n",
    "        continue\n",
    "    hosp_location = shape[mask] #Gives the full informationfor this hospital's location(s)\n",
    "    area_name = hosp_location[sig].tolist() # Here retruns the name area for admin1/2/3 depedning on sig \n",
    "    location_mask = shape[sig].isin(area_name)\n",
    "    m = location_mask\n",
    "    \n",
    "    shape.loc[m, 'contribution'] = shape.loc[m, 'contribution'] + (pop_served.get(h_type)//len(shape.loc[m]))\n",
    "    shape.loc[m, 'contribution_hc4'] = shape.loc[m, 'contribution_hc4'] + (pop_served_hc4.get(h_type)//len(shape.loc[m]))\n",
    "    shape.loc[m, 'contribution_pfp'] = shape.loc[m, 'contribution_pfp'] + ((pop_served.get(h_type)//len(shape.loc[m]))*owner)\n",
    "    shape.loc[m,h_type]=shape.loc[m,h_type]+1\n"
   ]
  },
  {
   "cell_type": "code",
   "execution_count": 173,
   "metadata": {},
   "outputs": [
    {
     "name": "stdout",
     "output_type": "stream",
     "text": [
      "Regarding coverage: This 193474948 should be around the same as this 193910000 \n",
      " While this should be lower than both 145399948 \n",
      " Regarding facility type counts: This 3937 should be around the same as this 3958 \n",
      " Regarding facility type counts: This 501 should be around the same as this 500\n"
     ]
    }
   ],
   "source": [
    "print('Regarding coverage: This',\n",
    "      shape.contribution.sum(),\n",
    "      'should be around the same as this',\n",
    "      h_df[~pd.isna(h_df.geometry.x)].served.sum(),\n",
    "      '\\n While this should be lower than both',\n",
    "      shape.contribution_hc4.sum(),\n",
    "      '\\n Regarding facility type counts: This',\n",
    "      shape['Health Centre II'].sum(),\n",
    "      'should be around the same as this',\n",
    "      len(h_df[h_df['Level']=='Health Centre II']),\n",
    "     '\\n Regarding facility type counts: This',\n",
    "      shape['Clinic'].sum(),\n",
    "      'should be around the same as this',\n",
    "      len(h_df[h_df['Level']=='Clinic']))"
   ]
  },
  {
   "cell_type": "markdown",
   "metadata": {},
   "source": [
    "## e - Calculate the ratios"
   ]
  },
  {
   "cell_type": "code",
   "execution_count": 174,
   "metadata": {},
   "outputs": [],
   "source": [
    "shape['ratio']=shape['contribution']/shape['total_pop']\n",
    "shape['ratio_hc4']=shape['contribution_hc4']/shape['total_pop']\n",
    "shape['ratio_pfp']=shape['contribution_pfp']/shape['total_pop']\n",
    "shape['ratio_gvt_nfp']=shape['ratio']-shape['ratio_pfp']"
   ]
  },
  {
   "cell_type": "code",
   "execution_count": 175,
   "metadata": {},
   "outputs": [
    {
     "name": "stdout",
     "output_type": "stream",
     "text": [
      "4.902211816802256 3.827204645920281 0.3574453890816278 4.544766427720629\n"
     ]
    }
   ],
   "source": [
    "print(shape['ratio'].mean(),\n",
    "      shape['ratio_hc4'].mean(),\n",
    "      shape['ratio_pfp'].mean(),\n",
    "      shape['ratio_gvt_nfp'].mean())"
   ]
  },
  {
   "cell_type": "code",
   "execution_count": 176,
   "metadata": {},
   "outputs": [],
   "source": [
    "shape['ratio_rank']=shape['ratio'].rank(ascending=True,pct=True)\n",
    "shape['ratio_hc4_rank']=shape['ratio_hc4'].rank(ascending=True,pct=True)\n",
    "shape['ratio_pfp_rank']=shape['ratio_pfp'].rank(ascending=True,pct=True)\n",
    "shape['ratio_gvt_nfp_rank']=shape['ratio_gvt_nfp'].rank(ascending=True,pct=True)\n"
   ]
  },
  {
   "cell_type": "code",
   "execution_count": 177,
   "metadata": {},
   "outputs": [],
   "source": [
    "shape_noshapes=shape.copy().drop(['geometry'],axis=1)\n",
    "shape_noshapes.to_csv(output_path+'health_map.csv')"
   ]
  },
  {
   "cell_type": "code",
   "execution_count": 185,
   "metadata": {},
   "outputs": [
    {
     "data": {
      "text/html": [
       "<div>\n",
       "<style scoped>\n",
       "    .dataframe tbody tr th:only-of-type {\n",
       "        vertical-align: middle;\n",
       "    }\n",
       "\n",
       "    .dataframe tbody tr th {\n",
       "        vertical-align: top;\n",
       "    }\n",
       "\n",
       "    .dataframe thead th {\n",
       "        text-align: right;\n",
       "    }\n",
       "</style>\n",
       "<table border=\"1\" class=\"dataframe\">\n",
       "  <thead>\n",
       "    <tr style=\"text-align: right;\">\n",
       "      <th></th>\n",
       "      <th>code_17</th>\n",
       "      <th>code_18</th>\n",
       "      <th>total_pop</th>\n",
       "      <th>contribution</th>\n",
       "      <th>contribution_hc4</th>\n",
       "      <th>Clinic</th>\n",
       "      <th>Health Centre II</th>\n",
       "      <th>Health Centre III</th>\n",
       "      <th>Health Centre IV</th>\n",
       "      <th>Hospital</th>\n",
       "      <th>Regional Referral Hospital</th>\n",
       "      <th>National Referral Hospital</th>\n",
       "      <th>contribution_pfp</th>\n",
       "      <th>ratio</th>\n",
       "      <th>ratio_hc4</th>\n",
       "      <th>ratio_pfp</th>\n",
       "      <th>ratio_gvt_nfp</th>\n",
       "      <th>ratio_rank</th>\n",
       "      <th>ratio_hc4_rank</th>\n",
       "      <th>ratio_pfp_rank</th>\n",
       "      <th>ratio_gvt_nfp_rank</th>\n",
       "    </tr>\n",
       "  </thead>\n",
       "  <tbody>\n",
       "    <tr>\n",
       "      <th>count</th>\n",
       "      <td>135.000000</td>\n",
       "      <td>135.000000</td>\n",
       "      <td>1.350000e+02</td>\n",
       "      <td>1.350000e+02</td>\n",
       "      <td>1.350000e+02</td>\n",
       "      <td>135.000000</td>\n",
       "      <td>135.000000</td>\n",
       "      <td>135.000000</td>\n",
       "      <td>135.000000</td>\n",
       "      <td>135.000000</td>\n",
       "      <td>135.000000</td>\n",
       "      <td>135.0</td>\n",
       "      <td>1.350000e+02</td>\n",
       "      <td>135.000000</td>\n",
       "      <td>135.000000</td>\n",
       "      <td>135.000000</td>\n",
       "      <td>135.000000</td>\n",
       "      <td>135.000000</td>\n",
       "      <td>135.000000</td>\n",
       "      <td>135.000000</td>\n",
       "      <td>135.000000</td>\n",
       "    </tr>\n",
       "    <tr>\n",
       "      <th>mean</th>\n",
       "      <td>275.340741</td>\n",
       "      <td>276.481481</td>\n",
       "      <td>3.122146e+05</td>\n",
       "      <td>1.433148e+06</td>\n",
       "      <td>1.077037e+06</td>\n",
       "      <td>3.711111</td>\n",
       "      <td>29.162963</td>\n",
       "      <td>10.333333</td>\n",
       "      <td>1.548148</td>\n",
       "      <td>1.133333</td>\n",
       "      <td>0.948148</td>\n",
       "      <td>2.0</td>\n",
       "      <td>2.801333e+05</td>\n",
       "      <td>4.902212</td>\n",
       "      <td>3.827205</td>\n",
       "      <td>0.357445</td>\n",
       "      <td>4.544766</td>\n",
       "      <td>0.503704</td>\n",
       "      <td>0.503704</td>\n",
       "      <td>0.503704</td>\n",
       "      <td>0.503704</td>\n",
       "    </tr>\n",
       "    <tr>\n",
       "      <th>std</th>\n",
       "      <td>108.264337</td>\n",
       "      <td>108.306975</td>\n",
       "      <td>3.022554e+05</td>\n",
       "      <td>2.054552e+06</td>\n",
       "      <td>1.370782e+06</td>\n",
       "      <td>9.844967</td>\n",
       "      <td>112.172123</td>\n",
       "      <td>13.821355</td>\n",
       "      <td>1.810906</td>\n",
       "      <td>2.265247</td>\n",
       "      <td>0.222554</td>\n",
       "      <td>0.0</td>\n",
       "      <td>1.455182e+06</td>\n",
       "      <td>2.603264</td>\n",
       "      <td>2.297105</td>\n",
       "      <td>0.951838</td>\n",
       "      <td>2.488221</td>\n",
       "      <td>0.289742</td>\n",
       "      <td>0.289742</td>\n",
       "      <td>0.288583</td>\n",
       "      <td>0.289742</td>\n",
       "    </tr>\n",
       "    <tr>\n",
       "      <th>min</th>\n",
       "      <td>101.000000</td>\n",
       "      <td>101.000000</td>\n",
       "      <td>3.665041e+04</td>\n",
       "      <td>4.631480e+05</td>\n",
       "      <td>2.481480e+05</td>\n",
       "      <td>0.000000</td>\n",
       "      <td>2.000000</td>\n",
       "      <td>1.000000</td>\n",
       "      <td>0.000000</td>\n",
       "      <td>0.000000</td>\n",
       "      <td>0.000000</td>\n",
       "      <td>2.0</td>\n",
       "      <td>0.000000e+00</td>\n",
       "      <td>1.426787</td>\n",
       "      <td>0.964885</td>\n",
       "      <td>0.000000</td>\n",
       "      <td>1.264446</td>\n",
       "      <td>0.007407</td>\n",
       "      <td>0.007407</td>\n",
       "      <td>0.103704</td>\n",
       "      <td>0.007407</td>\n",
       "    </tr>\n",
       "    <tr>\n",
       "      <th>25%</th>\n",
       "      <td>207.500000</td>\n",
       "      <td>208.500000</td>\n",
       "      <td>1.748038e+05</td>\n",
       "      <td>6.630920e+05</td>\n",
       "      <td>4.703700e+05</td>\n",
       "      <td>0.000000</td>\n",
       "      <td>9.000000</td>\n",
       "      <td>5.000000</td>\n",
       "      <td>1.000000</td>\n",
       "      <td>0.000000</td>\n",
       "      <td>1.000000</td>\n",
       "      <td>2.0</td>\n",
       "      <td>1.000000e+03</td>\n",
       "      <td>3.043370</td>\n",
       "      <td>2.093394</td>\n",
       "      <td>0.006231</td>\n",
       "      <td>2.732923</td>\n",
       "      <td>0.255556</td>\n",
       "      <td>0.255556</td>\n",
       "      <td>0.255556</td>\n",
       "      <td>0.255556</td>\n",
       "    </tr>\n",
       "    <tr>\n",
       "      <th>50%</th>\n",
       "      <td>303.000000</td>\n",
       "      <td>304.000000</td>\n",
       "      <td>2.535178e+05</td>\n",
       "      <td>1.050370e+06</td>\n",
       "      <td>8.299660e+05</td>\n",
       "      <td>1.000000</td>\n",
       "      <td>14.000000</td>\n",
       "      <td>8.000000</td>\n",
       "      <td>1.000000</td>\n",
       "      <td>1.000000</td>\n",
       "      <td>1.000000</td>\n",
       "      <td>2.0</td>\n",
       "      <td>1.000000e+04</td>\n",
       "      <td>4.224845</td>\n",
       "      <td>3.171179</td>\n",
       "      <td>0.056762</td>\n",
       "      <td>3.814227</td>\n",
       "      <td>0.503704</td>\n",
       "      <td>0.503704</td>\n",
       "      <td>0.503704</td>\n",
       "      <td>0.503704</td>\n",
       "    </tr>\n",
       "    <tr>\n",
       "      <th>75%</th>\n",
       "      <td>401.500000</td>\n",
       "      <td>401.500000</td>\n",
       "      <td>3.474177e+05</td>\n",
       "      <td>1.415759e+06</td>\n",
       "      <td>1.059259e+06</td>\n",
       "      <td>2.500000</td>\n",
       "      <td>22.500000</td>\n",
       "      <td>11.000000</td>\n",
       "      <td>2.000000</td>\n",
       "      <td>1.000000</td>\n",
       "      <td>1.000000</td>\n",
       "      <td>2.0</td>\n",
       "      <td>6.550000e+04</td>\n",
       "      <td>6.153293</td>\n",
       "      <td>5.019599</td>\n",
       "      <td>0.223799</td>\n",
       "      <td>6.019334</td>\n",
       "      <td>0.751852</td>\n",
       "      <td>0.751852</td>\n",
       "      <td>0.751852</td>\n",
       "      <td>0.751852</td>\n",
       "    </tr>\n",
       "    <tr>\n",
       "      <th>max</th>\n",
       "      <td>431.000000</td>\n",
       "      <td>432.000000</td>\n",
       "      <td>2.977770e+06</td>\n",
       "      <td>1.954265e+07</td>\n",
       "      <td>1.254815e+07</td>\n",
       "      <td>85.000000</td>\n",
       "      <td>1262.000000</td>\n",
       "      <td>154.000000</td>\n",
       "      <td>17.000000</td>\n",
       "      <td>19.000000</td>\n",
       "      <td>1.000000</td>\n",
       "      <td>2.0</td>\n",
       "      <td>1.387100e+07</td>\n",
       "      <td>14.596452</td>\n",
       "      <td>11.731545</td>\n",
       "      <td>8.126391</td>\n",
       "      <td>14.596452</td>\n",
       "      <td>1.000000</td>\n",
       "      <td>1.000000</td>\n",
       "      <td>1.000000</td>\n",
       "      <td>1.000000</td>\n",
       "    </tr>\n",
       "  </tbody>\n",
       "</table>\n",
       "</div>"
      ],
      "text/plain": [
       "          code_17     code_18     total_pop  contribution  contribution_hc4  \\\n",
       "count  135.000000  135.000000  1.350000e+02  1.350000e+02      1.350000e+02   \n",
       "mean   275.340741  276.481481  3.122146e+05  1.433148e+06      1.077037e+06   \n",
       "std    108.264337  108.306975  3.022554e+05  2.054552e+06      1.370782e+06   \n",
       "min    101.000000  101.000000  3.665041e+04  4.631480e+05      2.481480e+05   \n",
       "25%    207.500000  208.500000  1.748038e+05  6.630920e+05      4.703700e+05   \n",
       "50%    303.000000  304.000000  2.535178e+05  1.050370e+06      8.299660e+05   \n",
       "75%    401.500000  401.500000  3.474177e+05  1.415759e+06      1.059259e+06   \n",
       "max    431.000000  432.000000  2.977770e+06  1.954265e+07      1.254815e+07   \n",
       "\n",
       "           Clinic  Health Centre II  Health Centre III  Health Centre IV  \\\n",
       "count  135.000000        135.000000         135.000000        135.000000   \n",
       "mean     3.711111         29.162963          10.333333          1.548148   \n",
       "std      9.844967        112.172123          13.821355          1.810906   \n",
       "min      0.000000          2.000000           1.000000          0.000000   \n",
       "25%      0.000000          9.000000           5.000000          1.000000   \n",
       "50%      1.000000         14.000000           8.000000          1.000000   \n",
       "75%      2.500000         22.500000          11.000000          2.000000   \n",
       "max     85.000000       1262.000000         154.000000         17.000000   \n",
       "\n",
       "         Hospital  Regional Referral Hospital  National Referral Hospital  \\\n",
       "count  135.000000                  135.000000                       135.0   \n",
       "mean     1.133333                    0.948148                         2.0   \n",
       "std      2.265247                    0.222554                         0.0   \n",
       "min      0.000000                    0.000000                         2.0   \n",
       "25%      0.000000                    1.000000                         2.0   \n",
       "50%      1.000000                    1.000000                         2.0   \n",
       "75%      1.000000                    1.000000                         2.0   \n",
       "max     19.000000                    1.000000                         2.0   \n",
       "\n",
       "       contribution_pfp       ratio   ratio_hc4   ratio_pfp  ratio_gvt_nfp  \\\n",
       "count      1.350000e+02  135.000000  135.000000  135.000000     135.000000   \n",
       "mean       2.801333e+05    4.902212    3.827205    0.357445       4.544766   \n",
       "std        1.455182e+06    2.603264    2.297105    0.951838       2.488221   \n",
       "min        0.000000e+00    1.426787    0.964885    0.000000       1.264446   \n",
       "25%        1.000000e+03    3.043370    2.093394    0.006231       2.732923   \n",
       "50%        1.000000e+04    4.224845    3.171179    0.056762       3.814227   \n",
       "75%        6.550000e+04    6.153293    5.019599    0.223799       6.019334   \n",
       "max        1.387100e+07   14.596452   11.731545    8.126391      14.596452   \n",
       "\n",
       "       ratio_rank  ratio_hc4_rank  ratio_pfp_rank  ratio_gvt_nfp_rank  \n",
       "count  135.000000      135.000000      135.000000          135.000000  \n",
       "mean     0.503704        0.503704        0.503704            0.503704  \n",
       "std      0.289742        0.289742        0.288583            0.289742  \n",
       "min      0.007407        0.007407        0.103704            0.007407  \n",
       "25%      0.255556        0.255556        0.255556            0.255556  \n",
       "50%      0.503704        0.503704        0.503704            0.503704  \n",
       "75%      0.751852        0.751852        0.751852            0.751852  \n",
       "max      1.000000        1.000000        1.000000            1.000000  "
      ]
     },
     "execution_count": 185,
     "metadata": {},
     "output_type": "execute_result"
    }
   ],
   "source": [
    "shape.describe()"
   ]
  },
  {
   "cell_type": "markdown",
   "metadata": {},
   "source": [
    "# 3 - Getting the poverty map"
   ]
  },
  {
   "cell_type": "code",
   "execution_count": 200,
   "metadata": {},
   "outputs": [],
   "source": [
    "poverty = gpd.read_file(input_path+'/poverty/SubCountyShapefiles [from GIS WG]/Uganda2018SubcountyMultidimensionalPovertyConsensual.shp')\n",
    "poverty.crs=\"epsg:4326\"\n"
   ]
  },
  {
   "cell_type": "code",
   "execution_count": 250,
   "metadata": {},
   "outputs": [
    {
     "name": "stdout",
     "output_type": "stream",
     "text": [
      "set() set()\n"
     ]
    }
   ],
   "source": [
    "print(set(poverty_shapes['DName2018'].unique()).difference(set(shape['name_18'].unique())),\n",
    "      set(poverty_shapes['DName2019'].unique()).difference(set(shape['name_18'].unique())))"
   ]
  },
  {
   "cell_type": "code",
   "execution_count": 210,
   "metadata": {},
   "outputs": [],
   "source": [
    "total = []\n",
    "for s in poverty['geometry']:\n",
    "    out_data, _, _ = mask_raster(dem_path, s)\n",
    "    values = out_data.flatten()[out_data.flatten() > 0]\n",
    "    # if empty array switch to np.nan to prevent warnings\n",
    "    if values.size == 0:\n",
    "        values = np.nan\n",
    "    total.append(np.sum(values))\n",
    "poverty['total_pop']=total"
   ]
  },
  {
   "cell_type": "code",
   "execution_count": 246,
   "metadata": {},
   "outputs": [],
   "source": [
    "poverty_map=poverty[['DName2019','DName2018','Subcounty','total_pop','HH_Poverty']].copy()\n",
    "poverty_map.set_index(['DName2018','Subcounty'],inplace=True)"
   ]
  },
  {
   "cell_type": "code",
   "execution_count": 247,
   "metadata": {},
   "outputs": [
    {
     "data": {
      "text/plain": [
       "DName2018\n",
       "ABIM          0.555566\n",
       "ADJUMANI      0.350280\n",
       "AGAGO         0.528257\n",
       "ALEBTONG      0.346668\n",
       "AMOLATAR      0.370643\n",
       "                ...   \n",
       "SSEMBABULE    0.090085\n",
       "TORORO        0.242042\n",
       "WAKISO        0.017777\n",
       "YUMBE         0.517921\n",
       "ZOMBO         0.421657\n",
       "Name: poverty_rate, Length: 128, dtype: float64"
      ]
     },
     "execution_count": 247,
     "metadata": {},
     "output_type": "execute_result"
    }
   ],
   "source": [
    "poverty_map['population_perc'] = poverty_map['total_pop']/ poverty_map.groupby('DName2018')['total_pop'].transform('sum')\n",
    "poverty_map['poverty_rate']=poverty_map['population_perc']*poverty_map['HH_Poverty']\n",
    "poverty_map.groupby('DName2018').sum()['poverty_rate']"
   ]
  },
  {
   "cell_type": "code",
   "execution_count": 249,
   "metadata": {},
   "outputs": [],
   "source": [
    "poverty_map.to_csv(output_path+'/poverty_map.csv')"
   ]
  },
  {
   "cell_type": "markdown",
   "metadata": {},
   "source": [
    "# 4 - Get the demographics data "
   ]
  },
  {
   "cell_type": "code",
   "execution_count": 265,
   "metadata": {},
   "outputs": [],
   "source": [
    "def get_data(shape_df, file):\n",
    "    total = []\n",
    "    for s in shape['geometry']:\n",
    "        out_data, _, _ = mask_raster(dem_path, s)\n",
    "        values = out_data.flatten()[out_data.flatten() > 0]\n",
    "        if values.size == 0:\n",
    "            values = np.nan\n",
    "        total.append(np.sum(values))\n",
    "    return total"
   ]
  },
  {
   "cell_type": "code",
   "execution_count": 266,
   "metadata": {},
   "outputs": [],
   "source": [
    "#Loop through all the rasters files \n",
    "def compute_data(data_path, files_path):\n",
    "    for file in files_path:\n",
    "        url = data_path+'/%s'\n",
    "\n",
    "        total =  get_data(shape, url %file)\n",
    "        shape[file]= total \n",
    "        "
   ]
  },
  {
   "cell_type": "code",
   "execution_count": 267,
   "metadata": {},
   "outputs": [],
   "source": [
    "female_raster_path = input_path+'demographics/Female_Age'\n",
    "female_files1 = os.listdir(female_raster_path)\n",
    "male_raster_path = input_path+'demographics/Male_Age'\n",
    "male_files1 = os.listdir(male_raster_path)"
   ]
  },
  {
   "cell_type": "code",
   "execution_count": 268,
   "metadata": {},
   "outputs": [
    {
     "ename": "TypeError",
     "evalue": "'function' object is not subscriptable",
     "output_type": "error",
     "traceback": [
      "\u001b[1;31m---------------------------------------------------------------------------\u001b[0m",
      "\u001b[1;31mTypeError\u001b[0m                                 Traceback (most recent call last)",
      "\u001b[1;32m<ipython-input-268-63313f306d1a>\u001b[0m in \u001b[0;36m<module>\u001b[1;34m\u001b[0m\n\u001b[1;32m----> 1\u001b[1;33m \u001b[0mcompute_data\u001b[0m\u001b[1;33m(\u001b[0m\u001b[0mfemale_raster_path\u001b[0m\u001b[1;33m,\u001b[0m\u001b[0mfemale_files1\u001b[0m\u001b[1;33m)\u001b[0m\u001b[1;33m\u001b[0m\u001b[1;33m\u001b[0m\u001b[0m\n\u001b[0m\u001b[0;32m      2\u001b[0m \u001b[0mcompute_data\u001b[0m\u001b[1;33m(\u001b[0m\u001b[0mmale_raster_path\u001b[0m\u001b[1;33m,\u001b[0m\u001b[0mmale_files1\u001b[0m\u001b[1;33m)\u001b[0m\u001b[1;33m\u001b[0m\u001b[1;33m\u001b[0m\u001b[0m\n",
      "\u001b[1;32m<ipython-input-266-d6a7d4570e1b>\u001b[0m in \u001b[0;36mcompute_data\u001b[1;34m(data_path, files_path)\u001b[0m\n\u001b[0;32m      4\u001b[0m         \u001b[0murl\u001b[0m \u001b[1;33m=\u001b[0m \u001b[0mdata_path\u001b[0m\u001b[1;33m+\u001b[0m\u001b[1;34m'/%s'\u001b[0m\u001b[1;33m\u001b[0m\u001b[1;33m\u001b[0m\u001b[0m\n\u001b[0;32m      5\u001b[0m \u001b[1;33m\u001b[0m\u001b[0m\n\u001b[1;32m----> 6\u001b[1;33m         \u001b[0mtotal\u001b[0m \u001b[1;33m=\u001b[0m  \u001b[0mget_data\u001b[0m\u001b[1;33m(\u001b[0m\u001b[0mshape\u001b[0m\u001b[1;33m,\u001b[0m \u001b[0murl\u001b[0m \u001b[1;33m%\u001b[0m\u001b[0mfile\u001b[0m\u001b[1;33m)\u001b[0m\u001b[1;33m\u001b[0m\u001b[1;33m\u001b[0m\u001b[0m\n\u001b[0m\u001b[0;32m      7\u001b[0m         \u001b[0mshape\u001b[0m\u001b[1;33m[\u001b[0m\u001b[0mfile\u001b[0m\u001b[1;33m]\u001b[0m\u001b[1;33m=\u001b[0m \u001b[0mtotal\u001b[0m\u001b[1;33m\u001b[0m\u001b[1;33m\u001b[0m\u001b[0m\n\u001b[0;32m      8\u001b[0m \u001b[1;33m\u001b[0m\u001b[0m\n",
      "\u001b[1;32m<ipython-input-265-e678db2460e2>\u001b[0m in \u001b[0;36mget_data\u001b[1;34m(shape_df, file)\u001b[0m\n\u001b[0;32m      1\u001b[0m \u001b[1;32mdef\u001b[0m \u001b[0mget_data\u001b[0m\u001b[1;33m(\u001b[0m\u001b[0mshape_df\u001b[0m\u001b[1;33m,\u001b[0m \u001b[0mfile\u001b[0m\u001b[1;33m)\u001b[0m\u001b[1;33m:\u001b[0m\u001b[1;33m\u001b[0m\u001b[1;33m\u001b[0m\u001b[0m\n\u001b[0;32m      2\u001b[0m     \u001b[0mtotal\u001b[0m \u001b[1;33m=\u001b[0m \u001b[1;33m[\u001b[0m\u001b[1;33m]\u001b[0m\u001b[1;33m\u001b[0m\u001b[1;33m\u001b[0m\u001b[0m\n\u001b[1;32m----> 3\u001b[1;33m     \u001b[1;32mfor\u001b[0m \u001b[0ms\u001b[0m \u001b[1;32min\u001b[0m \u001b[0mshape\u001b[0m\u001b[1;33m[\u001b[0m\u001b[1;34m'geometry'\u001b[0m\u001b[1;33m]\u001b[0m\u001b[1;33m:\u001b[0m\u001b[1;33m\u001b[0m\u001b[1;33m\u001b[0m\u001b[0m\n\u001b[0m\u001b[0;32m      4\u001b[0m         \u001b[0mout_data\u001b[0m\u001b[1;33m,\u001b[0m \u001b[0m_\u001b[0m\u001b[1;33m,\u001b[0m \u001b[0m_\u001b[0m \u001b[1;33m=\u001b[0m \u001b[0mmask_raster\u001b[0m\u001b[1;33m(\u001b[0m\u001b[0mdem_path\u001b[0m\u001b[1;33m,\u001b[0m \u001b[0ms\u001b[0m\u001b[1;33m)\u001b[0m\u001b[1;33m\u001b[0m\u001b[1;33m\u001b[0m\u001b[0m\n\u001b[0;32m      5\u001b[0m         \u001b[0mvalues\u001b[0m \u001b[1;33m=\u001b[0m \u001b[0mout_data\u001b[0m\u001b[1;33m.\u001b[0m\u001b[0mflatten\u001b[0m\u001b[1;33m(\u001b[0m\u001b[1;33m)\u001b[0m\u001b[1;33m[\u001b[0m\u001b[0mout_data\u001b[0m\u001b[1;33m.\u001b[0m\u001b[0mflatten\u001b[0m\u001b[1;33m(\u001b[0m\u001b[1;33m)\u001b[0m \u001b[1;33m>\u001b[0m \u001b[1;36m0\u001b[0m\u001b[1;33m]\u001b[0m\u001b[1;33m\u001b[0m\u001b[1;33m\u001b[0m\u001b[0m\n",
      "\u001b[1;31mTypeError\u001b[0m: 'function' object is not subscriptable"
     ]
    }
   ],
   "source": [
    "compute_data(female_raster_path,female_files1)\n",
    "compute_data(male_raster_path,male_files1)"
   ]
  },
  {
   "cell_type": "code",
   "execution_count": 10,
   "metadata": {},
   "outputs": [
    {
     "data": {
      "text/plain": [
       "Index(['ADM0_EN', 'ADM0_PCODE', 'ADM1_EN', 'ADM1_PCODE', 'ADM2_EN',\n",
       "       'ADM2_PCODE', 'ADM3_EN', 'ADM3_PCODE', 'geometry', 'uga_f_0_2020.tif',\n",
       "       'uga_f_10_2020.tif', 'uga_f_15_2020.tif', 'uga_f_1_2020.tif',\n",
       "       'uga_f_20_2020.tif', 'uga_f_25_2020.tif', 'uga_f_30_2020.tif',\n",
       "       'uga_f_35_2020.tif', 'uga_f_40_2020.tif', 'uga_f_45_2020.tif',\n",
       "       'uga_f_50_2020.tif', 'uga_f_55_2020.tif', 'uga_f_5_2020.tif',\n",
       "       'uga_f_60_2020.tif', 'uga_f_65_2020.tif', 'uga_f_70_2020.tif',\n",
       "       'uga_f_75_2020.tif', 'uga_f_80_2020.tif', 'uga_m_0_2020.tif',\n",
       "       'uga_m_10_2020.tif', 'uga_m_15_2020.tif', 'uga_m_1_2020.tif',\n",
       "       'uga_m_20_2020.tif', 'uga_m_25_2020.tif', 'uga_m_30_2020.tif',\n",
       "       'uga_m_35_2020.tif', 'uga_m_40_2020.tif', 'uga_m_45_2020.tif',\n",
       "       'uga_m_50_2020.tif', 'uga_m_55_2020.tif', 'uga_m_5_2020.tif',\n",
       "       'uga_m_60_2020.tif', 'uga_m_65_2020.tif', 'uga_m_70_2020.tif',\n",
       "       'uga_m_75_2020.tif', 'uga_m_80_2020.tif'],\n",
       "      dtype='object')"
      ]
     },
     "execution_count": 10,
     "metadata": {},
     "output_type": "execute_result"
    }
   ],
   "source": [
    "shape.columns"
   ]
  },
  {
   "cell_type": "code",
   "execution_count": 11,
   "metadata": {},
   "outputs": [
    {
     "data": {
      "text/plain": [
       "36"
      ]
     },
     "execution_count": 11,
     "metadata": {},
     "output_type": "execute_result"
    }
   ],
   "source": [
    "lst = ['uga_f_0_2020.tif','uga_f_1_2020.tif','uga_f_5_2020.tif',\n",
    "       'uga_f_10_2020.tif', 'uga_f_15_2020.tif','uga_f_20_2020.tif', \n",
    "       'uga_f_25_2020.tif', 'uga_f_30_2020.tif','uga_f_35_2020.tif', \n",
    "       'uga_f_40_2020.tif', 'uga_f_45_2020.tif','uga_f_50_2020.tif',\n",
    "       'uga_f_55_2020.tif', 'uga_f_60_2020.tif','uga_f_65_2020.tif', \n",
    "       'uga_f_70_2020.tif', 'uga_f_75_2020.tif','uga_f_80_2020.tif',\n",
    "       \n",
    "       'uga_m_0_2020.tif', 'uga_m_1_2020.tif','uga_m_5_2020.tif', \n",
    "       'uga_m_10_2020.tif','uga_m_15_2020.tif', 'uga_m_20_2020.tif',\n",
    "       'uga_m_25_2020.tif','uga_m_30_2020.tif', 'uga_m_35_2020.tif', \n",
    "       'uga_m_40_2020.tif','uga_m_45_2020.tif','uga_m_50_2020.tif', \n",
    "       'uga_m_55_2020.tif','uga_m_60_2020.tif', 'uga_m_65_2020.tif', \n",
    "       'uga_m_70_2020.tif', 'uga_m_75_2020.tif', 'uga_m_80_2020.tif']\n",
    "\n",
    "len(lst)"
   ]
  },
  {
   "cell_type": "code",
   "execution_count": 12,
   "metadata": {},
   "outputs": [
    {
     "data": {
      "text/plain": [
       "36"
      ]
     },
     "execution_count": 12,
     "metadata": {},
     "output_type": "execute_result"
    }
   ],
   "source": [
    "cols= ['uga_f_0','uga_f_1','uga_f_5', 'uga_f_10','uga_f_15','uga_f_20','uga_f_25','uga_f_30','uga_f_35',\n",
    "       'uga_f_40', 'uga_f_45','uga_f_50','uga_f_55','uga_f_60','uga_f_65', 'uga_f_70','uga_f_75','uga_f_80',\n",
    "       \n",
    "       'uga_m_0', 'uga_m_1','uga_m_5','uga_m_10','uga_m_15','uga_m_20','uga_m_25', 'uga_m_30','uga_m_35', \n",
    "       'uga_m_40', 'uga_m_45','uga_m_50','uga_m_55','uga_m_60', 'uga_m_65','uga_m_70','uga_m_75','uga_m_80']\n",
    "\n",
    "len(cols)"
   ]
  },
  {
   "cell_type": "code",
   "execution_count": 14,
   "metadata": {},
   "outputs": [],
   "source": [
    "df = admin3_df[lst].copy()\n",
    "df.columns = cols # rename columns\n",
    "df['ADM3_PCODE'] = admin3_df['ADM3_PCODE']\n",
    "df.set_index('ADM3_PCODE', inplace =True)"
   ]
  },
  {
   "cell_type": "code",
   "execution_count": 15,
   "metadata": {},
   "outputs": [],
   "source": [
    "df.reset_index(inplace=True)"
   ]
  },
  {
   "cell_type": "code",
   "execution_count": 22,
   "metadata": {},
   "outputs": [
    {
     "data": {
      "text/html": [
       "<div>\n",
       "<style scoped>\n",
       "    .dataframe tbody tr th:only-of-type {\n",
       "        vertical-align: middle;\n",
       "    }\n",
       "\n",
       "    .dataframe tbody tr th {\n",
       "        vertical-align: top;\n",
       "    }\n",
       "\n",
       "    .dataframe thead th {\n",
       "        text-align: right;\n",
       "    }\n",
       "</style>\n",
       "<table border=\"1\" class=\"dataframe\">\n",
       "  <thead>\n",
       "    <tr style=\"text-align: right;\">\n",
       "      <th></th>\n",
       "      <th>ADM3_PCODE</th>\n",
       "      <th>uga_f_0</th>\n",
       "      <th>uga_f_1</th>\n",
       "      <th>uga_f_5</th>\n",
       "      <th>uga_f_10</th>\n",
       "      <th>uga_f_15</th>\n",
       "      <th>uga_f_20</th>\n",
       "      <th>uga_f_25</th>\n",
       "      <th>uga_f_30</th>\n",
       "      <th>uga_f_35</th>\n",
       "      <th>uga_f_40</th>\n",
       "      <th>uga_f_45</th>\n",
       "      <th>uga_f_50</th>\n",
       "      <th>uga_f_55</th>\n",
       "      <th>uga_f_60</th>\n",
       "      <th>uga_f_65</th>\n",
       "      <th>uga_f_70</th>\n",
       "      <th>uga_f_75</th>\n",
       "      <th>uga_f_80</th>\n",
       "      <th>uga_m_0</th>\n",
       "      <th>uga_m_1</th>\n",
       "      <th>uga_m_5</th>\n",
       "      <th>uga_m_10</th>\n",
       "      <th>uga_m_15</th>\n",
       "      <th>uga_m_20</th>\n",
       "      <th>uga_m_25</th>\n",
       "      <th>uga_m_30</th>\n",
       "      <th>uga_m_35</th>\n",
       "      <th>uga_m_40</th>\n",
       "      <th>uga_m_45</th>\n",
       "      <th>uga_m_50</th>\n",
       "      <th>uga_m_55</th>\n",
       "      <th>uga_m_60</th>\n",
       "      <th>uga_m_65</th>\n",
       "      <th>uga_m_70</th>\n",
       "      <th>uga_m_75</th>\n",
       "      <th>uga_m_80</th>\n",
       "    </tr>\n",
       "  </thead>\n",
       "  <tbody>\n",
       "    <tr>\n",
       "      <th>0</th>\n",
       "      <td>UG314101</td>\n",
       "      <td>340.520325</td>\n",
       "      <td>1267.132690</td>\n",
       "      <td>1285.483521</td>\n",
       "      <td>1113.528320</td>\n",
       "      <td>995.159546</td>\n",
       "      <td>992.397949</td>\n",
       "      <td>689.138123</td>\n",
       "      <td>516.849731</td>\n",
       "      <td>374.777740</td>\n",
       "      <td>373.867004</td>\n",
       "      <td>259.933136</td>\n",
       "      <td>208.410614</td>\n",
       "      <td>131.148666</td>\n",
       "      <td>110.434952</td>\n",
       "      <td>40.917202</td>\n",
       "      <td>59.198120</td>\n",
       "      <td>30.671986</td>\n",
       "      <td>27.781048</td>\n",
       "      <td>247.180344</td>\n",
       "      <td>1279.897583</td>\n",
       "      <td>1418.631714</td>\n",
       "      <td>1153.303101</td>\n",
       "      <td>951.640747</td>\n",
       "      <td>884.341431</td>\n",
       "      <td>656.058228</td>\n",
       "      <td>617.542114</td>\n",
       "      <td>414.377930</td>\n",
       "      <td>286.589661</td>\n",
       "      <td>316.741028</td>\n",
       "      <td>188.562927</td>\n",
       "      <td>148.833679</td>\n",
       "      <td>82.237427</td>\n",
       "      <td>49.672493</td>\n",
       "      <td>31.731512</td>\n",
       "      <td>44.615776</td>\n",
       "      <td>31.403730</td>\n",
       "    </tr>\n",
       "    <tr>\n",
       "      <th>1</th>\n",
       "      <td>UG314102</td>\n",
       "      <td>489.007599</td>\n",
       "      <td>1819.602539</td>\n",
       "      <td>1845.959229</td>\n",
       "      <td>1599.138428</td>\n",
       "      <td>1429.014160</td>\n",
       "      <td>1425.102539</td>\n",
       "      <td>989.645020</td>\n",
       "      <td>742.170776</td>\n",
       "      <td>538.104370</td>\n",
       "      <td>536.952515</td>\n",
       "      <td>373.234619</td>\n",
       "      <td>299.308228</td>\n",
       "      <td>188.309906</td>\n",
       "      <td>158.583679</td>\n",
       "      <td>58.731026</td>\n",
       "      <td>85.031609</td>\n",
       "      <td>44.056175</td>\n",
       "      <td>39.908520</td>\n",
       "      <td>354.855072</td>\n",
       "      <td>1837.936035</td>\n",
       "      <td>2037.227295</td>\n",
       "      <td>1656.250610</td>\n",
       "      <td>1366.464722</td>\n",
       "      <td>1269.989258</td>\n",
       "      <td>942.065857</td>\n",
       "      <td>886.870728</td>\n",
       "      <td>595.019287</td>\n",
       "      <td>411.496338</td>\n",
       "      <td>454.879700</td>\n",
       "      <td>270.802673</td>\n",
       "      <td>213.757187</td>\n",
       "      <td>118.094223</td>\n",
       "      <td>71.316246</td>\n",
       "      <td>45.552650</td>\n",
       "      <td>64.081718</td>\n",
       "      <td>45.113976</td>\n",
       "    </tr>\n",
       "    <tr>\n",
       "      <th>2</th>\n",
       "      <td>UG314103</td>\n",
       "      <td>503.672791</td>\n",
       "      <td>1874.664062</td>\n",
       "      <td>1902.263550</td>\n",
       "      <td>1647.699707</td>\n",
       "      <td>1472.495728</td>\n",
       "      <td>1468.366821</td>\n",
       "      <td>1019.846191</td>\n",
       "      <td>764.775574</td>\n",
       "      <td>554.575745</td>\n",
       "      <td>553.168030</td>\n",
       "      <td>384.520477</td>\n",
       "      <td>308.296417</td>\n",
       "      <td>194.000092</td>\n",
       "      <td>163.310837</td>\n",
       "      <td>60.518482</td>\n",
       "      <td>87.538818</td>\n",
       "      <td>45.360428</td>\n",
       "      <td>41.093136</td>\n",
       "      <td>365.626984</td>\n",
       "      <td>1893.678955</td>\n",
       "      <td>2099.164062</td>\n",
       "      <td>1706.585938</td>\n",
       "      <td>1408.257080</td>\n",
       "      <td>1308.479126</td>\n",
       "      <td>970.745239</td>\n",
       "      <td>913.766968</td>\n",
       "      <td>613.152710</td>\n",
       "      <td>424.189758</td>\n",
       "      <td>468.685852</td>\n",
       "      <td>279.009644</td>\n",
       "      <td>220.226715</td>\n",
       "      <td>121.677261</td>\n",
       "      <td>73.471153</td>\n",
       "      <td>46.945175</td>\n",
       "      <td>65.982437</td>\n",
       "      <td>46.459652</td>\n",
       "    </tr>\n",
       "    <tr>\n",
       "      <th>3</th>\n",
       "      <td>UG314104</td>\n",
       "      <td>649.905273</td>\n",
       "      <td>2412.704834</td>\n",
       "      <td>2449.585938</td>\n",
       "      <td>2118.995850</td>\n",
       "      <td>1894.426270</td>\n",
       "      <td>1885.106201</td>\n",
       "      <td>1308.774414</td>\n",
       "      <td>985.160645</td>\n",
       "      <td>717.804932</td>\n",
       "      <td>711.931641</td>\n",
       "      <td>496.318634</td>\n",
       "      <td>396.101746</td>\n",
       "      <td>249.081390</td>\n",
       "      <td>209.773361</td>\n",
       "      <td>78.986481</td>\n",
       "      <td>112.372421</td>\n",
       "      <td>58.280487</td>\n",
       "      <td>52.538551</td>\n",
       "      <td>473.376648</td>\n",
       "      <td>2433.503906</td>\n",
       "      <td>2692.245850</td>\n",
       "      <td>2193.372070</td>\n",
       "      <td>1807.204102</td>\n",
       "      <td>1677.082397</td>\n",
       "      <td>1246.525146</td>\n",
       "      <td>1172.432983</td>\n",
       "      <td>790.103394</td>\n",
       "      <td>547.834717</td>\n",
       "      <td>603.853699</td>\n",
       "      <td>358.340027</td>\n",
       "      <td>284.512299</td>\n",
       "      <td>157.107239</td>\n",
       "      <td>95.706024</td>\n",
       "      <td>60.750694</td>\n",
       "      <td>84.632347</td>\n",
       "      <td>59.371128</td>\n",
       "    </tr>\n",
       "    <tr>\n",
       "      <th>4</th>\n",
       "      <td>UG314105</td>\n",
       "      <td>637.564575</td>\n",
       "      <td>2372.915771</td>\n",
       "      <td>2407.326416</td>\n",
       "      <td>2085.395020</td>\n",
       "      <td>1863.660278</td>\n",
       "      <td>1858.570923</td>\n",
       "      <td>1290.737305</td>\n",
       "      <td>968.057861</td>\n",
       "      <td>701.892456</td>\n",
       "      <td>700.327332</td>\n",
       "      <td>486.784973</td>\n",
       "      <td>390.313446</td>\n",
       "      <td>245.763718</td>\n",
       "      <td>206.777313</td>\n",
       "      <td>76.595566</td>\n",
       "      <td>110.847511</td>\n",
       "      <td>57.443878</td>\n",
       "      <td>52.040047</td>\n",
       "      <td>462.749878</td>\n",
       "      <td>2396.675293</td>\n",
       "      <td>2656.591064</td>\n",
       "      <td>2159.926758</td>\n",
       "      <td>1782.026733</td>\n",
       "      <td>1656.226196</td>\n",
       "      <td>1228.593018</td>\n",
       "      <td>1156.567261</td>\n",
       "      <td>776.047241</td>\n",
       "      <td>536.782776</td>\n",
       "      <td>593.184021</td>\n",
       "      <td>353.167419</td>\n",
       "      <td>278.862946</td>\n",
       "      <td>154.040375</td>\n",
       "      <td>93.026375</td>\n",
       "      <td>59.413765</td>\n",
       "      <td>83.544525</td>\n",
       "      <td>58.834564</td>\n",
       "    </tr>\n",
       "  </tbody>\n",
       "</table>\n",
       "</div>"
      ],
      "text/plain": [
       "  ADM3_PCODE     uga_f_0      uga_f_1      uga_f_5     uga_f_10     uga_f_15  \\\n",
       "0   UG314101  340.520325  1267.132690  1285.483521  1113.528320   995.159546   \n",
       "1   UG314102  489.007599  1819.602539  1845.959229  1599.138428  1429.014160   \n",
       "2   UG314103  503.672791  1874.664062  1902.263550  1647.699707  1472.495728   \n",
       "3   UG314104  649.905273  2412.704834  2449.585938  2118.995850  1894.426270   \n",
       "4   UG314105  637.564575  2372.915771  2407.326416  2085.395020  1863.660278   \n",
       "\n",
       "      uga_f_20     uga_f_25    uga_f_30    uga_f_35    uga_f_40    uga_f_45  \\\n",
       "0   992.397949   689.138123  516.849731  374.777740  373.867004  259.933136   \n",
       "1  1425.102539   989.645020  742.170776  538.104370  536.952515  373.234619   \n",
       "2  1468.366821  1019.846191  764.775574  554.575745  553.168030  384.520477   \n",
       "3  1885.106201  1308.774414  985.160645  717.804932  711.931641  496.318634   \n",
       "4  1858.570923  1290.737305  968.057861  701.892456  700.327332  486.784973   \n",
       "\n",
       "     uga_f_50    uga_f_55    uga_f_60   uga_f_65    uga_f_70   uga_f_75  \\\n",
       "0  208.410614  131.148666  110.434952  40.917202   59.198120  30.671986   \n",
       "1  299.308228  188.309906  158.583679  58.731026   85.031609  44.056175   \n",
       "2  308.296417  194.000092  163.310837  60.518482   87.538818  45.360428   \n",
       "3  396.101746  249.081390  209.773361  78.986481  112.372421  58.280487   \n",
       "4  390.313446  245.763718  206.777313  76.595566  110.847511  57.443878   \n",
       "\n",
       "    uga_f_80     uga_m_0      uga_m_1      uga_m_5     uga_m_10     uga_m_15  \\\n",
       "0  27.781048  247.180344  1279.897583  1418.631714  1153.303101   951.640747   \n",
       "1  39.908520  354.855072  1837.936035  2037.227295  1656.250610  1366.464722   \n",
       "2  41.093136  365.626984  1893.678955  2099.164062  1706.585938  1408.257080   \n",
       "3  52.538551  473.376648  2433.503906  2692.245850  2193.372070  1807.204102   \n",
       "4  52.040047  462.749878  2396.675293  2656.591064  2159.926758  1782.026733   \n",
       "\n",
       "      uga_m_20     uga_m_25     uga_m_30    uga_m_35    uga_m_40    uga_m_45  \\\n",
       "0   884.341431   656.058228   617.542114  414.377930  286.589661  316.741028   \n",
       "1  1269.989258   942.065857   886.870728  595.019287  411.496338  454.879700   \n",
       "2  1308.479126   970.745239   913.766968  613.152710  424.189758  468.685852   \n",
       "3  1677.082397  1246.525146  1172.432983  790.103394  547.834717  603.853699   \n",
       "4  1656.226196  1228.593018  1156.567261  776.047241  536.782776  593.184021   \n",
       "\n",
       "     uga_m_50    uga_m_55    uga_m_60   uga_m_65   uga_m_70   uga_m_75  \\\n",
       "0  188.562927  148.833679   82.237427  49.672493  31.731512  44.615776   \n",
       "1  270.802673  213.757187  118.094223  71.316246  45.552650  64.081718   \n",
       "2  279.009644  220.226715  121.677261  73.471153  46.945175  65.982437   \n",
       "3  358.340027  284.512299  157.107239  95.706024  60.750694  84.632347   \n",
       "4  353.167419  278.862946  154.040375  93.026375  59.413765  83.544525   \n",
       "\n",
       "    uga_m_80  \n",
       "0  31.403730  \n",
       "1  45.113976  \n",
       "2  46.459652  \n",
       "3  59.371128  \n",
       "4  58.834564  "
      ]
     },
     "execution_count": 22,
     "metadata": {},
     "output_type": "execute_result"
    }
   ],
   "source": [
    "df.head()"
   ]
  },
  {
   "cell_type": "code",
   "execution_count": 17,
   "metadata": {},
   "outputs": [],
   "source": [
    "#Unpivot the dataframe\n",
    "df2= df.melt(id_vars=['ADM3_PCODE'], var_name='Gender_Age', value_name='pop_value')"
   ]
  },
  {
   "cell_type": "code",
   "execution_count": 32,
   "metadata": {},
   "outputs": [],
   "source": [
    "def gender(x):\n",
    "    if x[4:5] == \"f\":\n",
    "        return(\"female\")\n",
    "    elif x[4:5] == \"m\":\n",
    "        return(\"male\")"
   ]
  },
  {
   "cell_type": "code",
   "execution_count": 38,
   "metadata": {},
   "outputs": [],
   "source": [
    "df2['Age']=df2['Gender_Age'].apply(lambda x: x[6:])\n",
    "df2['Gender']=df2['Gender_Age'].apply(lambda x: gender(x))"
   ]
  },
  {
   "cell_type": "code",
   "execution_count": 37,
   "metadata": {},
   "outputs": [],
   "source": [
    "df2.to_csv('../Data/Results/Total_Age_gender_stacked.csv', index=False)\n",
    "df.to_csv('../Data/Results/Total_Age_gender.csv', index=False)"
   ]
  }
 ],
 "metadata": {
  "kernelspec": {
   "display_name": "Python 3",
   "language": "python",
   "name": "python3"
  },
  "language_info": {
   "codemirror_mode": {
    "name": "ipython",
    "version": 3
   },
   "file_extension": ".py",
   "mimetype": "text/x-python",
   "name": "python",
   "nbconvert_exporter": "python",
   "pygments_lexer": "ipython3",
   "version": "3.8.3"
  }
 },
 "nbformat": 4,
 "nbformat_minor": 4
}
