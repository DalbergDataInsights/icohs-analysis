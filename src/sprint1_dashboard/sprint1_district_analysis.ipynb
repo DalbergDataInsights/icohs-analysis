{
 "cells": [
  {
   "cell_type": "markdown",
   "metadata": {},
   "source": [
    "# 0 - Imports and set up"
   ]
  },
  {
   "cell_type": "code",
   "execution_count": 254,
   "metadata": {},
   "outputs": [],
   "source": [
    "import pandas as pd\n",
    "import numpy as np\n",
    "import geopandas as gpd\n",
    "import difflib as dfl\n",
    "import timeit\n",
    "import os\n",
    "\n",
    "import rasterio as rio\n",
    "from rasterio.mask import mask\n",
    "from pyproj import CRS\n",
    "from shapely.geometry import Point\n",
    "from shapely.geometry import shape\n",
    "\n",
    "import fiona # needed?\n",
    "\n",
    "pd.set_option('display.max_columns', None)\n"
   ]
  },
  {
   "cell_type": "code",
   "execution_count": 121,
   "metadata": {},
   "outputs": [],
   "source": [
    "shape_path = '../../data/shapes/district/districts_17_19_clean.shp'\n",
    "input_path = '../../data/input/'\n",
    "output_path = '../../data/output/sprint1_analysis/'\n",
    "shape_sc_path = '../../data/shapes/subcounty/uga_admbnda_adm3_UBOS_v5_cleaned [CB].shp'"
   ]
  },
  {
   "cell_type": "markdown",
   "metadata": {},
   "source": [
    "# 1 - Get facility data"
   ]
  },
  {
   "cell_type": "code",
   "execution_count": 276,
   "metadata": {},
   "outputs": [],
   "source": [
    "shape = gpd.read_file(shape_path)\n"
   ]
  },
  {
   "cell_type": "code",
   "execution_count": 198,
   "metadata": {},
   "outputs": [
    {
     "name": "stdout",
     "output_type": "stream",
     "text": [
      "116\n",
      "122\n",
      "128\n",
      "135\n"
     ]
    }
   ],
   "source": [
    "for x in ['name_16', 'name_17', 'name_18','name_19']:\n",
    "    print(len(shape[x].unique()))"
   ]
  },
  {
   "cell_type": "markdown",
   "metadata": {},
   "source": [
    "## a - Extract the private for profit (PFP) facilities from MoH long list and locate them"
   ]
  },
  {
   "cell_type": "code",
   "execution_count": 123,
   "metadata": {},
   "outputs": [],
   "source": [
    "hos_19 = pd.read_csv(input_path+'hospitals/original_data/MFL-Dec-19.csv',encoding = \"cp1252\")\n"
   ]
  },
  {
   "cell_type": "code",
   "execution_count": 124,
   "metadata": {},
   "outputs": [],
   "source": [
    "# Note that the district names in this shaefile correspond to the column 'name_17' of the reference district shapefile\n",
    "\n",
    "shape_sc = gpd.read_file(shape_sc_path)"
   ]
  },
  {
   "cell_type": "code",
   "execution_count": 125,
   "metadata": {},
   "outputs": [
    {
     "name": "stdout",
     "output_type": "stream",
     "text": [
      "We focus on PFP facilities, which account for a total of 3035 functionnal facilities\n"
     ]
    }
   ],
   "source": [
    "# Isolate the facility data we are interested in \n",
    "\n",
    "hos_19_pfp = hos_19.loc[(hos_19['Ownership'] == 'PFP')&(hos_19['Operional Status'] == 'Functional')].copy()\n",
    "hos_19_pfp.rename(columns = {'Sub county' : 'Sub_county'},inplace=True)\n",
    "print ('We focus on PFP facilities, which account for a total of ' + str(len(hos_19_pfp)) + ' functionnal facilities')"
   ]
  },
  {
   "cell_type": "code",
   "execution_count": 126,
   "metadata": {},
   "outputs": [],
   "source": [
    "# Clean the district and facility names\n",
    "\n",
    "hos_19_pfp['district_clean']=hos_19_pfp.copy().District.str.replace(' District','')\n",
    "hos_19_pfp['sub_county_clean']=hos_19_pfp.copy().Sub_county.str.replace(' Subcounty','')\n",
    "hos_19_pfp.drop(['District','Sub_county','Sub county UID','Health Facility UID','Operional Status'],axis=1,inplace=True)"
   ]
  },
  {
   "cell_type": "code",
   "execution_count": 127,
   "metadata": {},
   "outputs": [],
   "source": [
    "# Create the matching codes\n",
    "\n",
    "shape_sc['code']=shape_sc.ADM1_EN.apply(lambda x: x[0:5])+\"/\"+shape_sc['ADM3_EN']\n",
    "hos_19_pfp['code']=hos_19_pfp.district_clean.apply(lambda x: x[0:5])+\"/\"+hos_19_pfp['sub_county_clean']\n",
    "hos_19_pfp['code'] = hos_19_pfp['code'].str.upper() \n"
   ]
  },
  {
   "cell_type": "code",
   "execution_count": 128,
   "metadata": {},
   "outputs": [
    {
     "name": "stdout",
     "output_type": "stream",
     "text": [
      "This gives us a percentage of null of 8.83 % \n",
      "For a total number of null values of 268\n"
     ]
    }
   ],
   "source": [
    "# Here I do th fuzzy matching \n",
    "\n",
    "# If time, improve performance and matching %\n",
    "\n",
    "\n",
    "codes = []\n",
    "certainty = []\n",
    "\n",
    "for code in hos_19_pfp['code']:\n",
    "    match_code = dfl.get_close_matches(code, shape_sc['code'],n=1,cutoff=0.69)\n",
    "    if len(match_code) > 0:\n",
    "        codes.append(match_code[0])\n",
    "        score = dfl.SequenceMatcher(None, code, match_code[0]).ratio()\n",
    "        certainty.append(score)\n",
    "    else :\n",
    "        codes.append(None)\n",
    "        certainty.append(None)\n",
    "\n",
    "hos_19_pfp['match_code'] = codes\n",
    "hos_19_pfp['certainty'] = certainty\n",
    "\n",
    "print('This gives us a percentage of null of ' + str(round((hos_19_pfp['match_code'].isnull().sum()/len(hos_19_pfp))*100,2)) + \" %\",\n",
    "     '\\nFor a total number of null values of ' + str(hos_19_pfp['match_code'].isnull().sum()))"
   ]
  },
  {
   "cell_type": "code",
   "execution_count": 129,
   "metadata": {},
   "outputs": [],
   "source": [
    "# Add the corresponding PCODES from the shape_sc admin files\n",
    "\n",
    "\n",
    "shape_sc_code_only = shape_sc[['code','ADM3_PCODE','geometry']].set_index('code')\n",
    "\n",
    "hos_19_pfp=pd.merge(hos_19_pfp,shape_sc_code_only,how='left',left_on='match_code',right_on='code')\n",
    "\n"
   ]
  },
  {
   "cell_type": "code",
   "execution_count": 130,
   "metadata": {},
   "outputs": [
    {
     "data": {
      "text/plain": [
       "2701"
      ]
     },
     "execution_count": 130,
     "metadata": {},
     "output_type": "execute_result"
    }
   ],
   "source": [
    "# Now clean the rows from null 'geometry' values - i.e. my failed matches - and exclude irrelevant facility types \n",
    "\n",
    "hos_19_pfp_clean = hos_19_pfp.loc[(hos_19_pfp['geometry'].notnull())\n",
    "                                  &(hos_19_pfp['Level'] != 'No')\n",
    "                                  &(hos_19_pfp['Level'] != 'Drug Shop')].copy()\n",
    "len(hos_19_pfp_clean)"
   ]
  },
  {
   "cell_type": "code",
   "execution_count": 131,
   "metadata": {},
   "outputs": [],
   "source": [
    "# Extracting the lat and long coordinates\n",
    "\n",
    "lon = []\n",
    "lat = []\n",
    "\n",
    "for hosp in list(hos_19_pfp_clean.index):\n",
    "    x = hos_19_pfp_clean.loc[hosp,'geometry'].centroid.x\n",
    "    y = hos_19_pfp_clean.loc[hosp,'geometry'].centroid.y\n",
    "    lon.append(x)\n",
    "    lat.append(y)\n",
    "\n",
    "hos_19_pfp_clean['lon'] = lon\n",
    "hos_19_pfp_clean['lat'] = lat"
   ]
  },
  {
   "cell_type": "code",
   "execution_count": 132,
   "metadata": {},
   "outputs": [],
   "source": [
    "hos_pfp_merge = hos_19_pfp_clean[['Health Facility','Level','Ownership','lon','lat']].copy()"
   ]
  },
  {
   "cell_type": "code",
   "execution_count": 133,
   "metadata": {},
   "outputs": [
    {
     "data": {
      "text/html": [
       "<div>\n",
       "<style scoped>\n",
       "    .dataframe tbody tr th:only-of-type {\n",
       "        vertical-align: middle;\n",
       "    }\n",
       "\n",
       "    .dataframe tbody tr th {\n",
       "        vertical-align: top;\n",
       "    }\n",
       "\n",
       "    .dataframe thead th {\n",
       "        text-align: right;\n",
       "    }\n",
       "</style>\n",
       "<table border=\"1\" class=\"dataframe\">\n",
       "  <thead>\n",
       "    <tr style=\"text-align: right;\">\n",
       "      <th></th>\n",
       "      <th>Health Facility</th>\n",
       "      <th>Level</th>\n",
       "      <th>Ownership</th>\n",
       "      <th>lon</th>\n",
       "      <th>lat</th>\n",
       "    </tr>\n",
       "  </thead>\n",
       "  <tbody>\n",
       "    <tr>\n",
       "      <th>0</th>\n",
       "      <td>Arembwola HC II</td>\n",
       "      <td>HC II</td>\n",
       "      <td>PFP</td>\n",
       "      <td>33.616027</td>\n",
       "      <td>2.741836</td>\n",
       "    </tr>\n",
       "    <tr>\n",
       "      <th>1</th>\n",
       "      <td>Anzoa Medical Bureau HC III</td>\n",
       "      <td>HC III</td>\n",
       "      <td>PFP</td>\n",
       "      <td>31.787840</td>\n",
       "      <td>3.375797</td>\n",
       "    </tr>\n",
       "    <tr>\n",
       "      <th>4</th>\n",
       "      <td>Maaji C HC II</td>\n",
       "      <td>HC II</td>\n",
       "      <td>PFP</td>\n",
       "      <td>31.570216</td>\n",
       "      <td>3.100765</td>\n",
       "    </tr>\n",
       "    <tr>\n",
       "      <th>10</th>\n",
       "      <td>Alelluyah Joint Maternity Clinic</td>\n",
       "      <td>HC II</td>\n",
       "      <td>PFP</td>\n",
       "      <td>33.203181</td>\n",
       "      <td>2.299010</td>\n",
       "    </tr>\n",
       "    <tr>\n",
       "      <th>11</th>\n",
       "      <td>Ocan Community Clinic</td>\n",
       "      <td>HC II</td>\n",
       "      <td>PFP</td>\n",
       "      <td>33.197595</td>\n",
       "      <td>2.171717</td>\n",
       "    </tr>\n",
       "  </tbody>\n",
       "</table>\n",
       "</div>"
      ],
      "text/plain": [
       "                     Health Facility   Level Ownership        lon       lat\n",
       "0                    Arembwola HC II   HC II       PFP  33.616027  2.741836\n",
       "1        Anzoa Medical Bureau HC III  HC III       PFP  31.787840  3.375797\n",
       "4                      Maaji C HC II   HC II       PFP  31.570216  3.100765\n",
       "10  Alelluyah Joint Maternity Clinic   HC II       PFP  33.203181  2.299010\n",
       "11             Ocan Community Clinic   HC II       PFP  33.197595  2.171717"
      ]
     },
     "execution_count": 133,
     "metadata": {},
     "output_type": "execute_result"
    }
   ],
   "source": [
    "hos_pfp_merge.head()"
   ]
  },
  {
   "cell_type": "markdown",
   "metadata": {},
   "source": [
    "## b - Extract the public and nfp hospital location from DHIS2 location data"
   ]
  },
  {
   "cell_type": "code",
   "execution_count": 134,
   "metadata": {},
   "outputs": [],
   "source": [
    "hos_gvt_nfp_full = pd.read_csv(input_path+'hospitals/original_data/Facilities_DHIS2_20160412.csv')\n",
    "\n",
    "hos_gvt_nfp = hos_gvt_nfp_full.loc[(hos_gvt_nfp_full.ownership != 'Private For Profit')&\n",
    "                                   (hos_gvt_nfp_full.status != 'Non Functional'),\n",
    "                                   ['name','type','ownership','Lat','Long']]\n",
    "\n",
    "hos_gvt_nfp.columns = ['Health Facility', 'Level', 'Ownership','lat', 'lon']\n"
   ]
  },
  {
   "cell_type": "markdown",
   "metadata": {},
   "source": [
    "## c - Build the hospital map"
   ]
  },
  {
   "cell_type": "code",
   "execution_count": 135,
   "metadata": {},
   "outputs": [],
   "source": [
    "hosp=pd.concat([hos_gvt_nfp,hos_pfp_merge],ignore_index=True)"
   ]
  },
  {
   "cell_type": "code",
   "execution_count": 136,
   "metadata": {},
   "outputs": [
    {
     "data": {
      "text/plain": [
       "array(['HC III', 'General Hospital', 'HC II', 'Clinic', 'HC IV', nan,\n",
       "       'NR Hospital', 'RR Hospital', 'Clinc', 'Hospital',\n",
       "       'Special Clincs'], dtype=object)"
      ]
     },
     "execution_count": 136,
     "metadata": {},
     "output_type": "execute_result"
    }
   ],
   "source": [
    "hosp['Level'].unique()"
   ]
  },
  {
   "cell_type": "code",
   "execution_count": 137,
   "metadata": {},
   "outputs": [],
   "source": [
    "# Around ~50 nan values for levels, which are at +95% HC II based on manual check, \n",
    "\n",
    "hosp['Level'].where(hosp['Level'].notnull(),'HC II',inplace=True)"
   ]
  },
  {
   "cell_type": "code",
   "execution_count": 138,
   "metadata": {},
   "outputs": [],
   "source": [
    "Level_dict = {'HC II': 'Health Centre II', \n",
    "              'HC III': 'Health Centre III', \n",
    "              'Clinc': 'Clinic',\n",
    "              'HC IV': 'Health Centre IV',\n",
    "              'Special Clincs': 'Clinic',\n",
    "              'General Hospital':'Hospital',\n",
    "              'NR Hospital':'National Referral Hospital', \n",
    "              'RR Hospital':'Regional Referral Hospital'}"
   ]
  },
  {
   "cell_type": "code",
   "execution_count": 139,
   "metadata": {},
   "outputs": [],
   "source": [
    "hosp.replace({'Level' : Level_dict },inplace=True)"
   ]
  },
  {
   "cell_type": "code",
   "execution_count": 140,
   "metadata": {},
   "outputs": [
    {
     "data": {
      "text/plain": [
       "array(['Health Centre III', 'Hospital', 'Health Centre II', 'Clinic',\n",
       "       'Health Centre IV', 'National Referral Hospital',\n",
       "       'Regional Referral Hospital'], dtype=object)"
      ]
     },
     "execution_count": 140,
     "metadata": {},
     "output_type": "execute_result"
    }
   ],
   "source": [
    "hosp['Level'].unique()"
   ]
  },
  {
   "cell_type": "code",
   "execution_count": 141,
   "metadata": {},
   "outputs": [],
   "source": [
    "hosp.to_csv(output_path+'/hospital_map.csv')\n",
    "hosp.to_csv(input_path+'hospitals//hospital_map.csv')"
   ]
  },
  {
   "cell_type": "markdown",
   "metadata": {},
   "source": [
    "# 2 - Building the health coverage map"
   ]
  },
  {
   "cell_type": "code",
   "execution_count": 142,
   "metadata": {},
   "outputs": [],
   "source": [
    "#pop_data = input_path+'/demographics/UG_2020_population.tif'\n",
    "#shape_file = '../Data/Mapping layout/Admin3/uga_admbnda_adm3_UBOS_v5_cleaned [CB].shp'"
   ]
  },
  {
   "cell_type": "markdown",
   "metadata": {},
   "source": [
    "## a - Get the population data"
   ]
  },
  {
   "cell_type": "code",
   "execution_count": 143,
   "metadata": {},
   "outputs": [],
   "source": [
    "dem_path=input_path+'/demographics/UG_2020_population.tif'\n",
    "raster = rio.open(dem_path)\n"
   ]
  },
  {
   "cell_type": "code",
   "execution_count": 144,
   "metadata": {},
   "outputs": [],
   "source": [
    "dem_data = raster.read(1, masked = True)"
   ]
  },
  {
   "cell_type": "markdown",
   "metadata": {},
   "source": [
    "## b - Adding this into sub-county boundaries"
   ]
  },
  {
   "cell_type": "code",
   "execution_count": 146,
   "metadata": {},
   "outputs": [],
   "source": [
    "def mask_raster(raster_path, shape, indexes=1, crop=True, nodata=-9999):\n",
    "    with rio.open(raster_path) as raster:\n",
    "        out_data, out_transform = mask(raster, [shape], indexes=indexes, crop=crop, nodata=nodata)\n",
    "        out_meta = raster.meta\n",
    "    return (out_data, out_transform, out_meta)"
   ]
  },
  {
   "cell_type": "code",
   "execution_count": 148,
   "metadata": {},
   "outputs": [],
   "source": [
    "total = []\n",
    "for s in shape['geometry']:\n",
    "    out_data, _, _ = mask_raster(dem_path, s)\n",
    "    values = out_data.flatten()[out_data.flatten() > 0]\n",
    "    # if empty array switch to np.nan to prevent warnings\n",
    "    if values.size == 0:\n",
    "        values = np.nan\n",
    "    total.append(np.sum(values))"
   ]
  },
  {
   "cell_type": "code",
   "execution_count": 149,
   "metadata": {},
   "outputs": [],
   "source": [
    "shape['total_pop'] = total"
   ]
  },
  {
   "cell_type": "code",
   "execution_count": 169,
   "metadata": {},
   "outputs": [],
   "source": [
    "#shape[['name_16','name_17','name_18','name_19','ADM1_PCODE','total_pop']].to_csv('pop_data.csv')"
   ]
  },
  {
   "cell_type": "markdown",
   "metadata": {},
   "source": [
    "## c - Get the hospital data into a shapefile"
   ]
  },
  {
   "cell_type": "code",
   "execution_count": 156,
   "metadata": {},
   "outputs": [
    {
     "data": {
      "text/html": [
       "<div>\n",
       "<style scoped>\n",
       "    .dataframe tbody tr th:only-of-type {\n",
       "        vertical-align: middle;\n",
       "    }\n",
       "\n",
       "    .dataframe tbody tr th {\n",
       "        vertical-align: top;\n",
       "    }\n",
       "\n",
       "    .dataframe thead th {\n",
       "        text-align: right;\n",
       "    }\n",
       "</style>\n",
       "<table border=\"1\" class=\"dataframe\">\n",
       "  <thead>\n",
       "    <tr style=\"text-align: right;\">\n",
       "      <th></th>\n",
       "      <th>Health_Facility</th>\n",
       "      <th>Level</th>\n",
       "      <th>Ownership</th>\n",
       "      <th>geometry</th>\n",
       "    </tr>\n",
       "  </thead>\n",
       "  <tbody>\n",
       "    <tr>\n",
       "      <th>0</th>\n",
       "      <td>Buikwe HC III</td>\n",
       "      <td>Health Centre III</td>\n",
       "      <td>Government</td>\n",
       "      <td>POINT (33.02732 0.34348)</td>\n",
       "    </tr>\n",
       "    <tr>\n",
       "      <th>1</th>\n",
       "      <td>Buikwe St. Charles Lwanga HOSPITAL</td>\n",
       "      <td>Hospital</td>\n",
       "      <td>Private Not For Profit</td>\n",
       "      <td>POINT (33.03181 0.33944)</td>\n",
       "    </tr>\n",
       "    <tr>\n",
       "      <th>2</th>\n",
       "      <td>Kasaku HC II</td>\n",
       "      <td>Health Centre II</td>\n",
       "      <td>NGO</td>\n",
       "      <td>POINT (32.89112 0.36330)</td>\n",
       "    </tr>\n",
       "    <tr>\n",
       "      <th>3</th>\n",
       "      <td>Busabaga HC III</td>\n",
       "      <td>Health Centre III</td>\n",
       "      <td>Government</td>\n",
       "      <td>POINT (32.90639 0.29694)</td>\n",
       "    </tr>\n",
       "    <tr>\n",
       "      <th>4</th>\n",
       "      <td>ENG BD Military Lugazi HC III</td>\n",
       "      <td>Health Centre III</td>\n",
       "      <td>Government</td>\n",
       "      <td>POINT (32.91223 0.37140)</td>\n",
       "    </tr>\n",
       "  </tbody>\n",
       "</table>\n",
       "</div>"
      ],
      "text/plain": [
       "                      Health_Facility              Level  \\\n",
       "0                       Buikwe HC III  Health Centre III   \n",
       "1  Buikwe St. Charles Lwanga HOSPITAL           Hospital   \n",
       "2                        Kasaku HC II   Health Centre II   \n",
       "3                     Busabaga HC III  Health Centre III   \n",
       "4       ENG BD Military Lugazi HC III  Health Centre III   \n",
       "\n",
       "                Ownership                  geometry  \n",
       "0              Government  POINT (33.02732 0.34348)  \n",
       "1  Private Not For Profit  POINT (33.03181 0.33944)  \n",
       "2                     NGO  POINT (32.89112 0.36330)  \n",
       "3              Government  POINT (32.90639 0.29694)  \n",
       "4              Government  POINT (32.91223 0.37140)  "
      ]
     },
     "execution_count": 156,
     "metadata": {},
     "output_type": "execute_result"
    }
   ],
   "source": [
    "# Getting this csv into a shapefile\n",
    "\n",
    "# creating a geometry column \n",
    "geometry = [Point(xy) for xy in zip(hosp['lon'], hosp['lat'])]\n",
    "\n",
    "# Coordinate reference system : WGS84\n",
    "crs = CRS('epsg:4326')\n",
    "\n",
    "# Creating a Geographic data frame \n",
    "h_df = gpd.GeoDataFrame(hosp, crs=crs, geometry=geometry)\n",
    "h_df = h_df[['Health Facility','Level','Ownership' ,'geometry']]\n",
    "h_df.rename({'Health Facility':'Health_Facility'},axis=1,inplace=True)\n",
    "\n",
    "h_df.head()"
   ]
  },
  {
   "cell_type": "markdown",
   "metadata": {},
   "source": [
    "## d - Calculate hospital coverage "
   ]
  },
  {
   "cell_type": "code",
   "execution_count": 157,
   "metadata": {},
   "outputs": [],
   "source": [
    "# Define the population served by different facility types \n",
    "# Based on page 7 of this : http://library.health.go.ug/sites/default/files/resources/National%20Health%20Facility%20Master%20List%202018_0.pdf\n",
    "\n",
    "pop_served = {'Clinic' : 1000, \n",
    "              'Health Centre II' : 5000,\n",
    "              'Health Centre III': 20000,\n",
    "              'Health Centre IV': 100000,\n",
    "              'Hospital' : 500000,\n",
    "              'Regional Referral Hospital' : 2000000,\n",
    "              'National Referral Hospital': 10000000}\n",
    "\n",
    "# Tweak this to only account for larger facilities, from HC-IV onwards\n",
    "\n",
    "pop_served_hc4 = {'Clinic' : 0, \n",
    "              'Health Centre II' : 0,\n",
    "              'Health Centre III': 0,\n",
    "              'Health Centre IV': 100000,\n",
    "              'Hospital' : 500000,\n",
    "              'Regional Referral Hospital' : 2000000,\n",
    "              'National Referral Hospital': 10000000}\n",
    "\n",
    "# List what admin level each facility size is referring to\n",
    "\n",
    "significance = {'Clinic' : 'name_19', \n",
    "                  'Health Centre II' : 'name_19',\n",
    "                  'Health Centre III': 'name_19',\n",
    "                  'Health Centre IV': 'name_19',\n",
    "                  'Hospital' : 'name_19',\n",
    "                  'Regional Referral Hospital' : 'region',\n",
    "                  'National Referral Hospital': 'country'}"
   ]
  },
  {
   "cell_type": "code",
   "execution_count": 158,
   "metadata": {},
   "outputs": [],
   "source": [
    "# Get teh list of hopsital names (not unique) and add the coverage of each \n",
    "\n",
    "hospitals = list(h_df.Health_Facility.unique())\n",
    "h_df['served'] = h_df['Level'].apply(lambda x: pop_served.get(x))"
   ]
  },
  {
   "cell_type": "code",
   "execution_count": 159,
   "metadata": {},
   "outputs": [],
   "source": [
    "# Create new columns for the vars I am about to create \n",
    "\n",
    "shape['contribution'] = 0\n",
    "\n",
    "shape['contribution_hc4'] = 0\n",
    "\n",
    "for facility_type in pop_served.keys():\n",
    "    shape[facility_type]=0\n",
    "    \n",
    "shape['contribution_pfp'] = 0"
   ]
  },
  {
   "cell_type": "code",
   "execution_count": 161,
   "metadata": {},
   "outputs": [],
   "source": [
    "# Define the tools I'll combine to extract which point is in which polygon\n",
    "\n",
    "# Gets one point and runs through which polygons include it\n",
    "def get_complex_mask(point_list, df):\n",
    "    masks = []\n",
    "    for point in point_list:\n",
    "        masks.append(df.geometry.contains(point))\n",
    "    return combine_masks(masks)\n",
    "\n",
    "# Return a single mask saying whether each polygons contains at least one of the points entrered as input of get_complex\n",
    "def combine_masks(masks):\n",
    "    final_mask = masks[0]\n",
    "    for i in range(1, len(masks)):\n",
    "        for m in range(len(masks[i])):\n",
    "            final_mask[m] = final_mask[m] + masks[i][m]\n",
    "    out = [True if x > 0 else False for x in final_mask]\n",
    "    return out"
   ]
  },
  {
   "cell_type": "code",
   "execution_count": 162,
   "metadata": {},
   "outputs": [],
   "source": [
    "for hospital in hospitals:# add [:1] to reduce that to one example\n",
    "    df = h_df[h_df.Health_Facility == hospital].reset_index() # get only one hospital's data \n",
    "    \n",
    "    h_type = df.loc[0, 'Level'] # type of the hospital to understand hospital serve count\n",
    "    owner = int(df.loc[0, 'Ownership']=='PFP')\n",
    "    sig = significance.get(h_type) # get the coverage area oh the hospital / gives us teh column name \n",
    "    \n",
    "    mask = get_complex_mask(df.geometry.tolist(), shape) #get the mask for each hospital points \n",
    "    \n",
    "    if sum(mask) < 1:# For hospitals with no location data \n",
    "        continue\n",
    "    hosp_location = shape[mask] #Gives the full informationfor this hospital's location(s)\n",
    "    area_name = hosp_location[sig].tolist() # Here retruns the name area for admin1/2/3 depedning on sig \n",
    "    location_mask = shape[sig].isin(area_name)\n",
    "    m = location_mask\n",
    "    \n",
    "    shape.loc[m, 'contribution'] = shape.loc[m, 'contribution'] + (pop_served.get(h_type)//len(shape.loc[m]))\n",
    "    shape.loc[m, 'contribution_hc4'] = shape.loc[m, 'contribution_hc4'] + (pop_served_hc4.get(h_type)//len(shape.loc[m]))\n",
    "    shape.loc[m, 'contribution_pfp'] = shape.loc[m, 'contribution_pfp'] + ((pop_served.get(h_type)//len(shape.loc[m]))*owner)\n",
    "    shape.loc[m,h_type]=shape.loc[m,h_type]+1\n"
   ]
  },
  {
   "cell_type": "code",
   "execution_count": 173,
   "metadata": {},
   "outputs": [
    {
     "name": "stdout",
     "output_type": "stream",
     "text": [
      "Regarding coverage: This 193474948 should be around the same as this 193910000 \n",
      " While this should be lower than both 145399948 \n",
      " Regarding facility type counts: This 3937 should be around the same as this 3958 \n",
      " Regarding facility type counts: This 501 should be around the same as this 500\n"
     ]
    }
   ],
   "source": [
    "print('Regarding coverage: This',\n",
    "      shape.contribution.sum(),\n",
    "      'should be around the same as this',\n",
    "      h_df[~pd.isna(h_df.geometry.x)].served.sum(),\n",
    "      '\\n While this should be lower than both',\n",
    "      shape.contribution_hc4.sum(),\n",
    "      '\\n Regarding facility type counts: This',\n",
    "      shape['Health Centre II'].sum(),\n",
    "      'should be around the same as this',\n",
    "      len(h_df[h_df['Level']=='Health Centre II']),\n",
    "     '\\n Regarding facility type counts: This',\n",
    "      shape['Clinic'].sum(),\n",
    "      'should be around the same as this',\n",
    "      len(h_df[h_df['Level']=='Clinic']))"
   ]
  },
  {
   "cell_type": "markdown",
   "metadata": {},
   "source": [
    "## e - Calculate the ratios"
   ]
  },
  {
   "cell_type": "code",
   "execution_count": 174,
   "metadata": {},
   "outputs": [],
   "source": [
    "shape['ratio']=shape['contribution']/shape['total_pop']\n",
    "shape['ratio_hc4']=shape['contribution_hc4']/shape['total_pop']\n",
    "shape['ratio_pfp']=shape['contribution_pfp']/shape['total_pop']\n",
    "shape['ratio_gvt_nfp']=shape['ratio']-shape['ratio_pfp']"
   ]
  },
  {
   "cell_type": "code",
   "execution_count": 175,
   "metadata": {},
   "outputs": [
    {
     "name": "stdout",
     "output_type": "stream",
     "text": [
      "4.902211816802256 3.827204645920281 0.3574453890816278 4.544766427720629\n"
     ]
    }
   ],
   "source": [
    "print(shape['ratio'].mean(),\n",
    "      shape['ratio_hc4'].mean(),\n",
    "      shape['ratio_pfp'].mean(),\n",
    "      shape['ratio_gvt_nfp'].mean())"
   ]
  },
  {
   "cell_type": "code",
   "execution_count": 176,
   "metadata": {},
   "outputs": [],
   "source": [
    "shape['ratio_rank']=shape['ratio'].rank(ascending=True,pct=True)\n",
    "shape['ratio_hc4_rank']=shape['ratio_hc4'].rank(ascending=True,pct=True)\n",
    "shape['ratio_pfp_rank']=shape['ratio_pfp'].rank(ascending=True,pct=True)\n",
    "shape['ratio_gvt_nfp_rank']=shape['ratio_gvt_nfp'].rank(ascending=True,pct=True)\n"
   ]
  },
  {
   "cell_type": "code",
   "execution_count": 177,
   "metadata": {},
   "outputs": [],
   "source": [
    "shape_noshapes=shape.copy().drop(['geometry'],axis=1)\n",
    "shape_noshapes.to_csv(output_path+'health_map.csv')"
   ]
  },
  {
   "cell_type": "code",
   "execution_count": 185,
   "metadata": {},
   "outputs": [
    {
     "data": {
      "text/html": [
       "<div>\n",
       "<style scoped>\n",
       "    .dataframe tbody tr th:only-of-type {\n",
       "        vertical-align: middle;\n",
       "    }\n",
       "\n",
       "    .dataframe tbody tr th {\n",
       "        vertical-align: top;\n",
       "    }\n",
       "\n",
       "    .dataframe thead th {\n",
       "        text-align: right;\n",
       "    }\n",
       "</style>\n",
       "<table border=\"1\" class=\"dataframe\">\n",
       "  <thead>\n",
       "    <tr style=\"text-align: right;\">\n",
       "      <th></th>\n",
       "      <th>code_17</th>\n",
       "      <th>code_18</th>\n",
       "      <th>total_pop</th>\n",
       "      <th>contribution</th>\n",
       "      <th>contribution_hc4</th>\n",
       "      <th>Clinic</th>\n",
       "      <th>Health Centre II</th>\n",
       "      <th>Health Centre III</th>\n",
       "      <th>Health Centre IV</th>\n",
       "      <th>Hospital</th>\n",
       "      <th>Regional Referral Hospital</th>\n",
       "      <th>National Referral Hospital</th>\n",
       "      <th>contribution_pfp</th>\n",
       "      <th>ratio</th>\n",
       "      <th>ratio_hc4</th>\n",
       "      <th>ratio_pfp</th>\n",
       "      <th>ratio_gvt_nfp</th>\n",
       "      <th>ratio_rank</th>\n",
       "      <th>ratio_hc4_rank</th>\n",
       "      <th>ratio_pfp_rank</th>\n",
       "      <th>ratio_gvt_nfp_rank</th>\n",
       "    </tr>\n",
       "  </thead>\n",
       "  <tbody>\n",
       "    <tr>\n",
       "      <th>count</th>\n",
       "      <td>135.000000</td>\n",
       "      <td>135.000000</td>\n",
       "      <td>1.350000e+02</td>\n",
       "      <td>1.350000e+02</td>\n",
       "      <td>1.350000e+02</td>\n",
       "      <td>135.000000</td>\n",
       "      <td>135.000000</td>\n",
       "      <td>135.000000</td>\n",
       "      <td>135.000000</td>\n",
       "      <td>135.000000</td>\n",
       "      <td>135.000000</td>\n",
       "      <td>135.0</td>\n",
       "      <td>1.350000e+02</td>\n",
       "      <td>135.000000</td>\n",
       "      <td>135.000000</td>\n",
       "      <td>135.000000</td>\n",
       "      <td>135.000000</td>\n",
       "      <td>135.000000</td>\n",
       "      <td>135.000000</td>\n",
       "      <td>135.000000</td>\n",
       "      <td>135.000000</td>\n",
       "    </tr>\n",
       "    <tr>\n",
       "      <th>mean</th>\n",
       "      <td>275.340741</td>\n",
       "      <td>276.481481</td>\n",
       "      <td>3.122146e+05</td>\n",
       "      <td>1.433148e+06</td>\n",
       "      <td>1.077037e+06</td>\n",
       "      <td>3.711111</td>\n",
       "      <td>29.162963</td>\n",
       "      <td>10.333333</td>\n",
       "      <td>1.548148</td>\n",
       "      <td>1.133333</td>\n",
       "      <td>0.948148</td>\n",
       "      <td>2.0</td>\n",
       "      <td>2.801333e+05</td>\n",
       "      <td>4.902212</td>\n",
       "      <td>3.827205</td>\n",
       "      <td>0.357445</td>\n",
       "      <td>4.544766</td>\n",
       "      <td>0.503704</td>\n",
       "      <td>0.503704</td>\n",
       "      <td>0.503704</td>\n",
       "      <td>0.503704</td>\n",
       "    </tr>\n",
       "    <tr>\n",
       "      <th>std</th>\n",
       "      <td>108.264337</td>\n",
       "      <td>108.306975</td>\n",
       "      <td>3.022554e+05</td>\n",
       "      <td>2.054552e+06</td>\n",
       "      <td>1.370782e+06</td>\n",
       "      <td>9.844967</td>\n",
       "      <td>112.172123</td>\n",
       "      <td>13.821355</td>\n",
       "      <td>1.810906</td>\n",
       "      <td>2.265247</td>\n",
       "      <td>0.222554</td>\n",
       "      <td>0.0</td>\n",
       "      <td>1.455182e+06</td>\n",
       "      <td>2.603264</td>\n",
       "      <td>2.297105</td>\n",
       "      <td>0.951838</td>\n",
       "      <td>2.488221</td>\n",
       "      <td>0.289742</td>\n",
       "      <td>0.289742</td>\n",
       "      <td>0.288583</td>\n",
       "      <td>0.289742</td>\n",
       "    </tr>\n",
       "    <tr>\n",
       "      <th>min</th>\n",
       "      <td>101.000000</td>\n",
       "      <td>101.000000</td>\n",
       "      <td>3.665041e+04</td>\n",
       "      <td>4.631480e+05</td>\n",
       "      <td>2.481480e+05</td>\n",
       "      <td>0.000000</td>\n",
       "      <td>2.000000</td>\n",
       "      <td>1.000000</td>\n",
       "      <td>0.000000</td>\n",
       "      <td>0.000000</td>\n",
       "      <td>0.000000</td>\n",
       "      <td>2.0</td>\n",
       "      <td>0.000000e+00</td>\n",
       "      <td>1.426787</td>\n",
       "      <td>0.964885</td>\n",
       "      <td>0.000000</td>\n",
       "      <td>1.264446</td>\n",
       "      <td>0.007407</td>\n",
       "      <td>0.007407</td>\n",
       "      <td>0.103704</td>\n",
       "      <td>0.007407</td>\n",
       "    </tr>\n",
       "    <tr>\n",
       "      <th>25%</th>\n",
       "      <td>207.500000</td>\n",
       "      <td>208.500000</td>\n",
       "      <td>1.748038e+05</td>\n",
       "      <td>6.630920e+05</td>\n",
       "      <td>4.703700e+05</td>\n",
       "      <td>0.000000</td>\n",
       "      <td>9.000000</td>\n",
       "      <td>5.000000</td>\n",
       "      <td>1.000000</td>\n",
       "      <td>0.000000</td>\n",
       "      <td>1.000000</td>\n",
       "      <td>2.0</td>\n",
       "      <td>1.000000e+03</td>\n",
       "      <td>3.043370</td>\n",
       "      <td>2.093394</td>\n",
       "      <td>0.006231</td>\n",
       "      <td>2.732923</td>\n",
       "      <td>0.255556</td>\n",
       "      <td>0.255556</td>\n",
       "      <td>0.255556</td>\n",
       "      <td>0.255556</td>\n",
       "    </tr>\n",
       "    <tr>\n",
       "      <th>50%</th>\n",
       "      <td>303.000000</td>\n",
       "      <td>304.000000</td>\n",
       "      <td>2.535178e+05</td>\n",
       "      <td>1.050370e+06</td>\n",
       "      <td>8.299660e+05</td>\n",
       "      <td>1.000000</td>\n",
       "      <td>14.000000</td>\n",
       "      <td>8.000000</td>\n",
       "      <td>1.000000</td>\n",
       "      <td>1.000000</td>\n",
       "      <td>1.000000</td>\n",
       "      <td>2.0</td>\n",
       "      <td>1.000000e+04</td>\n",
       "      <td>4.224845</td>\n",
       "      <td>3.171179</td>\n",
       "      <td>0.056762</td>\n",
       "      <td>3.814227</td>\n",
       "      <td>0.503704</td>\n",
       "      <td>0.503704</td>\n",
       "      <td>0.503704</td>\n",
       "      <td>0.503704</td>\n",
       "    </tr>\n",
       "    <tr>\n",
       "      <th>75%</th>\n",
       "      <td>401.500000</td>\n",
       "      <td>401.500000</td>\n",
       "      <td>3.474177e+05</td>\n",
       "      <td>1.415759e+06</td>\n",
       "      <td>1.059259e+06</td>\n",
       "      <td>2.500000</td>\n",
       "      <td>22.500000</td>\n",
       "      <td>11.000000</td>\n",
       "      <td>2.000000</td>\n",
       "      <td>1.000000</td>\n",
       "      <td>1.000000</td>\n",
       "      <td>2.0</td>\n",
       "      <td>6.550000e+04</td>\n",
       "      <td>6.153293</td>\n",
       "      <td>5.019599</td>\n",
       "      <td>0.223799</td>\n",
       "      <td>6.019334</td>\n",
       "      <td>0.751852</td>\n",
       "      <td>0.751852</td>\n",
       "      <td>0.751852</td>\n",
       "      <td>0.751852</td>\n",
       "    </tr>\n",
       "    <tr>\n",
       "      <th>max</th>\n",
       "      <td>431.000000</td>\n",
       "      <td>432.000000</td>\n",
       "      <td>2.977770e+06</td>\n",
       "      <td>1.954265e+07</td>\n",
       "      <td>1.254815e+07</td>\n",
       "      <td>85.000000</td>\n",
       "      <td>1262.000000</td>\n",
       "      <td>154.000000</td>\n",
       "      <td>17.000000</td>\n",
       "      <td>19.000000</td>\n",
       "      <td>1.000000</td>\n",
       "      <td>2.0</td>\n",
       "      <td>1.387100e+07</td>\n",
       "      <td>14.596452</td>\n",
       "      <td>11.731545</td>\n",
       "      <td>8.126391</td>\n",
       "      <td>14.596452</td>\n",
       "      <td>1.000000</td>\n",
       "      <td>1.000000</td>\n",
       "      <td>1.000000</td>\n",
       "      <td>1.000000</td>\n",
       "    </tr>\n",
       "  </tbody>\n",
       "</table>\n",
       "</div>"
      ],
      "text/plain": [
       "          code_17     code_18     total_pop  contribution  contribution_hc4  \\\n",
       "count  135.000000  135.000000  1.350000e+02  1.350000e+02      1.350000e+02   \n",
       "mean   275.340741  276.481481  3.122146e+05  1.433148e+06      1.077037e+06   \n",
       "std    108.264337  108.306975  3.022554e+05  2.054552e+06      1.370782e+06   \n",
       "min    101.000000  101.000000  3.665041e+04  4.631480e+05      2.481480e+05   \n",
       "25%    207.500000  208.500000  1.748038e+05  6.630920e+05      4.703700e+05   \n",
       "50%    303.000000  304.000000  2.535178e+05  1.050370e+06      8.299660e+05   \n",
       "75%    401.500000  401.500000  3.474177e+05  1.415759e+06      1.059259e+06   \n",
       "max    431.000000  432.000000  2.977770e+06  1.954265e+07      1.254815e+07   \n",
       "\n",
       "           Clinic  Health Centre II  Health Centre III  Health Centre IV  \\\n",
       "count  135.000000        135.000000         135.000000        135.000000   \n",
       "mean     3.711111         29.162963          10.333333          1.548148   \n",
       "std      9.844967        112.172123          13.821355          1.810906   \n",
       "min      0.000000          2.000000           1.000000          0.000000   \n",
       "25%      0.000000          9.000000           5.000000          1.000000   \n",
       "50%      1.000000         14.000000           8.000000          1.000000   \n",
       "75%      2.500000         22.500000          11.000000          2.000000   \n",
       "max     85.000000       1262.000000         154.000000         17.000000   \n",
       "\n",
       "         Hospital  Regional Referral Hospital  National Referral Hospital  \\\n",
       "count  135.000000                  135.000000                       135.0   \n",
       "mean     1.133333                    0.948148                         2.0   \n",
       "std      2.265247                    0.222554                         0.0   \n",
       "min      0.000000                    0.000000                         2.0   \n",
       "25%      0.000000                    1.000000                         2.0   \n",
       "50%      1.000000                    1.000000                         2.0   \n",
       "75%      1.000000                    1.000000                         2.0   \n",
       "max     19.000000                    1.000000                         2.0   \n",
       "\n",
       "       contribution_pfp       ratio   ratio_hc4   ratio_pfp  ratio_gvt_nfp  \\\n",
       "count      1.350000e+02  135.000000  135.000000  135.000000     135.000000   \n",
       "mean       2.801333e+05    4.902212    3.827205    0.357445       4.544766   \n",
       "std        1.455182e+06    2.603264    2.297105    0.951838       2.488221   \n",
       "min        0.000000e+00    1.426787    0.964885    0.000000       1.264446   \n",
       "25%        1.000000e+03    3.043370    2.093394    0.006231       2.732923   \n",
       "50%        1.000000e+04    4.224845    3.171179    0.056762       3.814227   \n",
       "75%        6.550000e+04    6.153293    5.019599    0.223799       6.019334   \n",
       "max        1.387100e+07   14.596452   11.731545    8.126391      14.596452   \n",
       "\n",
       "       ratio_rank  ratio_hc4_rank  ratio_pfp_rank  ratio_gvt_nfp_rank  \n",
       "count  135.000000      135.000000      135.000000          135.000000  \n",
       "mean     0.503704        0.503704        0.503704            0.503704  \n",
       "std      0.289742        0.289742        0.288583            0.289742  \n",
       "min      0.007407        0.007407        0.103704            0.007407  \n",
       "25%      0.255556        0.255556        0.255556            0.255556  \n",
       "50%      0.503704        0.503704        0.503704            0.503704  \n",
       "75%      0.751852        0.751852        0.751852            0.751852  \n",
       "max      1.000000        1.000000        1.000000            1.000000  "
      ]
     },
     "execution_count": 185,
     "metadata": {},
     "output_type": "execute_result"
    }
   ],
   "source": [
    "shape.describe()"
   ]
  },
  {
   "cell_type": "markdown",
   "metadata": {},
   "source": [
    "# 3 - Getting the poverty map"
   ]
  },
  {
   "cell_type": "code",
   "execution_count": 200,
   "metadata": {},
   "outputs": [],
   "source": [
    "poverty = gpd.read_file(input_path+'/poverty/SubCountyShapefiles [from GIS WG]/Uganda2018SubcountyMultidimensionalPovertyConsensual.shp')\n",
    "poverty.crs=\"epsg:4326\"\n"
   ]
  },
  {
   "cell_type": "code",
   "execution_count": 250,
   "metadata": {},
   "outputs": [
    {
     "name": "stdout",
     "output_type": "stream",
     "text": [
      "set() set()\n"
     ]
    }
   ],
   "source": [
    "print(set(poverty_shapes['DName2018'].unique()).difference(set(shape['name_18'].unique())),\n",
    "      set(poverty_shapes['DName2019'].unique()).difference(set(shape['name_18'].unique())))"
   ]
  },
  {
   "cell_type": "code",
   "execution_count": 210,
   "metadata": {},
   "outputs": [],
   "source": [
    "total = []\n",
    "for s in poverty['geometry']:\n",
    "    out_data, _, _ = mask_raster(dem_path, s)\n",
    "    values = out_data.flatten()[out_data.flatten() > 0]\n",
    "    # if empty array switch to np.nan to prevent warnings\n",
    "    if values.size == 0:\n",
    "        values = np.nan\n",
    "    total.append(np.sum(values))\n",
    "poverty['total_pop']=total"
   ]
  },
  {
   "cell_type": "code",
   "execution_count": 246,
   "metadata": {},
   "outputs": [],
   "source": [
    "poverty_map=poverty[['DName2019','DName2018','Subcounty','total_pop','HH_Poverty']].copy()\n",
    "poverty_map.set_index(['DName2018','Subcounty'],inplace=True)"
   ]
  },
  {
   "cell_type": "code",
   "execution_count": 247,
   "metadata": {},
   "outputs": [
    {
     "data": {
      "text/plain": [
       "DName2018\n",
       "ABIM          0.555566\n",
       "ADJUMANI      0.350280\n",
       "AGAGO         0.528257\n",
       "ALEBTONG      0.346668\n",
       "AMOLATAR      0.370643\n",
       "                ...   \n",
       "SSEMBABULE    0.090085\n",
       "TORORO        0.242042\n",
       "WAKISO        0.017777\n",
       "YUMBE         0.517921\n",
       "ZOMBO         0.421657\n",
       "Name: poverty_rate, Length: 128, dtype: float64"
      ]
     },
     "execution_count": 247,
     "metadata": {},
     "output_type": "execute_result"
    }
   ],
   "source": [
    "poverty_map['population_perc'] = poverty_map['total_pop']/ poverty_map.groupby('DName2018')['total_pop'].transform('sum')\n",
    "poverty_map['poverty_rate']=poverty_map['population_perc']*poverty_map['HH_Poverty']\n",
    "poverty_map.groupby('DName2018').sum()['poverty_rate']"
   ]
  },
  {
   "cell_type": "code",
   "execution_count": 249,
   "metadata": {},
   "outputs": [],
   "source": [
    "poverty_map.to_csv(output_path+'/poverty_map.csv')"
   ]
  },
  {
   "cell_type": "markdown",
   "metadata": {},
   "source": [
    "# 4 - Get the demographics data \n",
    "\n",
    "# CONTINUE HERE"
   ]
  },
  {
   "cell_type": "code",
   "execution_count": 278,
   "metadata": {},
   "outputs": [],
   "source": [
    "def get_data(file):\n",
    "    total = []\n",
    "    for x in shape['geometry']:\n",
    "        out_data, _, _ = mask_raster(file, x)\n",
    "        values = out_data.flatten()[out_data.flatten() > 0]\n",
    "        if values.size == 0:\n",
    "            values = np.nan\n",
    "        total.append(np.sum(values))\n",
    "    return total\n"
   ]
  },
  {
   "cell_type": "markdown",
   "metadata": {},
   "source": [
    "def get_data(shape_df, file):\n",
    "    total = []\n",
    "    for s in shape['geometry']:\n",
    "        out_data, _, _ = mask_raster(file, s)\n",
    "        values = out_data.flatten()[out_data.flatten() > 0]\n",
    "        if values.size == 0:\n",
    "            values = np.nan\n",
    "        total.append(np.sum(values))\n",
    "    return total"
   ]
  },
  {
   "cell_type": "code",
   "execution_count": 279,
   "metadata": {},
   "outputs": [],
   "source": [
    "#Loop through all the rasters files \n",
    "def compute_data(data_path, files_path):\n",
    "    for file in files_path:\n",
    "        url = data_path+'/%s'\n",
    "\n",
    "        total =  get_data(url %file)\n",
    "        shape[file]= total \n",
    "        "
   ]
  },
  {
   "cell_type": "code",
   "execution_count": 274,
   "metadata": {},
   "outputs": [],
   "source": [
    "female_raster_path = input_path+'demographics/Female_Age'\n",
    "female_files1 = os.listdir(female_raster_path)\n",
    "male_raster_path = input_path+'demographics/Male_Age'\n",
    "male_files1 = os.listdir(male_raster_path)"
   ]
  },
  {
   "cell_type": "code",
   "execution_count": 280,
   "metadata": {},
   "outputs": [],
   "source": [
    "compute_data(female_raster_path,female_files1)\n",
    "compute_data(male_raster_path,male_files1)"
   ]
  },
  {
   "cell_type": "code",
   "execution_count": 11,
   "metadata": {},
   "outputs": [
    {
     "data": {
      "text/plain": [
       "36"
      ]
     },
     "execution_count": 11,
     "metadata": {},
     "output_type": "execute_result"
    }
   ],
   "source": [
    "lst = ['uga_f_0_2020.tif','uga_f_1_2020.tif','uga_f_5_2020.tif',\n",
    "       'uga_f_10_2020.tif', 'uga_f_15_2020.tif','uga_f_20_2020.tif', \n",
    "       'uga_f_25_2020.tif', 'uga_f_30_2020.tif','uga_f_35_2020.tif', \n",
    "       'uga_f_40_2020.tif', 'uga_f_45_2020.tif','uga_f_50_2020.tif',\n",
    "       'uga_f_55_2020.tif', 'uga_f_60_2020.tif','uga_f_65_2020.tif', \n",
    "       'uga_f_70_2020.tif', 'uga_f_75_2020.tif','uga_f_80_2020.tif',\n",
    "       \n",
    "       'uga_m_0_2020.tif', 'uga_m_1_2020.tif','uga_m_5_2020.tif', \n",
    "       'uga_m_10_2020.tif','uga_m_15_2020.tif', 'uga_m_20_2020.tif',\n",
    "       'uga_m_25_2020.tif','uga_m_30_2020.tif', 'uga_m_35_2020.tif', \n",
    "       'uga_m_40_2020.tif','uga_m_45_2020.tif','uga_m_50_2020.tif', \n",
    "       'uga_m_55_2020.tif','uga_m_60_2020.tif', 'uga_m_65_2020.tif', \n",
    "       'uga_m_70_2020.tif', 'uga_m_75_2020.tif', 'uga_m_80_2020.tif']\n",
    "\n",
    "cols= ['uga_f_0','uga_f_1','uga_f_5', 'uga_f_10','uga_f_15','uga_f_20','uga_f_25','uga_f_30','uga_f_35',\n",
    "       'uga_f_40', 'uga_f_45','uga_f_50','uga_f_55','uga_f_60','uga_f_65', 'uga_f_70','uga_f_75','uga_f_80',\n",
    "       \n",
    "       'uga_m_0', 'uga_m_1','uga_m_5','uga_m_10','uga_m_15','uga_m_20','uga_m_25', 'uga_m_30','uga_m_35', \n",
    "       'uga_m_40', 'uga_m_45','uga_m_50','uga_m_55','uga_m_60', 'uga_m_65','uga_m_70','uga_m_75','uga_m_80']\n"
   ]
  },
  {
   "cell_type": "code",
   "execution_count": 281,
   "metadata": {},
   "outputs": [
    {
     "data": {
      "text/html": [
       "<div>\n",
       "<style scoped>\n",
       "    .dataframe tbody tr th:only-of-type {\n",
       "        vertical-align: middle;\n",
       "    }\n",
       "\n",
       "    .dataframe tbody tr th {\n",
       "        vertical-align: top;\n",
       "    }\n",
       "\n",
       "    .dataframe thead th {\n",
       "        text-align: right;\n",
       "    }\n",
       "</style>\n",
       "<table border=\"1\" class=\"dataframe\">\n",
       "  <thead>\n",
       "    <tr style=\"text-align: right;\">\n",
       "      <th></th>\n",
       "      <th>region</th>\n",
       "      <th>name_16</th>\n",
       "      <th>name_17</th>\n",
       "      <th>code_17</th>\n",
       "      <th>name_18</th>\n",
       "      <th>code_18</th>\n",
       "      <th>name_19</th>\n",
       "      <th>ADM1_PCODE</th>\n",
       "      <th>geometry</th>\n",
       "      <th>uga_f_0_2020.tif</th>\n",
       "      <th>uga_f_10_2020.tif</th>\n",
       "      <th>uga_f_15_2020.tif</th>\n",
       "      <th>uga_f_1_2020.tif</th>\n",
       "      <th>uga_f_20_2020.tif</th>\n",
       "      <th>uga_f_25_2020.tif</th>\n",
       "      <th>uga_f_30_2020.tif</th>\n",
       "      <th>uga_f_35_2020.tif</th>\n",
       "      <th>uga_f_40_2020.tif</th>\n",
       "      <th>uga_f_45_2020.tif</th>\n",
       "      <th>uga_f_50_2020.tif</th>\n",
       "      <th>uga_f_55_2020.tif</th>\n",
       "      <th>uga_f_5_2020.tif</th>\n",
       "      <th>uga_f_60_2020.tif</th>\n",
       "      <th>uga_f_65_2020.tif</th>\n",
       "      <th>uga_f_70_2020.tif</th>\n",
       "      <th>uga_f_75_2020.tif</th>\n",
       "      <th>uga_f_80_2020.tif</th>\n",
       "      <th>uga_m_0_2020.tif</th>\n",
       "      <th>uga_m_10_2020.tif</th>\n",
       "      <th>uga_m_15_2020.tif</th>\n",
       "      <th>uga_m_1_2020.tif</th>\n",
       "      <th>uga_m_20_2020.tif</th>\n",
       "      <th>uga_m_25_2020.tif</th>\n",
       "      <th>uga_m_30_2020.tif</th>\n",
       "      <th>uga_m_35_2020.tif</th>\n",
       "      <th>uga_m_40_2020.tif</th>\n",
       "      <th>uga_m_45_2020.tif</th>\n",
       "      <th>uga_m_50_2020.tif</th>\n",
       "      <th>uga_m_55_2020.tif</th>\n",
       "      <th>uga_m_5_2020.tif</th>\n",
       "      <th>uga_m_60_2020.tif</th>\n",
       "      <th>uga_m_65_2020.tif</th>\n",
       "      <th>uga_m_70_2020.tif</th>\n",
       "      <th>uga_m_75_2020.tif</th>\n",
       "      <th>uga_m_80_2020.tif</th>\n",
       "    </tr>\n",
       "  </thead>\n",
       "  <tbody>\n",
       "    <tr>\n",
       "      <th>0</th>\n",
       "      <td>SOUTH BUGANDA</td>\n",
       "      <td>MASAKA</td>\n",
       "      <td>MASAKA</td>\n",
       "      <td>105</td>\n",
       "      <td>MASAKA</td>\n",
       "      <td>105</td>\n",
       "      <td>MASAKA</td>\n",
       "      <td>UG105</td>\n",
       "      <td>POLYGON ((32.00051 -0.60761, 32.00053 -0.60993...</td>\n",
       "      <td>5857.100586</td>\n",
       "      <td>24767.537109</td>\n",
       "      <td>22842.111328</td>\n",
       "      <td>21156.541016</td>\n",
       "      <td>19576.222656</td>\n",
       "      <td>13022.705078</td>\n",
       "      <td>8803.208008</td>\n",
       "      <td>7468.049316</td>\n",
       "      <td>6071.846191</td>\n",
       "      <td>4599.971680</td>\n",
       "      <td>3344.561279</td>\n",
       "      <td>2612.901611</td>\n",
       "      <td>25360.503906</td>\n",
       "      <td>1989.943237</td>\n",
       "      <td>1503.614746</td>\n",
       "      <td>1019.681519</td>\n",
       "      <td>687.096863</td>\n",
       "      <td>607.047241</td>\n",
       "      <td>6248.266602</td>\n",
       "      <td>24551.611328</td>\n",
       "      <td>21097.189453</td>\n",
       "      <td>21521.298828</td>\n",
       "      <td>15708.819336</td>\n",
       "      <td>13569.010742</td>\n",
       "      <td>11074.914062</td>\n",
       "      <td>8064.005859</td>\n",
       "      <td>6574.989258</td>\n",
       "      <td>4452.293945</td>\n",
       "      <td>3267.879150</td>\n",
       "      <td>2194.184814</td>\n",
       "      <td>23830.017578</td>\n",
       "      <td>1841.658936</td>\n",
       "      <td>1630.016602</td>\n",
       "      <td>926.013428</td>\n",
       "      <td>854.937134</td>\n",
       "      <td>408.078003</td>\n",
       "    </tr>\n",
       "    <tr>\n",
       "      <th>1</th>\n",
       "      <td>BUKEDI</td>\n",
       "      <td>PALLISA</td>\n",
       "      <td>BUTEBO</td>\n",
       "      <td>233</td>\n",
       "      <td>BUTEBO</td>\n",
       "      <td>233</td>\n",
       "      <td>BUTEBO</td>\n",
       "      <td>UG233</td>\n",
       "      <td>POLYGON ((33.87314 1.22742, 33.87306 1.22897, ...</td>\n",
       "      <td>2913.082275</td>\n",
       "      <td>8468.531250</td>\n",
       "      <td>6888.890137</td>\n",
       "      <td>11487.354492</td>\n",
       "      <td>5974.812988</td>\n",
       "      <td>5168.224609</td>\n",
       "      <td>3855.523682</td>\n",
       "      <td>3032.252197</td>\n",
       "      <td>2628.891602</td>\n",
       "      <td>1888.617432</td>\n",
       "      <td>1546.334717</td>\n",
       "      <td>1264.830811</td>\n",
       "      <td>11788.121094</td>\n",
       "      <td>1085.912598</td>\n",
       "      <td>809.186584</td>\n",
       "      <td>619.326660</td>\n",
       "      <td>343.025757</td>\n",
       "      <td>218.852386</td>\n",
       "      <td>3141.681152</td>\n",
       "      <td>8749.009766</td>\n",
       "      <td>6415.481934</td>\n",
       "      <td>11554.667969</td>\n",
       "      <td>4892.648926</td>\n",
       "      <td>3992.529541</td>\n",
       "      <td>3955.511230</td>\n",
       "      <td>3573.658203</td>\n",
       "      <td>2839.151367</td>\n",
       "      <td>1966.009521</td>\n",
       "      <td>1341.663574</td>\n",
       "      <td>1146.031372</td>\n",
       "      <td>10701.338867</td>\n",
       "      <td>939.195679</td>\n",
       "      <td>1175.221924</td>\n",
       "      <td>611.237061</td>\n",
       "      <td>488.139862</td>\n",
       "      <td>224.271042</td>\n",
       "    </tr>\n",
       "    <tr>\n",
       "      <th>2</th>\n",
       "      <td>LANGO</td>\n",
       "      <td>ALEBTONG</td>\n",
       "      <td>ALEBTONG</td>\n",
       "      <td>323</td>\n",
       "      <td>ALEBTONG</td>\n",
       "      <td>323</td>\n",
       "      <td>ALEBTONG</td>\n",
       "      <td>UG323</td>\n",
       "      <td>POLYGON ((33.44290 2.36391, 33.44264 2.36336, ...</td>\n",
       "      <td>5463.374023</td>\n",
       "      <td>15582.167969</td>\n",
       "      <td>13341.358398</td>\n",
       "      <td>21310.689453</td>\n",
       "      <td>12902.153320</td>\n",
       "      <td>9121.602539</td>\n",
       "      <td>7456.059082</td>\n",
       "      <td>6708.312500</td>\n",
       "      <td>4861.818359</td>\n",
       "      <td>4903.649902</td>\n",
       "      <td>2913.486328</td>\n",
       "      <td>2741.236328</td>\n",
       "      <td>21241.789062</td>\n",
       "      <td>1683.753540</td>\n",
       "      <td>1399.429199</td>\n",
       "      <td>768.971497</td>\n",
       "      <td>546.997742</td>\n",
       "      <td>396.826630</td>\n",
       "      <td>5770.729004</td>\n",
       "      <td>17943.867188</td>\n",
       "      <td>13932.510742</td>\n",
       "      <td>21016.466797</td>\n",
       "      <td>10292.921875</td>\n",
       "      <td>8835.188477</td>\n",
       "      <td>7586.582031</td>\n",
       "      <td>6536.782715</td>\n",
       "      <td>5439.635742</td>\n",
       "      <td>4424.959473</td>\n",
       "      <td>3639.277588</td>\n",
       "      <td>2663.594727</td>\n",
       "      <td>20374.955078</td>\n",
       "      <td>1679.618530</td>\n",
       "      <td>1179.217041</td>\n",
       "      <td>762.567139</td>\n",
       "      <td>410.405212</td>\n",
       "      <td>320.646271</td>\n",
       "    </tr>\n",
       "    <tr>\n",
       "      <th>3</th>\n",
       "      <td>TESO</td>\n",
       "      <td>BUKEDEA</td>\n",
       "      <td>BUKEDEA</td>\n",
       "      <td>219</td>\n",
       "      <td>BUKEDEA</td>\n",
       "      <td>219</td>\n",
       "      <td>BUKEDEA</td>\n",
       "      <td>UG219</td>\n",
       "      <td>POLYGON ((34.23013 1.49615, 34.22982 1.49197, ...</td>\n",
       "      <td>5440.330078</td>\n",
       "      <td>14467.518555</td>\n",
       "      <td>12134.289062</td>\n",
       "      <td>18119.798828</td>\n",
       "      <td>10802.646484</td>\n",
       "      <td>8709.710938</td>\n",
       "      <td>7086.567383</td>\n",
       "      <td>6126.071289</td>\n",
       "      <td>5447.048340</td>\n",
       "      <td>3548.878418</td>\n",
       "      <td>3007.738770</td>\n",
       "      <td>2400.688965</td>\n",
       "      <td>19002.355469</td>\n",
       "      <td>2003.665527</td>\n",
       "      <td>1781.117188</td>\n",
       "      <td>1391.958252</td>\n",
       "      <td>742.040955</td>\n",
       "      <td>525.412354</td>\n",
       "      <td>5638.837891</td>\n",
       "      <td>15060.965820</td>\n",
       "      <td>12533.222656</td>\n",
       "      <td>19194.550781</td>\n",
       "      <td>8558.291016</td>\n",
       "      <td>8094.957520</td>\n",
       "      <td>6991.352539</td>\n",
       "      <td>6018.109375</td>\n",
       "      <td>4560.709473</td>\n",
       "      <td>3827.843994</td>\n",
       "      <td>2834.279297</td>\n",
       "      <td>2422.521484</td>\n",
       "      <td>19809.468750</td>\n",
       "      <td>1614.554077</td>\n",
       "      <td>1666.669067</td>\n",
       "      <td>1213.202881</td>\n",
       "      <td>695.681824</td>\n",
       "      <td>444.662445</td>\n",
       "    </tr>\n",
       "    <tr>\n",
       "      <th>4</th>\n",
       "      <td>BUKEDI</td>\n",
       "      <td>BUSIA</td>\n",
       "      <td>BUSIA</td>\n",
       "      <td>202</td>\n",
       "      <td>BUSIA</td>\n",
       "      <td>202</td>\n",
       "      <td>BUSIA</td>\n",
       "      <td>UG202</td>\n",
       "      <td>POLYGON ((33.92632 0.39287, 33.92622 0.39309, ...</td>\n",
       "      <td>7811.069336</td>\n",
       "      <td>24253.693359</td>\n",
       "      <td>22753.490234</td>\n",
       "      <td>30071.802734</td>\n",
       "      <td>20199.835938</td>\n",
       "      <td>14235.680664</td>\n",
       "      <td>10134.388672</td>\n",
       "      <td>8515.654297</td>\n",
       "      <td>7774.708496</td>\n",
       "      <td>5477.405273</td>\n",
       "      <td>4760.226562</td>\n",
       "      <td>3105.297119</td>\n",
       "      <td>30530.113281</td>\n",
       "      <td>2594.528809</td>\n",
       "      <td>1814.192993</td>\n",
       "      <td>1302.306152</td>\n",
       "      <td>858.618652</td>\n",
       "      <td>590.077576</td>\n",
       "      <td>7954.886230</td>\n",
       "      <td>25082.394531</td>\n",
       "      <td>19927.208984</td>\n",
       "      <td>29209.451172</td>\n",
       "      <td>16740.402344</td>\n",
       "      <td>13776.898438</td>\n",
       "      <td>12945.099609</td>\n",
       "      <td>9298.198242</td>\n",
       "      <td>7590.655273</td>\n",
       "      <td>6231.466309</td>\n",
       "      <td>4408.915039</td>\n",
       "      <td>3461.803223</td>\n",
       "      <td>29233.865234</td>\n",
       "      <td>2296.154053</td>\n",
       "      <td>2139.997559</td>\n",
       "      <td>1437.055908</td>\n",
       "      <td>858.814575</td>\n",
       "      <td>564.574585</td>\n",
       "    </tr>\n",
       "  </tbody>\n",
       "</table>\n",
       "</div>"
      ],
      "text/plain": [
       "          region   name_16   name_17  code_17   name_18  code_18   name_19  \\\n",
       "0  SOUTH BUGANDA    MASAKA    MASAKA      105    MASAKA      105    MASAKA   \n",
       "1         BUKEDI   PALLISA    BUTEBO      233    BUTEBO      233    BUTEBO   \n",
       "2          LANGO  ALEBTONG  ALEBTONG      323  ALEBTONG      323  ALEBTONG   \n",
       "3           TESO   BUKEDEA   BUKEDEA      219   BUKEDEA      219   BUKEDEA   \n",
       "4         BUKEDI     BUSIA     BUSIA      202     BUSIA      202     BUSIA   \n",
       "\n",
       "  ADM1_PCODE                                           geometry  \\\n",
       "0      UG105  POLYGON ((32.00051 -0.60761, 32.00053 -0.60993...   \n",
       "1      UG233  POLYGON ((33.87314 1.22742, 33.87306 1.22897, ...   \n",
       "2      UG323  POLYGON ((33.44290 2.36391, 33.44264 2.36336, ...   \n",
       "3      UG219  POLYGON ((34.23013 1.49615, 34.22982 1.49197, ...   \n",
       "4      UG202  POLYGON ((33.92632 0.39287, 33.92622 0.39309, ...   \n",
       "\n",
       "   uga_f_0_2020.tif  uga_f_10_2020.tif  uga_f_15_2020.tif  uga_f_1_2020.tif  \\\n",
       "0       5857.100586       24767.537109       22842.111328      21156.541016   \n",
       "1       2913.082275        8468.531250        6888.890137      11487.354492   \n",
       "2       5463.374023       15582.167969       13341.358398      21310.689453   \n",
       "3       5440.330078       14467.518555       12134.289062      18119.798828   \n",
       "4       7811.069336       24253.693359       22753.490234      30071.802734   \n",
       "\n",
       "   uga_f_20_2020.tif  uga_f_25_2020.tif  uga_f_30_2020.tif  uga_f_35_2020.tif  \\\n",
       "0       19576.222656       13022.705078        8803.208008        7468.049316   \n",
       "1        5974.812988        5168.224609        3855.523682        3032.252197   \n",
       "2       12902.153320        9121.602539        7456.059082        6708.312500   \n",
       "3       10802.646484        8709.710938        7086.567383        6126.071289   \n",
       "4       20199.835938       14235.680664       10134.388672        8515.654297   \n",
       "\n",
       "   uga_f_40_2020.tif  uga_f_45_2020.tif  uga_f_50_2020.tif  uga_f_55_2020.tif  \\\n",
       "0        6071.846191        4599.971680        3344.561279        2612.901611   \n",
       "1        2628.891602        1888.617432        1546.334717        1264.830811   \n",
       "2        4861.818359        4903.649902        2913.486328        2741.236328   \n",
       "3        5447.048340        3548.878418        3007.738770        2400.688965   \n",
       "4        7774.708496        5477.405273        4760.226562        3105.297119   \n",
       "\n",
       "   uga_f_5_2020.tif  uga_f_60_2020.tif  uga_f_65_2020.tif  uga_f_70_2020.tif  \\\n",
       "0      25360.503906        1989.943237        1503.614746        1019.681519   \n",
       "1      11788.121094        1085.912598         809.186584         619.326660   \n",
       "2      21241.789062        1683.753540        1399.429199         768.971497   \n",
       "3      19002.355469        2003.665527        1781.117188        1391.958252   \n",
       "4      30530.113281        2594.528809        1814.192993        1302.306152   \n",
       "\n",
       "   uga_f_75_2020.tif  uga_f_80_2020.tif  uga_m_0_2020.tif  uga_m_10_2020.tif  \\\n",
       "0         687.096863         607.047241       6248.266602       24551.611328   \n",
       "1         343.025757         218.852386       3141.681152        8749.009766   \n",
       "2         546.997742         396.826630       5770.729004       17943.867188   \n",
       "3         742.040955         525.412354       5638.837891       15060.965820   \n",
       "4         858.618652         590.077576       7954.886230       25082.394531   \n",
       "\n",
       "   uga_m_15_2020.tif  uga_m_1_2020.tif  uga_m_20_2020.tif  uga_m_25_2020.tif  \\\n",
       "0       21097.189453      21521.298828       15708.819336       13569.010742   \n",
       "1        6415.481934      11554.667969        4892.648926        3992.529541   \n",
       "2       13932.510742      21016.466797       10292.921875        8835.188477   \n",
       "3       12533.222656      19194.550781        8558.291016        8094.957520   \n",
       "4       19927.208984      29209.451172       16740.402344       13776.898438   \n",
       "\n",
       "   uga_m_30_2020.tif  uga_m_35_2020.tif  uga_m_40_2020.tif  uga_m_45_2020.tif  \\\n",
       "0       11074.914062        8064.005859        6574.989258        4452.293945   \n",
       "1        3955.511230        3573.658203        2839.151367        1966.009521   \n",
       "2        7586.582031        6536.782715        5439.635742        4424.959473   \n",
       "3        6991.352539        6018.109375        4560.709473        3827.843994   \n",
       "4       12945.099609        9298.198242        7590.655273        6231.466309   \n",
       "\n",
       "   uga_m_50_2020.tif  uga_m_55_2020.tif  uga_m_5_2020.tif  uga_m_60_2020.tif  \\\n",
       "0        3267.879150        2194.184814      23830.017578        1841.658936   \n",
       "1        1341.663574        1146.031372      10701.338867         939.195679   \n",
       "2        3639.277588        2663.594727      20374.955078        1679.618530   \n",
       "3        2834.279297        2422.521484      19809.468750        1614.554077   \n",
       "4        4408.915039        3461.803223      29233.865234        2296.154053   \n",
       "\n",
       "   uga_m_65_2020.tif  uga_m_70_2020.tif  uga_m_75_2020.tif  uga_m_80_2020.tif  \n",
       "0        1630.016602         926.013428         854.937134         408.078003  \n",
       "1        1175.221924         611.237061         488.139862         224.271042  \n",
       "2        1179.217041         762.567139         410.405212         320.646271  \n",
       "3        1666.669067        1213.202881         695.681824         444.662445  \n",
       "4        2139.997559        1437.055908         858.814575         564.574585  "
      ]
     },
     "execution_count": 281,
     "metadata": {},
     "output_type": "execute_result"
    }
   ],
   "source": [
    "shape.head()"
   ]
  },
  {
   "cell_type": "code",
   "execution_count": 14,
   "metadata": {},
   "outputs": [],
   "source": [
    "df = shape[lst].copy()\n",
    "df.columns = cols # rename columns\n",
    "df['district'] = shape['name_19']"
   ]
  },
  {
   "cell_type": "code",
   "execution_count": 17,
   "metadata": {},
   "outputs": [],
   "source": [
    "#Unpivot the dataframe\n",
    "df2= df.melt(id_vars=['ADM3_PCODE'], var_name='Gender_Age', value_name='pop_value')"
   ]
  },
  {
   "cell_type": "code",
   "execution_count": 32,
   "metadata": {},
   "outputs": [],
   "source": [
    "def gender(x):\n",
    "    if x[4:5] == \"f\":\n",
    "        return(\"female\")\n",
    "    elif x[4:5] == \"m\":\n",
    "        return(\"male\")"
   ]
  },
  {
   "cell_type": "code",
   "execution_count": 38,
   "metadata": {},
   "outputs": [],
   "source": [
    "df2['Age']=df2['Gender_Age'].apply(lambda x: x[6:])\n",
    "df2['Gender']=df2['Gender_Age'].apply(lambda x: gender(x))"
   ]
  },
  {
   "cell_type": "code",
   "execution_count": 282,
   "metadata": {},
   "outputs": [
    {
     "ename": "FileNotFoundError",
     "evalue": "[Errno 2] No such file or directory: '../Data/Results/Total_Age_gender.csv'",
     "output_type": "error",
     "traceback": [
      "\u001b[1;31m---------------------------------------------------------------------------\u001b[0m",
      "\u001b[1;31mFileNotFoundError\u001b[0m                         Traceback (most recent call last)",
      "\u001b[1;32m<ipython-input-282-7cade2606c52>\u001b[0m in \u001b[0;36m<module>\u001b[1;34m\u001b[0m\n\u001b[0;32m      1\u001b[0m \u001b[1;31m#df2.to_csv('../Data/Results/Total_Age_gender_stacked.csv', index=False)\u001b[0m\u001b[1;33m\u001b[0m\u001b[1;33m\u001b[0m\u001b[1;33m\u001b[0m\u001b[0m\n\u001b[1;32m----> 2\u001b[1;33m \u001b[0mdf\u001b[0m\u001b[1;33m.\u001b[0m\u001b[0mto_csv\u001b[0m\u001b[1;33m(\u001b[0m\u001b[1;34m'../Data/Results/Total_Age_gender.csv'\u001b[0m\u001b[1;33m,\u001b[0m \u001b[0mindex\u001b[0m\u001b[1;33m=\u001b[0m\u001b[1;32mFalse\u001b[0m\u001b[1;33m)\u001b[0m\u001b[1;33m\u001b[0m\u001b[1;33m\u001b[0m\u001b[0m\n\u001b[0m",
      "\u001b[1;32m~\\anaconda3\\envs\\icohs\\lib\\site-packages\\pandas\\core\\generic.py\u001b[0m in \u001b[0;36mto_csv\u001b[1;34m(self, path_or_buf, sep, na_rep, float_format, columns, header, index, index_label, mode, encoding, compression, quoting, quotechar, line_terminator, chunksize, date_format, doublequote, escapechar, decimal)\u001b[0m\n\u001b[0;32m   3202\u001b[0m             \u001b[0mdecimal\u001b[0m\u001b[1;33m=\u001b[0m\u001b[0mdecimal\u001b[0m\u001b[1;33m,\u001b[0m\u001b[1;33m\u001b[0m\u001b[1;33m\u001b[0m\u001b[0m\n\u001b[0;32m   3203\u001b[0m         )\n\u001b[1;32m-> 3204\u001b[1;33m         \u001b[0mformatter\u001b[0m\u001b[1;33m.\u001b[0m\u001b[0msave\u001b[0m\u001b[1;33m(\u001b[0m\u001b[1;33m)\u001b[0m\u001b[1;33m\u001b[0m\u001b[1;33m\u001b[0m\u001b[0m\n\u001b[0m\u001b[0;32m   3205\u001b[0m \u001b[1;33m\u001b[0m\u001b[0m\n\u001b[0;32m   3206\u001b[0m         \u001b[1;32mif\u001b[0m \u001b[0mpath_or_buf\u001b[0m \u001b[1;32mis\u001b[0m \u001b[1;32mNone\u001b[0m\u001b[1;33m:\u001b[0m\u001b[1;33m\u001b[0m\u001b[1;33m\u001b[0m\u001b[0m\n",
      "\u001b[1;32m~\\anaconda3\\envs\\icohs\\lib\\site-packages\\pandas\\io\\formats\\csvs.py\u001b[0m in \u001b[0;36msave\u001b[1;34m(self)\u001b[0m\n\u001b[0;32m    182\u001b[0m             \u001b[0mclose\u001b[0m \u001b[1;33m=\u001b[0m \u001b[1;32mFalse\u001b[0m\u001b[1;33m\u001b[0m\u001b[1;33m\u001b[0m\u001b[0m\n\u001b[0;32m    183\u001b[0m         \u001b[1;32melse\u001b[0m\u001b[1;33m:\u001b[0m\u001b[1;33m\u001b[0m\u001b[1;33m\u001b[0m\u001b[0m\n\u001b[1;32m--> 184\u001b[1;33m             f, handles = get_handle(\n\u001b[0m\u001b[0;32m    185\u001b[0m                 \u001b[0mself\u001b[0m\u001b[1;33m.\u001b[0m\u001b[0mpath_or_buf\u001b[0m\u001b[1;33m,\u001b[0m\u001b[1;33m\u001b[0m\u001b[1;33m\u001b[0m\u001b[0m\n\u001b[0;32m    186\u001b[0m                 \u001b[0mself\u001b[0m\u001b[1;33m.\u001b[0m\u001b[0mmode\u001b[0m\u001b[1;33m,\u001b[0m\u001b[1;33m\u001b[0m\u001b[1;33m\u001b[0m\u001b[0m\n",
      "\u001b[1;32m~\\anaconda3\\envs\\icohs\\lib\\site-packages\\pandas\\io\\common.py\u001b[0m in \u001b[0;36mget_handle\u001b[1;34m(path_or_buf, mode, encoding, compression, memory_map, is_text)\u001b[0m\n\u001b[0;32m    426\u001b[0m         \u001b[1;32mif\u001b[0m \u001b[0mencoding\u001b[0m\u001b[1;33m:\u001b[0m\u001b[1;33m\u001b[0m\u001b[1;33m\u001b[0m\u001b[0m\n\u001b[0;32m    427\u001b[0m             \u001b[1;31m# Encoding\u001b[0m\u001b[1;33m\u001b[0m\u001b[1;33m\u001b[0m\u001b[1;33m\u001b[0m\u001b[0m\n\u001b[1;32m--> 428\u001b[1;33m             \u001b[0mf\u001b[0m \u001b[1;33m=\u001b[0m \u001b[0mopen\u001b[0m\u001b[1;33m(\u001b[0m\u001b[0mpath_or_buf\u001b[0m\u001b[1;33m,\u001b[0m \u001b[0mmode\u001b[0m\u001b[1;33m,\u001b[0m \u001b[0mencoding\u001b[0m\u001b[1;33m=\u001b[0m\u001b[0mencoding\u001b[0m\u001b[1;33m,\u001b[0m \u001b[0mnewline\u001b[0m\u001b[1;33m=\u001b[0m\u001b[1;34m\"\"\u001b[0m\u001b[1;33m)\u001b[0m\u001b[1;33m\u001b[0m\u001b[1;33m\u001b[0m\u001b[0m\n\u001b[0m\u001b[0;32m    429\u001b[0m         \u001b[1;32melif\u001b[0m \u001b[0mis_text\u001b[0m\u001b[1;33m:\u001b[0m\u001b[1;33m\u001b[0m\u001b[1;33m\u001b[0m\u001b[0m\n\u001b[0;32m    430\u001b[0m             \u001b[1;31m# No explicit encoding\u001b[0m\u001b[1;33m\u001b[0m\u001b[1;33m\u001b[0m\u001b[1;33m\u001b[0m\u001b[0m\n",
      "\u001b[1;31mFileNotFoundError\u001b[0m: [Errno 2] No such file or directory: '../Data/Results/Total_Age_gender.csv'"
     ]
    }
   ],
   "source": [
    "#df2.to_csv('../Data/Results/Total_Age_gender_stacked.csv', index=False)\n",
    "df.to_csv('../Data/Results/Total_Age_gender.csv', index=False)"
   ]
  },
  {
   "cell_type": "code",
   "execution_count": null,
   "metadata": {},
   "outputs": [],
   "source": []
  }
 ],
 "metadata": {
  "kernelspec": {
   "display_name": "Python 3",
   "language": "python",
   "name": "python3"
  },
  "language_info": {
   "codemirror_mode": {
    "name": "ipython",
    "version": 3
   },
   "file_extension": ".py",
   "mimetype": "text/x-python",
   "name": "python",
   "nbconvert_exporter": "python",
   "pygments_lexer": "ipython3",
   "version": "3.8.3"
  }
 },
 "nbformat": 4,
 "nbformat_minor": 4
}
