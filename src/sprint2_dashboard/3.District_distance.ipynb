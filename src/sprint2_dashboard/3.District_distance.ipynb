{
 "cells": [
  {
   "cell_type": "markdown",
   "metadata": {},
   "source": [
    "# Set up"
   ]
  },
  {
   "cell_type": "code",
   "execution_count": 302,
   "metadata": {},
   "outputs": [],
   "source": [
    "import numpy as np\n",
    "import pandas as pd\n",
    "import geopandas as gpd\n",
    "from pyproj import CRS\n",
    "from shapely.geometry import Point\n",
    "import difflib as dfb"
   ]
  },
  {
   "cell_type": "code",
   "execution_count": 303,
   "metadata": {},
   "outputs": [],
   "source": [
    "admin1_path = '../Data/Mapping layout/UBOS19 135 districts data/uganda_districts_2019_i.shp'\n",
    "#admin1_path = 'data/UBOS19/uganda_districts_2019_i.shp' #Path for Nancy's machine \n",
    "admin1_df = gpd.read_file(admin1_path)\n",
    "admin1_df.to_crs(crs=\"EPSG:4326\",inplace=True)"
   ]
  },
  {
   "cell_type": "code",
   "execution_count": 304,
   "metadata": {},
   "outputs": [],
   "source": [
    "poe_path='../Data/PoE/2_POE53_from_jenny.csv'\n",
    "#poe_path='data/2_POE53_from_jenny.csv' #Path for Nancy's machine \n",
    "poe_data = pd.read_csv(poe_path)\n",
    "poe_data.rename({'PoEs':'name','LON':'lon','LAT':'lat'},axis=1,inplace=True)\n",
    "poe_data.drop(['#','District'],inplace=True,axis=1)"
   ]
  },
  {
   "cell_type": "markdown",
   "metadata": {},
   "source": [
    "# Get districts of each PoE using lon/lat"
   ]
  },
  {
   "cell_type": "code",
   "execution_count": 305,
   "metadata": {},
   "outputs": [
    {
     "data": {
      "text/html": [
       "<div>\n",
       "<style scoped>\n",
       "    .dataframe tbody tr th:only-of-type {\n",
       "        vertical-align: middle;\n",
       "    }\n",
       "\n",
       "    .dataframe tbody tr th {\n",
       "        vertical-align: top;\n",
       "    }\n",
       "\n",
       "    .dataframe thead th {\n",
       "        text-align: right;\n",
       "    }\n",
       "</style>\n",
       "<table border=\"1\" class=\"dataframe\">\n",
       "  <thead>\n",
       "    <tr style=\"text-align: right;\">\n",
       "      <th></th>\n",
       "      <th>name</th>\n",
       "      <th>lon</th>\n",
       "      <th>lat</th>\n",
       "    </tr>\n",
       "  </thead>\n",
       "  <tbody>\n",
       "    <tr>\n",
       "      <th>0</th>\n",
       "      <td>Port Bell</td>\n",
       "      <td>32.654000</td>\n",
       "      <td>0.290000</td>\n",
       "    </tr>\n",
       "    <tr>\n",
       "      <th>1</th>\n",
       "      <td>Entebbe Airport</td>\n",
       "      <td>32.443055</td>\n",
       "      <td>0.044721</td>\n",
       "    </tr>\n",
       "    <tr>\n",
       "      <th>2</th>\n",
       "      <td>Kiyindi</td>\n",
       "      <td>33.145901</td>\n",
       "      <td>0.279041</td>\n",
       "    </tr>\n",
       "    <tr>\n",
       "      <th>3</th>\n",
       "      <td>Katosi</td>\n",
       "      <td>32.803276</td>\n",
       "      <td>0.143008</td>\n",
       "    </tr>\n",
       "    <tr>\n",
       "      <th>4</th>\n",
       "      <td>Mutukula</td>\n",
       "      <td>31.416706</td>\n",
       "      <td>-1.000000</td>\n",
       "    </tr>\n",
       "  </tbody>\n",
       "</table>\n",
       "</div>"
      ],
      "text/plain": [
       "              name        lon       lat\n",
       "0        Port Bell  32.654000  0.290000\n",
       "1  Entebbe Airport  32.443055  0.044721\n",
       "2          Kiyindi  33.145901  0.279041\n",
       "3           Katosi  32.803276  0.143008\n",
       "4         Mutukula  31.416706 -1.000000"
      ]
     },
     "execution_count": 305,
     "metadata": {},
     "output_type": "execute_result"
    }
   ],
   "source": [
    "poe_data.head()"
   ]
  },
  {
   "cell_type": "code",
   "execution_count": 306,
   "metadata": {},
   "outputs": [
    {
     "data": {
      "text/html": [
       "<div>\n",
       "<style scoped>\n",
       "    .dataframe tbody tr th:only-of-type {\n",
       "        vertical-align: middle;\n",
       "    }\n",
       "\n",
       "    .dataframe tbody tr th {\n",
       "        vertical-align: top;\n",
       "    }\n",
       "\n",
       "    .dataframe thead th {\n",
       "        text-align: right;\n",
       "    }\n",
       "</style>\n",
       "<table border=\"1\" class=\"dataframe\">\n",
       "  <thead>\n",
       "    <tr style=\"text-align: right;\">\n",
       "      <th></th>\n",
       "      <th>name</th>\n",
       "      <th>lon</th>\n",
       "      <th>lat</th>\n",
       "      <th>geometry</th>\n",
       "    </tr>\n",
       "  </thead>\n",
       "  <tbody>\n",
       "    <tr>\n",
       "      <th>0</th>\n",
       "      <td>Port Bell</td>\n",
       "      <td>32.654000</td>\n",
       "      <td>0.290000</td>\n",
       "      <td>POINT (32.65400 0.29000)</td>\n",
       "    </tr>\n",
       "    <tr>\n",
       "      <th>1</th>\n",
       "      <td>Entebbe Airport</td>\n",
       "      <td>32.443055</td>\n",
       "      <td>0.044721</td>\n",
       "      <td>POINT (32.44306 0.04472)</td>\n",
       "    </tr>\n",
       "    <tr>\n",
       "      <th>2</th>\n",
       "      <td>Kiyindi</td>\n",
       "      <td>33.145901</td>\n",
       "      <td>0.279041</td>\n",
       "      <td>POINT (33.14590 0.27904)</td>\n",
       "    </tr>\n",
       "    <tr>\n",
       "      <th>3</th>\n",
       "      <td>Katosi</td>\n",
       "      <td>32.803276</td>\n",
       "      <td>0.143008</td>\n",
       "      <td>POINT (32.80328 0.14301)</td>\n",
       "    </tr>\n",
       "    <tr>\n",
       "      <th>4</th>\n",
       "      <td>Mutukula</td>\n",
       "      <td>31.416706</td>\n",
       "      <td>-1.000000</td>\n",
       "      <td>POINT (31.41671 -1.00000)</td>\n",
       "    </tr>\n",
       "  </tbody>\n",
       "</table>\n",
       "</div>"
      ],
      "text/plain": [
       "              name        lon       lat                   geometry\n",
       "0        Port Bell  32.654000  0.290000   POINT (32.65400 0.29000)\n",
       "1  Entebbe Airport  32.443055  0.044721   POINT (32.44306 0.04472)\n",
       "2          Kiyindi  33.145901  0.279041   POINT (33.14590 0.27904)\n",
       "3           Katosi  32.803276  0.143008   POINT (32.80328 0.14301)\n",
       "4         Mutukula  31.416706 -1.000000  POINT (31.41671 -1.00000)"
      ]
     },
     "execution_count": 306,
     "metadata": {},
     "output_type": "execute_result"
    }
   ],
   "source": [
    "# Getting the poe csv into a shapefile\n",
    "\n",
    "# creating a geometry column \n",
    "geometry = [Point(xy) for xy in zip(poe_data['lon'], poe_data['lat'])]\n",
    "\n",
    "# Coordinate reference system : WGS84\n",
    "crs = CRS('epsg:4326')\n",
    "\n",
    "# Creating a Geographic data frame \n",
    "poe_df = gpd.GeoDataFrame(poe_data, crs=crs, geometry=geometry)\n",
    "poe_df.head()"
   ]
  },
  {
   "cell_type": "code",
   "execution_count": 307,
   "metadata": {},
   "outputs": [],
   "source": [
    "#creating this to male sure border PoE are counted as within\n",
    "\n",
    "admin1_df['geometry_buffer']=admin1_df.geometry.buffer(0.005)"
   ]
  },
  {
   "cell_type": "code",
   "execution_count": 308,
   "metadata": {},
   "outputs": [],
   "source": [
    "districts=[]\n",
    "\n",
    "for i in poe_df.index:\n",
    "    mask = []\n",
    "    for j in admin1_df.index:\n",
    "        test = poe_df.loc[i,'geometry'].within(admin1_df.loc[j,'geometry_buffer'])\n",
    "        mask.append(test)\n",
    "    admin1_df['mask']=mask\n",
    "    district = admin1_df['DName2019'][admin1_df['mask']==True]\n",
    "    if len(district)==1:\n",
    "        districts.append(district.iloc[0])\n",
    "    else:\n",
    "        districts.append(None)\n",
    "\n",
    "poe_df['district'] = districts"
   ]
  },
  {
   "cell_type": "code",
   "execution_count": 309,
   "metadata": {},
   "outputs": [],
   "source": [
    "mask = []\n",
    "for j in admin1_df.index:\n",
    "    test = poe_df.loc[14,'geometry'].within(admin1_df.loc[j,'geometry'],)\n",
    "    mask.append(test)\n",
    "admin1_df['mask']=mask\n",
    "district = admin1_df['DName2019'][admin1_df['mask']==True]"
   ]
  },
  {
   "cell_type": "code",
   "execution_count": 310,
   "metadata": {},
   "outputs": [],
   "source": [
    "poe_df.drop(['geometry','lat','lon'],inplace=True,axis=1)"
   ]
  },
  {
   "cell_type": "code",
   "execution_count": 311,
   "metadata": {},
   "outputs": [],
   "source": [
    "poe_geom=poe_df.merge(admin1_df[['geometry','DName2019']],left_on='district',right_on='DName2019',how='inner')"
   ]
  },
  {
   "cell_type": "code",
   "execution_count": 312,
   "metadata": {},
   "outputs": [],
   "source": [
    "poe_geom.drop_duplicates('DName2019',inplace=True)"
   ]
  },
  {
   "cell_type": "code",
   "execution_count": 313,
   "metadata": {},
   "outputs": [
    {
     "data": {
      "text/plain": [
       "<matplotlib.axes._subplots.AxesSubplot at 0x20188c6ca30>"
      ]
     },
     "execution_count": 313,
     "metadata": {},
     "output_type": "execute_result"
    },
    {
     "data": {
      "image/png": "[encoded data removed]",
      "text/plain": [
       "<Figure size 432x288 with 1 Axes>"
      ]
     },
     "metadata": {
      "needs_background": "light"
     },
     "output_type": "display_data"
    }
   ],
   "source": [
    "poe_geom.plot()"
   ]
  },
  {
   "cell_type": "markdown",
   "metadata": {},
   "source": [
    "# Look at border distrcts"
   ]
  },
  {
   "cell_type": "code",
   "execution_count": 314,
   "metadata": {},
   "outputs": [
    {
     "data": {
      "text/html": [
       "<div>\n",
       "<style scoped>\n",
       "    .dataframe tbody tr th:only-of-type {\n",
       "        vertical-align: middle;\n",
       "    }\n",
       "\n",
       "    .dataframe tbody tr th {\n",
       "        vertical-align: top;\n",
       "    }\n",
       "\n",
       "    .dataframe thead th {\n",
       "        text-align: right;\n",
       "    }\n",
       "</style>\n",
       "<table border=\"1\" class=\"dataframe\">\n",
       "  <thead>\n",
       "    <tr style=\"text-align: right;\">\n",
       "      <th></th>\n",
       "      <th>District</th>\n",
       "    </tr>\n",
       "  </thead>\n",
       "  <tbody>\n",
       "    <tr>\n",
       "      <th>0</th>\n",
       "      <td>KOBOKO</td>\n",
       "    </tr>\n",
       "    <tr>\n",
       "      <th>1</th>\n",
       "      <td>YUMBE</td>\n",
       "    </tr>\n",
       "    <tr>\n",
       "      <th>2</th>\n",
       "      <td>MOYO</td>\n",
       "    </tr>\n",
       "    <tr>\n",
       "      <th>3</th>\n",
       "      <td>ADJUMANI</td>\n",
       "    </tr>\n",
       "    <tr>\n",
       "      <th>4</th>\n",
       "      <td>AMURU</td>\n",
       "    </tr>\n",
       "  </tbody>\n",
       "</table>\n",
       "</div>"
      ],
      "text/plain": [
       "   District\n",
       "0    KOBOKO\n",
       "1     YUMBE\n",
       "2      MOYO\n",
       "3  ADJUMANI\n",
       "4     AMURU"
      ]
     },
     "execution_count": 314,
     "metadata": {},
     "output_type": "execute_result"
    }
   ],
   "source": [
    "border_df.head()"
   ]
  },
  {
   "cell_type": "code",
   "execution_count": 315,
   "metadata": {},
   "outputs": [
    {
     "data": {
      "text/plain": [
       "<matplotlib.axes._subplots.AxesSubplot at 0x20186b46670>"
      ]
     },
     "execution_count": 315,
     "metadata": {},
     "output_type": "execute_result"
    },
    {
     "data": {
      "image/png": "[encoded data removed]",
      "text/plain": [
       "<Figure size 432x288 with 1 Axes>"
      ]
     },
     "metadata": {
      "needs_background": "light"
     },
     "output_type": "display_data"
    }
   ],
   "source": [
    "congo = [\"Kisoro\",\"Kanungu\",\"Rubirizi\",\"Kasese\",\"Rukungiri\",\"Bundibugyo\",\n",
    "         \"Ntoroko\",\"kikuube\",\"Hoima\",\"Buliisa\",\n",
    "         \"Pakwach\",\"Nebbi\",\"Zombo\",\"Maracha\", \"Arua\"]\n",
    "sudan = [\"Koboko\",\"Yumbe\",\"Moyo\",\"Adjumani\",\"Amuru\",\n",
    "         \"Lamwo\",\"Kitgum\",\"Karenga\",\"Kaabong\"]\n",
    "kenya = [\"Moroto\",\"Amudat\",\"Bukwo\",\"Kween\",\n",
    "         \"Bududa\",\"Namisindwa\",\"Tororo\",\"Busia\",\n",
    "         \"Namayingo\"]\n",
    "tanzania = [\"Mayuge\",\"Buvuma\",\"Kalangala\",\"Buikwe\",\n",
    "         \"Mukono\",\"Kampala\",\"Wakiso\",\"Mpigi\",\n",
    "          \"Kalungu\",\"Masaka\",\"Kyotera\",\"Rakai\",\"Isingiro\"]\n",
    "rwanda = [\"Ntungamo\",\"Kabale\",\"Kisoro\",\"Rukiga\",\"Jinja\",\"Rubanda\"]            \n",
    "         \n",
    "\n",
    "border_districts = sudan + kenya + tanzania + rwanda + congo\n",
    "border_districts = [x.upper() for x in border_districts]\n",
    "border_df  = pd.DataFrame()\n",
    "border_df[\"District\"] = border_districts\n",
    "border_df.drop_duplicates(inplace=True)\n",
    "\n",
    "border_districts = admin1_df.merge(border_df, left_on='DName2019',right_on=\"District\")\n",
    "border_districts.drop_duplicates('DName2019',inplace=True)\n",
    "border_districts.plot()"
   ]
  },
  {
   "cell_type": "markdown",
   "metadata": {},
   "source": [
    "### Border districts without official PoE"
   ]
  },
  {
   "cell_type": "code",
   "execution_count": 316,
   "metadata": {},
   "outputs": [],
   "source": [
    "# Turns out this step is redundant, all PoE are within a border district\n",
    "\n",
    "border_with_poe_full = border_districts.merge(poe_data[['name','district']],how='inner',left_on='District',right_on=\"district\")\n",
    "border_with_poe = border_with_poe_full[['District','geometry']].copy()\n",
    "border_with_poe.drop_duplicates('District',inplace=True)"
   ]
  },
  {
   "cell_type": "code",
   "execution_count": 317,
   "metadata": {},
   "outputs": [],
   "source": [
    "border_without_poe.reset_index(inplace=True)"
   ]
  },
  {
   "cell_type": "code",
   "execution_count": 318,
   "metadata": {},
   "outputs": [
    {
     "data": {
      "text/plain": [
       "<matplotlib.axes._subplots.AxesSubplot at 0x2018362c490>"
      ]
     },
     "execution_count": 318,
     "metadata": {},
     "output_type": "execute_result"
    },
    {
     "data": {
      "image/png": "[encoded data removed]",
      "text/plain": [
       "<Figure size 432x288 with 1 Axes>"
      ]
     },
     "metadata": {
      "needs_background": "light"
     },
     "output_type": "display_data"
    }
   ],
   "source": [
    "border_without_poe.plot()"
   ]
  },
  {
   "cell_type": "code",
   "execution_count": 319,
   "metadata": {},
   "outputs": [
    {
     "name": "stdout",
     "output_type": "stream",
     "text": [
      "51 51\n"
     ]
    }
   ],
   "source": [
    "print(len(border_without_poe)+len(border_with_poe),len(border_districts))"
   ]
  },
  {
   "cell_type": "markdown",
   "metadata": {},
   "source": [
    "# Look at distances with closest PoE"
   ]
  },
  {
   "cell_type": "code",
   "execution_count": 320,
   "metadata": {},
   "outputs": [],
   "source": [
    "admin1_df['centroid']=admin1_df['geometry'].centroid"
   ]
  },
  {
   "cell_type": "code",
   "execution_count": 321,
   "metadata": {},
   "outputs": [
    {
     "data": {
      "text/html": [
       "<div>\n",
       "<style scoped>\n",
       "    .dataframe tbody tr th:only-of-type {\n",
       "        vertical-align: middle;\n",
       "    }\n",
       "\n",
       "    .dataframe tbody tr th {\n",
       "        vertical-align: top;\n",
       "    }\n",
       "\n",
       "    .dataframe thead th {\n",
       "        text-align: right;\n",
       "    }\n",
       "</style>\n",
       "<table border=\"1\" class=\"dataframe\">\n",
       "  <thead>\n",
       "    <tr style=\"text-align: right;\">\n",
       "      <th></th>\n",
       "      <th>name</th>\n",
       "      <th>lon</th>\n",
       "      <th>lat</th>\n",
       "      <th>geometry</th>\n",
       "      <th>district</th>\n",
       "    </tr>\n",
       "  </thead>\n",
       "  <tbody>\n",
       "    <tr>\n",
       "      <th>0</th>\n",
       "      <td>Port Bell</td>\n",
       "      <td>32.654000</td>\n",
       "      <td>0.290000</td>\n",
       "      <td>POINT (32.65400 0.29000)</td>\n",
       "      <td>KAMPALA</td>\n",
       "    </tr>\n",
       "    <tr>\n",
       "      <th>1</th>\n",
       "      <td>Entebbe Airport</td>\n",
       "      <td>32.443055</td>\n",
       "      <td>0.044721</td>\n",
       "      <td>POINT (32.44306 0.04472)</td>\n",
       "      <td>WAKISO</td>\n",
       "    </tr>\n",
       "    <tr>\n",
       "      <th>2</th>\n",
       "      <td>Kiyindi</td>\n",
       "      <td>33.145901</td>\n",
       "      <td>0.279041</td>\n",
       "      <td>POINT (33.14590 0.27904)</td>\n",
       "      <td>BUIKWE</td>\n",
       "    </tr>\n",
       "    <tr>\n",
       "      <th>3</th>\n",
       "      <td>Katosi</td>\n",
       "      <td>32.803276</td>\n",
       "      <td>0.143008</td>\n",
       "      <td>POINT (32.80328 0.14301)</td>\n",
       "      <td>MUKONO</td>\n",
       "    </tr>\n",
       "    <tr>\n",
       "      <th>4</th>\n",
       "      <td>Mutukula</td>\n",
       "      <td>31.416706</td>\n",
       "      <td>-1.000000</td>\n",
       "      <td>POINT (31.41671 -1.00000)</td>\n",
       "      <td>KYOTERA</td>\n",
       "    </tr>\n",
       "  </tbody>\n",
       "</table>\n",
       "</div>"
      ],
      "text/plain": [
       "              name        lon       lat                   geometry district\n",
       "0        Port Bell  32.654000  0.290000   POINT (32.65400 0.29000)  KAMPALA\n",
       "1  Entebbe Airport  32.443055  0.044721   POINT (32.44306 0.04472)   WAKISO\n",
       "2          Kiyindi  33.145901  0.279041   POINT (33.14590 0.27904)   BUIKWE\n",
       "3           Katosi  32.803276  0.143008   POINT (32.80328 0.14301)   MUKONO\n",
       "4         Mutukula  31.416706 -1.000000  POINT (31.41671 -1.00000)  KYOTERA"
      ]
     },
     "execution_count": 321,
     "metadata": {},
     "output_type": "execute_result"
    }
   ],
   "source": [
    "#WIP\n",
    "\n",
    "# Getting this csv into a shapefile\n",
    "\n",
    "# creating a geometry column \n",
    "geometry = [Point(xy) for xy in zip(poe_data['lon'], poe_data['lat'])]\n",
    "\n",
    "# Coordinate reference system : WGS84\n",
    "crs = CRS('epsg:4326')\n",
    "\n",
    "# Creating a Geographic data frame \n",
    "poe_df = gpd.GeoDataFrame(poe_data, crs=crs, geometry=geometry)\n",
    "\n",
    "poe_df.head()"
   ]
  },
  {
   "cell_type": "code",
   "execution_count": 322,
   "metadata": {},
   "outputs": [
    {
     "name": "stdout",
     "output_type": "stream",
     "text": [
      "KAMPALA\n",
      " KAMPALA\n",
      " 0.0625712513573998\n",
      "KAMPALA\n",
      " WAKISO\n",
      " 0.3116547024145487\n",
      "KAMPALA\n",
      " MUKONO\n",
      " 0.26906581283153397\n"
     ]
    }
   ],
   "source": [
    "print(admin1_df.loc[95,'DName2019']+\"\\n\",\n",
    "      poe_df.loc[0,'district']+\"\\n\",\n",
    "      admin1_df.loc[95,'centroid'].distance(poe_df.loc[0,'geometry']))\n",
    "\n",
    "print(admin1_df.loc[95,'DName2019']+\"\\n\",\n",
    "      poe_df.loc[1,'district']+\"\\n\",\n",
    "      admin1_df.loc[95,'centroid'].distance(poe_df.loc[1,'geometry']))\n",
    "\n",
    "print(admin1_df.loc[95,'DName2019']+\"\\n\",\n",
    "      poe_df.loc[3,'district']+\"\\n\",\n",
    "      admin1_df.loc[95,'centroid'].distance(poe_df.loc[3,'geometry']))"
   ]
  },
  {
   "cell_type": "code",
   "execution_count": 323,
   "metadata": {},
   "outputs": [],
   "source": [
    "dist_min = []\n",
    "in_km = 110.895 # from http://www.csgnetwork.com/degreelenllavcalc.html\n",
    "\n",
    "for i in admin1_df.index:\n",
    "    i_dist = []\n",
    "    for j in poe_df.index:\n",
    "        d=min(admin1_df.loc[i,'geometry'].hausdorff_distance(poe_df.loc[j,'geometry'])*in_km,\n",
    "              admin1_df.loc[i,'centroid'].distance(poe_df.loc[j,'geometry'])*in_km)\n",
    "        i_dist.append(d)\n",
    "    dist_min.append(min(i_dist))\n",
    "admin1_df['dist_min'] = dist_min"
   ]
  },
  {
   "cell_type": "code",
   "execution_count": 324,
   "metadata": {},
   "outputs": [],
   "source": [
    "admin1_df['-70']=list(admin1_df['dist_min']<=70)"
   ]
  },
  {
   "cell_type": "code",
   "execution_count": 325,
   "metadata": {},
   "outputs": [
    {
     "data": {
      "text/plain": [
       "88"
      ]
     },
     "execution_count": 325,
     "metadata": {},
     "output_type": "execute_result"
    }
   ],
   "source": [
    "sum(list(admin1_df['dist_min']<=70))"
   ]
  },
  {
   "cell_type": "code",
   "execution_count": 326,
   "metadata": {},
   "outputs": [],
   "source": [
    "border_with_poe['tag']=1\n",
    "border_without_poe['tag']=2\n",
    "\n",
    "border_with_poe_target=border_with_poe[['District','tag']]\n",
    "border_with_poe_target.set_index('District',drop=True,inplace=True)\n",
    "\n",
    "border_without_poe_target=border_without_poe[['District','tag']]\n",
    "border_without_poe_target.set_index('District',drop=True,inplace=True)"
   ]
  },
  {
   "cell_type": "code",
   "execution_count": 327,
   "metadata": {},
   "outputs": [],
   "source": [
    "poe=pd.concat([border_with_poe_target,border_without_poe_target])"
   ]
  },
  {
   "cell_type": "code",
   "execution_count": 328,
   "metadata": {},
   "outputs": [],
   "source": [
    "admin1_df=admin1_df.join(poe,on='DName2019')"
   ]
  },
  {
   "cell_type": "code",
   "execution_count": 329,
   "metadata": {},
   "outputs": [],
   "source": [
    "admin1_df.drop(['F15Regions','DName2016','DNama2017','dc2017','DName2018','dc2018','geometry_buffer','mask','centroid'],inplace=True,axis=1)"
   ]
  },
  {
   "cell_type": "code",
   "execution_count": 330,
   "metadata": {},
   "outputs": [],
   "source": [
    "admin1_df['tag'] = np.where((admin1_df['-70'] == True)&(admin1_df['tag'].isnull()), 3, admin1_df['tag'])\n",
    "admin1_df['tag'] = np.where(admin1_df['tag'].isnull(), 4, admin1_df['tag'])"
   ]
  },
  {
   "cell_type": "markdown",
   "metadata": {},
   "source": [
    "# Look at the road network"
   ]
  },
  {
   "cell_type": "code",
   "execution_count": 332,
   "metadata": {},
   "outputs": [],
   "source": [
    "road_path='../Data/Roads/uga_trs_roads_osm.shp'\n",
    "road_df = gpd.read_file(road_path)"
   ]
  },
  {
   "cell_type": "code",
   "execution_count": 333,
   "metadata": {},
   "outputs": [],
   "source": [
    "road_select_df = road_df[['ntlclass','geometry']].copy()\n",
    "road_select_df.rename({'ntlclass':'level'},axis=1,inplace=True)"
   ]
  },
  {
   "cell_type": "code",
   "execution_count": 334,
   "metadata": {},
   "outputs": [],
   "source": [
    "to_keep=['motorway','trunk','primary','secondary','tertiary']\n",
    "large = ['motorway','trunk','primary']\n",
    "\n",
    "road_target_df=road_select_df[road_select_df['level'].isin(to_keep)].copy()"
   ]
  },
  {
   "cell_type": "code",
   "execution_count": 335,
   "metadata": {},
   "outputs": [],
   "source": [
    "road_target_df['road_kept']=road_target_df['level'].isin(large)"
   ]
  },
  {
   "cell_type": "code",
   "execution_count": 336,
   "metadata": {},
   "outputs": [],
   "source": [
    "large_roads_df=road_target_df[road_target_df['road_kept']==True].copy()"
   ]
  },
  {
   "cell_type": "code",
   "execution_count": 341,
   "metadata": {},
   "outputs": [],
   "source": [
    "large_roads_df.reset_index(drop=True, inplace=True)"
   ]
  },
  {
   "cell_type": "markdown",
   "metadata": {},
   "source": [
    "# Look at the road and district intersects"
   ]
  },
  {
   "cell_type": "code",
   "execution_count": 377,
   "metadata": {},
   "outputs": [],
   "source": [
    "admin1_df['road_cross']=0\n",
    "\n",
    "for i in large_roads_df.index:\n",
    "    inter_add=[]\n",
    "    for j in admin1_df.index:\n",
    "        inter = large_roads_df.loc[i,'geometry'].intersection(admin1_df.loc[j,'geometry']).length\n",
    "        inter_add.append(inter*in_km) # din_km defined above\n",
    "    admin1_df['inter_add']=inter_add\n",
    "    admin1_df['road_cross']= admin1_df['road_cross']+admin1_df['inter_add']"
   ]
  },
  {
   "cell_type": "code",
   "execution_count": 378,
   "metadata": {},
   "outputs": [],
   "source": [
    "admin1_df.drop(['geometry','inter_add'],inplace=True,axis=1)"
   ]
  },
  {
   "cell_type": "code",
   "execution_count": 381,
   "metadata": {},
   "outputs": [],
   "source": [
    "admin1_df['tag'] = np.where((admin1_df['tag']==4)&(admin1_df['road_cross']>1), 5, admin1_df['tag'])"
   ]
  },
  {
   "cell_type": "code",
   "execution_count": 383,
   "metadata": {},
   "outputs": [],
   "source": [
    "admin1_df.to_csv('../Data/Results/poe_dist_map.csv')"
   ]
  },
  {
   "cell_type": "code",
   "execution_count": 384,
   "metadata": {},
   "outputs": [],
   "source": [
    "large_roads_df.to_file('../Data/Results/Road shapes/large_roads.shp')"
   ]
  },
  {
   "cell_type": "code",
   "execution_count": null,
   "metadata": {},
   "outputs": [],
   "source": []
  }
 ],
 "metadata": {
  "kernelspec": {
   "display_name": "Python 3",
   "language": "python",
   "name": "python3"
  },
  "language_info": {
   "codemirror_mode": {
    "name": "ipython",
    "version": 3
   },
   "file_extension": ".py",
   "mimetype": "text/x-python",
   "name": "python",
   "nbconvert_exporter": "python",
   "pygments_lexer": "ipython3",
   "version": "3.8.2"
  }
 },
 "nbformat": 4,
 "nbformat_minor": 4
}
