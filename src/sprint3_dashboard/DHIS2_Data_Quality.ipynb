{
 "cells": [
  {
   "cell_type": "code",
   "execution_count": 120,
   "metadata": {},
   "outputs": [],
   "source": [
    "import pandas as pd\n",
    "import numpy as np\n",
    "from pandas import ExcelWriter\n",
    "import openpyxl\n",
    "import geopandas as gpd"
   ]
  },
  {
   "cell_type": "code",
   "execution_count": 118,
   "metadata": {},
   "outputs": [],
   "source": [
    "input_path='../../data/input/dhis2/new_system/'\n",
    "output_path='../../data/output/sprint3_analysis/'\n",
    "shapes_path='../../data/shapes/district/districts_17_19.shp'"
   ]
  },
  {
   "cell_type": "code",
   "execution_count": 119,
   "metadata": {},
   "outputs": [],
   "source": [
    "df_Jan = pd.read_csv(input_path+'Data_elements_(Cases)_jan.csv')\n",
    "df_Feb = pd.read_csv(input_path+'Data_elements_(Cases)_feb.csv')\n",
    "df_Mar = pd.read_csv(input_path+'Data_elements_(Cases)_march.csv')\n",
    "df_Apr = pd.read_csv(input_path+'Data_elements_(Cases)_april.csv')"
   ]
  },
  {
   "cell_type": "code",
   "execution_count": 10,
   "metadata": {},
   "outputs": [],
   "source": [
    "districts = df_Feb[df_Feb['Data']=='033B-CD01a. Malaria (diagnosed)  - Cases']['Organisation unit']"
   ]
  },
  {
   "cell_type": "code",
   "execution_count": 11,
   "metadata": {},
   "outputs": [],
   "source": [
    "def data_Quality(indicator):\n",
    "    df = pd.DataFrame(districts).reset_index(drop=True)\n",
    "\n",
    "    Jan = df_Jan[df_Jan['Data']==indicator].drop('Data', axis=1)\n",
    "    Feb = df_Feb[df_Feb['Data']==indicator].drop('Data', axis=1)\n",
    "    March = df_Mar[df_Mar['Data']==indicator].drop('Data', axis=1)\n",
    "    April = df_Apr[df_Apr['Data']==indicator].drop('Data', axis=1)\n",
    "    \n",
    "    #print(Jan.shape[0]+ Feb.shape[0]+ March.shape[0] + April.shape[0])\n",
    "\n",
    "    df_final = Jan.merge(Feb,on='Organisation unit', how='outer').merge(March,on='Organisation unit', how='outer').merge(April,on='Organisation unit', how='outer')\n",
    "    #df_final.columns = [\"Districts\", \"Jan_\"+indicator, \"Feb_\"+indicator, \"Mar_\"+indicator, \"Apr_\"+indicator]\n",
    "    df_final.set_index('Organisation unit',drop=True, inplace=True)\n",
    "    columns = [(indicator,\"Jan\"), (indicator,\"Feb\"),(indicator,\"Mar\"),(indicator,\"Avr\")]\n",
    "    df_final.columns=pd.MultiIndex.from_tuples(columns)\n",
    "    return df_final\n"
   ]
  },
  {
   "cell_type": "code",
   "execution_count": 12,
   "metadata": {},
   "outputs": [
    {
     "data": {
      "text/html": [
       "<div>\n",
       "<style scoped>\n",
       "    .dataframe tbody tr th:only-of-type {\n",
       "        vertical-align: middle;\n",
       "    }\n",
       "\n",
       "    .dataframe tbody tr th {\n",
       "        vertical-align: top;\n",
       "    }\n",
       "\n",
       "    .dataframe thead tr th {\n",
       "        text-align: left;\n",
       "    }\n",
       "\n",
       "    .dataframe thead tr:last-of-type th {\n",
       "        text-align: right;\n",
       "    }\n",
       "</style>\n",
       "<table border=\"1\" class=\"dataframe\">\n",
       "  <thead>\n",
       "    <tr>\n",
       "      <th></th>\n",
       "      <th colspan=\"4\" halign=\"left\">033B-CD01a. Malaria (diagnosed)  - Cases</th>\n",
       "    </tr>\n",
       "    <tr>\n",
       "      <th></th>\n",
       "      <th>Jan</th>\n",
       "      <th>Feb</th>\n",
       "      <th>Mar</th>\n",
       "      <th>Avr</th>\n",
       "    </tr>\n",
       "    <tr>\n",
       "      <th>Organisation unit</th>\n",
       "      <th></th>\n",
       "      <th></th>\n",
       "      <th></th>\n",
       "      <th></th>\n",
       "    </tr>\n",
       "  </thead>\n",
       "  <tbody>\n",
       "    <tr>\n",
       "      <th>Amuria District</th>\n",
       "      <td>2025.0</td>\n",
       "      <td>6710.0</td>\n",
       "      <td>7877.0</td>\n",
       "      <td>9388.0</td>\n",
       "    </tr>\n",
       "    <tr>\n",
       "      <th>Amuru District</th>\n",
       "      <td>5622.0</td>\n",
       "      <td>9317.0</td>\n",
       "      <td>8246.0</td>\n",
       "      <td>10237.0</td>\n",
       "    </tr>\n",
       "    <tr>\n",
       "      <th>Sironko District</th>\n",
       "      <td>398.0</td>\n",
       "      <td>1964.0</td>\n",
       "      <td>1868.0</td>\n",
       "      <td>1841.0</td>\n",
       "    </tr>\n",
       "    <tr>\n",
       "      <th>Kitgum District</th>\n",
       "      <td>1944.0</td>\n",
       "      <td>6135.0</td>\n",
       "      <td>6420.0</td>\n",
       "      <td>7846.0</td>\n",
       "    </tr>\n",
       "    <tr>\n",
       "      <th>Kitagwenda District</th>\n",
       "      <td>537.0</td>\n",
       "      <td>2732.0</td>\n",
       "      <td>1926.0</td>\n",
       "      <td>2765.0</td>\n",
       "    </tr>\n",
       "    <tr>\n",
       "      <th>...</th>\n",
       "      <td>...</td>\n",
       "      <td>...</td>\n",
       "      <td>...</td>\n",
       "      <td>...</td>\n",
       "    </tr>\n",
       "    <tr>\n",
       "      <th>Karenga District</th>\n",
       "      <td>46.0</td>\n",
       "      <td>1614.0</td>\n",
       "      <td>1607.0</td>\n",
       "      <td>1470.0</td>\n",
       "    </tr>\n",
       "    <tr>\n",
       "      <th>Mayuge District</th>\n",
       "      <td>2625.0</td>\n",
       "      <td>12442.0</td>\n",
       "      <td>9096.0</td>\n",
       "      <td>7701.0</td>\n",
       "    </tr>\n",
       "    <tr>\n",
       "      <th>Moroto District</th>\n",
       "      <td>1285.0</td>\n",
       "      <td>3315.0</td>\n",
       "      <td>1734.0</td>\n",
       "      <td>2439.0</td>\n",
       "    </tr>\n",
       "    <tr>\n",
       "      <th>Sembabule District</th>\n",
       "      <td>3671.0</td>\n",
       "      <td>4672.0</td>\n",
       "      <td>2309.0</td>\n",
       "      <td>2545.0</td>\n",
       "    </tr>\n",
       "    <tr>\n",
       "      <th>Amudat District</th>\n",
       "      <td>NaN</td>\n",
       "      <td>1328.0</td>\n",
       "      <td>568.0</td>\n",
       "      <td>1388.0</td>\n",
       "    </tr>\n",
       "  </tbody>\n",
       "</table>\n",
       "<p>135 rows × 4 columns</p>\n",
       "</div>"
      ],
      "text/plain": [
       "                    033B-CD01a. Malaria (diagnosed)  - Cases                   \\\n",
       "                                                         Jan      Feb     Mar   \n",
       "Organisation unit                                                               \n",
       "Amuria District                                       2025.0   6710.0  7877.0   \n",
       "Amuru District                                        5622.0   9317.0  8246.0   \n",
       "Sironko District                                       398.0   1964.0  1868.0   \n",
       "Kitgum District                                       1944.0   6135.0  6420.0   \n",
       "Kitagwenda District                                    537.0   2732.0  1926.0   \n",
       "...                                                      ...      ...     ...   \n",
       "Karenga District                                        46.0   1614.0  1607.0   \n",
       "Mayuge District                                       2625.0  12442.0  9096.0   \n",
       "Moroto District                                       1285.0   3315.0  1734.0   \n",
       "Sembabule District                                    3671.0   4672.0  2309.0   \n",
       "Amudat District                                          NaN   1328.0   568.0   \n",
       "\n",
       "                              \n",
       "                         Avr  \n",
       "Organisation unit             \n",
       "Amuria District       9388.0  \n",
       "Amuru District       10237.0  \n",
       "Sironko District      1841.0  \n",
       "Kitgum District       7846.0  \n",
       "Kitagwenda District   2765.0  \n",
       "...                      ...  \n",
       "Karenga District      1470.0  \n",
       "Mayuge District       7701.0  \n",
       "Moroto District       2439.0  \n",
       "Sembabule District    2545.0  \n",
       "Amudat District       1388.0  \n",
       "\n",
       "[135 rows x 4 columns]"
      ]
     },
     "execution_count": 12,
     "metadata": {},
     "output_type": "execute_result"
    }
   ],
   "source": [
    "data_Quality('033B-CD01a. Malaria (diagnosed)  - Cases')"
   ]
  },
  {
   "cell_type": "markdown",
   "metadata": {},
   "source": [
    "# Data elements"
   ]
  },
  {
   "cell_type": "code",
   "execution_count": 17,
   "metadata": {},
   "outputs": [],
   "source": [
    "multi_index=pd.MultiIndex.from_tuples([('Test','test')])\n",
    "data_elements=pd.DataFrame(index=districts,columns=multi_index)"
   ]
  },
  {
   "cell_type": "code",
   "execution_count": 18,
   "metadata": {},
   "outputs": [],
   "source": [
    "indicators = df_Jan['Data'].unique()\n",
    "for indicator in indicators:\n",
    "    df_months = data_Quality(indicator)\n",
    "    data_elements = pd.merge(data_elements, df_months, how='left',left_index=True,right_index=True) "
   ]
  },
  {
   "cell_type": "code",
   "execution_count": 19,
   "metadata": {},
   "outputs": [],
   "source": [
    "data_elements.drop('test',axis=1,inplace=True,level=1)"
   ]
  },
  {
   "cell_type": "code",
   "execution_count": 20,
   "metadata": {},
   "outputs": [],
   "source": [
    "null_sum1= data_elements.count()/135"
   ]
  },
  {
   "cell_type": "markdown",
   "metadata": {},
   "source": [
    "# Indicators "
   ]
  },
  {
   "cell_type": "code",
   "execution_count": 21,
   "metadata": {},
   "outputs": [],
   "source": [
    "df_Jan = pd.read_csv(input_path+'Indicator_January.csv')\n",
    "df_Feb = pd.read_csv(input_path+'Indicator_Feb.csv')\n",
    "df_Mar = pd.read_csv(input_path+'Indicator_march.csv')\n",
    "df_Apr = pd.read_csv(input_path+'Indicator_April.csv')"
   ]
  },
  {
   "cell_type": "code",
   "execution_count": 22,
   "metadata": {},
   "outputs": [],
   "source": [
    "districts = df_Feb[df_Feb['Data']=='EPI - BCG doses given']['Organisation unit'].unique()\n",
    "multi_index=pd.MultiIndex.from_tuples([('Test','test')])"
   ]
  },
  {
   "cell_type": "code",
   "execution_count": 23,
   "metadata": {},
   "outputs": [],
   "source": [
    "data_Indicators=pd.DataFrame(index=districts,columns=multi_index)"
   ]
  },
  {
   "cell_type": "code",
   "execution_count": 24,
   "metadata": {},
   "outputs": [],
   "source": [
    "indicators = df_Jan['Data'].unique()\n",
    "for indicator in indicators:\n",
    "    df_months = data_Quality(indicator)\n",
    "    data_Indicators = pd.merge(data_Indicators, df_months, how='left',left_index=True,right_index=True)"
   ]
  },
  {
   "cell_type": "code",
   "execution_count": 25,
   "metadata": {},
   "outputs": [
    {
     "name": "stderr",
     "output_type": "stream",
     "text": [
      "C:\\Users\\Dalberg\\anaconda3\\envs\\icohs\\lib\\site-packages\\pandas\\core\\generic.py:3936: PerformanceWarning: dropping on a non-lexsorted multi-index without a level parameter may impact performance.\n",
      "  obj = obj._drop_axis(labels, axis, level=level, errors=errors)\n"
     ]
    }
   ],
   "source": [
    "data_Indicators.reset_index(inplace=True)\n",
    "data_Indicators=data_Indicators.groupby('index',axis=0).mean() # This shouldnt be needed, there might be a bug"
   ]
  },
  {
   "cell_type": "code",
   "execution_count": 71,
   "metadata": {},
   "outputs": [
    {
     "data": {
      "text/plain": [
       "105- Total Linked to HIV care (1-4 Yrs) - Female                          Jan    0.644444\n",
       "                                                                          Feb    0.644444\n",
       "                                                                          Mar    0.644444\n",
       "                                                                          Avr    0.562963\n",
       "105- Total Linked to HIV care (1-4 Yrs) - Male                            Jan    0.651852\n",
       "                                                                                   ...   \n",
       "TB-Weekly - Percentage  of samples tested with GeneXpert out of expected  Avr    0.814815\n",
       "TB-Weekly - Percentage  of weekly attendance screened for TB              Jan    0.681481\n",
       "                                                                          Feb    1.000000\n",
       "                                                                          Mar    1.000000\n",
       "                                                                          Avr    1.000000\n",
       "Length: 1052, dtype: float64"
      ]
     },
     "execution_count": 71,
     "metadata": {},
     "output_type": "execute_result"
    }
   ],
   "source": [
    "null_sum2= data_Indicators.count()/135"
   ]
  },
  {
   "cell_type": "markdown",
   "metadata": {},
   "source": [
    "# Putting the data together and making sure teh district names match our shapefile"
   ]
  },
  {
   "cell_type": "code",
   "execution_count": 27,
   "metadata": {},
   "outputs": [],
   "source": [
    "# Looking at data quality and null data in one place\n",
    "\n",
    "null_sum=pd.concat([null_sum1,null_sum2])\n",
    "null_sum_df = pd.DataFrame(null_sum)\n",
    "null_sum_df.columns = ['% of data available']\n",
    "null_sum_df.index.rename(['indicator','month'],inplace=True)\n",
    "null_av_df=null_sum_df.groupby('indicator')['% of data available'].mean()"
   ]
  },
  {
   "cell_type": "code",
   "execution_count": 28,
   "metadata": {},
   "outputs": [],
   "source": [
    "#Putting both our data together\n",
    "data=pd.merge(data_Indicators,data_elements,how='inner',left_index=True,right_index=True)"
   ]
  },
  {
   "cell_type": "code",
   "execution_count": 124,
   "metadata": {},
   "outputs": [],
   "source": [
    "data.rename(index=lambda s: s [:-9],inplace=True)\n",
    "data.rename(index=str.upper,inplace=True)"
   ]
  },
  {
   "cell_type": "code",
   "execution_count": 126,
   "metadata": {},
   "outputs": [
    {
     "data": {
      "text/html": [
       "<div>\n",
       "<style scoped>\n",
       "    .dataframe tbody tr th:only-of-type {\n",
       "        vertical-align: middle;\n",
       "    }\n",
       "\n",
       "    .dataframe tbody tr th {\n",
       "        vertical-align: top;\n",
       "    }\n",
       "\n",
       "    .dataframe thead tr th {\n",
       "        text-align: left;\n",
       "    }\n",
       "</style>\n",
       "<table border=\"1\" class=\"dataframe\">\n",
       "  <thead>\n",
       "    <tr>\n",
       "      <th></th>\n",
       "      <th colspan=\"4\" halign=\"left\">105- Total Linked to HIV care (1-4 Yrs) - Female</th>\n",
       "      <th colspan=\"4\" halign=\"left\">105- Total Linked to HIV care (1-4 Yrs) - Male</th>\n",
       "      <th colspan=\"2\" halign=\"left\">105- Total Linked to HIV care (10-14Yrs) - Female</th>\n",
       "      <th>...</th>\n",
       "      <th colspan=\"2\" halign=\"left\">033B-CD14d. Hepatitis B- Cases Positive</th>\n",
       "      <th colspan=\"4\" halign=\"left\">033B-CD13d. Typhoid Fever- Cases Positive</th>\n",
       "      <th colspan=\"4\" halign=\"left\">033B-HI11b. Adverse Drug Reactions (ADR) - Deaths</th>\n",
       "    </tr>\n",
       "    <tr>\n",
       "      <th></th>\n",
       "      <th>Jan</th>\n",
       "      <th>Feb</th>\n",
       "      <th>Mar</th>\n",
       "      <th>Avr</th>\n",
       "      <th>Jan</th>\n",
       "      <th>Feb</th>\n",
       "      <th>Mar</th>\n",
       "      <th>Avr</th>\n",
       "      <th>Jan</th>\n",
       "      <th>Feb</th>\n",
       "      <th>...</th>\n",
       "      <th>Mar</th>\n",
       "      <th>Avr</th>\n",
       "      <th>Jan</th>\n",
       "      <th>Feb</th>\n",
       "      <th>Mar</th>\n",
       "      <th>Avr</th>\n",
       "      <th>Jan</th>\n",
       "      <th>Feb</th>\n",
       "      <th>Mar</th>\n",
       "      <th>Avr</th>\n",
       "    </tr>\n",
       "  </thead>\n",
       "  <tbody>\n",
       "    <tr>\n",
       "      <th>ABIM</th>\n",
       "      <td>NaN</td>\n",
       "      <td>0.0</td>\n",
       "      <td>0.0</td>\n",
       "      <td>2.0</td>\n",
       "      <td>NaN</td>\n",
       "      <td>0.0</td>\n",
       "      <td>0.0</td>\n",
       "      <td>NaN</td>\n",
       "      <td>NaN</td>\n",
       "      <td>NaN</td>\n",
       "      <td>...</td>\n",
       "      <td>NaN</td>\n",
       "      <td>NaN</td>\n",
       "      <td>NaN</td>\n",
       "      <td>NaN</td>\n",
       "      <td>NaN</td>\n",
       "      <td>NaN</td>\n",
       "      <td>NaN</td>\n",
       "      <td>NaN</td>\n",
       "      <td>NaN</td>\n",
       "      <td>NaN</td>\n",
       "    </tr>\n",
       "    <tr>\n",
       "      <th>ADJUMANI</th>\n",
       "      <td>1.0</td>\n",
       "      <td>1.0</td>\n",
       "      <td>NaN</td>\n",
       "      <td>0.0</td>\n",
       "      <td>1.0</td>\n",
       "      <td>0.0</td>\n",
       "      <td>3.0</td>\n",
       "      <td>1.0</td>\n",
       "      <td>0.0</td>\n",
       "      <td>0.0</td>\n",
       "      <td>...</td>\n",
       "      <td>NaN</td>\n",
       "      <td>NaN</td>\n",
       "      <td>NaN</td>\n",
       "      <td>NaN</td>\n",
       "      <td>NaN</td>\n",
       "      <td>NaN</td>\n",
       "      <td>NaN</td>\n",
       "      <td>NaN</td>\n",
       "      <td>NaN</td>\n",
       "      <td>NaN</td>\n",
       "    </tr>\n",
       "    <tr>\n",
       "      <th>AGAGO</th>\n",
       "      <td>0.0</td>\n",
       "      <td>0.0</td>\n",
       "      <td>0.0</td>\n",
       "      <td>1.0</td>\n",
       "      <td>0.0</td>\n",
       "      <td>2.0</td>\n",
       "      <td>1.0</td>\n",
       "      <td>0.0</td>\n",
       "      <td>0.0</td>\n",
       "      <td>1.0</td>\n",
       "      <td>...</td>\n",
       "      <td>NaN</td>\n",
       "      <td>NaN</td>\n",
       "      <td>NaN</td>\n",
       "      <td>NaN</td>\n",
       "      <td>NaN</td>\n",
       "      <td>NaN</td>\n",
       "      <td>NaN</td>\n",
       "      <td>NaN</td>\n",
       "      <td>NaN</td>\n",
       "      <td>NaN</td>\n",
       "    </tr>\n",
       "    <tr>\n",
       "      <th>ALEBTONG</th>\n",
       "      <td>NaN</td>\n",
       "      <td>NaN</td>\n",
       "      <td>1.0</td>\n",
       "      <td>NaN</td>\n",
       "      <td>1.0</td>\n",
       "      <td>NaN</td>\n",
       "      <td>NaN</td>\n",
       "      <td>NaN</td>\n",
       "      <td>0.0</td>\n",
       "      <td>1.0</td>\n",
       "      <td>...</td>\n",
       "      <td>NaN</td>\n",
       "      <td>NaN</td>\n",
       "      <td>NaN</td>\n",
       "      <td>NaN</td>\n",
       "      <td>NaN</td>\n",
       "      <td>NaN</td>\n",
       "      <td>NaN</td>\n",
       "      <td>NaN</td>\n",
       "      <td>NaN</td>\n",
       "      <td>NaN</td>\n",
       "    </tr>\n",
       "    <tr>\n",
       "      <th>AMOLATAR</th>\n",
       "      <td>0.0</td>\n",
       "      <td>NaN</td>\n",
       "      <td>1.0</td>\n",
       "      <td>NaN</td>\n",
       "      <td>2.0</td>\n",
       "      <td>NaN</td>\n",
       "      <td>NaN</td>\n",
       "      <td>1.0</td>\n",
       "      <td>0.0</td>\n",
       "      <td>NaN</td>\n",
       "      <td>...</td>\n",
       "      <td>NaN</td>\n",
       "      <td>NaN</td>\n",
       "      <td>NaN</td>\n",
       "      <td>NaN</td>\n",
       "      <td>NaN</td>\n",
       "      <td>NaN</td>\n",
       "      <td>NaN</td>\n",
       "      <td>NaN</td>\n",
       "      <td>NaN</td>\n",
       "      <td>NaN</td>\n",
       "    </tr>\n",
       "  </tbody>\n",
       "</table>\n",
       "<p>5 rows × 1444 columns</p>\n",
       "</div>"
      ],
      "text/plain": [
       "         105- Total Linked to HIV care (1-4 Yrs) - Female                 \\\n",
       "                                                      Jan  Feb  Mar  Avr   \n",
       "ABIM                                                  NaN  0.0  0.0  2.0   \n",
       "ADJUMANI                                              1.0  1.0  NaN  0.0   \n",
       "AGAGO                                                 0.0  0.0  0.0  1.0   \n",
       "ALEBTONG                                              NaN  NaN  1.0  NaN   \n",
       "AMOLATAR                                              0.0  NaN  1.0  NaN   \n",
       "\n",
       "         105- Total Linked to HIV care (1-4 Yrs) - Male                 \\\n",
       "                                                    Jan  Feb  Mar  Avr   \n",
       "ABIM                                                NaN  0.0  0.0  NaN   \n",
       "ADJUMANI                                            1.0  0.0  3.0  1.0   \n",
       "AGAGO                                               0.0  2.0  1.0  0.0   \n",
       "ALEBTONG                                            1.0  NaN  NaN  NaN   \n",
       "AMOLATAR                                            2.0  NaN  NaN  1.0   \n",
       "\n",
       "         105- Total Linked to HIV care (10-14Yrs) - Female       ...  \\\n",
       "                                                       Jan  Feb  ...   \n",
       "ABIM                                                   NaN  NaN  ...   \n",
       "ADJUMANI                                               0.0  0.0  ...   \n",
       "AGAGO                                                  0.0  1.0  ...   \n",
       "ALEBTONG                                               0.0  1.0  ...   \n",
       "AMOLATAR                                               0.0  NaN  ...   \n",
       "\n",
       "         033B-CD14d. Hepatitis B- Cases Positive      \\\n",
       "                                             Mar Avr   \n",
       "ABIM                                         NaN NaN   \n",
       "ADJUMANI                                     NaN NaN   \n",
       "AGAGO                                        NaN NaN   \n",
       "ALEBTONG                                     NaN NaN   \n",
       "AMOLATAR                                     NaN NaN   \n",
       "\n",
       "         033B-CD13d. Typhoid Fever- Cases Positive              \\\n",
       "                                               Jan Feb Mar Avr   \n",
       "ABIM                                           NaN NaN NaN NaN   \n",
       "ADJUMANI                                       NaN NaN NaN NaN   \n",
       "AGAGO                                          NaN NaN NaN NaN   \n",
       "ALEBTONG                                       NaN NaN NaN NaN   \n",
       "AMOLATAR                                       NaN NaN NaN NaN   \n",
       "\n",
       "         033B-HI11b. Adverse Drug Reactions (ADR) - Deaths              \n",
       "                                                       Jan Feb Mar Avr  \n",
       "ABIM                                                   NaN NaN NaN NaN  \n",
       "ADJUMANI                                               NaN NaN NaN NaN  \n",
       "AGAGO                                                  NaN NaN NaN NaN  \n",
       "ALEBTONG                                               NaN NaN NaN NaN  \n",
       "AMOLATAR                                               NaN NaN NaN NaN  \n",
       "\n",
       "[5 rows x 1444 columns]"
      ]
     },
     "execution_count": 126,
     "metadata": {},
     "output_type": "execute_result"
    }
   ],
   "source": [
    "data.head()"
   ]
  },
  {
   "cell_type": "code",
   "execution_count": 121,
   "metadata": {},
   "outputs": [],
   "source": [
    "shapes = gpd.read_file(shapes_path)"
   ]
  },
  {
   "cell_type": "code",
   "execution_count": 150,
   "metadata": {},
   "outputs": [
    {
     "data": {
      "text/plain": [
       "['SSEMBABULE', 'MADI OKOLLO']"
      ]
     },
     "execution_count": 150,
     "metadata": {},
     "output_type": "execute_result"
    }
   ],
   "source": [
    "list(set(shapes['name_19']).difference(set(data_target.index)))"
   ]
  },
  {
   "cell_type": "code",
   "execution_count": 151,
   "metadata": {},
   "outputs": [
    {
     "data": {
      "text/plain": [
       "['SEMBABULE', 'MADI-OKOLLO']"
      ]
     },
     "execution_count": 151,
     "metadata": {},
     "output_type": "execute_result"
    }
   ],
   "source": [
    "list(set(data_target.index).difference(set(shapes['name_19'])))"
   ]
  },
  {
   "cell_type": "code",
   "execution_count": null,
   "metadata": {},
   "outputs": [],
   "source": [
    "dictionary = dict(zip(keys, values))"
   ]
  },
  {
   "cell_type": "markdown",
   "metadata": {},
   "source": [
    "# Selecting relevant indicators"
   ]
  },
  {
   "cell_type": "code",
   "execution_count": 127,
   "metadata": {},
   "outputs": [],
   "source": [
    "target = pd.read_excel(input_path+'Data summary.xlsx',sheet_name='target')"
   ]
  },
  {
   "cell_type": "code",
   "execution_count": 128,
   "metadata": {},
   "outputs": [],
   "source": [
    "target = pd.merge(target,null_av_df,left_on='Var',right_on='indicator',how='left')\n",
    "target['keep']=(target['% of data available']>0.7)"
   ]
  },
  {
   "cell_type": "code",
   "execution_count": 129,
   "metadata": {},
   "outputs": [],
   "source": [
    "with ExcelWriter(input_path+'Data summary.xlsx',mode='a') as writer:\n",
    "   target.to_excel(writer,sheet_name='target_availability')"
   ]
  },
  {
   "cell_type": "code",
   "execution_count": 130,
   "metadata": {},
   "outputs": [],
   "source": [
    "target_indicators=list(target.loc[target['keep']==1,'Var'])\n"
   ]
  },
  {
   "cell_type": "markdown",
   "metadata": {},
   "source": [
    "# Look at EPI data"
   ]
  },
  {
   "cell_type": "code",
   "execution_count": 131,
   "metadata": {},
   "outputs": [],
   "source": [
    "epi_target=['EPI - BCG doses given','EPI - BCG to MR 1 dropout rate (%)','EPI - DPT 1 to DPT3 dropout rate (%)']"
   ]
  },
  {
   "cell_type": "code",
   "execution_count": 141,
   "metadata": {},
   "outputs": [],
   "source": [
    "data_target=data.iloc[:, data.columns.get_level_values(0).isin(epi_target)].copy()\n",
    "#data_target.reset_index(inplace=True)"
   ]
  },
  {
   "cell_type": "code",
   "execution_count": 133,
   "metadata": {},
   "outputs": [
    {
     "name": "stdout",
     "output_type": "stream",
     "text": [
      "indicator                             month\n",
      "EPI - BCG doses given                 Jan      1.000000\n",
      "                                      Feb      1.000000\n",
      "                                      Mar      1.000000\n",
      "                                      Avr      1.000000\n",
      "EPI - BCG to MR 1 dropout rate (%)    Jan      1.000000\n",
      "                                      Feb      1.000000\n",
      "                                      Mar      1.000000\n",
      "                                      Avr      0.992593\n",
      "EPI - DPT 1 to DPT3 dropout rate (%)  Jan      1.000000\n",
      "                                      Feb      1.000000\n",
      "                                      Mar      1.000000\n",
      "                                      Avr      0.992593\n",
      "dtype: float64\n"
     ]
    }
   ],
   "source": [
    "# Is the delta over 4 month the best measure?\n",
    "\n",
    "print(null_sum.loc[epi_target,['Jan','Feb','Mar','Avr']])\n",
    "\n",
    "# Loos like yes, as the reporting rates seem steady over the period \n"
   ]
  },
  {
   "cell_type": "code",
   "execution_count": 142,
   "metadata": {},
   "outputs": [],
   "source": [
    "def get_delta(indicator):\n",
    "    delta=((data_target[(indicator,'Avr')]\n",
    "            -data_target[(indicator,'Jan')])\n",
    "           /data_target[(indicator,'Jan')])\n",
    "    return delta"
   ]
  },
  {
   "cell_type": "code",
   "execution_count": 143,
   "metadata": {},
   "outputs": [],
   "source": [
    "for indicator in epi_target:\n",
    "    data_target[(indicator,'delta_4')]=get_delta(indicator)"
   ]
  },
  {
   "cell_type": "markdown",
   "metadata": {},
   "source": [
    "Weird phenomenon : negative drop out rates \n",
    "\n",
    "\"Check for inconsistency in related indicators – **An example of such inconsistency is when there is a negative dropout over a full year** between the number of children receiving the first dose of DPT vaccine and the number receiving the third dose of the vaccine.  Another example, as illustrated in Figure 1 above, is inconsistency between the number of children receiving DPT vaccine and the number of children receiving OPV vaccine.  Yet another example is when there is a negative “wastage rate” (discussed below) -- when the number of children reported to have received a vaccine is greater than the number of doses of the vaccine reported to have been consumed.\"\n",
    "\n",
    "from this [WHO document](https://www.who.int/healthinfo/FacilityAnalysisGuide_Immunization.pdf?ua=1#page=11)\n"
   ]
  },
  {
   "cell_type": "code",
   "execution_count": 144,
   "metadata": {},
   "outputs": [
    {
     "data": {
      "text/html": [
       "<div>\n",
       "<style scoped>\n",
       "    .dataframe tbody tr th:only-of-type {\n",
       "        vertical-align: middle;\n",
       "    }\n",
       "\n",
       "    .dataframe tbody tr th {\n",
       "        vertical-align: top;\n",
       "    }\n",
       "\n",
       "    .dataframe thead tr th {\n",
       "        text-align: left;\n",
       "    }\n",
       "</style>\n",
       "<table border=\"1\" class=\"dataframe\">\n",
       "  <thead>\n",
       "    <tr>\n",
       "      <th></th>\n",
       "      <th colspan=\"4\" halign=\"left\">EPI - BCG doses given</th>\n",
       "      <th colspan=\"4\" halign=\"left\">EPI - BCG to MR 1 dropout rate (%)</th>\n",
       "      <th colspan=\"4\" halign=\"left\">EPI - DPT 1 to DPT3 dropout rate (%)</th>\n",
       "      <th>EPI - BCG doses given</th>\n",
       "      <th>EPI - BCG to MR 1 dropout rate (%)</th>\n",
       "      <th>EPI - DPT 1 to DPT3 dropout rate (%)</th>\n",
       "    </tr>\n",
       "    <tr>\n",
       "      <th></th>\n",
       "      <th>Jan</th>\n",
       "      <th>Feb</th>\n",
       "      <th>Mar</th>\n",
       "      <th>Avr</th>\n",
       "      <th>Jan</th>\n",
       "      <th>Feb</th>\n",
       "      <th>Mar</th>\n",
       "      <th>Avr</th>\n",
       "      <th>Jan</th>\n",
       "      <th>Feb</th>\n",
       "      <th>Mar</th>\n",
       "      <th>Avr</th>\n",
       "      <th>delta_4</th>\n",
       "      <th>delta_4</th>\n",
       "      <th>delta_4</th>\n",
       "    </tr>\n",
       "  </thead>\n",
       "  <tbody>\n",
       "    <tr>\n",
       "      <th>ABIM</th>\n",
       "      <td>354.0</td>\n",
       "      <td>294.0</td>\n",
       "      <td>342.0</td>\n",
       "      <td>310.0</td>\n",
       "      <td>22.9</td>\n",
       "      <td>-1.4</td>\n",
       "      <td>-32.2</td>\n",
       "      <td>-22.90</td>\n",
       "      <td>-13.1</td>\n",
       "      <td>13.5</td>\n",
       "      <td>17.5</td>\n",
       "      <td>28.0</td>\n",
       "      <td>-0.124294</td>\n",
       "      <td>-2.000000</td>\n",
       "      <td>-3.137405</td>\n",
       "    </tr>\n",
       "    <tr>\n",
       "      <th>ADJUMANI</th>\n",
       "      <td>976.0</td>\n",
       "      <td>1055.0</td>\n",
       "      <td>866.0</td>\n",
       "      <td>864.0</td>\n",
       "      <td>-18.1</td>\n",
       "      <td>-12.0</td>\n",
       "      <td>-11.8</td>\n",
       "      <td>8.00</td>\n",
       "      <td>-0.6</td>\n",
       "      <td>-10.8</td>\n",
       "      <td>-2.6</td>\n",
       "      <td>-3.0</td>\n",
       "      <td>-0.114754</td>\n",
       "      <td>-1.441989</td>\n",
       "      <td>4.000000</td>\n",
       "    </tr>\n",
       "    <tr>\n",
       "      <th>AGAGO</th>\n",
       "      <td>736.0</td>\n",
       "      <td>667.0</td>\n",
       "      <td>670.0</td>\n",
       "      <td>510.0</td>\n",
       "      <td>12.3</td>\n",
       "      <td>2.2</td>\n",
       "      <td>-34.3</td>\n",
       "      <td>-25.70</td>\n",
       "      <td>-6.3</td>\n",
       "      <td>-13.7</td>\n",
       "      <td>-8.9</td>\n",
       "      <td>-19.8</td>\n",
       "      <td>-0.307065</td>\n",
       "      <td>-3.089431</td>\n",
       "      <td>2.142857</td>\n",
       "    </tr>\n",
       "    <tr>\n",
       "      <th>ALEBTONG</th>\n",
       "      <td>809.0</td>\n",
       "      <td>744.0</td>\n",
       "      <td>654.0</td>\n",
       "      <td>656.0</td>\n",
       "      <td>8.9</td>\n",
       "      <td>2.3</td>\n",
       "      <td>-1.4</td>\n",
       "      <td>-4.00</td>\n",
       "      <td>-17.6</td>\n",
       "      <td>-14.6</td>\n",
       "      <td>-4.9</td>\n",
       "      <td>-8.7</td>\n",
       "      <td>-0.189122</td>\n",
       "      <td>-1.449438</td>\n",
       "      <td>-0.505682</td>\n",
       "    </tr>\n",
       "    <tr>\n",
       "      <th>AMOLATAR</th>\n",
       "      <td>440.0</td>\n",
       "      <td>544.0</td>\n",
       "      <td>490.0</td>\n",
       "      <td>316.0</td>\n",
       "      <td>-5.2</td>\n",
       "      <td>4.2</td>\n",
       "      <td>-19.4</td>\n",
       "      <td>-0.95</td>\n",
       "      <td>10.8</td>\n",
       "      <td>6.8</td>\n",
       "      <td>7.2</td>\n",
       "      <td>17.6</td>\n",
       "      <td>-0.281818</td>\n",
       "      <td>-0.817308</td>\n",
       "      <td>0.629630</td>\n",
       "    </tr>\n",
       "  </tbody>\n",
       "</table>\n",
       "</div>"
      ],
      "text/plain": [
       "         EPI - BCG doses given                        \\\n",
       "                           Jan     Feb    Mar    Avr   \n",
       "ABIM                     354.0   294.0  342.0  310.0   \n",
       "ADJUMANI                 976.0  1055.0  866.0  864.0   \n",
       "AGAGO                    736.0   667.0  670.0  510.0   \n",
       "ALEBTONG                 809.0   744.0  654.0  656.0   \n",
       "AMOLATAR                 440.0   544.0  490.0  316.0   \n",
       "\n",
       "         EPI - BCG to MR 1 dropout rate (%)                     \\\n",
       "                                        Jan   Feb   Mar    Avr   \n",
       "ABIM                                   22.9  -1.4 -32.2 -22.90   \n",
       "ADJUMANI                              -18.1 -12.0 -11.8   8.00   \n",
       "AGAGO                                  12.3   2.2 -34.3 -25.70   \n",
       "ALEBTONG                                8.9   2.3  -1.4  -4.00   \n",
       "AMOLATAR                               -5.2   4.2 -19.4  -0.95   \n",
       "\n",
       "         EPI - DPT 1 to DPT3 dropout rate (%)                    \\\n",
       "                                          Jan   Feb   Mar   Avr   \n",
       "ABIM                                    -13.1  13.5  17.5  28.0   \n",
       "ADJUMANI                                 -0.6 -10.8  -2.6  -3.0   \n",
       "AGAGO                                    -6.3 -13.7  -8.9 -19.8   \n",
       "ALEBTONG                                -17.6 -14.6  -4.9  -8.7   \n",
       "AMOLATAR                                 10.8   6.8   7.2  17.6   \n",
       "\n",
       "         EPI - BCG doses given EPI - BCG to MR 1 dropout rate (%)  \\\n",
       "                       delta_4                            delta_4   \n",
       "ABIM                 -0.124294                          -2.000000   \n",
       "ADJUMANI             -0.114754                          -1.441989   \n",
       "AGAGO                -0.307065                          -3.089431   \n",
       "ALEBTONG             -0.189122                          -1.449438   \n",
       "AMOLATAR             -0.281818                          -0.817308   \n",
       "\n",
       "         EPI - DPT 1 to DPT3 dropout rate (%)  \n",
       "                                      delta_4  \n",
       "ABIM                                -3.137405  \n",
       "ADJUMANI                             4.000000  \n",
       "AGAGO                                2.142857  \n",
       "ALEBTONG                            -0.505682  \n",
       "AMOLATAR                             0.629630  "
      ]
     },
     "execution_count": 144,
     "metadata": {},
     "output_type": "execute_result"
    }
   ],
   "source": [
    "data_target.head()"
   ]
  },
  {
   "cell_type": "code",
   "execution_count": 114,
   "metadata": {},
   "outputs": [],
   "source": [
    "data_target.columns=data_target.columns.map(\"_\".join)"
   ]
  },
  {
   "cell_type": "code",
   "execution_count": 117,
   "metadata": {},
   "outputs": [],
   "source": [
    "data_target.to_csv(output_path+'epi_deltas.csv')"
   ]
  }
 ],
 "metadata": {
  "kernelspec": {
   "display_name": "Python 3",
   "language": "python",
   "name": "python3"
  },
  "language_info": {
   "codemirror_mode": {
    "name": "ipython",
    "version": 3
   },
   "file_extension": ".py",
   "mimetype": "text/x-python",
   "name": "python",
   "nbconvert_exporter": "python",
   "pygments_lexer": "ipython3",
   "version": "3.8.2"
  }
 },
 "nbformat": 4,
 "nbformat_minor": 4
}
