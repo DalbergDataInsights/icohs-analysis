{
 "cells": [
  {
   "cell_type": "code",
   "execution_count": 68,
   "metadata": {},
   "outputs": [],
   "source": [
    "import pandas as pd\n",
    "import numpy as np\n",
    "from pandas import ExcelWriter\n",
    "import openpyxl"
   ]
  },
  {
   "cell_type": "code",
   "execution_count": 69,
   "metadata": {},
   "outputs": [],
   "source": [
    "df_Jan = pd.read_csv('../New system/Data_elements_(Cases)_jan.csv')\n",
    "df_Feb = pd.read_csv('../New system/Data_elements_(Cases)_feb.csv')\n",
    "df_Mar = pd.read_csv('../New system/Data_elements_(Cases)_march.csv')\n",
    "df_Apr = pd.read_csv('../New system/Data_elements_(Cases)_april.csv')"
   ]
  },
  {
   "cell_type": "code",
   "execution_count": 70,
   "metadata": {},
   "outputs": [],
   "source": [
    "def data_Quality(indicator):\n",
    "    df = pd.DataFrame(districts).reset_index(drop=True)\n",
    "\n",
    "    Jan = df_Jan[df_Jan['Data']==indicator].drop('Data', axis=1)\n",
    "    Feb = df_Feb[df_Feb['Data']==indicator].drop('Data', axis=1)\n",
    "    March = df_Mar[df_Mar['Data']==indicator].drop('Data', axis=1)\n",
    "    April = df_Apr[df_Apr['Data']==indicator].drop('Data', axis=1)\n",
    "    \n",
    "    #print(Jan.shape[0]+ Feb.shape[0]+ March.shape[0] + April.shape[0])\n",
    "\n",
    "    df_final = Jan.merge(Feb,on='Organisation unit', how='outer').merge(March,on='Organisation unit', how='outer').merge(April,on='Organisation unit', how='outer')\n",
    "    #df_final.columns = [\"Districts\", \"Jan_\"+indicator, \"Feb_\"+indicator, \"Mar_\"+indicator, \"Apr_\"+indicator]\n",
    "    columns = [('index',\"Districts\"), (indicator,\"Jan\"), (indicator,\"Feb\"),(indicator,\"Mar\"),(indicator,\"Avr\")]\n",
    "    df_final.columns=pd.MultiIndex.from_tuples(columns)\n",
    "    return df_final\n"
   ]
  },
  {
   "cell_type": "code",
   "execution_count": 71,
   "metadata": {},
   "outputs": [
    {
     "data": {
      "text/html": [
       "<div>\n",
       "<style scoped>\n",
       "    .dataframe tbody tr th:only-of-type {\n",
       "        vertical-align: middle;\n",
       "    }\n",
       "\n",
       "    .dataframe tbody tr th {\n",
       "        vertical-align: top;\n",
       "    }\n",
       "\n",
       "    .dataframe thead tr th {\n",
       "        text-align: left;\n",
       "    }\n",
       "</style>\n",
       "<table border=\"1\" class=\"dataframe\">\n",
       "  <thead>\n",
       "    <tr>\n",
       "      <th></th>\n",
       "      <th>index</th>\n",
       "      <th colspan=\"4\" halign=\"left\">033B-CD01a. Malaria (diagnosed)  - Cases</th>\n",
       "    </tr>\n",
       "    <tr>\n",
       "      <th></th>\n",
       "      <th>Districts</th>\n",
       "      <th>Jan</th>\n",
       "      <th>Feb</th>\n",
       "      <th>Mar</th>\n",
       "      <th>Avr</th>\n",
       "    </tr>\n",
       "  </thead>\n",
       "  <tbody>\n",
       "    <tr>\n",
       "      <th>0</th>\n",
       "      <td>Amuria District</td>\n",
       "      <td>2025.0</td>\n",
       "      <td>6710.0</td>\n",
       "      <td>7877.0</td>\n",
       "      <td>9388.0</td>\n",
       "    </tr>\n",
       "    <tr>\n",
       "      <th>1</th>\n",
       "      <td>Amuru District</td>\n",
       "      <td>5622.0</td>\n",
       "      <td>9317.0</td>\n",
       "      <td>8246.0</td>\n",
       "      <td>10237.0</td>\n",
       "    </tr>\n",
       "    <tr>\n",
       "      <th>2</th>\n",
       "      <td>Sironko District</td>\n",
       "      <td>398.0</td>\n",
       "      <td>1964.0</td>\n",
       "      <td>1868.0</td>\n",
       "      <td>1841.0</td>\n",
       "    </tr>\n",
       "    <tr>\n",
       "      <th>3</th>\n",
       "      <td>Kitgum District</td>\n",
       "      <td>1944.0</td>\n",
       "      <td>6135.0</td>\n",
       "      <td>6420.0</td>\n",
       "      <td>7846.0</td>\n",
       "    </tr>\n",
       "    <tr>\n",
       "      <th>4</th>\n",
       "      <td>Kitagwenda District</td>\n",
       "      <td>537.0</td>\n",
       "      <td>2732.0</td>\n",
       "      <td>1926.0</td>\n",
       "      <td>2765.0</td>\n",
       "    </tr>\n",
       "    <tr>\n",
       "      <th>...</th>\n",
       "      <td>...</td>\n",
       "      <td>...</td>\n",
       "      <td>...</td>\n",
       "      <td>...</td>\n",
       "      <td>...</td>\n",
       "    </tr>\n",
       "    <tr>\n",
       "      <th>130</th>\n",
       "      <td>Karenga District</td>\n",
       "      <td>46.0</td>\n",
       "      <td>1614.0</td>\n",
       "      <td>1607.0</td>\n",
       "      <td>1470.0</td>\n",
       "    </tr>\n",
       "    <tr>\n",
       "      <th>131</th>\n",
       "      <td>Mayuge District</td>\n",
       "      <td>2625.0</td>\n",
       "      <td>12442.0</td>\n",
       "      <td>9096.0</td>\n",
       "      <td>7701.0</td>\n",
       "    </tr>\n",
       "    <tr>\n",
       "      <th>132</th>\n",
       "      <td>Moroto District</td>\n",
       "      <td>1285.0</td>\n",
       "      <td>3315.0</td>\n",
       "      <td>1734.0</td>\n",
       "      <td>2439.0</td>\n",
       "    </tr>\n",
       "    <tr>\n",
       "      <th>133</th>\n",
       "      <td>Sembabule District</td>\n",
       "      <td>3671.0</td>\n",
       "      <td>4672.0</td>\n",
       "      <td>2309.0</td>\n",
       "      <td>2545.0</td>\n",
       "    </tr>\n",
       "    <tr>\n",
       "      <th>134</th>\n",
       "      <td>Amudat District</td>\n",
       "      <td>NaN</td>\n",
       "      <td>1328.0</td>\n",
       "      <td>568.0</td>\n",
       "      <td>1388.0</td>\n",
       "    </tr>\n",
       "  </tbody>\n",
       "</table>\n",
       "<p>135 rows × 5 columns</p>\n",
       "</div>"
      ],
      "text/plain": [
       "                   index 033B-CD01a. Malaria (diagnosed)  - Cases           \\\n",
       "               Districts                                      Jan      Feb   \n",
       "0        Amuria District                                   2025.0   6710.0   \n",
       "1         Amuru District                                   5622.0   9317.0   \n",
       "2       Sironko District                                    398.0   1964.0   \n",
       "3        Kitgum District                                   1944.0   6135.0   \n",
       "4    Kitagwenda District                                    537.0   2732.0   \n",
       "..                   ...                                      ...      ...   \n",
       "130     Karenga District                                     46.0   1614.0   \n",
       "131      Mayuge District                                   2625.0  12442.0   \n",
       "132      Moroto District                                   1285.0   3315.0   \n",
       "133   Sembabule District                                   3671.0   4672.0   \n",
       "134      Amudat District                                      NaN   1328.0   \n",
       "\n",
       "                      \n",
       "        Mar      Avr  \n",
       "0    7877.0   9388.0  \n",
       "1    8246.0  10237.0  \n",
       "2    1868.0   1841.0  \n",
       "3    6420.0   7846.0  \n",
       "4    1926.0   2765.0  \n",
       "..      ...      ...  \n",
       "130  1607.0   1470.0  \n",
       "131  9096.0   7701.0  \n",
       "132  1734.0   2439.0  \n",
       "133  2309.0   2545.0  \n",
       "134   568.0   1388.0  \n",
       "\n",
       "[135 rows x 5 columns]"
      ]
     },
     "execution_count": 71,
     "metadata": {},
     "output_type": "execute_result"
    }
   ],
   "source": [
    "data_Quality('033B-CD01a. Malaria (diagnosed)  - Cases')"
   ]
  },
  {
   "cell_type": "markdown",
   "metadata": {},
   "source": [
    "# Data elements"
   ]
  },
  {
   "cell_type": "code",
   "execution_count": 60,
   "metadata": {},
   "outputs": [],
   "source": [
    "districts = df_Feb[df_Feb['Data']=='033B-CD01a. Malaria (diagnosed)  - Cases']['Organisation unit']"
   ]
  },
  {
   "cell_type": "code",
   "execution_count": 62,
   "metadata": {},
   "outputs": [],
   "source": [
    "multi_index=pd.MultiIndex.from_tuples(('index','Districts'))\n",
    "data_elements = pd.DataFrame(data=districts,columns=multi_index).reset_index(drop=True)"
   ]
  },
  {
   "cell_type": "code",
   "execution_count": 72,
   "metadata": {},
   "outputs": [
    {
     "name": "stderr",
     "output_type": "stream",
     "text": [
      "C:\\Users\\Dalberg\\anaconda3\\envs\\icohs\\lib\\site-packages\\pandas\\core\\reshape\\merge.py:618: UserWarning: merging between different levels can give an unintended result (5 levels on the left, 2 on the right)\n",
      "  warnings.warn(msg, UserWarning)\n"
     ]
    },
    {
     "ename": "ValueError",
     "evalue": "The column label 'index' is not unique.\nFor a multi-index, the label must be a tuple with elements corresponding to each level.",
     "output_type": "error",
     "traceback": [
      "\u001b[1;31m---------------------------------------------------------------------------\u001b[0m",
      "\u001b[1;31mValueError\u001b[0m                                Traceback (most recent call last)",
      "\u001b[1;32m<ipython-input-72-9c318e5baab4>\u001b[0m in \u001b[0;36m<module>\u001b[1;34m\u001b[0m\n\u001b[0;32m      5\u001b[0m \u001b[1;32mfor\u001b[0m \u001b[0mindicator\u001b[0m \u001b[1;32min\u001b[0m \u001b[0mindicators\u001b[0m\u001b[1;33m:\u001b[0m\u001b[1;33m\u001b[0m\u001b[1;33m\u001b[0m\u001b[0m\n\u001b[0;32m      6\u001b[0m     \u001b[0mdf_months\u001b[0m \u001b[1;33m=\u001b[0m \u001b[0mdata_Quality\u001b[0m\u001b[1;33m(\u001b[0m\u001b[0mindicator\u001b[0m\u001b[1;33m)\u001b[0m\u001b[1;33m\u001b[0m\u001b[1;33m\u001b[0m\u001b[0m\n\u001b[1;32m----> 7\u001b[1;33m     \u001b[0mdata_elements\u001b[0m \u001b[1;33m=\u001b[0m \u001b[0mpd\u001b[0m\u001b[1;33m.\u001b[0m\u001b[0mmerge\u001b[0m\u001b[1;33m(\u001b[0m\u001b[0mdata_elements\u001b[0m\u001b[1;33m,\u001b[0m \u001b[0mdf_months\u001b[0m\u001b[1;33m,\u001b[0m \u001b[0mhow\u001b[0m\u001b[1;33m=\u001b[0m\u001b[1;34m'left'\u001b[0m\u001b[1;33m,\u001b[0m \u001b[0mon\u001b[0m\u001b[1;33m=\u001b[0m\u001b[1;33m[\u001b[0m\u001b[1;34m'index'\u001b[0m\u001b[1;33m,\u001b[0m\u001b[1;34m'Districts'\u001b[0m\u001b[1;33m]\u001b[0m\u001b[1;33m)\u001b[0m\u001b[1;33m\u001b[0m\u001b[1;33m\u001b[0m\u001b[0m\n\u001b[0m\u001b[0;32m      8\u001b[0m \u001b[1;33m\u001b[0m\u001b[0m\n\u001b[0;32m      9\u001b[0m \u001b[1;31m#data_elements.set_index('Districts', inplace=True,drop=True)\u001b[0m\u001b[1;33m\u001b[0m\u001b[1;33m\u001b[0m\u001b[1;33m\u001b[0m\u001b[0m\n",
      "\u001b[1;32m~\\anaconda3\\envs\\icohs\\lib\\site-packages\\pandas\\core\\reshape\\merge.py\u001b[0m in \u001b[0;36mmerge\u001b[1;34m(left, right, how, on, left_on, right_on, left_index, right_index, sort, suffixes, copy, indicator, validate)\u001b[0m\n\u001b[0;32m     71\u001b[0m     \u001b[0mvalidate\u001b[0m\u001b[1;33m=\u001b[0m\u001b[1;32mNone\u001b[0m\u001b[1;33m,\u001b[0m\u001b[1;33m\u001b[0m\u001b[1;33m\u001b[0m\u001b[0m\n\u001b[0;32m     72\u001b[0m ) -> \"DataFrame\":\n\u001b[1;32m---> 73\u001b[1;33m     op = _MergeOperation(\n\u001b[0m\u001b[0;32m     74\u001b[0m         \u001b[0mleft\u001b[0m\u001b[1;33m,\u001b[0m\u001b[1;33m\u001b[0m\u001b[1;33m\u001b[0m\u001b[0m\n\u001b[0;32m     75\u001b[0m         \u001b[0mright\u001b[0m\u001b[1;33m,\u001b[0m\u001b[1;33m\u001b[0m\u001b[1;33m\u001b[0m\u001b[0m\n",
      "\u001b[1;32m~\\anaconda3\\envs\\icohs\\lib\\site-packages\\pandas\\core\\reshape\\merge.py\u001b[0m in \u001b[0;36m__init__\u001b[1;34m(self, left, right, how, on, left_on, right_on, axis, left_index, right_index, sort, suffixes, copy, indicator, validate)\u001b[0m\n\u001b[0;32m    625\u001b[0m             \u001b[0mself\u001b[0m\u001b[1;33m.\u001b[0m\u001b[0mright_join_keys\u001b[0m\u001b[1;33m,\u001b[0m\u001b[1;33m\u001b[0m\u001b[1;33m\u001b[0m\u001b[0m\n\u001b[0;32m    626\u001b[0m             \u001b[0mself\u001b[0m\u001b[1;33m.\u001b[0m\u001b[0mjoin_names\u001b[0m\u001b[1;33m,\u001b[0m\u001b[1;33m\u001b[0m\u001b[1;33m\u001b[0m\u001b[0m\n\u001b[1;32m--> 627\u001b[1;33m         ) = self._get_merge_keys()\n\u001b[0m\u001b[0;32m    628\u001b[0m \u001b[1;33m\u001b[0m\u001b[0m\n\u001b[0;32m    629\u001b[0m         \u001b[1;31m# validate the merge keys dtypes. We may need to coerce\u001b[0m\u001b[1;33m\u001b[0m\u001b[1;33m\u001b[0m\u001b[1;33m\u001b[0m\u001b[0m\n",
      "\u001b[1;32m~\\anaconda3\\envs\\icohs\\lib\\site-packages\\pandas\\core\\reshape\\merge.py\u001b[0m in \u001b[0;36m_get_merge_keys\u001b[1;34m(self)\u001b[0m\n\u001b[0;32m    981\u001b[0m                     \u001b[1;32mif\u001b[0m \u001b[1;32mnot\u001b[0m \u001b[0mis_rkey\u001b[0m\u001b[1;33m(\u001b[0m\u001b[0mrk\u001b[0m\u001b[1;33m)\u001b[0m\u001b[1;33m:\u001b[0m\u001b[1;33m\u001b[0m\u001b[1;33m\u001b[0m\u001b[0m\n\u001b[0;32m    982\u001b[0m                         \u001b[1;32mif\u001b[0m \u001b[0mrk\u001b[0m \u001b[1;32mis\u001b[0m \u001b[1;32mnot\u001b[0m \u001b[1;32mNone\u001b[0m\u001b[1;33m:\u001b[0m\u001b[1;33m\u001b[0m\u001b[1;33m\u001b[0m\u001b[0m\n\u001b[1;32m--> 983\u001b[1;33m                             \u001b[0mright_keys\u001b[0m\u001b[1;33m.\u001b[0m\u001b[0mappend\u001b[0m\u001b[1;33m(\u001b[0m\u001b[0mright\u001b[0m\u001b[1;33m.\u001b[0m\u001b[0m_get_label_or_level_values\u001b[0m\u001b[1;33m(\u001b[0m\u001b[0mrk\u001b[0m\u001b[1;33m)\u001b[0m\u001b[1;33m)\u001b[0m\u001b[1;33m\u001b[0m\u001b[1;33m\u001b[0m\u001b[0m\n\u001b[0m\u001b[0;32m    984\u001b[0m                         \u001b[1;32melse\u001b[0m\u001b[1;33m:\u001b[0m\u001b[1;33m\u001b[0m\u001b[1;33m\u001b[0m\u001b[0m\n\u001b[0;32m    985\u001b[0m                             \u001b[1;31m# work-around for merge_asof(right_index=True)\u001b[0m\u001b[1;33m\u001b[0m\u001b[1;33m\u001b[0m\u001b[1;33m\u001b[0m\u001b[0m\n",
      "\u001b[1;32m~\\anaconda3\\envs\\icohs\\lib\\site-packages\\pandas\\core\\generic.py\u001b[0m in \u001b[0;36m_get_label_or_level_values\u001b[1;34m(self, key, axis)\u001b[0m\n\u001b[0;32m   1706\u001b[0m \u001b[1;33m\u001b[0m\u001b[0m\n\u001b[0;32m   1707\u001b[0m             \u001b[0mlabel_axis_name\u001b[0m \u001b[1;33m=\u001b[0m \u001b[1;34m\"column\"\u001b[0m \u001b[1;32mif\u001b[0m \u001b[0maxis\u001b[0m \u001b[1;33m==\u001b[0m \u001b[1;36m0\u001b[0m \u001b[1;32melse\u001b[0m \u001b[1;34m\"index\"\u001b[0m\u001b[1;33m\u001b[0m\u001b[1;33m\u001b[0m\u001b[0m\n\u001b[1;32m-> 1708\u001b[1;33m             raise ValueError(\n\u001b[0m\u001b[0;32m   1709\u001b[0m                 (\n\u001b[0;32m   1710\u001b[0m                     \u001b[1;34mf\"The {label_axis_name} label '{key}' \"\u001b[0m\u001b[1;33m\u001b[0m\u001b[1;33m\u001b[0m\u001b[0m\n",
      "\u001b[1;31mValueError\u001b[0m: The column label 'index' is not unique.\nFor a multi-index, the label must be a tuple with elements corresponding to each level."
     ]
    }
   ],
   "source": [
    "#data_elements = pd.DataFrame(districts,columns=multi_index).reset_index(drop=True)\n",
    "#data_elements.columns = ['Districts']\n",
    "#data_elements.columns = pd.MultiIndex.from_tuples(('index','Districts'))\n",
    "indicators = df_Jan['Data'].unique()\n",
    "for indicator in indicators:\n",
    "    df_months = data_Quality(indicator)\n",
    "    data_elements = pd.merge(data_elements, df_months, how='left', on=['index','Districts'])  \n",
    "\n",
    "#data_elements.set_index('Districts', inplace=True,drop=True)"
   ]
  },
  {
   "cell_type": "code",
   "execution_count": 6,
   "metadata": {},
   "outputs": [],
   "source": [
    "# Proprtion of of districts with reported data for each data element\n",
    "null_sum1= data_elements.count()/135"
   ]
  },
  {
   "cell_type": "markdown",
   "metadata": {},
   "source": [
    "# Indicators "
   ]
  },
  {
   "cell_type": "code",
   "execution_count": 7,
   "metadata": {},
   "outputs": [],
   "source": [
    "df_Jan = pd.read_csv('../New system/Indicator_January.csv')\n",
    "df_Feb = pd.read_csv('../New system/Indicator_Feb.csv')\n",
    "df_Mar = pd.read_csv('../New system/Indicator_march.csv')\n",
    "df_Apr = pd.read_csv('../New system/Indicator_April.csv')"
   ]
  },
  {
   "cell_type": "code",
   "execution_count": 8,
   "metadata": {},
   "outputs": [],
   "source": [
    "districts = df_Feb[df_Feb['Data']=='EPI - BCG doses given']['Organisation unit'].unique()"
   ]
  },
  {
   "cell_type": "code",
   "execution_count": 9,
   "metadata": {},
   "outputs": [],
   "source": [
    "data_Indicators = pd.DataFrame()\n",
    "data_Indicators = pd.DataFrame(districts).reset_index(drop=True)\n",
    "data_Indicators.columns = ['Districts']\n",
    "indicators = df_Jan['Data'].unique()\n",
    "for indicator in indicators:\n",
    "    df_months = data_Quality(indicator)\n",
    "    data_Indicators = pd.merge(data_Indicators, df_months, how='left', on='Districts')"
   ]
  },
  {
   "cell_type": "code",
   "execution_count": 10,
   "metadata": {},
   "outputs": [],
   "source": [
    "data_Indicators.drop_duplicates('Districts',inplace=True,keep='first',ignore_index=True) # This shouldnt be needed, there might be a bug\n",
    "data_Indicators.set_index('Districts', inplace=True,drop=True)"
   ]
  },
  {
   "cell_type": "code",
   "execution_count": 11,
   "metadata": {},
   "outputs": [],
   "source": [
    "null_sum2= data_Indicators.count()/135"
   ]
  },
  {
   "cell_type": "markdown",
   "metadata": {},
   "source": [
    "# Mixing both"
   ]
  },
  {
   "cell_type": "code",
   "execution_count": 12,
   "metadata": {},
   "outputs": [],
   "source": [
    "null_sum=pd.concat([null_sum1,null_sum2])"
   ]
  },
  {
   "cell_type": "code",
   "execution_count": 13,
   "metadata": {},
   "outputs": [
    {
     "data": {
      "text/plain": [
       "Jan_033B-TB04. New and Relapse TB cases started on TX                           0.311111\n",
       "Feb_033B-TB04. New and Relapse TB cases started on TX                           0.866667\n",
       "Mar_033B-TB04. New and Relapse TB cases started on TX                           0.903704\n",
       "Apr_033B-TB04. New and Relapse TB cases started on TX                           0.896296\n",
       "Jan_033B-RV07. RE Blister of 28 tablets                                         0.651852\n",
       "                                                                                  ...   \n",
       "Apr_TB-Weekly - Percentage  of samples tested with GeneXpert out of expected    0.814815\n",
       "Jan_TB-Weekly - Percentage  of weekly attendance screened for TB                0.681481\n",
       "Feb_TB-Weekly - Percentage  of weekly attendance screened for TB                1.000000\n",
       "Mar_TB-Weekly - Percentage  of weekly attendance screened for TB                1.000000\n",
       "Apr_TB-Weekly - Percentage  of weekly attendance screened for TB                1.000000\n",
       "Length: 1444, dtype: float64"
      ]
     },
     "execution_count": 13,
     "metadata": {},
     "output_type": "execute_result"
    }
   ],
   "source": [
    "null_sum"
   ]
  },
  {
   "cell_type": "code",
   "execution_count": 14,
   "metadata": {},
   "outputs": [],
   "source": [
    "null_sum_df = pd.DataFrame(null_sum)\n",
    "null_sum_df.columns = ['% of data available']"
   ]
  },
  {
   "cell_type": "code",
   "execution_count": 15,
   "metadata": {},
   "outputs": [],
   "source": [
    "null_sum_df.reset_index(inplace=True)\n",
    "null_sum_df['month']=null_sum_df['index'].apply(lambda x: x[0:3])\n",
    "null_sum_df['indicator']=null_sum_df['index'].apply(lambda x: x[4:])"
   ]
  },
  {
   "cell_type": "code",
   "execution_count": 16,
   "metadata": {},
   "outputs": [],
   "source": [
    "null_av_df=null_sum_df.groupby('indicator')['% of data available'].mean()"
   ]
  },
  {
   "cell_type": "markdown",
   "metadata": {},
   "source": [
    "# Adding target data "
   ]
  },
  {
   "cell_type": "code",
   "execution_count": 17,
   "metadata": {},
   "outputs": [
    {
     "data": {
      "text/plain": [
       "indicator\n",
       "033B-AP01. OPD New                                                          0.998148\n",
       "033B-AP02. Total OPD                                                        0.998148\n",
       "033B-AP03. Expected eMTCT Mothers in Appt                                   0.979630\n",
       "033B-AP04. eMTCT Missed Appointments                                        0.937037\n",
       "033B-CD01a. Malaria (diagnosed)  - Cases                                    0.998148\n",
       "                                                                              ...   \n",
       "TB-Weekly - Percentage  of new and relapse cases started on treatment       0.742593\n",
       "TB-Weekly - Percentage  of presumptives identified                          0.883333\n",
       "TB-Weekly - Percentage  of samples rejected                                 0.261111\n",
       "TB-Weekly - Percentage  of samples tested with GeneXpert out of expected    0.664815\n",
       "TB-Weekly - Percentage  of weekly attendance screened for TB                0.920370\n",
       "Name: % of data available, Length: 361, dtype: float64"
      ]
     },
     "execution_count": 17,
     "metadata": {},
     "output_type": "execute_result"
    }
   ],
   "source": [
    "null_av_df"
   ]
  },
  {
   "cell_type": "code",
   "execution_count": 18,
   "metadata": {},
   "outputs": [],
   "source": [
    "target = pd.read_excel('../New system/Data summary.xlsx',sheet_name='target')"
   ]
  },
  {
   "cell_type": "code",
   "execution_count": 19,
   "metadata": {},
   "outputs": [],
   "source": [
    "target = pd.merge(target,null_av_df,left_on='Var',right_on='indicator',how='left')\n",
    "target['keep']=(target['% of data available']>0.7)"
   ]
  },
  {
   "cell_type": "code",
   "execution_count": 21,
   "metadata": {},
   "outputs": [],
   "source": [
    "with ExcelWriter('../New system/Data summary.xlsx',mode='a') as writer:\n",
    "   target.to_excel(writer,sheet_name='target_availability')"
   ]
  },
  {
   "cell_type": "code",
   "execution_count": 36,
   "metadata": {},
   "outputs": [
    {
     "data": {
      "text/plain": [
       "['EPI - BCG doses given',\n",
       " 'EPI - BCG to MR 1 dropout rate (%)',\n",
       " 'EPI - DPT 1 to DPT3 dropout rate (%)',\n",
       " '033B-CD01a. Malaria (diagnosed)  - Cases',\n",
       " 'NUT: Percentage of children/babies born with low birth weight (<2.5kg)',\n",
       " 'NUT: Percentage of pregnant women with Hb level <10g/dl or diagnosed with Anaemia at ANC 1st visit',\n",
       " 'ANC - Proportion of pregnant women attending ANC 1 in first trimester',\n",
       " 'MNCH - Facility Stillbirth rate (Fresh Stillbirth)',\n",
       " 'MNCH - Facility Stillbirth rate (Macerated Stillbirth)',\n",
       " 'MNCH - Pre-discharge neonatal mortality rate',\n",
       " '033B-TP01. No. of Adults ART clients initiated TPT']"
      ]
     },
     "execution_count": 36,
     "metadata": {},
     "output_type": "execute_result"
    }
   ],
   "source": [
    "list(target.loc[target['keep']==1,'Var'])"
   ]
  },
  {
   "cell_type": "code",
   "execution_count": null,
   "metadata": {},
   "outputs": [],
   "source": []
  }
 ],
 "metadata": {
  "kernelspec": {
   "display_name": "Python 3",
   "language": "python",
   "name": "python3"
  },
  "language_info": {
   "codemirror_mode": {
    "name": "ipython",
    "version": 3
   },
   "file_extension": ".py",
   "mimetype": "text/x-python",
   "name": "python",
   "nbconvert_exporter": "python",
   "pygments_lexer": "ipython3",
   "version": "3.8.2"
  }
 },
 "nbformat": 4,
 "nbformat_minor": 4
}
