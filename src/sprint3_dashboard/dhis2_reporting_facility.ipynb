{
 "cells": [
  {
   "cell_type": "code",
   "execution_count": 1,
   "metadata": {},
   "outputs": [],
   "source": [
    "import pandas as pd\n",
    "import numpy as np\n",
    "from pandas import ExcelWriter\n",
    "import openpyxl\n",
    "import geopandas as gpd\n",
    "import math"
   ]
  },
  {
   "cell_type": "code",
   "execution_count": 21,
   "metadata": {},
   "outputs": [],
   "source": [
    "input_path = '../../data/input/dhis2/new_system/'\n",
    "output_path = '../../data/output/sprint3_analysis/'\n",
    "shapes_path = '../../data/shapes/district/districts_17_19.shp'\n",
    "input_path_old = '../../data/input/dhis2/old_system/'\n",
    "facility_path = '../../data/input/hospitals/original_data/'"
   ]
  },
  {
   "cell_type": "markdown",
   "metadata": {},
   "source": [
    "# Some functions I'll use"
   ]
  },
  {
   "cell_type": "code",
   "execution_count": 3,
   "metadata": {},
   "outputs": [],
   "source": [
    "districts = list(pd.read_csv(input_path+'districts.csv')[\"Districts\"])\n",
    "shapes = gpd.read_file(shapes_path)\n",
    "\n",
    "# Creating a dict of names to replace dsirtcit names\n",
    "\n",
    "def get_district_name_dict (df):\n",
    "    keys = list(set(df.index).difference(set(shapes['name_19'])))\n",
    "    values = list(set(shapes['name_19']).difference(set(df.index)))\n",
    "    district_name = dict(zip(keys, values))\n",
    "    return district_name \n"
   ]
  },
  {
   "cell_type": "code",
   "execution_count": 4,
   "metadata": {},
   "outputs": [],
   "source": [
    "# build a small fucntion to split the string column name of the data download as pivot \n",
    "\n",
    "def split(strng, sep, occ):\n",
    "    strng = strng.split(sep)\n",
    "    return sep.join(strng[occ[1]:]), sep.join(strng[:occ[0]]), sep.join(strng[occ[0]:occ[1]])[:3]"
   ]
  },
  {
   "cell_type": "code",
   "execution_count": 51,
   "metadata": {},
   "outputs": [],
   "source": [
    "# To clean the data downloaded in a pivot format\n",
    "\n",
    "def get_clean_pivot(df):\n",
    "    df['facility']=df['orgunitlevel5']\n",
    "    df['district']=df['orgunitlevel3'].apply(lambda x: x[:-9].upper())\n",
    "    df['district'].rename(get_district_name_dict(df),inplace=True)\n",
    "    cols = np.arange(0,9)\n",
    "    df.drop(df.columns[cols],axis=1,inplace=True)\n",
    "    cols = df.columns\n",
    "    new_cols=[]\n",
    "    for col in cols:\n",
    "        new_cols.append(split(col,' ',[-2,-1]))\n",
    "    df.columns=pd.MultiIndex.from_tuples(new_cols)\n",
    "    return df"
   ]
  },
  {
   "cell_type": "code",
   "execution_count": 6,
   "metadata": {},
   "outputs": [],
   "source": [
    "# To get year on year deltas over a list of months\n",
    "\n",
    "def get_delta(df,st_year,end_year,indic,st_month,end_month):\n",
    "    delta=((df[(end_year,indic,end_month)]\n",
    "            -df[(st_year,indic,st_month)])\n",
    "           /df[(st_year,indic,st_month)])\n",
    "    return delta"
   ]
  },
  {
   "cell_type": "code",
   "execution_count": 7,
   "metadata": {},
   "outputs": [],
   "source": [
    "# To get month on month deltas\n",
    "\n",
    "def get_yoy_delta(df,indic,period):\n",
    "    tot_18 = tot_19= tot_20 = np.zeros(135)\n",
    "    for month in period:\n",
    "        tot_18= tot_18+list(df[('2018',indic,month)])\n",
    "        tot_19= tot_19+list(df[('2019',indic,month)])\n",
    "        tot_20= tot_20+list(df[('2020',indic,month)])\n",
    "    delta =  (tot_20-tot_19)/tot_19\n",
    "    return tot_18,tot_19,tot_20,delta"
   ]
  },
  {
   "cell_type": "markdown",
   "metadata": {},
   "source": [
    "# Look at SAM data"
   ]
  },
  {
   "cell_type": "code",
   "execution_count": 34,
   "metadata": {},
   "outputs": [],
   "source": [
    "lbw_indic=['NUT: Percentage of children/babies born with low birth weight (<2.5kg)']"
   ]
  },
  {
   "cell_type": "code",
   "execution_count": 89,
   "metadata": {},
   "outputs": [],
   "source": [
    "lbw_new=pd.read_csv(input_path+'lbw_facility_pivot.csv')\n",
    "lbw_new=get_clean_pivot(lbw_new)"
   ]
  },
  {
   "cell_type": "code",
   "execution_count": 90,
   "metadata": {},
   "outputs": [],
   "source": [
    "dropped_months=['Nov','Dec']\n",
    "lbw_new.drop(dropped_months,axis=1,inplace=True,level=2)"
   ]
  },
  {
   "cell_type": "markdown",
   "metadata": {},
   "source": [
    "# Look at all facilities"
   ]
  },
  {
   "cell_type": "code",
   "execution_count": 91,
   "metadata": {},
   "outputs": [
    {
     "name": "stderr",
     "output_type": "stream",
     "text": [
      "C:\\Users\\Dalberg\\anaconda3\\envs\\icohs\\lib\\site-packages\\pandas\\core\\generic.py:3936: PerformanceWarning: dropping on a non-lexsorted multi-index without a level parameter may impact performance.\n",
      "  obj = obj._drop_axis(labels, axis, level=level, errors=errors)\n"
     ]
    }
   ],
   "source": [
    "lbw_rep_all=lbw_new.copy().groupby('district').count()"
   ]
  },
  {
   "cell_type": "code",
   "execution_count": 132,
   "metadata": {},
   "outputs": [
    {
     "data": {
      "text/plain": [
       "2020      NUT: Percentage of children/babies born with low birth weight (<2.5kg)  Jan    1203.000000\n",
       "                                                                                  Feb    1257.000000\n",
       "                                                                                  Mar    1287.000000\n",
       "                                                                                  Apr    1316.000000\n",
       "facility                                                                                 7636.000000\n",
       "2020      lbw reporting                                                           Jan      32.846248\n",
       "                                                                                  Feb      33.277567\n",
       "                                                                                  Mar      35.317479\n",
       "                                                                                  Apr      36.065185\n",
       "dtype: float64"
      ]
     },
     "execution_count": 132,
     "metadata": {},
     "output_type": "execute_result"
    }
   ],
   "source": [
    "lbw_rep_all.sum()"
   ]
  },
  {
   "cell_type": "code",
   "execution_count": 92,
   "metadata": {},
   "outputs": [],
   "source": [
    "# Should buid a function out of that \n",
    "\n",
    "for m in ['Jan','Feb','Mar','Apr']:\n",
    "    lbw_rep_all[('2020','lbw reporting',m)]=lbw_rep_all[('2020','NUT: Percentage of children/babies born with low birth weight (<2.5kg)',m)]/lbw_rep_all['facility']"
   ]
  },
  {
   "cell_type": "code",
   "execution_count": 93,
   "metadata": {},
   "outputs": [
    {
     "data": {
      "text/plain": [
       "2020      NUT: Percentage of children/babies born with low birth weight (<2.5kg)  Jan     8.911111\n",
       "                                                                                  Feb     9.311111\n",
       "                                                                                  Mar     9.533333\n",
       "                                                                                  Apr     9.748148\n",
       "facility                                                                                 56.562963\n",
       "2020      lbw reporting                                                           Jan     0.243306\n",
       "                                                                                  Feb     0.246500\n",
       "                                                                                  Mar     0.261611\n",
       "                                                                                  Apr     0.267150\n",
       "dtype: float64"
      ]
     },
     "execution_count": 93,
     "metadata": {},
     "output_type": "execute_result"
    }
   ],
   "source": [
    "lbw_rep_all.sum(axis=0)/135"
   ]
  },
  {
   "cell_type": "markdown",
   "metadata": {},
   "source": [
    "# Look at Gvt facilites only"
   ]
  },
  {
   "cell_type": "code",
   "execution_count": 121,
   "metadata": {},
   "outputs": [],
   "source": [
    "facility = pd.read_csv(facility_path+'MFL-Dec-19.csv')"
   ]
  },
  {
   "cell_type": "code",
   "execution_count": 122,
   "metadata": {},
   "outputs": [],
   "source": [
    "facility['index_code']=facility['District'].apply(lambda x: x[:-9].upper())+facility['Health Facility']\n",
    "facility.set_index('index_code',drop=True,inplace=True)"
   ]
  },
  {
   "cell_type": "code",
   "execution_count": 123,
   "metadata": {},
   "outputs": [],
   "source": [
    "facility_gov=facility[facility['Ownership']=='GOV'].copy()"
   ]
  },
  {
   "cell_type": "code",
   "execution_count": 125,
   "metadata": {},
   "outputs": [
    {
     "data": {
      "text/plain": [
       "96"
      ]
     },
     "execution_count": 125,
     "metadata": {},
     "output_type": "execute_result"
    }
   ],
   "source": [
    "len(list(set(facility_gov.index).difference(set(lbw_new.index))))\n"
   ]
  },
  {
   "cell_type": "code",
   "execution_count": 126,
   "metadata": {},
   "outputs": [],
   "source": [
    "lbw_new['index_code']=lbw_new['district']+lbw_new['facility']\n",
    "lbw_new.set_index('index_code',drop=False,inplace=True)"
   ]
  },
  {
   "cell_type": "code",
   "execution_count": 127,
   "metadata": {},
   "outputs": [
    {
     "name": "stderr",
     "output_type": "stream",
     "text": [
      "C:\\Users\\Dalberg\\anaconda3\\envs\\icohs\\lib\\site-packages\\pandas\\core\\reshape\\merge.py:618: UserWarning: merging between different levels can give an unintended result (1 levels on the left, 3 on the right)\n",
      "  warnings.warn(msg, UserWarning)\n"
     ]
    }
   ],
   "source": [
    "lbw_gvt=pd.merge(facility_gov,lbw_new,how='left',left_index=True,right_index=True)"
   ]
  },
  {
   "cell_type": "markdown",
   "metadata": {},
   "source": [
    "Paused here"
   ]
  },
  {
   "cell_type": "code",
   "execution_count": 129,
   "metadata": {},
   "outputs": [
    {
     "data": {
      "text/html": [
       "<div>\n",
       "<style scoped>\n",
       "    .dataframe tbody tr th:only-of-type {\n",
       "        vertical-align: middle;\n",
       "    }\n",
       "\n",
       "    .dataframe tbody tr th {\n",
       "        vertical-align: top;\n",
       "    }\n",
       "\n",
       "    .dataframe thead th {\n",
       "        text-align: right;\n",
       "    }\n",
       "</style>\n",
       "<table border=\"1\" class=\"dataframe\">\n",
       "  <thead>\n",
       "    <tr style=\"text-align: right;\">\n",
       "      <th></th>\n",
       "      <th>Region</th>\n",
       "      <th>District</th>\n",
       "      <th>Sub county</th>\n",
       "      <th>Sub county UID</th>\n",
       "      <th>Health Facility</th>\n",
       "      <th>Health Facility UID</th>\n",
       "      <th>Operional Status</th>\n",
       "      <th>Level</th>\n",
       "      <th>Ownership</th>\n",
       "      <th>Authority</th>\n",
       "      <th>(2020, NUT: Percentage of children/babies born with low birth weight (&lt;2.5kg), Jan)</th>\n",
       "      <th>(2020, NUT: Percentage of children/babies born with low birth weight (&lt;2.5kg), Feb)</th>\n",
       "      <th>(2020, NUT: Percentage of children/babies born with low birth weight (&lt;2.5kg), Mar)</th>\n",
       "      <th>(2020, NUT: Percentage of children/babies born with low birth weight (&lt;2.5kg), Apr)</th>\n",
       "      <th>(facility, , )</th>\n",
       "      <th>(district, , )</th>\n",
       "      <th>(index_code, , )</th>\n",
       "    </tr>\n",
       "    <tr>\n",
       "      <th>index_code</th>\n",
       "      <th></th>\n",
       "      <th></th>\n",
       "      <th></th>\n",
       "      <th></th>\n",
       "      <th></th>\n",
       "      <th></th>\n",
       "      <th></th>\n",
       "      <th></th>\n",
       "      <th></th>\n",
       "      <th></th>\n",
       "      <th></th>\n",
       "      <th></th>\n",
       "      <th></th>\n",
       "      <th></th>\n",
       "      <th></th>\n",
       "      <th></th>\n",
       "      <th></th>\n",
       "    </tr>\n",
       "  </thead>\n",
       "  <tbody>\n",
       "    <tr>\n",
       "      <th>ABIMAbim Hospital</th>\n",
       "      <td>Karamoja</td>\n",
       "      <td>Abim District</td>\n",
       "      <td>Abim Town Council</td>\n",
       "      <td>SVXuVZuvsit</td>\n",
       "      <td>Abim Hospital</td>\n",
       "      <td>RxPKxSBe0DC</td>\n",
       "      <td>Functional</td>\n",
       "      <td>Hospital</td>\n",
       "      <td>GOV</td>\n",
       "      <td>MOH</td>\n",
       "      <td>9.4</td>\n",
       "      <td>20.0</td>\n",
       "      <td>14.0</td>\n",
       "      <td>25.0</td>\n",
       "      <td>Abim Hospital</td>\n",
       "      <td>ABIM</td>\n",
       "      <td>ABIMAbim Hospital</td>\n",
       "    </tr>\n",
       "    <tr>\n",
       "      <th>ABIMAbim Obolokome HC II</th>\n",
       "      <td>Karamoja</td>\n",
       "      <td>Abim District</td>\n",
       "      <td>Morulem Subcounty</td>\n",
       "      <td>YeM7sYuP1xa</td>\n",
       "      <td>Abim Obolokome HC II</td>\n",
       "      <td>ltIECAx2ppI</td>\n",
       "      <td>Functional</td>\n",
       "      <td>HC II</td>\n",
       "      <td>GOV</td>\n",
       "      <td>MOH</td>\n",
       "      <td>0.0</td>\n",
       "      <td>0.0</td>\n",
       "      <td>20.0</td>\n",
       "      <td>0.0</td>\n",
       "      <td>Abim Obolokome HC II</td>\n",
       "      <td>ABIM</td>\n",
       "      <td>ABIMAbim Obolokome HC II</td>\n",
       "    </tr>\n",
       "    <tr>\n",
       "      <th>ABIMAdea HC II</th>\n",
       "      <td>Karamoja</td>\n",
       "      <td>Abim District</td>\n",
       "      <td>Morulem Subcounty</td>\n",
       "      <td>YeM7sYuP1xa</td>\n",
       "      <td>Adea HC II</td>\n",
       "      <td>vXlnJIdin7f</td>\n",
       "      <td>Functional</td>\n",
       "      <td>HC II</td>\n",
       "      <td>GOV</td>\n",
       "      <td>MOH</td>\n",
       "      <td>NaN</td>\n",
       "      <td>NaN</td>\n",
       "      <td>0.0</td>\n",
       "      <td>0.0</td>\n",
       "      <td>Adea HC II</td>\n",
       "      <td>ABIM</td>\n",
       "      <td>ABIMAdea HC II</td>\n",
       "    </tr>\n",
       "    <tr>\n",
       "      <th>ABIMAlerek HC III</th>\n",
       "      <td>Karamoja</td>\n",
       "      <td>Abim District</td>\n",
       "      <td>Alerek Subcounty</td>\n",
       "      <td>un9dv9VS0Cd</td>\n",
       "      <td>Alerek HC III</td>\n",
       "      <td>RLWAwgTDjSJ</td>\n",
       "      <td>Functional</td>\n",
       "      <td>HC III</td>\n",
       "      <td>GOV</td>\n",
       "      <td>MOH</td>\n",
       "      <td>0.0</td>\n",
       "      <td>10.5</td>\n",
       "      <td>0.0</td>\n",
       "      <td>12.0</td>\n",
       "      <td>Alerek HC III</td>\n",
       "      <td>ABIM</td>\n",
       "      <td>ABIMAlerek HC III</td>\n",
       "    </tr>\n",
       "    <tr>\n",
       "      <th>ABIMAmita HC II</th>\n",
       "      <td>Karamoja</td>\n",
       "      <td>Abim District</td>\n",
       "      <td>Abim Subcounty</td>\n",
       "      <td>A8Xv1XbkdrA</td>\n",
       "      <td>Amita HC II</td>\n",
       "      <td>iwlSS6Uybvp</td>\n",
       "      <td>Functional</td>\n",
       "      <td>HC II</td>\n",
       "      <td>GOV</td>\n",
       "      <td>MOH</td>\n",
       "      <td>NaN</td>\n",
       "      <td>NaN</td>\n",
       "      <td>NaN</td>\n",
       "      <td>NaN</td>\n",
       "      <td>NaN</td>\n",
       "      <td>NaN</td>\n",
       "      <td>NaN</td>\n",
       "    </tr>\n",
       "    <tr>\n",
       "      <th>...</th>\n",
       "      <td>...</td>\n",
       "      <td>...</td>\n",
       "      <td>...</td>\n",
       "      <td>...</td>\n",
       "      <td>...</td>\n",
       "      <td>...</td>\n",
       "      <td>...</td>\n",
       "      <td>...</td>\n",
       "      <td>...</td>\n",
       "      <td>...</td>\n",
       "      <td>...</td>\n",
       "      <td>...</td>\n",
       "      <td>...</td>\n",
       "      <td>...</td>\n",
       "      <td>...</td>\n",
       "      <td>...</td>\n",
       "      <td>...</td>\n",
       "    </tr>\n",
       "    <tr>\n",
       "      <th>ZOMBOPaidha HC III</th>\n",
       "      <td>West Nile</td>\n",
       "      <td>Zombo District</td>\n",
       "      <td>Paidha Town Council</td>\n",
       "      <td>wMj4Uco2mMl</td>\n",
       "      <td>Paidha HC III</td>\n",
       "      <td>P1F2OCX6d3t</td>\n",
       "      <td>Functional</td>\n",
       "      <td>HC III</td>\n",
       "      <td>GOV</td>\n",
       "      <td>MOH</td>\n",
       "      <td>3.7</td>\n",
       "      <td>3.3</td>\n",
       "      <td>4.4</td>\n",
       "      <td>5.6</td>\n",
       "      <td>Paidha HC III</td>\n",
       "      <td>ZOMBO</td>\n",
       "      <td>ZOMBOPaidha HC III</td>\n",
       "    </tr>\n",
       "    <tr>\n",
       "      <th>ZOMBOPamitu HC II</th>\n",
       "      <td>West Nile</td>\n",
       "      <td>Zombo District</td>\n",
       "      <td>Abanga Subcounty</td>\n",
       "      <td>xT38Pbk8s4j</td>\n",
       "      <td>Pamitu HC II</td>\n",
       "      <td>ucuVKnNXEhV</td>\n",
       "      <td>Functional</td>\n",
       "      <td>HC II</td>\n",
       "      <td>GOV</td>\n",
       "      <td>MOH</td>\n",
       "      <td>NaN</td>\n",
       "      <td>NaN</td>\n",
       "      <td>NaN</td>\n",
       "      <td>NaN</td>\n",
       "      <td>Pamitu HC II</td>\n",
       "      <td>ZOMBO</td>\n",
       "      <td>ZOMBOPamitu HC II</td>\n",
       "    </tr>\n",
       "    <tr>\n",
       "      <th>ZOMBOTher-Uru HC II</th>\n",
       "      <td>West Nile</td>\n",
       "      <td>Zombo District</td>\n",
       "      <td>Atyak Subcounty</td>\n",
       "      <td>tAM0excypCp</td>\n",
       "      <td>Ther-Uru HC II</td>\n",
       "      <td>mdd2qwn2jWm</td>\n",
       "      <td>Functional</td>\n",
       "      <td>HC II</td>\n",
       "      <td>GOV</td>\n",
       "      <td>MOH</td>\n",
       "      <td>NaN</td>\n",
       "      <td>NaN</td>\n",
       "      <td>NaN</td>\n",
       "      <td>NaN</td>\n",
       "      <td>NaN</td>\n",
       "      <td>NaN</td>\n",
       "      <td>NaN</td>\n",
       "    </tr>\n",
       "    <tr>\n",
       "      <th>ZOMBOWarr HC III</th>\n",
       "      <td>West Nile</td>\n",
       "      <td>Zombo District</td>\n",
       "      <td>Warr Subcounty</td>\n",
       "      <td>W6dgKKl8WCg</td>\n",
       "      <td>Warr HC III</td>\n",
       "      <td>H9PD4tw7GUE</td>\n",
       "      <td>Functional</td>\n",
       "      <td>HC III</td>\n",
       "      <td>GOV</td>\n",
       "      <td>MOH</td>\n",
       "      <td>NaN</td>\n",
       "      <td>NaN</td>\n",
       "      <td>NaN</td>\n",
       "      <td>NaN</td>\n",
       "      <td>NaN</td>\n",
       "      <td>NaN</td>\n",
       "      <td>NaN</td>\n",
       "    </tr>\n",
       "    <tr>\n",
       "      <th>ZOMBOZeu HC III</th>\n",
       "      <td>West Nile</td>\n",
       "      <td>Zombo District</td>\n",
       "      <td>Zeu Subcounty</td>\n",
       "      <td>WPNKWhyNTT3</td>\n",
       "      <td>Zeu HC III</td>\n",
       "      <td>Wk8yKMCUZOk</td>\n",
       "      <td>Functional</td>\n",
       "      <td>HC III</td>\n",
       "      <td>GOV</td>\n",
       "      <td>MOH</td>\n",
       "      <td>6.1</td>\n",
       "      <td>NaN</td>\n",
       "      <td>5.5</td>\n",
       "      <td>0.0</td>\n",
       "      <td>Zeu HC III</td>\n",
       "      <td>ZOMBO</td>\n",
       "      <td>ZOMBOZeu HC III</td>\n",
       "    </tr>\n",
       "  </tbody>\n",
       "</table>\n",
       "<p>3213 rows × 17 columns</p>\n",
       "</div>"
      ],
      "text/plain": [
       "                             Region        District           Sub county  \\\n",
       "index_code                                                                 \n",
       "ABIMAbim Hospital          Karamoja   Abim District    Abim Town Council   \n",
       "ABIMAbim Obolokome HC II   Karamoja   Abim District    Morulem Subcounty   \n",
       "ABIMAdea HC II             Karamoja   Abim District    Morulem Subcounty   \n",
       "ABIMAlerek HC III          Karamoja   Abim District     Alerek Subcounty   \n",
       "ABIMAmita HC II            Karamoja   Abim District       Abim Subcounty   \n",
       "...                             ...             ...                  ...   \n",
       "ZOMBOPaidha HC III        West Nile  Zombo District  Paidha Town Council   \n",
       "ZOMBOPamitu HC II         West Nile  Zombo District     Abanga Subcounty   \n",
       "ZOMBOTher-Uru HC II       West Nile  Zombo District      Atyak Subcounty   \n",
       "ZOMBOWarr HC III          West Nile  Zombo District       Warr Subcounty   \n",
       "ZOMBOZeu HC III           West Nile  Zombo District        Zeu Subcounty   \n",
       "\n",
       "                         Sub county UID       Health Facility  \\\n",
       "index_code                                                      \n",
       "ABIMAbim Hospital           SVXuVZuvsit         Abim Hospital   \n",
       "ABIMAbim Obolokome HC II    YeM7sYuP1xa  Abim Obolokome HC II   \n",
       "ABIMAdea HC II              YeM7sYuP1xa            Adea HC II   \n",
       "ABIMAlerek HC III           un9dv9VS0Cd         Alerek HC III   \n",
       "ABIMAmita HC II             A8Xv1XbkdrA           Amita HC II   \n",
       "...                                 ...                   ...   \n",
       "ZOMBOPaidha HC III          wMj4Uco2mMl         Paidha HC III   \n",
       "ZOMBOPamitu HC II           xT38Pbk8s4j          Pamitu HC II   \n",
       "ZOMBOTher-Uru HC II         tAM0excypCp        Ther-Uru HC II   \n",
       "ZOMBOWarr HC III            W6dgKKl8WCg           Warr HC III   \n",
       "ZOMBOZeu HC III             WPNKWhyNTT3            Zeu HC III   \n",
       "\n",
       "                         Health Facility UID Operional Status     Level  \\\n",
       "index_code                                                                \n",
       "ABIMAbim Hospital                RxPKxSBe0DC       Functional  Hospital   \n",
       "ABIMAbim Obolokome HC II         ltIECAx2ppI       Functional     HC II   \n",
       "ABIMAdea HC II                   vXlnJIdin7f       Functional     HC II   \n",
       "ABIMAlerek HC III                RLWAwgTDjSJ       Functional    HC III   \n",
       "ABIMAmita HC II                  iwlSS6Uybvp       Functional     HC II   \n",
       "...                                      ...              ...       ...   \n",
       "ZOMBOPaidha HC III               P1F2OCX6d3t       Functional    HC III   \n",
       "ZOMBOPamitu HC II                ucuVKnNXEhV       Functional     HC II   \n",
       "ZOMBOTher-Uru HC II              mdd2qwn2jWm       Functional     HC II   \n",
       "ZOMBOWarr HC III                 H9PD4tw7GUE       Functional    HC III   \n",
       "ZOMBOZeu HC III                  Wk8yKMCUZOk       Functional    HC III   \n",
       "\n",
       "                         Ownership Authority  \\\n",
       "index_code                                     \n",
       "ABIMAbim Hospital              GOV       MOH   \n",
       "ABIMAbim Obolokome HC II       GOV       MOH   \n",
       "ABIMAdea HC II                 GOV       MOH   \n",
       "ABIMAlerek HC III              GOV       MOH   \n",
       "ABIMAmita HC II                GOV       MOH   \n",
       "...                            ...       ...   \n",
       "ZOMBOPaidha HC III             GOV       MOH   \n",
       "ZOMBOPamitu HC II              GOV       MOH   \n",
       "ZOMBOTher-Uru HC II            GOV       MOH   \n",
       "ZOMBOWarr HC III               GOV       MOH   \n",
       "ZOMBOZeu HC III                GOV       MOH   \n",
       "\n",
       "                          (2020, NUT: Percentage of children/babies born with low birth weight (<2.5kg), Jan)  \\\n",
       "index_code                                                                                                      \n",
       "ABIMAbim Hospital                                                       9.4                                     \n",
       "ABIMAbim Obolokome HC II                                                0.0                                     \n",
       "ABIMAdea HC II                                                          NaN                                     \n",
       "ABIMAlerek HC III                                                       0.0                                     \n",
       "ABIMAmita HC II                                                         NaN                                     \n",
       "...                                                                     ...                                     \n",
       "ZOMBOPaidha HC III                                                      3.7                                     \n",
       "ZOMBOPamitu HC II                                                       NaN                                     \n",
       "ZOMBOTher-Uru HC II                                                     NaN                                     \n",
       "ZOMBOWarr HC III                                                        NaN                                     \n",
       "ZOMBOZeu HC III                                                         6.1                                     \n",
       "\n",
       "                          (2020, NUT: Percentage of children/babies born with low birth weight (<2.5kg), Feb)  \\\n",
       "index_code                                                                                                      \n",
       "ABIMAbim Hospital                                                      20.0                                     \n",
       "ABIMAbim Obolokome HC II                                                0.0                                     \n",
       "ABIMAdea HC II                                                          NaN                                     \n",
       "ABIMAlerek HC III                                                      10.5                                     \n",
       "ABIMAmita HC II                                                         NaN                                     \n",
       "...                                                                     ...                                     \n",
       "ZOMBOPaidha HC III                                                      3.3                                     \n",
       "ZOMBOPamitu HC II                                                       NaN                                     \n",
       "ZOMBOTher-Uru HC II                                                     NaN                                     \n",
       "ZOMBOWarr HC III                                                        NaN                                     \n",
       "ZOMBOZeu HC III                                                         NaN                                     \n",
       "\n",
       "                          (2020, NUT: Percentage of children/babies born with low birth weight (<2.5kg), Mar)  \\\n",
       "index_code                                                                                                      \n",
       "ABIMAbim Hospital                                                      14.0                                     \n",
       "ABIMAbim Obolokome HC II                                               20.0                                     \n",
       "ABIMAdea HC II                                                          0.0                                     \n",
       "ABIMAlerek HC III                                                       0.0                                     \n",
       "ABIMAmita HC II                                                         NaN                                     \n",
       "...                                                                     ...                                     \n",
       "ZOMBOPaidha HC III                                                      4.4                                     \n",
       "ZOMBOPamitu HC II                                                       NaN                                     \n",
       "ZOMBOTher-Uru HC II                                                     NaN                                     \n",
       "ZOMBOWarr HC III                                                        NaN                                     \n",
       "ZOMBOZeu HC III                                                         5.5                                     \n",
       "\n",
       "                          (2020, NUT: Percentage of children/babies born with low birth weight (<2.5kg), Apr)  \\\n",
       "index_code                                                                                                      \n",
       "ABIMAbim Hospital                                                      25.0                                     \n",
       "ABIMAbim Obolokome HC II                                                0.0                                     \n",
       "ABIMAdea HC II                                                          0.0                                     \n",
       "ABIMAlerek HC III                                                      12.0                                     \n",
       "ABIMAmita HC II                                                         NaN                                     \n",
       "...                                                                     ...                                     \n",
       "ZOMBOPaidha HC III                                                      5.6                                     \n",
       "ZOMBOPamitu HC II                                                       NaN                                     \n",
       "ZOMBOTher-Uru HC II                                                     NaN                                     \n",
       "ZOMBOWarr HC III                                                        NaN                                     \n",
       "ZOMBOZeu HC III                                                         0.0                                     \n",
       "\n",
       "                                (facility, , ) (district, , )  \\\n",
       "index_code                                                      \n",
       "ABIMAbim Hospital                Abim Hospital           ABIM   \n",
       "ABIMAbim Obolokome HC II  Abim Obolokome HC II           ABIM   \n",
       "ABIMAdea HC II                      Adea HC II           ABIM   \n",
       "ABIMAlerek HC III                Alerek HC III           ABIM   \n",
       "ABIMAmita HC II                            NaN            NaN   \n",
       "...                                        ...            ...   \n",
       "ZOMBOPaidha HC III               Paidha HC III          ZOMBO   \n",
       "ZOMBOPamitu HC II                 Pamitu HC II          ZOMBO   \n",
       "ZOMBOTher-Uru HC II                        NaN            NaN   \n",
       "ZOMBOWarr HC III                           NaN            NaN   \n",
       "ZOMBOZeu HC III                     Zeu HC III          ZOMBO   \n",
       "\n",
       "                                  (index_code, , )  \n",
       "index_code                                          \n",
       "ABIMAbim Hospital                ABIMAbim Hospital  \n",
       "ABIMAbim Obolokome HC II  ABIMAbim Obolokome HC II  \n",
       "ABIMAdea HC II                      ABIMAdea HC II  \n",
       "ABIMAlerek HC III                ABIMAlerek HC III  \n",
       "ABIMAmita HC II                                NaN  \n",
       "...                                            ...  \n",
       "ZOMBOPaidha HC III              ZOMBOPaidha HC III  \n",
       "ZOMBOPamitu HC II                ZOMBOPamitu HC II  \n",
       "ZOMBOTher-Uru HC II                            NaN  \n",
       "ZOMBOWarr HC III                               NaN  \n",
       "ZOMBOZeu HC III                    ZOMBOZeu HC III  \n",
       "\n",
       "[3213 rows x 17 columns]"
      ]
     },
     "execution_count": 129,
     "metadata": {},
     "output_type": "execute_result"
    }
   ],
   "source": [
    "lbw_gvt\n",
    "#multi_index=pd.MultiIndex.from_tuples([('Test','test','test')])\n",
    "#data_elements=pd.DataFrame(index=districts,columns=multi_index)"
   ]
  },
  {
   "cell_type": "code",
   "execution_count": 128,
   "metadata": {},
   "outputs": [
    {
     "ename": "KeyError",
     "evalue": "'district'",
     "output_type": "error",
     "traceback": [
      "\u001b[1;31m---------------------------------------------------------------------------\u001b[0m",
      "\u001b[1;31mKeyError\u001b[0m                                  Traceback (most recent call last)",
      "\u001b[1;32m<ipython-input-128-3e110a8fa440>\u001b[0m in \u001b[0;36m<module>\u001b[1;34m\u001b[0m\n\u001b[1;32m----> 1\u001b[1;33m \u001b[0mlbw_rep_gvt\u001b[0m\u001b[1;33m=\u001b[0m\u001b[0mlbw_gvt\u001b[0m\u001b[1;33m.\u001b[0m\u001b[0mcopy\u001b[0m\u001b[1;33m(\u001b[0m\u001b[1;33m)\u001b[0m\u001b[1;33m.\u001b[0m\u001b[0mgroupby\u001b[0m\u001b[1;33m(\u001b[0m\u001b[1;34m'district'\u001b[0m\u001b[1;33m)\u001b[0m\u001b[1;33m.\u001b[0m\u001b[0mcount\u001b[0m\u001b[1;33m(\u001b[0m\u001b[1;33m)\u001b[0m\u001b[1;33m\u001b[0m\u001b[1;33m\u001b[0m\u001b[0m\n\u001b[0m",
      "\u001b[1;32m~\\anaconda3\\envs\\icohs\\lib\\site-packages\\pandas\\core\\frame.py\u001b[0m in \u001b[0;36mgroupby\u001b[1;34m(self, by, axis, level, as_index, sort, group_keys, squeeze, observed)\u001b[0m\n\u001b[0;32m   5799\u001b[0m         \u001b[0maxis\u001b[0m \u001b[1;33m=\u001b[0m \u001b[0mself\u001b[0m\u001b[1;33m.\u001b[0m\u001b[0m_get_axis_number\u001b[0m\u001b[1;33m(\u001b[0m\u001b[0maxis\u001b[0m\u001b[1;33m)\u001b[0m\u001b[1;33m\u001b[0m\u001b[1;33m\u001b[0m\u001b[0m\n\u001b[0;32m   5800\u001b[0m \u001b[1;33m\u001b[0m\u001b[0m\n\u001b[1;32m-> 5801\u001b[1;33m         return groupby_generic.DataFrameGroupBy(\n\u001b[0m\u001b[0;32m   5802\u001b[0m             \u001b[0mobj\u001b[0m\u001b[1;33m=\u001b[0m\u001b[0mself\u001b[0m\u001b[1;33m,\u001b[0m\u001b[1;33m\u001b[0m\u001b[1;33m\u001b[0m\u001b[0m\n\u001b[0;32m   5803\u001b[0m             \u001b[0mkeys\u001b[0m\u001b[1;33m=\u001b[0m\u001b[0mby\u001b[0m\u001b[1;33m,\u001b[0m\u001b[1;33m\u001b[0m\u001b[1;33m\u001b[0m\u001b[0m\n",
      "\u001b[1;32m~\\anaconda3\\envs\\icohs\\lib\\site-packages\\pandas\\core\\groupby\\groupby.py\u001b[0m in \u001b[0;36m__init__\u001b[1;34m(self, obj, keys, axis, level, grouper, exclusions, selection, as_index, sort, group_keys, squeeze, observed, mutated)\u001b[0m\n\u001b[0;32m    400\u001b[0m             \u001b[1;32mfrom\u001b[0m \u001b[0mpandas\u001b[0m\u001b[1;33m.\u001b[0m\u001b[0mcore\u001b[0m\u001b[1;33m.\u001b[0m\u001b[0mgroupby\u001b[0m\u001b[1;33m.\u001b[0m\u001b[0mgrouper\u001b[0m \u001b[1;32mimport\u001b[0m \u001b[0mget_grouper\u001b[0m\u001b[1;33m\u001b[0m\u001b[1;33m\u001b[0m\u001b[0m\n\u001b[0;32m    401\u001b[0m \u001b[1;33m\u001b[0m\u001b[0m\n\u001b[1;32m--> 402\u001b[1;33m             grouper, exclusions, obj = get_grouper(\n\u001b[0m\u001b[0;32m    403\u001b[0m                 \u001b[0mobj\u001b[0m\u001b[1;33m,\u001b[0m\u001b[1;33m\u001b[0m\u001b[1;33m\u001b[0m\u001b[0m\n\u001b[0;32m    404\u001b[0m                 \u001b[0mkeys\u001b[0m\u001b[1;33m,\u001b[0m\u001b[1;33m\u001b[0m\u001b[1;33m\u001b[0m\u001b[0m\n",
      "\u001b[1;32m~\\anaconda3\\envs\\icohs\\lib\\site-packages\\pandas\\core\\groupby\\grouper.py\u001b[0m in \u001b[0;36mget_grouper\u001b[1;34m(obj, key, axis, level, sort, observed, mutated, validate)\u001b[0m\n\u001b[0;32m    596\u001b[0m                 \u001b[0min_axis\u001b[0m\u001b[1;33m,\u001b[0m \u001b[0mname\u001b[0m\u001b[1;33m,\u001b[0m \u001b[0mlevel\u001b[0m\u001b[1;33m,\u001b[0m \u001b[0mgpr\u001b[0m \u001b[1;33m=\u001b[0m \u001b[1;32mFalse\u001b[0m\u001b[1;33m,\u001b[0m \u001b[1;32mNone\u001b[0m\u001b[1;33m,\u001b[0m \u001b[0mgpr\u001b[0m\u001b[1;33m,\u001b[0m \u001b[1;32mNone\u001b[0m\u001b[1;33m\u001b[0m\u001b[1;33m\u001b[0m\u001b[0m\n\u001b[0;32m    597\u001b[0m             \u001b[1;32melse\u001b[0m\u001b[1;33m:\u001b[0m\u001b[1;33m\u001b[0m\u001b[1;33m\u001b[0m\u001b[0m\n\u001b[1;32m--> 598\u001b[1;33m                 \u001b[1;32mraise\u001b[0m \u001b[0mKeyError\u001b[0m\u001b[1;33m(\u001b[0m\u001b[0mgpr\u001b[0m\u001b[1;33m)\u001b[0m\u001b[1;33m\u001b[0m\u001b[1;33m\u001b[0m\u001b[0m\n\u001b[0m\u001b[0;32m    599\u001b[0m         \u001b[1;32melif\u001b[0m \u001b[0misinstance\u001b[0m\u001b[1;33m(\u001b[0m\u001b[0mgpr\u001b[0m\u001b[1;33m,\u001b[0m \u001b[0mGrouper\u001b[0m\u001b[1;33m)\u001b[0m \u001b[1;32mand\u001b[0m \u001b[0mgpr\u001b[0m\u001b[1;33m.\u001b[0m\u001b[0mkey\u001b[0m \u001b[1;32mis\u001b[0m \u001b[1;32mnot\u001b[0m \u001b[1;32mNone\u001b[0m\u001b[1;33m:\u001b[0m\u001b[1;33m\u001b[0m\u001b[1;33m\u001b[0m\u001b[0m\n\u001b[0;32m    600\u001b[0m             \u001b[1;31m# Add key to exclusions\u001b[0m\u001b[1;33m\u001b[0m\u001b[1;33m\u001b[0m\u001b[1;33m\u001b[0m\u001b[0m\n",
      "\u001b[1;31mKeyError\u001b[0m: 'district'"
     ]
    }
   ],
   "source": [
    "lbw_rep_gvt=lbw_gvt.copy().groupby('district').count()"
   ]
  },
  {
   "cell_type": "code",
   "execution_count": 92,
   "metadata": {},
   "outputs": [],
   "source": [
    "# Should buid a function out of that \n",
    "\n",
    "for m in ['Jan','Feb','Mar','Apr']:\n",
    "    lbw_rep_all[('2020','lbw reporting',m)]=lbw_rep_all[('2020','NUT: Percentage of children/babies born with low birth weight (<2.5kg)',m)]/lbw_rep_all['facility']"
   ]
  },
  {
   "cell_type": "code",
   "execution_count": 93,
   "metadata": {},
   "outputs": [
    {
     "data": {
      "text/plain": [
       "2020      NUT: Percentage of children/babies born with low birth weight (<2.5kg)  Jan     8.911111\n",
       "                                                                                  Feb     9.311111\n",
       "                                                                                  Mar     9.533333\n",
       "                                                                                  Apr     9.748148\n",
       "facility                                                                                 56.562963\n",
       "2020      lbw reporting                                                           Jan     0.243306\n",
       "                                                                                  Feb     0.246500\n",
       "                                                                                  Mar     0.261611\n",
       "                                                                                  Apr     0.267150\n",
       "dtype: float64"
      ]
     },
     "execution_count": 93,
     "metadata": {},
     "output_type": "execute_result"
    }
   ],
   "source": [
    "lbw_rep_all.sum(axis=0)/135"
   ]
  },
  {
   "cell_type": "code",
   "execution_count": null,
   "metadata": {},
   "outputs": [],
   "source": []
  },
  {
   "cell_type": "markdown",
   "metadata": {},
   "source": [
    "## Get that to csv"
   ]
  },
  {
   "cell_type": "code",
   "execution_count": 234,
   "metadata": {},
   "outputs": [],
   "source": [
    "sam_export_df=sam_df.copy()\n",
    "sam_export_df.columns=sam_df.columns.map(\"_\".join)\n",
    "sam_export_df.to_csv(output_path+'sam_map.csv')"
   ]
  },
  {
   "cell_type": "markdown",
   "metadata": {},
   "source": [
    "Note that I am not looking at old data here, because I coul not find teh corresponding indicators execpt for two of them"
   ]
  }
 ],
 "metadata": {
  "kernelspec": {
   "display_name": "Python 3",
   "language": "python",
   "name": "python3"
  },
  "language_info": {
   "codemirror_mode": {
    "name": "ipython",
    "version": 3
   },
   "file_extension": ".py",
   "mimetype": "text/x-python",
   "name": "python",
   "nbconvert_exporter": "python",
   "pygments_lexer": "ipython3",
   "version": "3.8.2"
  }
 },
 "nbformat": 4,
 "nbformat_minor": 4
}
