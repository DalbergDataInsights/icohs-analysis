{
 "cells": [
  {
   "cell_type": "code",
   "execution_count": 357,
   "metadata": {},
   "outputs": [],
   "source": [
    "import pandas as pd\n",
    "import numpy as np\n",
    "from pandas import ExcelWriter\n",
    "import openpyxl\n",
    "import geopandas as gpd\n",
    "import math\n",
    "import itertools\n",
    "from scipy import stats\n",
    "import scipy\n",
    "import timeit\n",
    "from functools import reduce\n",
    "from pandas import ExcelWriter\n",
    "\n",
    "pd.set_option('display.max_columns', None)\n",
    "idx = pd.IndexSlice"
   ]
  },
  {
   "cell_type": "code",
   "execution_count": 194,
   "metadata": {},
   "outputs": [
    {
     "data": {
      "text/plain": [
       "'1.4.1'"
      ]
     },
     "execution_count": 194,
     "metadata": {},
     "output_type": "execute_result"
    }
   ],
   "source": [
    "scipy.version.version"
   ]
  },
  {
   "cell_type": "code",
   "execution_count": 195,
   "metadata": {},
   "outputs": [],
   "source": [
    "input_path = '../../data/input/dhis2/new_system/'\n",
    "input_path_old = '../../data/input/dhis2/old_system/'\n",
    "\n",
    "shapes_path = '../../data/shapes/district/districts_17_19.shp'\n",
    "facility_path = '../../data/input/hospitals/original_data/'\n",
    "\n",
    "output_path = '../../data/output/sprint3_analysis/'"
   ]
  },
  {
   "cell_type": "markdown",
   "metadata": {},
   "source": [
    "# Some functions I'll use"
   ]
  },
  {
   "cell_type": "code",
   "execution_count": 320,
   "metadata": {},
   "outputs": [],
   "source": [
    "shapes.copy().drop('geometry',axis=1).to_csv(output_path+'district_correspondance.csv')"
   ]
  },
  {
   "cell_type": "code",
   "execution_count": 196,
   "metadata": {},
   "outputs": [],
   "source": [
    "districts = list(pd.read_csv(input_path+'districts.csv')[\"Districts\"])\n",
    "shapes = gpd.read_file(shapes_path)\n",
    "\n",
    "# Creating a dict of names to replace district names\n",
    "\n",
    "def get_district_name_dict (df):\n",
    "    keys = list(set(df.index).difference(set(shapes['name_19'])))\n",
    "    values = list(set(shapes['name_19']).difference(set(df.index)))\n",
    "    district_name = dict(zip(keys, values))\n",
    "    return district_name \n"
   ]
  },
  {
   "cell_type": "code",
   "execution_count": 197,
   "metadata": {},
   "outputs": [],
   "source": [
    "# build a small fucntion to split the string column name of the data download as pivot \n",
    "\n",
    "def split(strng, sep, occ):\n",
    "    strng = strng.split(sep)\n",
    "    return sep.join(strng[occ[1]:]), sep.join(strng[:occ[0]]), sep.join(strng[occ[0]:occ[1]])[:3]"
   ]
  },
  {
   "cell_type": "code",
   "execution_count": 351,
   "metadata": {},
   "outputs": [],
   "source": [
    "# To clean the data downloaded in a pivot format\n",
    "\n",
    "def get_clean_pivot(df,drop):\n",
    "    #df['facility']=df['orgunitlevel5']\n",
    "    #df['id']=df['organisationunitid']\n",
    "    df['district']=df['orgunitlevel3'].apply(lambda x: x[:-9].upper())\n",
    "    df['district'].rename(get_district_name_dict(df),inplace=True)\n",
    "    df.set_index(['district','organisationunitid'],drop=True,inplace=True)\n",
    "    cols = np.arange(0,9)\n",
    "    df.drop(df.columns[cols],axis=1,inplace=True)\n",
    "    cols = df.columns\n",
    "    new_cols=[]\n",
    "    for col in cols:\n",
    "        new_cols.append(split(col,' ',[-2,-1]))\n",
    "    df.columns=pd.MultiIndex.from_tuples(new_cols)\n",
    "    if drop != None:\n",
    "        df.drop(drop,axis=1,inplace=True,level=2)\n",
    "    return df"
   ]
  },
  {
   "cell_type": "code",
   "execution_count": 199,
   "metadata": {},
   "outputs": [],
   "source": [
    "# To get year on year deltas over a list of months\n",
    "\n",
    "def get_delta(df,st_year,end_year,indic,st_month,end_month):\n",
    "    delta=((df[(end_year,indic,end_month)]\n",
    "            -df[(st_year,indic,st_month)])\n",
    "           /df[(st_year,indic,st_month)])\n",
    "    return delta"
   ]
  },
  {
   "cell_type": "code",
   "execution_count": 200,
   "metadata": {},
   "outputs": [],
   "source": [
    "# To get month on month deltas\n",
    "\n",
    "def get_yoy_delta(df,indic,period):\n",
    "    tot_18 = tot_19= tot_20 = np.zeros(135)\n",
    "    for month in period:\n",
    "        tot_18= tot_18+list(df[('2018',indic,month)])\n",
    "        tot_19= tot_19+list(df[('2019',indic,month)])\n",
    "        tot_20= tot_20+list(df[('2020',indic,month)])\n",
    "    delta =  (tot_20-tot_19)/tot_19\n",
    "    return tot_18,tot_19,tot_20,delta"
   ]
  },
  {
   "cell_type": "markdown",
   "metadata": {},
   "source": [
    "# Fetch data\n"
   ]
  },
  {
   "cell_type": "markdown",
   "metadata": {},
   "source": [
    "## New data\n"
   ]
  },
  {
   "cell_type": "code",
   "execution_count": 390,
   "metadata": {},
   "outputs": [],
   "source": [
    "# To update as I go\n",
    "\n",
    "all_months=['Jan','Feb','Mar','Apr','May']"
   ]
  },
  {
   "cell_type": "code",
   "execution_count": 401,
   "metadata": {},
   "outputs": [
    {
     "name": "stderr",
     "output_type": "stream",
     "text": [
      "C:\\Users\\Dalberg\\anaconda3\\envs\\icohs\\lib\\site-packages\\IPython\\core\\interactiveshell.py:3254: DtypeWarning: Columns (7) have mixed types.Specify dtype option on import or set low_memory=False.\n",
      "  if (await self.run_code(code, result,  async_=asy)):\n"
     ]
    }
   ],
   "source": [
    "def fetch_new_data(drop):\n",
    "    all_months=['Jan','Feb','Mar','Apr','May']\n",
    "    epi_df = get_clean_pivot(pd.read_csv(input_path+'new_epi_data_by_facility.csv'),drop=drop)\n",
    "    mnch_df = get_clean_pivot(pd.read_csv(input_path+'new_mnch_data_by_facility.csv'),drop=drop)\n",
    "    sam_df = get_clean_pivot(pd.read_csv(input_path+'new_sam_data_by_facility.csv'),drop=drop)\n",
    "    \n",
    "    df1 = pd.merge(epi_df,mnch_df,left_index=True,right_index=True)\n",
    "    df2 = pd.merge(df1,sam_df,left_index=True,right_index=True)\n",
    "\n",
    "    df3 = df2.stack(level=[0,2],dropna=False)\n",
    "    df4 = df2.stack(level=1,dropna=False)\n",
    "    \n",
    "    df3.index.set_names(['district','id','year','month'],inplace=True)\n",
    "    df4.index.set_names(['district','id','indic'],inplace=True)\n",
    "    \n",
    "    columns = [['with_outliers'], ['2020'], all_months]\n",
    "    df4.columns=pd.MultiIndex.from_product(columns, names=['type','year','month'])\n",
    "    \n",
    "    return df3,df4\n",
    "\n",
    "new_df,new_df1=fetch_new_data(drop='Dec')"
   ]
  },
  {
   "cell_type": "code",
   "execution_count": 402,
   "metadata": {},
   "outputs": [
    {
     "data": {
      "text/plain": [
       "Index(['105-AN01a. ANC 1st Visit for women',\n",
       "       '105-AN02. ANC 4th Visit for women', '105-MA01. Admissions',\n",
       "       '105-MA04a. Deliveries in unit - Total',\n",
       "       '105-MA04b1. Deliveries in unit -Live births - Total',\n",
       "       '105-MA04c1. Deliveries in unit - Fresh still birth - Total',\n",
       "       '105-MA04d1. Deliveries in unit - Macerated still birth - Total',\n",
       "       '105-MA11. Newborn deaths (0-7 days)',\n",
       "       '105-NA03a1. Identified malnourished clients(<10) this month - MAM using MUAC',\n",
       "       '105-NA03b1. Identified malnourished clients(<10) this month - MAM using W/H or L',\n",
       "       '105-NA03c1. Identified malnourished clients(<10) this month - SAM using MUAC -  Without Oedema',\n",
       "       '105-NA03d1. Identified malnourished clients(<10) this month - SAM using W/H or L -  Without Oedema',\n",
       "       '105-NA03e1. Identified malnourished clients(<10) this month - SAM With Oedema',\n",
       "       '105-NA03g1. Identified malnourished clients(<10) this month - Severely Malnourished',\n",
       "       '105-PN01a. Post Natal Attendances - Mother', 'EPI - BCG doses given',\n",
       "       'EPI - DPT 1 to DPT3 dropout rate (%)',\n",
       "       'EPI - DPT-HepB-HIB 1 doses given',\n",
       "       'EPI - DPT-HepB-HIB 1 doses_Under 1',\n",
       "       'EPI - DPT-HepB-HIB 2 doses_Under 1',\n",
       "       'EPI - DPT-HepB-HIB 3 doses given',\n",
       "       'EPI - DPT-HepB-HIB 3 doses_Under 1',\n",
       "       'EPI - DPT-HepB-Hib 1 coverage  < 1 year (%)',\n",
       "       'EPI - DPT-HepB-Hib 2 Coverage < 1 year (%)',\n",
       "       'EPI - DPT-HepB-Hib 3 coverage (%)', 'EPI - MR 1 coverage (%)',\n",
       "       'EPI - MR 1 doses given', 'EPI - MR 2 coverage (%)',\n",
       "       'EPI - MR 2 doses given', 'EPI - Measles (MR1) doses_Under 1',\n",
       "       'EPI - Measles 2 (MR2) doses_1-4 yrs', 'EPI - PCV 1 doses_Under 1',\n",
       "       'EPI - PCV 2 doses_Under 1', 'EPI - PCV 3 coverage < 1 year (%)',\n",
       "       'EPI - PCV 3 doses_Under 1', 'EPI - PCV1 Coverage < 1 year (%)',\n",
       "       'NUT: Percentage of children/babies born with low birth weight (<2.5kg)'],\n",
       "      dtype='object', name='indic')"
      ]
     },
     "execution_count": 402,
     "metadata": {},
     "output_type": "execute_result"
    }
   ],
   "source": [
    "new_df1.index.levels[2]"
   ]
  },
  {
   "cell_type": "code",
   "execution_count": null,
   "metadata": {},
   "outputs": [],
   "source": [
    "'105-AN01a. ANC 1st Visit for women',\n",
    "'105-AN02. ANC 4th Visit for women', \n",
    "'105-MA01. Admissions',\n",
    "'105-MA04b1. Deliveries in unit -Live births - Total',\n",
    "'105-MA04c1. Deliveries in unit - Fresh still birth - Total',\n",
    "'105-MA04d1. Deliveries in unit - Macerated still birth - Total',\n",
    "'105-MA11. Newborn deaths (0-7 days)',"
   ]
  },
  {
   "cell_type": "markdown",
   "metadata": {},
   "source": [
    "## Old data\n",
    "\n",
    "For now extremely messy, had to be done bit by bit in random order, so quite some cleaning needed Ill do here, than put all into one nice file"
   ]
  },
  {
   "cell_type": "code",
   "execution_count": 360,
   "metadata": {},
   "outputs": [],
   "source": [
    "bcg=get_clean_pivot(pd.read_csv(input_path_old+\"/epi/EPI - BCG doses given.csv\"),drop=None)\n",
    "dpt1=get_clean_pivot(pd.read_csv(input_path_old+\"/epi/EPI - DPT-HepB-HIB 1 doses given.csv\"),drop=None)\n",
    "dpt3=get_clean_pivot(pd.read_csv(input_path_old+\"/epi/EPI - DPT-HepB-HIB 3 doses given.csv\"),drop=None)\n",
    "pcv1=get_clean_pivot(pd.read_csv(input_path_old+\"/epi/EPI - PCV 1 doses given.csv\"),drop=None)\n",
    "pcv3=get_clean_pivot(pd.read_csv(input_path_old+\"/epi/EPI - PCV 3 doses given.csv\"),drop=None)\n",
    "mr1=get_clean_pivot(pd.read_csv(input_path_old+\"/epi/EPI - MR 1 doses given.csv\"),drop=None)\n",
    "\n",
    "epi_dfs=[bcg,dpt1,dpt3,pcv1,pcv3,mr1]\n",
    "old_epi = reduce(lambda  left,right: pd.merge(left,right,left_index=True,right_index=True,how='left'), epi_dfs)"
   ]
  },
  {
   "cell_type": "code",
   "execution_count": 443,
   "metadata": {},
   "outputs": [],
   "source": [
    "newborn=get_clean_pivot(pd.read_csv(input_path_old+'/mat/admission_newborn.csv'),drop=None)\n",
    "anc=get_clean_pivot(pd.read_csv(input_path_old+'/mat/ANC1_ANC4.csv'),drop=None)\n",
    "births=get_clean_pivot(pd.read_csv(input_path_old+'/mat/births.csv'),drop=None)\n",
    "\n",
    "mat_dfs=[newborn,anc,births]\n",
    "old_mat = reduce(lambda  left,right: pd.merge(left,right,left_index=True,right_index=True,how='left'),mat_dfs)"
   ]
  },
  {
   "cell_type": "code",
   "execution_count": 366,
   "metadata": {},
   "outputs": [],
   "source": [
    "lbw=get_clean_pivot(pd.read_csv(input_path_old+'/sam/lbw.csv'),drop=None)\n",
    "sam=get_clean_pivot(pd.read_csv(input_path_old+'/sam/sam_mam.csv'),drop=None)\n",
    "\n",
    "sam_dfs=[lbw,sam]\n",
    "old_sam= reduce(lambda  left,right: pd.merge(left,right,left_index=True,right_index=True,how='left'),sam_dfs)"
   ]
  },
  {
   "cell_type": "code",
   "execution_count": 368,
   "metadata": {},
   "outputs": [],
   "source": [
    "old_epi.to_csv(input_path_old+'/clean/old_epi_data_by_facility.csv')\n",
    "old_mat.to_csv(input_path_old+'/clean/old_mat_data_by_facility.csv')\n",
    "old_sam.to_csv(input_path_old+'/clean/old_sam_data_by_facility.csv')"
   ]
  },
  {
   "cell_type": "code",
   "execution_count": 444,
   "metadata": {},
   "outputs": [],
   "source": [
    "def fetch_old_data():\n",
    "    all_months=['Jan','Feb','Mar','Apr','May','Jun','Jul','Aug','Sep','Oct','Nov','Dec']\n",
    "    df1 = pd.merge(old_epi,old_mat,left_index=True,right_index=True)\n",
    "    df2 = pd.merge(df1,old_sam,left_index=True,right_index=True)\n",
    "    \n",
    "    df3 = df2.stack(level=[0,2],dropna=False)\n",
    "    df4 = df2.stack(level=1,dropna=False)\n",
    "    \n",
    "    df3.index.set_names(['district','id','year','month'],inplace=True)\n",
    "    df4.index.set_names(['district','id','indic'],inplace=True)\n",
    "    \n",
    "    columns = [['with_outliers'], ['2018','2019'], all_months]\n",
    "    df4.columns=pd.MultiIndex.from_product(columns, names=['type','year','month'])\n",
    "    return df3,df4\n",
    "\n",
    "old_df,old_df1=fetch_old_data()"
   ]
  },
  {
   "cell_type": "markdown",
   "metadata": {},
   "source": [
    "# Merge the two"
   ]
  },
  {
   "cell_type": "code",
   "execution_count": 415,
   "metadata": {},
   "outputs": [
    {
     "name": "stdout",
     "output_type": "stream",
     "text": [
      "7168 7643\n"
     ]
    },
    {
     "name": "stderr",
     "output_type": "stream",
     "text": [
      "C:\\Users\\Dalberg\\anaconda3\\envs\\icohs\\lib\\site-packages\\IPython\\core\\interactiveshell.py:3062: DtypeWarning: Columns (7) have mixed types.Specify dtype option on import or set low_memory=False.\n",
      "  has_raised = await self.run_ast_nodes(code_ast.body, cell_name,\n"
     ]
    }
   ],
   "source": [
    "#Not exactly the samenumber of facilities, but hopefully the ids remained the same \n",
    "\n",
    "print(len(old_epi),len(pd.read_csv(input_path+'new_epi_data_by_facility.csv')))"
   ]
  },
  {
   "cell_type": "markdown",
   "metadata": {},
   "source": [
    "## Select a subset of indicators to merge on"
   ]
  },
  {
   "cell_type": "markdown",
   "metadata": {},
   "source": [
    "### Link EPI, Mat, and LBW inidcators together"
   ]
  },
  {
   "cell_type": "markdown",
   "metadata": {},
   "source": [
    "This is done in Excel manually, after running the small function below"
   ]
  },
  {
   "cell_type": "code",
   "execution_count": 442,
   "metadata": {},
   "outputs": [],
   "source": [
    "#with ExcelWriter(input_path+'new_old_correspondance.xlsx',mode='a') as writer:\n",
    "    #pd.Series(old_df1.index.levels[2]).to_excel(writer,sheet_name='old_vars')\n",
    "    #pd.Series(new_df1.index.levels[2]).to_excel(writer,sheet_name='new_vars')"
   ]
  },
  {
   "cell_type": "markdown",
   "metadata": {},
   "source": [
    "Here I get back the rsult into a dict"
   ]
  },
  {
   "cell_type": "code",
   "execution_count": 487,
   "metadata": {},
   "outputs": [],
   "source": [
    "from pandas import ExcelFile\n",
    "xls = ExcelFile(input_path+'new_old_correspondance.xlsx')\n",
    "df = xls.parse(xls.sheet_names[0])\n",
    "df.set_index('Old',drop=True,inplace=True)\n",
    "old_new_dict=df['New'].to_dict()"
   ]
  },
  {
   "cell_type": "markdown",
   "metadata": {},
   "source": [
    "Select only the indicators I'll use:"
   ]
  },
  {
   "cell_type": "markdown",
   "metadata": {},
   "source": [
    "# TAKE IT FROM HERE"
   ]
  },
  {
   "cell_type": "code",
   "execution_count": 488,
   "metadata": {},
   "outputs": [],
   "source": [
    "old_df1_target=old_df1.loc[idx[:,:,list(old_new_dict.keys())],:].copy()\n",
    "new_df1_target=new_df1.loc[(slice(None),slice(None),list(old_new_dict.values())),:].copy()\n",
    "\n",
    "# Still an issue with the levels\n",
    "#new_df1_target.index.levels[2]"
   ]
  },
  {
   "cell_type": "code",
   "execution_count": null,
   "metadata": {},
   "outputs": [],
   "source": [
    "# Issue slicing correctly such that I can replace my indexes properly \n",
    "\n",
    "#Use set index : https://pandas.pydata.org/pandas-docs/stable/reference/api/pandas.MultiIndex.set_levels.html"
   ]
  },
  {
   "cell_type": "code",
   "execution_count": 491,
   "metadata": {},
   "outputs": [
    {
     "data": {
      "text/plain": [
       "0             105-1.3 OPD Moderate Acute Malnutrition (MAM)\n",
       "1         105-1.3 OPD Severe Acute Malnutrition With Oedema\n",
       "2         105-1.3 OPD Severe Acute Malnutrition Without ...\n",
       "3                        105-2.1 A1:ANC 1st Visit for women\n",
       "4                        105-2.1 A2:ANC 4th Visit for women\n",
       "                                ...                        \n",
       "143355                               EPI - MR 1 doses given\n",
       "143356                              EPI - PCV 1 doses given\n",
       "143357                              EPI - PCV 3 doses given\n",
       "143358    Percentage of babies born with low birth weigh...\n",
       "143359                 Underweight rate of children under 5\n",
       "Name: indic, Length: 143360, dtype: object"
      ]
     },
     "execution_count": 491,
     "metadata": {},
     "output_type": "execute_result"
    }
   ],
   "source": [
    "old_df1.reset_index()['indic']#.replace(old_new_dict,).unique()"
   ]
  },
  {
   "cell_type": "markdown",
   "metadata": {},
   "source": [
    "### SAM and MAM are still an issue, with lack of clarity on what to use : need to reach out to a specialist"
   ]
  },
  {
   "cell_type": "code",
   "execution_count": 437,
   "metadata": {},
   "outputs": [
    {
     "name": "stdout",
     "output_type": "stream",
     "text": [
      "type           year  month\n",
      "with_outliers  2019  Nov      6.964639\n",
      "                     Dec      7.057692\n",
      "dtype: float64 type           year  month\n",
      "with_outliers  2020  Jan      4.877506\n",
      "                     Feb      6.157328\n",
      "dtype: float64 type           year  month\n",
      "with_outliers  2020  Jan      5.716312\n",
      "                     Feb      4.076923\n",
      "dtype: float64\n"
     ]
    }
   ],
   "source": [
    "print(old_df1.loc[idx[:,:,'105-1.3 OPD Severe Acute Malnutrition Without Oedema'],('with_outliers','2019',['Nov','Dec'])].mean(),\n",
    "      new_df1.loc[idx[:,:,'105-NA03c1. Identified malnourished clients(<10) this month - SAM using MUAC -  Without Oedema'],('with_outliers','2020',['Jan','Feb'])].mean(),\n",
    "     new_df1.loc[idx[:,:,'105-NA03d1. Identified malnourished clients(<10) this month - SAM using W/H or L -  Without Oedema'],('with_outliers','2020',['Jan','Feb'])].mean())  "
   ]
  },
  {
   "cell_type": "code",
   "execution_count": 436,
   "metadata": {},
   "outputs": [
    {
     "name": "stdout",
     "output_type": "stream",
     "text": [
      "type           year  month\n",
      "with_outliers  2019  Nov      16.579646\n",
      "                     Dec      14.520879\n",
      "dtype: float64 type           year  month\n",
      "with_outliers  2020  Jan      659.34816\n",
      "                     Feb      162.30000\n",
      "dtype: float64 type           year  month\n",
      "with_outliers  2020  Jan      17.726984\n",
      "                     Feb      10.997110\n",
      "dtype: float64\n"
     ]
    }
   ],
   "source": [
    "print(old_df1.loc[idx[:,:,'105-1.3 OPD Moderate Acute Malnutrition (MAM)'],('with_outliers','2019',['Nov','Dec'])].mean(),\n",
    "      new_df1.loc[idx[:,:,'105-NA03a1. Identified malnourished clients(<10) this month - MAM using MUAC'],('with_outliers','2020',['Jan','Feb'])].mean(),\n",
    "     new_df1.loc[idx[:,:,'105-NA03b1. Identified malnourished clients(<10) this month - MAM using W/H or L'],('with_outliers','2020',['Jan','Feb'])].mean())         "
   ]
  },
  {
   "cell_type": "code",
   "execution_count": 477,
   "metadata": {},
   "outputs": [],
   "source": [
    "#df1=pd.merge(old_df1,new_df1,left_index=True,right_index=True,how='right')\n",
    "#df1"
   ]
  },
  {
   "cell_type": "code",
   "execution_count": 413,
   "metadata": {},
   "outputs": [
    {
     "data": {
      "text/plain": [
       "282791"
      ]
     },
     "execution_count": 413,
     "metadata": {},
     "output_type": "execute_result"
    }
   ],
   "source": [
    "len(new_df1)"
   ]
  },
  {
   "cell_type": "markdown",
   "metadata": {},
   "source": [
    "# Flag outliers"
   ]
  },
  {
   "cell_type": "code",
   "execution_count": 286,
   "metadata": {},
   "outputs": [
    {
     "data": {
      "text/html": [
       "<div>\n",
       "<style scoped>\n",
       "    .dataframe tbody tr th:only-of-type {\n",
       "        vertical-align: middle;\n",
       "    }\n",
       "\n",
       "    .dataframe tbody tr th {\n",
       "        vertical-align: top;\n",
       "    }\n",
       "\n",
       "    .dataframe thead tr th {\n",
       "        text-align: left;\n",
       "    }\n",
       "\n",
       "    .dataframe thead tr:last-of-type th {\n",
       "        text-align: right;\n",
       "    }\n",
       "</style>\n",
       "<table border=\"1\" class=\"dataframe\">\n",
       "  <thead>\n",
       "    <tr>\n",
       "      <th></th>\n",
       "      <th></th>\n",
       "      <th>type</th>\n",
       "      <th colspan=\"5\" halign=\"left\">with_outliers</th>\n",
       "      <th colspan=\"5\" halign=\"left\">without_outliers</th>\n",
       "    </tr>\n",
       "    <tr>\n",
       "      <th></th>\n",
       "      <th></th>\n",
       "      <th>year</th>\n",
       "      <th colspan=\"5\" halign=\"left\">2020</th>\n",
       "      <th colspan=\"5\" halign=\"left\">2020</th>\n",
       "    </tr>\n",
       "    <tr>\n",
       "      <th></th>\n",
       "      <th></th>\n",
       "      <th>var</th>\n",
       "      <th>Jan</th>\n",
       "      <th>Feb</th>\n",
       "      <th>Mar</th>\n",
       "      <th>Apr</th>\n",
       "      <th>May</th>\n",
       "      <th>Jan</th>\n",
       "      <th>Feb</th>\n",
       "      <th>Mar</th>\n",
       "      <th>Apr</th>\n",
       "      <th>May</th>\n",
       "    </tr>\n",
       "    <tr>\n",
       "      <th>district</th>\n",
       "      <th>id</th>\n",
       "      <th>indic</th>\n",
       "      <th></th>\n",
       "      <th></th>\n",
       "      <th></th>\n",
       "      <th></th>\n",
       "      <th></th>\n",
       "      <th></th>\n",
       "      <th></th>\n",
       "      <th></th>\n",
       "      <th></th>\n",
       "      <th></th>\n",
       "    </tr>\n",
       "  </thead>\n",
       "  <tbody>\n",
       "    <tr>\n",
       "      <th rowspan=\"5\" valign=\"top\">OYAM</th>\n",
       "      <th rowspan=\"5\" valign=\"top\">ftNNOiF8eLQ</th>\n",
       "      <th>105-AN01a. ANC 1st Visit for women</th>\n",
       "      <td>NaN</td>\n",
       "      <td>NaN</td>\n",
       "      <td>NaN</td>\n",
       "      <td>NaN</td>\n",
       "      <td>NaN</td>\n",
       "      <td>NaN</td>\n",
       "      <td>NaN</td>\n",
       "      <td>NaN</td>\n",
       "      <td>NaN</td>\n",
       "      <td>NaN</td>\n",
       "    </tr>\n",
       "    <tr>\n",
       "      <th>105-AN02. ANC 4th Visit for women</th>\n",
       "      <td>NaN</td>\n",
       "      <td>NaN</td>\n",
       "      <td>NaN</td>\n",
       "      <td>NaN</td>\n",
       "      <td>NaN</td>\n",
       "      <td>NaN</td>\n",
       "      <td>NaN</td>\n",
       "      <td>NaN</td>\n",
       "      <td>NaN</td>\n",
       "      <td>NaN</td>\n",
       "    </tr>\n",
       "    <tr>\n",
       "      <th>105-MA01. Admissions</th>\n",
       "      <td>NaN</td>\n",
       "      <td>NaN</td>\n",
       "      <td>NaN</td>\n",
       "      <td>NaN</td>\n",
       "      <td>NaN</td>\n",
       "      <td>NaN</td>\n",
       "      <td>NaN</td>\n",
       "      <td>NaN</td>\n",
       "      <td>NaN</td>\n",
       "      <td>NaN</td>\n",
       "    </tr>\n",
       "    <tr>\n",
       "      <th>105-MA04a. Deliveries in unit - Total</th>\n",
       "      <td>NaN</td>\n",
       "      <td>NaN</td>\n",
       "      <td>NaN</td>\n",
       "      <td>NaN</td>\n",
       "      <td>NaN</td>\n",
       "      <td>NaN</td>\n",
       "      <td>NaN</td>\n",
       "      <td>NaN</td>\n",
       "      <td>NaN</td>\n",
       "      <td>NaN</td>\n",
       "    </tr>\n",
       "    <tr>\n",
       "      <th>105-MA04b1. Deliveries in unit -Live births - Total</th>\n",
       "      <td>NaN</td>\n",
       "      <td>NaN</td>\n",
       "      <td>NaN</td>\n",
       "      <td>NaN</td>\n",
       "      <td>NaN</td>\n",
       "      <td>NaN</td>\n",
       "      <td>NaN</td>\n",
       "      <td>NaN</td>\n",
       "      <td>NaN</td>\n",
       "      <td>NaN</td>\n",
       "    </tr>\n",
       "    <tr>\n",
       "      <th>...</th>\n",
       "      <th>...</th>\n",
       "      <th>...</th>\n",
       "      <td>...</td>\n",
       "      <td>...</td>\n",
       "      <td>...</td>\n",
       "      <td>...</td>\n",
       "      <td>...</td>\n",
       "      <td>...</td>\n",
       "      <td>...</td>\n",
       "      <td>...</td>\n",
       "      <td>...</td>\n",
       "      <td>...</td>\n",
       "    </tr>\n",
       "    <tr>\n",
       "      <th rowspan=\"5\" valign=\"top\">WAKISO</th>\n",
       "      <th rowspan=\"5\" valign=\"top\">nYpQROJrK2y</th>\n",
       "      <th>EPI - PCV 2 doses_Under 1</th>\n",
       "      <td>27.0</td>\n",
       "      <td>17.0</td>\n",
       "      <td>58.0</td>\n",
       "      <td>21.0</td>\n",
       "      <td>NaN</td>\n",
       "      <td>NaN</td>\n",
       "      <td>NaN</td>\n",
       "      <td>NaN</td>\n",
       "      <td>NaN</td>\n",
       "      <td>NaN</td>\n",
       "    </tr>\n",
       "    <tr>\n",
       "      <th>EPI - PCV 3 coverage &lt; 1 year (%)</th>\n",
       "      <td>NaN</td>\n",
       "      <td>NaN</td>\n",
       "      <td>NaN</td>\n",
       "      <td>NaN</td>\n",
       "      <td>NaN</td>\n",
       "      <td>NaN</td>\n",
       "      <td>NaN</td>\n",
       "      <td>NaN</td>\n",
       "      <td>NaN</td>\n",
       "      <td>NaN</td>\n",
       "    </tr>\n",
       "    <tr>\n",
       "      <th>EPI - PCV 3 doses_Under 1</th>\n",
       "      <td>22.0</td>\n",
       "      <td>20.0</td>\n",
       "      <td>62.0</td>\n",
       "      <td>18.0</td>\n",
       "      <td>NaN</td>\n",
       "      <td>NaN</td>\n",
       "      <td>NaN</td>\n",
       "      <td>NaN</td>\n",
       "      <td>NaN</td>\n",
       "      <td>NaN</td>\n",
       "    </tr>\n",
       "    <tr>\n",
       "      <th>EPI - PCV1 Coverage &lt; 1 year (%)</th>\n",
       "      <td>NaN</td>\n",
       "      <td>NaN</td>\n",
       "      <td>NaN</td>\n",
       "      <td>NaN</td>\n",
       "      <td>NaN</td>\n",
       "      <td>NaN</td>\n",
       "      <td>NaN</td>\n",
       "      <td>NaN</td>\n",
       "      <td>NaN</td>\n",
       "      <td>NaN</td>\n",
       "    </tr>\n",
       "    <tr>\n",
       "      <th>NUT: Percentage of children/babies born with low birth weight (&lt;2.5kg)</th>\n",
       "      <td>NaN</td>\n",
       "      <td>50.0</td>\n",
       "      <td>NaN</td>\n",
       "      <td>NaN</td>\n",
       "      <td>NaN</td>\n",
       "      <td>NaN</td>\n",
       "      <td>NaN</td>\n",
       "      <td>NaN</td>\n",
       "      <td>NaN</td>\n",
       "      <td>NaN</td>\n",
       "    </tr>\n",
       "  </tbody>\n",
       "</table>\n",
       "<p>282791 rows × 10 columns</p>\n",
       "</div>"
      ],
      "text/plain": [
       "type                                                                    with_outliers  \\\n",
       "year                                                                             2020   \n",
       "var                                                                               Jan   \n",
       "district id          indic                                                              \n",
       "OYAM     ftNNOiF8eLQ 105-AN01a. ANC 1st Visit for women                           NaN   \n",
       "                     105-AN02. ANC 4th Visit for women                            NaN   \n",
       "                     105-MA01. Admissions                                         NaN   \n",
       "                     105-MA04a. Deliveries in unit - Total                        NaN   \n",
       "                     105-MA04b1. Deliveries in unit -Live births - T...           NaN   \n",
       "...                                                                               ...   \n",
       "WAKISO   nYpQROJrK2y EPI - PCV 2 doses_Under 1                                   27.0   \n",
       "                     EPI - PCV 3 coverage < 1 year (%)                            NaN   \n",
       "                     EPI - PCV 3 doses_Under 1                                   22.0   \n",
       "                     EPI - PCV1 Coverage < 1 year (%)                             NaN   \n",
       "                     NUT: Percentage of children/babies born with lo...           NaN   \n",
       "\n",
       "type                                                                           \\\n",
       "year                                                                            \n",
       "var                                                                       Feb   \n",
       "district id          indic                                                      \n",
       "OYAM     ftNNOiF8eLQ 105-AN01a. ANC 1st Visit for women                   NaN   \n",
       "                     105-AN02. ANC 4th Visit for women                    NaN   \n",
       "                     105-MA01. Admissions                                 NaN   \n",
       "                     105-MA04a. Deliveries in unit - Total                NaN   \n",
       "                     105-MA04b1. Deliveries in unit -Live births - T...   NaN   \n",
       "...                                                                       ...   \n",
       "WAKISO   nYpQROJrK2y EPI - PCV 2 doses_Under 1                           17.0   \n",
       "                     EPI - PCV 3 coverage < 1 year (%)                    NaN   \n",
       "                     EPI - PCV 3 doses_Under 1                           20.0   \n",
       "                     EPI - PCV1 Coverage < 1 year (%)                     NaN   \n",
       "                     NUT: Percentage of children/babies born with lo...  50.0   \n",
       "\n",
       "type                                                                           \\\n",
       "year                                                                            \n",
       "var                                                                       Mar   \n",
       "district id          indic                                                      \n",
       "OYAM     ftNNOiF8eLQ 105-AN01a. ANC 1st Visit for women                   NaN   \n",
       "                     105-AN02. ANC 4th Visit for women                    NaN   \n",
       "                     105-MA01. Admissions                                 NaN   \n",
       "                     105-MA04a. Deliveries in unit - Total                NaN   \n",
       "                     105-MA04b1. Deliveries in unit -Live births - T...   NaN   \n",
       "...                                                                       ...   \n",
       "WAKISO   nYpQROJrK2y EPI - PCV 2 doses_Under 1                           58.0   \n",
       "                     EPI - PCV 3 coverage < 1 year (%)                    NaN   \n",
       "                     EPI - PCV 3 doses_Under 1                           62.0   \n",
       "                     EPI - PCV1 Coverage < 1 year (%)                     NaN   \n",
       "                     NUT: Percentage of children/babies born with lo...   NaN   \n",
       "\n",
       "type                                                                           \\\n",
       "year                                                                            \n",
       "var                                                                       Apr   \n",
       "district id          indic                                                      \n",
       "OYAM     ftNNOiF8eLQ 105-AN01a. ANC 1st Visit for women                   NaN   \n",
       "                     105-AN02. ANC 4th Visit for women                    NaN   \n",
       "                     105-MA01. Admissions                                 NaN   \n",
       "                     105-MA04a. Deliveries in unit - Total                NaN   \n",
       "                     105-MA04b1. Deliveries in unit -Live births - T...   NaN   \n",
       "...                                                                       ...   \n",
       "WAKISO   nYpQROJrK2y EPI - PCV 2 doses_Under 1                           21.0   \n",
       "                     EPI - PCV 3 coverage < 1 year (%)                    NaN   \n",
       "                     EPI - PCV 3 doses_Under 1                           18.0   \n",
       "                     EPI - PCV1 Coverage < 1 year (%)                     NaN   \n",
       "                     NUT: Percentage of children/babies born with lo...   NaN   \n",
       "\n",
       "type                                                                         \\\n",
       "year                                                                          \n",
       "var                                                                     May   \n",
       "district id          indic                                                    \n",
       "OYAM     ftNNOiF8eLQ 105-AN01a. ANC 1st Visit for women                 NaN   \n",
       "                     105-AN02. ANC 4th Visit for women                  NaN   \n",
       "                     105-MA01. Admissions                               NaN   \n",
       "                     105-MA04a. Deliveries in unit - Total              NaN   \n",
       "                     105-MA04b1. Deliveries in unit -Live births - T... NaN   \n",
       "...                                                                      ..   \n",
       "WAKISO   nYpQROJrK2y EPI - PCV 2 doses_Under 1                          NaN   \n",
       "                     EPI - PCV 3 coverage < 1 year (%)                  NaN   \n",
       "                     EPI - PCV 3 doses_Under 1                          NaN   \n",
       "                     EPI - PCV1 Coverage < 1 year (%)                   NaN   \n",
       "                     NUT: Percentage of children/babies born with lo... NaN   \n",
       "\n",
       "type                                                                    without_outliers  \\\n",
       "year                                                                                2020   \n",
       "var                                                                                  Jan   \n",
       "district id          indic                                                                 \n",
       "OYAM     ftNNOiF8eLQ 105-AN01a. ANC 1st Visit for women                              NaN   \n",
       "                     105-AN02. ANC 4th Visit for women                               NaN   \n",
       "                     105-MA01. Admissions                                            NaN   \n",
       "                     105-MA04a. Deliveries in unit - Total                           NaN   \n",
       "                     105-MA04b1. Deliveries in unit -Live births - T...              NaN   \n",
       "...                                                                                  ...   \n",
       "WAKISO   nYpQROJrK2y EPI - PCV 2 doses_Under 1                                       NaN   \n",
       "                     EPI - PCV 3 coverage < 1 year (%)                               NaN   \n",
       "                     EPI - PCV 3 doses_Under 1                                       NaN   \n",
       "                     EPI - PCV1 Coverage < 1 year (%)                                NaN   \n",
       "                     NUT: Percentage of children/babies born with lo...              NaN   \n",
       "\n",
       "type                                                                         \\\n",
       "year                                                                          \n",
       "var                                                                     Feb   \n",
       "district id          indic                                                    \n",
       "OYAM     ftNNOiF8eLQ 105-AN01a. ANC 1st Visit for women                 NaN   \n",
       "                     105-AN02. ANC 4th Visit for women                  NaN   \n",
       "                     105-MA01. Admissions                               NaN   \n",
       "                     105-MA04a. Deliveries in unit - Total              NaN   \n",
       "                     105-MA04b1. Deliveries in unit -Live births - T... NaN   \n",
       "...                                                                      ..   \n",
       "WAKISO   nYpQROJrK2y EPI - PCV 2 doses_Under 1                          NaN   \n",
       "                     EPI - PCV 3 coverage < 1 year (%)                  NaN   \n",
       "                     EPI - PCV 3 doses_Under 1                          NaN   \n",
       "                     EPI - PCV1 Coverage < 1 year (%)                   NaN   \n",
       "                     NUT: Percentage of children/babies born with lo... NaN   \n",
       "\n",
       "type                                                                         \\\n",
       "year                                                                          \n",
       "var                                                                     Mar   \n",
       "district id          indic                                                    \n",
       "OYAM     ftNNOiF8eLQ 105-AN01a. ANC 1st Visit for women                 NaN   \n",
       "                     105-AN02. ANC 4th Visit for women                  NaN   \n",
       "                     105-MA01. Admissions                               NaN   \n",
       "                     105-MA04a. Deliveries in unit - Total              NaN   \n",
       "                     105-MA04b1. Deliveries in unit -Live births - T... NaN   \n",
       "...                                                                      ..   \n",
       "WAKISO   nYpQROJrK2y EPI - PCV 2 doses_Under 1                          NaN   \n",
       "                     EPI - PCV 3 coverage < 1 year (%)                  NaN   \n",
       "                     EPI - PCV 3 doses_Under 1                          NaN   \n",
       "                     EPI - PCV1 Coverage < 1 year (%)                   NaN   \n",
       "                     NUT: Percentage of children/babies born with lo... NaN   \n",
       "\n",
       "type                                                                         \\\n",
       "year                                                                          \n",
       "var                                                                     Apr   \n",
       "district id          indic                                                    \n",
       "OYAM     ftNNOiF8eLQ 105-AN01a. ANC 1st Visit for women                 NaN   \n",
       "                     105-AN02. ANC 4th Visit for women                  NaN   \n",
       "                     105-MA01. Admissions                               NaN   \n",
       "                     105-MA04a. Deliveries in unit - Total              NaN   \n",
       "                     105-MA04b1. Deliveries in unit -Live births - T... NaN   \n",
       "...                                                                      ..   \n",
       "WAKISO   nYpQROJrK2y EPI - PCV 2 doses_Under 1                          NaN   \n",
       "                     EPI - PCV 3 coverage < 1 year (%)                  NaN   \n",
       "                     EPI - PCV 3 doses_Under 1                          NaN   \n",
       "                     EPI - PCV1 Coverage < 1 year (%)                   NaN   \n",
       "                     NUT: Percentage of children/babies born with lo... NaN   \n",
       "\n",
       "type                                                                         \n",
       "year                                                                         \n",
       "var                                                                     May  \n",
       "district id          indic                                                   \n",
       "OYAM     ftNNOiF8eLQ 105-AN01a. ANC 1st Visit for women                 NaN  \n",
       "                     105-AN02. ANC 4th Visit for women                  NaN  \n",
       "                     105-MA01. Admissions                               NaN  \n",
       "                     105-MA04a. Deliveries in unit - Total              NaN  \n",
       "                     105-MA04b1. Deliveries in unit -Live births - T... NaN  \n",
       "...                                                                      ..  \n",
       "WAKISO   nYpQROJrK2y EPI - PCV 2 doses_Under 1                          NaN  \n",
       "                     EPI - PCV 3 coverage < 1 year (%)                  NaN  \n",
       "                     EPI - PCV 3 doses_Under 1                          NaN  \n",
       "                     EPI - PCV1 Coverage < 1 year (%)                   NaN  \n",
       "                     NUT: Percentage of children/babies born with lo... NaN  \n",
       "\n",
       "[282791 rows x 10 columns]"
      ]
     },
     "execution_count": 286,
     "metadata": {},
     "output_type": "execute_result"
    }
   ],
   "source": [
    "for x in all_months:\n",
    "    new_df1['without_outliers','2020',x]= np.nan\n",
    "new_df1"
   ]
  },
  {
   "cell_type": "code",
   "execution_count": 287,
   "metadata": {},
   "outputs": [
    {
     "name": "stderr",
     "output_type": "stream",
     "text": [
      "C:\\Users\\Dalberg\\anaconda3\\envs\\icohs\\lib\\site-packages\\numpy\\lib\\nanfunctions.py:1666: RuntimeWarning: Degrees of freedom <= 0 for slice.\n",
      "  var = nanvar(a, axis=axis, dtype=dtype, out=out, ddof=ddof,\n",
      "<timed exec>:10: RuntimeWarning: invalid value encountered in greater\n",
      "<timed exec>:11: RuntimeWarning: invalid value encountered in greater\n",
      "C:\\Users\\Dalberg\\anaconda3\\envs\\icohs\\lib\\site-packages\\IPython\\core\\interactiveshell.py:3331: PerformanceWarning: indexing past lexsort depth may impact performance.\n",
      "  exec(code_obj, self.user_global_ns, self.user_ns)\n"
     ]
    },
    {
     "name": "stdout",
     "output_type": "stream",
     "text": [
      "\n",
      " 0  replacements made\n",
      "Wall time: 4min 54s\n"
     ]
    },
    {
     "data": {
      "text/html": [
       "<div>\n",
       "<style scoped>\n",
       "    .dataframe tbody tr th:only-of-type {\n",
       "        vertical-align: middle;\n",
       "    }\n",
       "\n",
       "    .dataframe tbody tr th {\n",
       "        vertical-align: top;\n",
       "    }\n",
       "\n",
       "    .dataframe thead tr th {\n",
       "        text-align: left;\n",
       "    }\n",
       "\n",
       "    .dataframe thead tr:last-of-type th {\n",
       "        text-align: right;\n",
       "    }\n",
       "</style>\n",
       "<table border=\"1\" class=\"dataframe\">\n",
       "  <thead>\n",
       "    <tr>\n",
       "      <th></th>\n",
       "      <th></th>\n",
       "      <th>type</th>\n",
       "      <th colspan=\"5\" halign=\"left\">with_outliers</th>\n",
       "      <th colspan=\"5\" halign=\"left\">without_outliers</th>\n",
       "    </tr>\n",
       "    <tr>\n",
       "      <th></th>\n",
       "      <th></th>\n",
       "      <th>year</th>\n",
       "      <th colspan=\"5\" halign=\"left\">2020</th>\n",
       "      <th colspan=\"5\" halign=\"left\">2020</th>\n",
       "    </tr>\n",
       "    <tr>\n",
       "      <th></th>\n",
       "      <th></th>\n",
       "      <th>var</th>\n",
       "      <th>Jan</th>\n",
       "      <th>Feb</th>\n",
       "      <th>Mar</th>\n",
       "      <th>Apr</th>\n",
       "      <th>May</th>\n",
       "      <th>Jan</th>\n",
       "      <th>Feb</th>\n",
       "      <th>Mar</th>\n",
       "      <th>Apr</th>\n",
       "      <th>May</th>\n",
       "    </tr>\n",
       "    <tr>\n",
       "      <th>district</th>\n",
       "      <th>id</th>\n",
       "      <th>indic</th>\n",
       "      <th></th>\n",
       "      <th></th>\n",
       "      <th></th>\n",
       "      <th></th>\n",
       "      <th></th>\n",
       "      <th></th>\n",
       "      <th></th>\n",
       "      <th></th>\n",
       "      <th></th>\n",
       "      <th></th>\n",
       "    </tr>\n",
       "  </thead>\n",
       "  <tbody>\n",
       "  </tbody>\n",
       "</table>\n",
       "</div>"
      ],
      "text/plain": [
       "Empty DataFrame\n",
       "Columns: [(with_outliers, 2020, Jan), (with_outliers, 2020, Feb), (with_outliers, 2020, Mar), (with_outliers, 2020, Apr), (with_outliers, 2020, May), (without_outliers, 2020, Jan), (without_outliers, 2020, Feb), (without_outliers, 2020, Mar), (without_outliers, 2020, Apr), (without_outliers, 2020, May)]\n",
       "Index: []"
      ]
     },
     "execution_count": 287,
     "metadata": {},
     "output_type": "execute_result"
    }
   ],
   "source": [
    "%%time\n",
    "\n",
    "cutoff = 2\n",
    "\n",
    "values = np.zeros(new_df1['with_outliers',].shape)\n",
    "replacements = 0\n",
    "names = []\n",
    "for x in new_df1.index:\n",
    "    df1 = new_df1.loc[x,('with_outliers',)].values\n",
    "    if np.nanstd(df1)!=0 and np.isnan(df1).sum()!=len(df1):\n",
    "        zscore = abs(stats.zscore(df1,nan_policy='omit'))\n",
    "        data = np.where(zscore>cutoff,np.nanmedian(df1),df1)\n",
    "        count = np.sum((zscore>cutoff))\n",
    "        \n",
    "    else:\n",
    "        data = df1\n",
    "        count = 0\n",
    "    if count > 0:\n",
    "        names.append(x)\n",
    "    values[new_df1.index.get_loc(x)]=data\n",
    "    replacements = replacements + count\n",
    "    \n",
    "\n",
    "new_df1.loc[:,('without_outliers',)]=values\n",
    "print(\"\\n\",str(replacements),\" replacements made\")\n",
    "new_df1.loc[names,:]"
   ]
  },
  {
   "cell_type": "code",
   "execution_count": 341,
   "metadata": {},
   "outputs": [],
   "source": [
    "#Test\n",
    "#new_df1.loc[idx[\"ABIM\",:,'105-AN01a. ANC 1st Visit for women'],:]"
   ]
  },
  {
   "cell_type": "code",
   "execution_count": 304,
   "metadata": {},
   "outputs": [],
   "source": [
    "new_df_all=new_df.copy().iloc[:,0].reset_index().groupby(['district','id']).sum().groupby('district').count()\n",
    "report_tot=new_df_all.values"
   ]
  },
  {
   "cell_type": "code",
   "execution_count": 332,
   "metadata": {},
   "outputs": [
    {
     "name": "stderr",
     "output_type": "stream",
     "text": [
      "C:\\Users\\Dalberg\\anaconda3\\envs\\icohs\\lib\\site-packages\\pandas\\core\\generic.py:3936: PerformanceWarning: dropping on a non-lexsorted multi-index without a level parameter may impact performance.\n",
      "  obj = obj._drop_axis(labels, axis, level=level, errors=errors)\n",
      "C:\\Users\\Dalberg\\anaconda3\\envs\\icohs\\lib\\site-packages\\IPython\\core\\interactiveshell.py:2857: PerformanceWarning: indexing past lexsort depth may impact performance.\n",
      "  result = self._run_cell(\n"
     ]
    },
    {
     "data": {
      "text/html": [
       "<div>\n",
       "<style scoped>\n",
       "    .dataframe tbody tr th:only-of-type {\n",
       "        vertical-align: middle;\n",
       "    }\n",
       "\n",
       "    .dataframe tbody tr th {\n",
       "        vertical-align: top;\n",
       "    }\n",
       "\n",
       "    .dataframe thead tr th {\n",
       "        text-align: left;\n",
       "    }\n",
       "\n",
       "    .dataframe thead tr:last-of-type th {\n",
       "        text-align: right;\n",
       "    }\n",
       "</style>\n",
       "<table border=\"1\" class=\"dataframe\">\n",
       "  <thead>\n",
       "    <tr>\n",
       "      <th></th>\n",
       "      <th>year</th>\n",
       "      <th>id</th>\n",
       "      <th colspan=\"5\" halign=\"left\">2020</th>\n",
       "      <th colspan=\"5\" halign=\"left\">reporting_perc</th>\n",
       "    </tr>\n",
       "    <tr>\n",
       "      <th></th>\n",
       "      <th>var</th>\n",
       "      <th></th>\n",
       "      <th>Jan</th>\n",
       "      <th>Feb</th>\n",
       "      <th>Mar</th>\n",
       "      <th>Apr</th>\n",
       "      <th>May</th>\n",
       "      <th>Jan</th>\n",
       "      <th>Feb</th>\n",
       "      <th>Mar</th>\n",
       "      <th>Apr</th>\n",
       "      <th>May</th>\n",
       "    </tr>\n",
       "    <tr>\n",
       "      <th>district</th>\n",
       "      <th>indic</th>\n",
       "      <th></th>\n",
       "      <th></th>\n",
       "      <th></th>\n",
       "      <th></th>\n",
       "      <th></th>\n",
       "      <th></th>\n",
       "      <th></th>\n",
       "      <th></th>\n",
       "      <th></th>\n",
       "      <th></th>\n",
       "      <th></th>\n",
       "    </tr>\n",
       "  </thead>\n",
       "  <tbody>\n",
       "    <tr>\n",
       "      <th rowspan=\"5\" valign=\"top\">ABIM</th>\n",
       "      <th>105-AN01a. ANC 1st Visit for women</th>\n",
       "      <td>21</td>\n",
       "      <td>18</td>\n",
       "      <td>18</td>\n",
       "      <td>18</td>\n",
       "      <td>18</td>\n",
       "      <td>0</td>\n",
       "      <td>0.857143</td>\n",
       "      <td>0.857143</td>\n",
       "      <td>0.857143</td>\n",
       "      <td>0.857143</td>\n",
       "      <td>0.0</td>\n",
       "    </tr>\n",
       "    <tr>\n",
       "      <th>105-AN02. ANC 4th Visit for women</th>\n",
       "      <td>21</td>\n",
       "      <td>18</td>\n",
       "      <td>18</td>\n",
       "      <td>17</td>\n",
       "      <td>17</td>\n",
       "      <td>0</td>\n",
       "      <td>0.857143</td>\n",
       "      <td>0.857143</td>\n",
       "      <td>0.809524</td>\n",
       "      <td>0.809524</td>\n",
       "      <td>0.0</td>\n",
       "    </tr>\n",
       "    <tr>\n",
       "      <th>105-MA01. Admissions</th>\n",
       "      <td>21</td>\n",
       "      <td>18</td>\n",
       "      <td>18</td>\n",
       "      <td>18</td>\n",
       "      <td>18</td>\n",
       "      <td>0</td>\n",
       "      <td>0.857143</td>\n",
       "      <td>0.857143</td>\n",
       "      <td>0.857143</td>\n",
       "      <td>0.857143</td>\n",
       "      <td>0.0</td>\n",
       "    </tr>\n",
       "    <tr>\n",
       "      <th>105-MA04a. Deliveries in unit - Total</th>\n",
       "      <td>21</td>\n",
       "      <td>18</td>\n",
       "      <td>18</td>\n",
       "      <td>18</td>\n",
       "      <td>18</td>\n",
       "      <td>0</td>\n",
       "      <td>0.857143</td>\n",
       "      <td>0.857143</td>\n",
       "      <td>0.857143</td>\n",
       "      <td>0.857143</td>\n",
       "      <td>0.0</td>\n",
       "    </tr>\n",
       "    <tr>\n",
       "      <th>105-MA04b1. Deliveries in unit -Live births - Total</th>\n",
       "      <td>21</td>\n",
       "      <td>17</td>\n",
       "      <td>18</td>\n",
       "      <td>18</td>\n",
       "      <td>17</td>\n",
       "      <td>0</td>\n",
       "      <td>0.809524</td>\n",
       "      <td>0.857143</td>\n",
       "      <td>0.857143</td>\n",
       "      <td>0.809524</td>\n",
       "      <td>0.0</td>\n",
       "    </tr>\n",
       "    <tr>\n",
       "      <th>...</th>\n",
       "      <th>...</th>\n",
       "      <td>...</td>\n",
       "      <td>...</td>\n",
       "      <td>...</td>\n",
       "      <td>...</td>\n",
       "      <td>...</td>\n",
       "      <td>...</td>\n",
       "      <td>...</td>\n",
       "      <td>...</td>\n",
       "      <td>...</td>\n",
       "      <td>...</td>\n",
       "      <td>...</td>\n",
       "    </tr>\n",
       "    <tr>\n",
       "      <th rowspan=\"5\" valign=\"top\">ZOMBO</th>\n",
       "      <th>EPI - PCV 2 doses_Under 1</th>\n",
       "      <td>22</td>\n",
       "      <td>16</td>\n",
       "      <td>16</td>\n",
       "      <td>15</td>\n",
       "      <td>16</td>\n",
       "      <td>0</td>\n",
       "      <td>0.727273</td>\n",
       "      <td>0.727273</td>\n",
       "      <td>0.681818</td>\n",
       "      <td>0.727273</td>\n",
       "      <td>0.0</td>\n",
       "    </tr>\n",
       "    <tr>\n",
       "      <th>EPI - PCV 3 coverage &lt; 1 year (%)</th>\n",
       "      <td>22</td>\n",
       "      <td>0</td>\n",
       "      <td>0</td>\n",
       "      <td>0</td>\n",
       "      <td>0</td>\n",
       "      <td>0</td>\n",
       "      <td>0.000000</td>\n",
       "      <td>0.000000</td>\n",
       "      <td>0.000000</td>\n",
       "      <td>0.000000</td>\n",
       "      <td>0.0</td>\n",
       "    </tr>\n",
       "    <tr>\n",
       "      <th>EPI - PCV 3 doses_Under 1</th>\n",
       "      <td>22</td>\n",
       "      <td>16</td>\n",
       "      <td>16</td>\n",
       "      <td>14</td>\n",
       "      <td>16</td>\n",
       "      <td>0</td>\n",
       "      <td>0.727273</td>\n",
       "      <td>0.727273</td>\n",
       "      <td>0.636364</td>\n",
       "      <td>0.727273</td>\n",
       "      <td>0.0</td>\n",
       "    </tr>\n",
       "    <tr>\n",
       "      <th>EPI - PCV1 Coverage &lt; 1 year (%)</th>\n",
       "      <td>22</td>\n",
       "      <td>0</td>\n",
       "      <td>0</td>\n",
       "      <td>0</td>\n",
       "      <td>0</td>\n",
       "      <td>0</td>\n",
       "      <td>0.000000</td>\n",
       "      <td>0.000000</td>\n",
       "      <td>0.000000</td>\n",
       "      <td>0.000000</td>\n",
       "      <td>0.0</td>\n",
       "    </tr>\n",
       "    <tr>\n",
       "      <th>NUT: Percentage of children/babies born with low birth weight (&lt;2.5kg)</th>\n",
       "      <td>22</td>\n",
       "      <td>11</td>\n",
       "      <td>11</td>\n",
       "      <td>8</td>\n",
       "      <td>11</td>\n",
       "      <td>0</td>\n",
       "      <td>0.500000</td>\n",
       "      <td>0.500000</td>\n",
       "      <td>0.363636</td>\n",
       "      <td>0.500000</td>\n",
       "      <td>0.0</td>\n",
       "    </tr>\n",
       "  </tbody>\n",
       "</table>\n",
       "<p>4995 rows × 11 columns</p>\n",
       "</div>"
      ],
      "text/plain": [
       "year                                                         id 2020          \\\n",
       "var                                                              Jan Feb Mar   \n",
       "district indic                                                                 \n",
       "ABIM     105-AN01a. ANC 1st Visit for women                  21   18  18  18   \n",
       "         105-AN02. ANC 4th Visit for women                   21   18  18  17   \n",
       "         105-MA01. Admissions                                21   18  18  18   \n",
       "         105-MA04a. Deliveries in unit - Total               21   18  18  18   \n",
       "         105-MA04b1. Deliveries in unit -Live births - T...  21   17  18  18   \n",
       "...                                                          ..  ...  ..  ..   \n",
       "ZOMBO    EPI - PCV 2 doses_Under 1                           22   16  16  15   \n",
       "         EPI - PCV 3 coverage < 1 year (%)                   22    0   0   0   \n",
       "         EPI - PCV 3 doses_Under 1                           22   16  16  14   \n",
       "         EPI - PCV1 Coverage < 1 year (%)                    22    0   0   0   \n",
       "         NUT: Percentage of children/babies born with lo...  22   11  11   8   \n",
       "\n",
       "year                                                                 \\\n",
       "var                                                         Apr May   \n",
       "district indic                                                        \n",
       "ABIM     105-AN01a. ANC 1st Visit for women                  18   0   \n",
       "         105-AN02. ANC 4th Visit for women                   17   0   \n",
       "         105-MA01. Admissions                                18   0   \n",
       "         105-MA04a. Deliveries in unit - Total               18   0   \n",
       "         105-MA04b1. Deliveries in unit -Live births - T...  17   0   \n",
       "...                                                          ..  ..   \n",
       "ZOMBO    EPI - PCV 2 doses_Under 1                           16   0   \n",
       "         EPI - PCV 3 coverage < 1 year (%)                    0   0   \n",
       "         EPI - PCV 3 doses_Under 1                           16   0   \n",
       "         EPI - PCV1 Coverage < 1 year (%)                     0   0   \n",
       "         NUT: Percentage of children/babies born with lo...  11   0   \n",
       "\n",
       "year                                                        reporting_perc  \\\n",
       "var                                                                    Jan   \n",
       "district indic                                                               \n",
       "ABIM     105-AN01a. ANC 1st Visit for women                       0.857143   \n",
       "         105-AN02. ANC 4th Visit for women                        0.857143   \n",
       "         105-MA01. Admissions                                     0.857143   \n",
       "         105-MA04a. Deliveries in unit - Total                    0.857143   \n",
       "         105-MA04b1. Deliveries in unit -Live births - T...       0.809524   \n",
       "...                                                                    ...   \n",
       "ZOMBO    EPI - PCV 2 doses_Under 1                                0.727273   \n",
       "         EPI - PCV 3 coverage < 1 year (%)                        0.000000   \n",
       "         EPI - PCV 3 doses_Under 1                                0.727273   \n",
       "         EPI - PCV1 Coverage < 1 year (%)                         0.000000   \n",
       "         NUT: Percentage of children/babies born with lo...       0.500000   \n",
       "\n",
       "year                                                                   \\\n",
       "var                                                               Feb   \n",
       "district indic                                                          \n",
       "ABIM     105-AN01a. ANC 1st Visit for women                  0.857143   \n",
       "         105-AN02. ANC 4th Visit for women                   0.857143   \n",
       "         105-MA01. Admissions                                0.857143   \n",
       "         105-MA04a. Deliveries in unit - Total               0.857143   \n",
       "         105-MA04b1. Deliveries in unit -Live births - T...  0.857143   \n",
       "...                                                               ...   \n",
       "ZOMBO    EPI - PCV 2 doses_Under 1                           0.727273   \n",
       "         EPI - PCV 3 coverage < 1 year (%)                   0.000000   \n",
       "         EPI - PCV 3 doses_Under 1                           0.727273   \n",
       "         EPI - PCV1 Coverage < 1 year (%)                    0.000000   \n",
       "         NUT: Percentage of children/babies born with lo...  0.500000   \n",
       "\n",
       "year                                                                   \\\n",
       "var                                                               Mar   \n",
       "district indic                                                          \n",
       "ABIM     105-AN01a. ANC 1st Visit for women                  0.857143   \n",
       "         105-AN02. ANC 4th Visit for women                   0.809524   \n",
       "         105-MA01. Admissions                                0.857143   \n",
       "         105-MA04a. Deliveries in unit - Total               0.857143   \n",
       "         105-MA04b1. Deliveries in unit -Live births - T...  0.857143   \n",
       "...                                                               ...   \n",
       "ZOMBO    EPI - PCV 2 doses_Under 1                           0.681818   \n",
       "         EPI - PCV 3 coverage < 1 year (%)                   0.000000   \n",
       "         EPI - PCV 3 doses_Under 1                           0.636364   \n",
       "         EPI - PCV1 Coverage < 1 year (%)                    0.000000   \n",
       "         NUT: Percentage of children/babies born with lo...  0.363636   \n",
       "\n",
       "year                                                                        \n",
       "var                                                               Apr  May  \n",
       "district indic                                                              \n",
       "ABIM     105-AN01a. ANC 1st Visit for women                  0.857143  0.0  \n",
       "         105-AN02. ANC 4th Visit for women                   0.809524  0.0  \n",
       "         105-MA01. Admissions                                0.857143  0.0  \n",
       "         105-MA04a. Deliveries in unit - Total               0.857143  0.0  \n",
       "         105-MA04b1. Deliveries in unit -Live births - T...  0.809524  0.0  \n",
       "...                                                               ...  ...  \n",
       "ZOMBO    EPI - PCV 2 doses_Under 1                           0.727273  0.0  \n",
       "         EPI - PCV 3 coverage < 1 year (%)                   0.000000  0.0  \n",
       "         EPI - PCV 3 doses_Under 1                           0.727273  0.0  \n",
       "         EPI - PCV1 Coverage < 1 year (%)                    0.000000  0.0  \n",
       "         NUT: Percentage of children/babies born with lo...  0.500000  0.0  \n",
       "\n",
       "[4995 rows x 11 columns]"
      ]
     },
     "execution_count": 332,
     "metadata": {},
     "output_type": "execute_result"
    }
   ],
   "source": [
    "new_df1_report=new_df1['with_outliers',].copy().reset_index().groupby(['district','indic']).count()#/report_tot\n",
    "for x in all_months:\n",
    "    new_df1_report['reporting_perc',x]= np.nan\n",
    "    new_df1_report['reporting_perc',x]=new_df1_report['2020',x]/new_df1_report['id',]\n",
    "new_df1_report"
   ]
  },
  {
   "cell_type": "markdown",
   "metadata": {},
   "source": [
    "# Tests and Issues to address:\n",
    "\n",
    "Possibility of outliers in data rare lines (E.g. 2 data points only, one right, one completely off. WOuld need an alternative layer for those\n",
    "- might run an added test this time based on columns values\n",
    "- or could just exclude any facility that has reported less than twice (not great, would delete a lot of useful data)\n",
    "\n",
    "eg. look at xuCJ8NBomxP\tGombe (Butambala) Hospital 'NUT: Percentage of children/babies born with low birth weight (<2.5kg)' outlier in April 2020 > here it is a %, not a absolute number\n",
    "Would alternatively only use % and population normalized metrics?"
   ]
  },
  {
   "cell_type": "code",
   "execution_count": 244,
   "metadata": {},
   "outputs": [
    {
     "data": {
      "text/plain": [
       "1"
      ]
     },
     "execution_count": 244,
     "metadata": {},
     "output_type": "execute_result"
    }
   ],
   "source": [
    "e=pd.Series([8.2,5.3,3.9,93.6])\n",
    "zscore = stats.zscore(e.fillna(e.mean()))\n",
    "#flags = abs(zscore) > 1.9\n",
    "#flags == True\n",
    "np.where(zscore>cutoff,np.nanmedian(e),e)\n",
    "np.sum((zscore>1))"
   ]
  },
  {
   "cell_type": "markdown",
   "metadata": {},
   "source": [
    "# Look at SAM data"
   ]
  },
  {
   "cell_type": "code",
   "execution_count": null,
   "metadata": {},
   "outputs": [],
   "source": [
    "lbw_indic=['NUT: Percentage of children/babies born with low birth weight (<2.5kg)']"
   ]
  },
  {
   "cell_type": "code",
   "execution_count": null,
   "metadata": {},
   "outputs": [],
   "source": [
    "lbw_new=pd.read_csv(input_path+'lbw_facility_pivot.csv')\n",
    "lbw_new=get_clean_pivot(lbw_new)"
   ]
  },
  {
   "cell_type": "code",
   "execution_count": null,
   "metadata": {},
   "outputs": [],
   "source": [
    "dropped_months=['Nov','Dec']\n",
    "lbw_new.drop(dropped_months,axis=1,inplace=True,level=2)"
   ]
  },
  {
   "cell_type": "markdown",
   "metadata": {},
   "source": [
    "# Look at all facilities"
   ]
  },
  {
   "cell_type": "code",
   "execution_count": null,
   "metadata": {},
   "outputs": [],
   "source": [
    "lbw_rep_all=lbw_new.copy().groupby('district').count()"
   ]
  },
  {
   "cell_type": "code",
   "execution_count": null,
   "metadata": {},
   "outputs": [],
   "source": [
    "lbw_rep_all.sum()"
   ]
  },
  {
   "cell_type": "code",
   "execution_count": null,
   "metadata": {},
   "outputs": [],
   "source": [
    "# Should buid a function out of that \n",
    "\n",
    "for m in ['Jan','Feb','Mar','Apr']:\n",
    "    lbw_rep_all[('2020','lbw reporting',m)]=lbw_rep_all[('2020','NUT: Percentage of children/babies born with low birth weight (<2.5kg)',m)]/lbw_rep_all['facility']"
   ]
  },
  {
   "cell_type": "code",
   "execution_count": null,
   "metadata": {},
   "outputs": [],
   "source": [
    "lbw_rep_all.sum(axis=0)/135"
   ]
  },
  {
   "cell_type": "markdown",
   "metadata": {},
   "source": [
    "# Look at Gvt facilites only"
   ]
  },
  {
   "cell_type": "code",
   "execution_count": null,
   "metadata": {},
   "outputs": [],
   "source": [
    "facility = pd.read_csv(facility_path+'MFL-Dec-19.csv')"
   ]
  },
  {
   "cell_type": "code",
   "execution_count": null,
   "metadata": {},
   "outputs": [],
   "source": [
    "facility['index_code']=facility['District'].apply(lambda x: x[:-9].upper())+facility['Health Facility']\n",
    "facility.set_index('index_code',drop=True,inplace=True)"
   ]
  },
  {
   "cell_type": "code",
   "execution_count": null,
   "metadata": {},
   "outputs": [],
   "source": [
    "facility_gov=facility[facility['Ownership']=='GOV'].copy()"
   ]
  },
  {
   "cell_type": "code",
   "execution_count": null,
   "metadata": {},
   "outputs": [],
   "source": [
    "len(list(set(facility_gov.index).difference(set(lbw_new.index))))\n"
   ]
  },
  {
   "cell_type": "code",
   "execution_count": null,
   "metadata": {},
   "outputs": [],
   "source": [
    "lbw_new['index_code']=lbw_new['district']+lbw_new['facility']\n",
    "lbw_new.set_index('index_code',drop=False,inplace=True)"
   ]
  },
  {
   "cell_type": "code",
   "execution_count": null,
   "metadata": {},
   "outputs": [],
   "source": [
    "lbw_gvt=pd.merge(facility_gov,lbw_new,how='left',left_index=True,right_index=True)"
   ]
  },
  {
   "cell_type": "markdown",
   "metadata": {},
   "source": [
    "Paused here"
   ]
  },
  {
   "cell_type": "code",
   "execution_count": null,
   "metadata": {},
   "outputs": [],
   "source": [
    "lbw_gvt\n",
    "#multi_index=pd.MultiIndex.from_tuples([('Test','test','test')])\n",
    "#data_elements=pd.DataFrame(index=districts,columns=multi_index)"
   ]
  },
  {
   "cell_type": "code",
   "execution_count": null,
   "metadata": {},
   "outputs": [],
   "source": [
    "lbw_rep_gvt=lbw_gvt.copy().groupby('district').count()"
   ]
  },
  {
   "cell_type": "code",
   "execution_count": null,
   "metadata": {},
   "outputs": [],
   "source": [
    "# Should buid a function out of that \n",
    "\n",
    "for m in ['Jan','Feb','Mar','Apr']:\n",
    "    lbw_rep_all[('2020','lbw reporting',m)]=lbw_rep_all[('2020','NUT: Percentage of children/babies born with low birth weight (<2.5kg)',m)]/lbw_rep_all['facility']"
   ]
  },
  {
   "cell_type": "code",
   "execution_count": null,
   "metadata": {},
   "outputs": [],
   "source": [
    "lbw_rep_all.sum(axis=0)/135"
   ]
  },
  {
   "cell_type": "code",
   "execution_count": null,
   "metadata": {},
   "outputs": [],
   "source": []
  },
  {
   "cell_type": "markdown",
   "metadata": {},
   "source": [
    "## Get that to csv"
   ]
  },
  {
   "cell_type": "code",
   "execution_count": null,
   "metadata": {},
   "outputs": [],
   "source": [
    "sam_export_df=sam_df.copy()\n",
    "sam_export_df.columns=sam_df.columns.map(\"_\".join)\n",
    "sam_export_df.to_csv(output_path+'sam_map.csv')"
   ]
  },
  {
   "cell_type": "markdown",
   "metadata": {},
   "source": [
    "Note that I am not looking at old data here, because I coul not find teh corresponding indicators execpt for two of them"
   ]
  }
 ],
 "metadata": {
  "kernelspec": {
   "display_name": "Python 3",
   "language": "python",
   "name": "python3"
  },
  "language_info": {
   "codemirror_mode": {
    "name": "ipython",
    "version": 3
   },
   "file_extension": ".py",
   "mimetype": "text/x-python",
   "name": "python",
   "nbconvert_exporter": "python",
   "pygments_lexer": "ipython3",
   "version": "3.8.3"
  }
 },
 "nbformat": 4,
 "nbformat_minor": 4
}
