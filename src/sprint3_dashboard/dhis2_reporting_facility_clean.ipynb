{
 "cells": [
  {
   "cell_type": "code",
   "execution_count": 56,
   "metadata": {},
   "outputs": [],
   "source": [
    "import pandas as pd\n",
    "import numpy as np\n",
    "import geopandas as gpd\n",
    "import timeit\n",
    "import scipy\n",
    "\n",
    "from scipy import stats\n",
    "from pandas import ExcelWriter\n",
    "\n",
    "pd.set_option('display.max_columns', None)\n",
    "idx = pd.IndexSlice"
   ]
  },
  {
   "cell_type": "code",
   "execution_count": 57,
   "metadata": {},
   "outputs": [],
   "source": [
    "input_path = '../../data/input/dhis2/new_system/'\n",
    "input_path_old = '../../data/input/dhis2/old_system/'\n",
    "\n",
    "shapes_path = '../../data/shapes/district/districts_17_19_clean.shp'\n",
    "facility_path = '../../data/input/hospitals/original_data/'\n",
    "\n",
    "output_path = '../../data/output/sprint3_analysis/'"
   ]
  },
  {
   "cell_type": "markdown",
   "metadata": {},
   "source": [
    "# Fetch my data\n"
   ]
  },
  {
   "cell_type": "markdown",
   "metadata": {},
   "source": [
    "## Set up"
   ]
  },
  {
   "cell_type": "code",
   "execution_count": 58,
   "metadata": {},
   "outputs": [],
   "source": [
    "# build a small fucntion to split the string column name of the data download as pivot \n",
    "\n",
    "def split(strng, sep, occ):\n",
    "    strng = strng.split(sep)\n",
    "    return sep.join(strng[occ[1]:]), sep.join(strng[:occ[0]]), sep.join(strng[occ[0]:occ[1]])[:3]"
   ]
  },
  {
   "cell_type": "code",
   "execution_count": 59,
   "metadata": {},
   "outputs": [],
   "source": [
    "# Creating a dict of names to replace district names\n",
    "\n",
    "district_name_dict = {'SEMBABULE': 'SSEMBABULE', 'MADI-OKOLLO': 'MADI OKOLLO'}\n",
    "\n",
    "# For a fully automated one, will need to do fuzzy matching\n"
   ]
  },
  {
   "cell_type": "code",
   "execution_count": 60,
   "metadata": {},
   "outputs": [],
   "source": [
    "# To clean the data downloaded in a pivot format\n",
    "\n",
    "def get_clean_stack(df,drop):\n",
    "\n",
    "    df['district']=df['orgunitlevel3'].apply(lambda x: x[:-9].upper())\n",
    "    df['district'].replace(district_name_dict,inplace=True)\n",
    "    \n",
    "    df.set_index(['district','organisationunitid'],drop=True,inplace=True)\n",
    "    \n",
    "    cols = np.arange(0,9)\n",
    "    df.drop(df.columns[cols],axis=1,inplace=True)\n",
    "    \n",
    "    cols = df.columns\n",
    "    new_cols=[]\n",
    "    for col in cols:\n",
    "        new_cols.append(split(col,' ',[-2,-1]))\n",
    "    df.columns=pd.MultiIndex.from_tuples(new_cols,names=['year','indic','month'])\n",
    "    \n",
    "    if drop != None:\n",
    "        df.drop(drop,axis=1,inplace=True,level=2)\n",
    "    \n",
    "    df1=df.copy().stack(level=[0,1,2],dropna=False).reset_index()\n",
    "    df1.rename(columns={0:'value'},inplace=True)\n",
    "    \n",
    "    return df1"
   ]
  },
  {
   "cell_type": "markdown",
   "metadata": {},
   "source": [
    "## New data\n"
   ]
  },
  {
   "cell_type": "code",
   "execution_count": 61,
   "metadata": {},
   "outputs": [],
   "source": [
    "# to get all the new data files together\n",
    "def fetch_new_data (filepaths):\n",
    "    df = pd.DataFrame(columns = ['district', 'organisationunitid', 'year', 'indic', 'month', 'value'])\n",
    "    for x in filepaths:\n",
    "        x_df=get_clean_stack(pd.read_csv(x),drop='Dec')\n",
    "        df=pd.concat([df,x_df])\n",
    "    for x in filepaths_no_dec:\n",
    "        x_df=get_clean_stack(pd.read_csv(x),drop=None)\n",
    "        df=pd.concat([df,x_df])\n",
    "    return df\n"
   ]
  },
  {
   "cell_type": "code",
   "execution_count": 62,
   "metadata": {},
   "outputs": [],
   "source": [
    "# creating the new data stack\n",
    "\n",
    "filepaths = [input_path+'new_epi_data_by_facility.csv',\n",
    "            input_path+'new_mnch_data_by_facility.csv',\n",
    "            input_path+'new_sam_data_by_facility.csv',\n",
    "            input_path+'new_lbw_data_by_facility.csv',\n",
    "            input_path+'new_vitamin_data_by_facility.csv']\n",
    "\n",
    "filepaths_no_dec = [input_path+'may_new_sam_data_by_facility.csv',\n",
    "                    input_path+'may_new_epi_data_by_facility.csv']\n",
    "\n",
    "new_stack = fetch_new_data (filepaths=filepaths)"
   ]
  },
  {
   "cell_type": "markdown",
   "metadata": {},
   "source": [
    "## Old data\n",
    "\n",
    "For now extremely messy, had to be done bit by bit in random order, so quite some cleaning needed Ill do here, than put all into one nice file"
   ]
  },
  {
   "cell_type": "code",
   "execution_count": 63,
   "metadata": {},
   "outputs": [],
   "source": [
    "# to get all the old data files together\n",
    "def fetch_old_data (filepaths):\n",
    "    df = pd.DataFrame(columns = ['district', 'organisationunitid', 'year', 'indic', 'month', 'value'])\n",
    "    for x in filepaths:\n",
    "        x_df=get_clean_stack(pd.read_csv(x),drop=None)\n",
    "        df=pd.concat([df,x_df])\n",
    "    return df\n"
   ]
  },
  {
   "cell_type": "code",
   "execution_count": 64,
   "metadata": {},
   "outputs": [],
   "source": [
    "\n",
    "# creating the old data stack\n",
    "\n",
    "# For now a bit all over the placedue to download limitations \n",
    "\n",
    "filepaths = [input_path_old+\"/epi/EPI - BCG doses given.csv\",\n",
    "             input_path_old+\"/epi/EPI - DPT-HepB-HIB 1 doses given.csv\",\n",
    "             input_path_old+\"/epi/EPI - DPT-HepB-HIB 3 doses given.csv\",\n",
    "             input_path_old+\"/epi/EPI - PCV 1 doses given.csv\",\n",
    "             input_path_old+\"/epi/EPI - PCV 3 doses given.csv\",\n",
    "             input_path_old+\"/epi/EPI - MR 1 doses given.csv\",\n",
    "             input_path_old+'/mat/admission_newborn.csv',\n",
    "             input_path_old+'/mat/ANC1_ANC4.csv',\n",
    "             input_path_old+'/mat/births.csv',\n",
    "             input_path_old+'/sam/lbw.csv',\n",
    "             input_path_old+'/sam/sam_mam.csv',\n",
    "             input_path_old+'/sam/lbw_abs.csv',\n",
    "             input_path_old+'/sam/vitamin.csv']\n",
    "\n",
    "old_stack = fetch_old_data (filepaths=filepaths)"
   ]
  },
  {
   "cell_type": "markdown",
   "metadata": {},
   "source": [
    "# Merge the two"
   ]
  },
  {
   "cell_type": "code",
   "execution_count": 66,
   "metadata": {},
   "outputs": [],
   "source": [
    "# Bridging differences between lbw variables in old and new system\n",
    "\n",
    "#lbw_elements = ['105-MA04b2. Deliveries in unit -Live births - less than 2.5kg',\n",
    "                #'105-MA04c2. Deliveries in unit - Fresh still birth - less than 2.5kg',\n",
    "                #'105-MA04d2. Deliveries in unit - Macerated still birth - less than 2.5kg']\n",
    "\n",
    "#lbw_data = new_stack[new_stack['indic'].isin(lbw_elements)].groupby(['district', 'organisationunitid', 'year', 'month'],as_index=False).sum()\n",
    "#lbw_data['indic']='Babies Born with low birth weight (<2.5Kgs)'\n",
    "#lbw_data"
   ]
  },
  {
   "cell_type": "markdown",
   "metadata": {},
   "source": [
    "## Select a subset of indicators to merge on"
   ]
  },
  {
   "cell_type": "markdown",
   "metadata": {},
   "source": [
    "This is done in Excel manually, after running the small function below"
   ]
  },
  {
   "cell_type": "code",
   "execution_count": 67,
   "metadata": {},
   "outputs": [],
   "source": [
    "def export_var_names():\n",
    "    from pandas import ExcelWriter\n",
    "    with ExcelWriter(input_path+'new_old_correspondance.xlsx',mode='a') as writer:\n",
    "        pd.Series(old_stack['indic'].unique()).to_excel(writer,sheet_name='old_vars')\n",
    "        pd.Series(new_stack['indic'].unique()).to_excel(writer,sheet_name='new_vars')\n",
    "\n",
    "#export_var_names()"
   ]
  },
  {
   "cell_type": "markdown",
   "metadata": {},
   "source": [
    "Here I get back the result into a dict"
   ]
  },
  {
   "cell_type": "code",
   "execution_count": 68,
   "metadata": {},
   "outputs": [],
   "source": [
    "def replace_var_names():\n",
    "    from pandas import ExcelFile\n",
    "    xls = ExcelFile(input_path+'new_old_correspondance.xlsx')\n",
    "    df = xls.parse(xls.sheet_names[0])\n",
    "    df.set_index('Old',drop=True,inplace=True)\n",
    "    old_new_dict=df['New'].to_dict()\n",
    "    old_stack.replace({'indic': old_new_dict},inplace=True) # Replacing the old names by the new\n",
    "    target_indics=list(old_new_dict.values()) # Store my target indicators\n",
    "    return target_indics"
   ]
  },
  {
   "cell_type": "code",
   "execution_count": 69,
   "metadata": {},
   "outputs": [],
   "source": [
    "target_indics=replace_var_names()"
   ]
  },
  {
   "cell_type": "code",
   "execution_count": 70,
   "metadata": {},
   "outputs": [
    {
     "data": {
      "text/plain": [
       "['105-AN01a. ANC 1st Visit for women',\n",
       " '105-AN02. ANC 4th Visit for women',\n",
       " '105-MA01. Admissions',\n",
       " '105-MA04a. Deliveries in unit - Total',\n",
       " '105-MA04b1. Deliveries in unit -Live births - Total',\n",
       " '105-MA04c1. Deliveries in unit - Fresh still birth - Total',\n",
       " '105-MA04d1. Deliveries in unit - Macerated still birth - Total',\n",
       " '105-MA11. Newborn deaths (0-7 days)',\n",
       " '105-PN01a. Post Natal Attendances - Mother',\n",
       " 'EPI - BCG doses given',\n",
       " 'EPI - DPT-HepB-HIB 1 doses given',\n",
       " 'EPI - DPT-HepB-HIB 3 doses given',\n",
       " 'EPI - MR 1 doses given',\n",
       " 'EPI - PCV 1 doses_Under 1',\n",
       " 'EPI - PCV 3 doses_Under 1',\n",
       " 'NUT: Percentage of children/babies born with low birth weight (<2.5kg)',\n",
       " '105-NA03a1. Identified malnourished clients(<10) this month - MAM using MUAC',\n",
       " '105-NA03e1. Identified malnourished clients(<10) this month - SAM With Oedema',\n",
       " '105-NA03c1. Identified malnourished clients(<10) this month - SAM using MUAC -  Without Oedema',\n",
       " '105-CH01. Vit A supplement (1st Dose)',\n",
       " '105-CH02. Vit A supplement (2nd Dose)']"
      ]
     },
     "execution_count": 70,
     "metadata": {},
     "output_type": "execute_result"
    }
   ],
   "source": [
    "target_indics"
   ]
  },
  {
   "cell_type": "markdown",
   "metadata": {},
   "source": [
    "### Check there is no issue with facility ids"
   ]
  },
  {
   "cell_type": "code",
   "execution_count": 71,
   "metadata": {},
   "outputs": [],
   "source": [
    "# Store the valid ids\n",
    "\n",
    "old_ids=set(old_stack['organisationunitid'].unique())\n",
    "new_ids=set(new_stack['organisationunitid'].unique())\n",
    "valid_ids=list(old_ids.intersection(new_ids))\n"
   ]
  },
  {
   "cell_type": "markdown",
   "metadata": {},
   "source": [
    "### Get only the bits of data I am interested in"
   ]
  },
  {
   "cell_type": "code",
   "execution_count": 72,
   "metadata": {},
   "outputs": [],
   "source": [
    "old_stack_t=old_stack[old_stack['indic'].isin(target_indics) & old_stack['organisationunitid'].isin(valid_ids)].copy()\n",
    "new_stack_t=new_stack[new_stack['indic'].isin(target_indics) & new_stack['organisationunitid'].isin(valid_ids)].copy()"
   ]
  },
  {
   "cell_type": "code",
   "execution_count": 73,
   "metadata": {},
   "outputs": [
    {
     "data": {
      "text/html": [
       "<div>\n",
       "<style scoped>\n",
       "    .dataframe tbody tr th:only-of-type {\n",
       "        vertical-align: middle;\n",
       "    }\n",
       "\n",
       "    .dataframe tbody tr th {\n",
       "        vertical-align: top;\n",
       "    }\n",
       "\n",
       "    .dataframe thead th {\n",
       "        text-align: right;\n",
       "    }\n",
       "</style>\n",
       "<table border=\"1\" class=\"dataframe\">\n",
       "  <thead>\n",
       "    <tr style=\"text-align: right;\">\n",
       "      <th></th>\n",
       "      <th>district</th>\n",
       "      <th>organisationunitid</th>\n",
       "      <th>year</th>\n",
       "      <th>indic</th>\n",
       "      <th>month</th>\n",
       "      <th>value</th>\n",
       "    </tr>\n",
       "  </thead>\n",
       "  <tbody>\n",
       "    <tr>\n",
       "      <th>0</th>\n",
       "      <td>ZOMBO</td>\n",
       "      <td>XikHv88zzDn</td>\n",
       "      <td>2018</td>\n",
       "      <td>EPI - BCG doses given</td>\n",
       "      <td>Apr</td>\n",
       "      <td>7.0</td>\n",
       "    </tr>\n",
       "    <tr>\n",
       "      <th>1</th>\n",
       "      <td>ZOMBO</td>\n",
       "      <td>XikHv88zzDn</td>\n",
       "      <td>2018</td>\n",
       "      <td>EPI - BCG doses given</td>\n",
       "      <td>Aug</td>\n",
       "      <td>7.0</td>\n",
       "    </tr>\n",
       "    <tr>\n",
       "      <th>2</th>\n",
       "      <td>ZOMBO</td>\n",
       "      <td>XikHv88zzDn</td>\n",
       "      <td>2018</td>\n",
       "      <td>EPI - BCG doses given</td>\n",
       "      <td>Dec</td>\n",
       "      <td>5.0</td>\n",
       "    </tr>\n",
       "    <tr>\n",
       "      <th>3</th>\n",
       "      <td>ZOMBO</td>\n",
       "      <td>XikHv88zzDn</td>\n",
       "      <td>2018</td>\n",
       "      <td>EPI - BCG doses given</td>\n",
       "      <td>Feb</td>\n",
       "      <td>NaN</td>\n",
       "    </tr>\n",
       "    <tr>\n",
       "      <th>4</th>\n",
       "      <td>ZOMBO</td>\n",
       "      <td>XikHv88zzDn</td>\n",
       "      <td>2018</td>\n",
       "      <td>EPI - BCG doses given</td>\n",
       "      <td>Jan</td>\n",
       "      <td>NaN</td>\n",
       "    </tr>\n",
       "  </tbody>\n",
       "</table>\n",
       "</div>"
      ],
      "text/plain": [
       "  district organisationunitid  year                  indic month  value\n",
       "0    ZOMBO        XikHv88zzDn  2018  EPI - BCG doses given   Apr    7.0\n",
       "1    ZOMBO        XikHv88zzDn  2018  EPI - BCG doses given   Aug    7.0\n",
       "2    ZOMBO        XikHv88zzDn  2018  EPI - BCG doses given   Dec    5.0\n",
       "3    ZOMBO        XikHv88zzDn  2018  EPI - BCG doses given   Feb    NaN\n",
       "4    ZOMBO        XikHv88zzDn  2018  EPI - BCG doses given   Jan    NaN"
      ]
     },
     "execution_count": 73,
     "metadata": {},
     "output_type": "execute_result"
    }
   ],
   "source": [
    "stack_t=pd.concat([old_stack_t,new_stack_t])\n",
    "stack_t.reset_index(drop=True,inplace=True)\n",
    "stack_t.head()"
   ]
  },
  {
   "cell_type": "code",
   "execution_count": 74,
   "metadata": {},
   "outputs": [
    {
     "data": {
      "text/plain": [
       "(3463896, 6)"
      ]
     },
     "execution_count": 74,
     "metadata": {},
     "output_type": "execute_result"
    }
   ],
   "source": [
    "stack_t.shape"
   ]
  },
  {
   "cell_type": "code",
   "execution_count": 75,
   "metadata": {},
   "outputs": [],
   "source": [
    "#stack_t.loc[3076856]\n",
    "#stack_t.loc[3068237]\n",
    "#stack_t.loc[3068236]\n",
    "#stack_t.loc[2495098]"
   ]
  },
  {
   "cell_type": "markdown",
   "metadata": {},
   "source": [
    "# Flag outliers"
   ]
  },
  {
   "cell_type": "markdown",
   "metadata": {},
   "source": [
    "## (!) Directly replace data that is out of bound (for nutrition)"
   ]
  },
  {
   "cell_type": "code",
   "execution_count": 76,
   "metadata": {},
   "outputs": [],
   "source": [
    "lbw_only = stack_t[stack_t['indic']=='NUT: Percentage of children/babies born with low birth weight (<2.5kg)']\n",
    "\n",
    "for x in list(lbw_only[lbw_only['value']>100].index):\n",
    "    stack_t.loc[x,'value']=np.nan\n"
   ]
  },
  {
   "cell_type": "markdown",
   "metadata": {},
   "source": [
    "# Put our data in the right format \n"
   ]
  },
  {
   "cell_type": "code",
   "execution_count": 77,
   "metadata": {},
   "outputs": [
    {
     "name": "stdout",
     "output_type": "stream",
     "text": [
      "Wall time: 5.23 s\n"
     ]
    }
   ],
   "source": [
    "%%time\n",
    "\n",
    "def pivot_stack(df):\n",
    "    pivot_outliers=df.copy().pivot_table(index=['district', 'organisationunitid', 'indic'], columns=['year','month' ]) #,dropna=False)\n",
    "    pivot_outliers.rename(columns={'value':'with_outiers'},level=0,inplace=True)\n",
    "    pivot_outliers.columns.rename('type', level=0, inplace=True)\n",
    "    pivot_outliers.dropna(how='all',axis=0,inplace=True) # looks like there is no all na line to drop\n",
    "    return pivot_outliers\n",
    "\n",
    "pivot_outliers=pivot_stack(stack_t)"
   ]
  },
  {
   "cell_type": "markdown",
   "metadata": {},
   "source": [
    "## Replace outliers using a std deviation method"
   ]
  },
  {
   "cell_type": "code",
   "execution_count": 78,
   "metadata": {},
   "outputs": [],
   "source": [
    "# Get the data in the right format\n",
    "\n",
    "def replace_outliers(pivot_outliers,cutoff):#df\n",
    "    \n",
    "    pivot_no_outliers=pd.DataFrame(columns=pivot_outliers.columns,index=pivot_outliers.index)\n",
    "    pivot_no_outliers.rename(columns={'with_outiers':'without_outliers'},level=0,inplace=True)\n",
    "    \n",
    "    for x in pivot_outliers.index: # to exclude\n",
    "        values = pivot_outliers.loc[x,:].values\n",
    "        if np.nanstd(values)!=0 and np.isnan(values).sum()!=len(values):\n",
    "            zscore = abs(stats.zscore(values,nan_policy='omit'))\n",
    "            new_values = np.where(zscore>cutoff,np.nanmedian(values),values)\n",
    "\n",
    "        else:\n",
    "            new_values = values\n",
    "\n",
    "        pivot_no_outliers.iloc[pivot_outliers.index.get_loc(x),:] = new_values.astype('float')\n",
    "\n",
    "    return pivot_no_outliers \n"
   ]
  },
  {
   "cell_type": "code",
   "execution_count": 79,
   "metadata": {},
   "outputs": [
    {
     "name": "stderr",
     "output_type": "stream",
     "text": [
      "<ipython-input-78-34eb04742e5b>:12: RuntimeWarning: invalid value encountered in greater\n",
      "  new_values = np.where(zscore>cutoff,np.nanmedian(values),values)\n"
     ]
    },
    {
     "name": "stdout",
     "output_type": "stream",
     "text": [
      "Wall time: 2min 6s\n"
     ]
    }
   ],
   "source": [
    "%%time\n",
    "pivot_no_outliers = replace_outliers(pivot_outliers,cutoff=3)\n"
   ]
  },
  {
   "cell_type": "code",
   "execution_count": 80,
   "metadata": {},
   "outputs": [
    {
     "name": "stderr",
     "output_type": "stream",
     "text": [
      "<ipython-input-80-0516574b05c8>:7: RuntimeWarning: invalid value encountered in less\n",
      "  np.where((values<LB)|(values>UB),np.nanmedian(values),values)\n",
      "<ipython-input-80-0516574b05c8>:7: RuntimeWarning: invalid value encountered in greater\n",
      "  np.where((values<LB)|(values>UB),np.nanmedian(values),values)\n"
     ]
    },
    {
     "data": {
      "text/plain": [
       "array([ 1.,  3., nan,  3.,  1.,  4.,  6.,  4.,  4.,  4.])"
      ]
     },
     "execution_count": 80,
     "metadata": {},
     "output_type": "execute_result"
    }
   ],
   "source": [
    "values = np.array([1,3,np.nan,3,1,4,6,4,1000,200])\n",
    "Q1 = np.nanquantile(values,0.25)\n",
    "Q3 = np.nanquantile(values,0.75)\n",
    "IQR = Q3 - Q1\n",
    "LB = Q1 - 3*IQR\n",
    "UB = Q3 + 3*IQR\n",
    "np.where((values<LB)|(values>UB),np.nanmedian(values),values)"
   ]
  },
  {
   "cell_type": "code",
   "execution_count": 81,
   "metadata": {},
   "outputs": [],
   "source": [
    "# Get the data in the right format\n",
    "\n",
    "def replace_outliers_iqr(pivot_outliers,k):#df\n",
    "    \n",
    "    pivot_no_outliers=pd.DataFrame(columns=pivot_outliers.columns,index=pivot_outliers.index)\n",
    "    pivot_no_outliers.rename(columns={'with_outiers':'without_outliers'},level=0,inplace=True)\n",
    "    \n",
    "    for x in pivot_outliers.index:\n",
    "        values = pivot_outliers.loc[x,:].values\n",
    "        if np.nanstd(values)!=0 and np.isnan(values).sum()!=len(values):\n",
    "            Q1 = np.nanquantile(values,0.25)\n",
    "            Q3 = np.nanquantile(values,0.75)\n",
    "            IQR = Q3 - Q1\n",
    "            LB = Q1 - k*IQR\n",
    "            UB = Q3 + k*IQR\n",
    "            new_values = np.where((values<LB)|(values>UB),np.nanmedian(values),values)\n",
    "\n",
    "        else:\n",
    "            new_values = values\n",
    "\n",
    "        pivot_no_outliers.iloc[pivot_outliers.index.get_loc(x),:] = new_values.astype('float')\n",
    "\n",
    "    return pivot_no_outliers "
   ]
  },
  {
   "cell_type": "code",
   "execution_count": 82,
   "metadata": {},
   "outputs": [
    {
     "name": "stderr",
     "output_type": "stream",
     "text": [
      "<ipython-input-81-53464bcc185b>:16: RuntimeWarning: invalid value encountered in less\n",
      "  new_values = np.where((values<LB)|(values>UB),np.nanmedian(values),values)\n",
      "<ipython-input-81-53464bcc185b>:16: RuntimeWarning: invalid value encountered in greater\n",
      "  new_values = np.where((values<LB)|(values>UB),np.nanmedian(values),values)\n"
     ]
    },
    {
     "name": "stdout",
     "output_type": "stream",
     "text": [
      "Wall time: 2min 36s\n"
     ]
    }
   ],
   "source": [
    "%%time\n",
    "pivot_no_outliers_iqr = replace_outliers_iqr(pivot_outliers,k=3)"
   ]
  },
  {
   "cell_type": "code",
   "execution_count": 83,
   "metadata": {},
   "outputs": [
    {
     "data": {
      "text/html": [
       "<div>\n",
       "<style scoped>\n",
       "    .dataframe tbody tr th:only-of-type {\n",
       "        vertical-align: middle;\n",
       "    }\n",
       "\n",
       "    .dataframe tbody tr th {\n",
       "        vertical-align: top;\n",
       "    }\n",
       "\n",
       "    .dataframe thead tr th {\n",
       "        text-align: left;\n",
       "    }\n",
       "\n",
       "    .dataframe thead tr:last-of-type th {\n",
       "        text-align: right;\n",
       "    }\n",
       "</style>\n",
       "<table border=\"1\" class=\"dataframe\">\n",
       "  <thead>\n",
       "    <tr>\n",
       "      <th></th>\n",
       "      <th></th>\n",
       "      <th>type</th>\n",
       "      <th colspan=\"29\" halign=\"left\">without_outliers</th>\n",
       "    </tr>\n",
       "    <tr>\n",
       "      <th></th>\n",
       "      <th></th>\n",
       "      <th>year</th>\n",
       "      <th colspan=\"12\" halign=\"left\">2018</th>\n",
       "      <th colspan=\"12\" halign=\"left\">2019</th>\n",
       "      <th colspan=\"5\" halign=\"left\">2020</th>\n",
       "    </tr>\n",
       "    <tr>\n",
       "      <th></th>\n",
       "      <th></th>\n",
       "      <th>month</th>\n",
       "      <th>Apr</th>\n",
       "      <th>Aug</th>\n",
       "      <th>Dec</th>\n",
       "      <th>Feb</th>\n",
       "      <th>Jan</th>\n",
       "      <th>Jul</th>\n",
       "      <th>Jun</th>\n",
       "      <th>Mar</th>\n",
       "      <th>May</th>\n",
       "      <th>Nov</th>\n",
       "      <th>Oct</th>\n",
       "      <th>Sep</th>\n",
       "      <th>Apr</th>\n",
       "      <th>Aug</th>\n",
       "      <th>Dec</th>\n",
       "      <th>Feb</th>\n",
       "      <th>Jan</th>\n",
       "      <th>Jul</th>\n",
       "      <th>Jun</th>\n",
       "      <th>Mar</th>\n",
       "      <th>May</th>\n",
       "      <th>Nov</th>\n",
       "      <th>Oct</th>\n",
       "      <th>Sep</th>\n",
       "      <th>Apr</th>\n",
       "      <th>Feb</th>\n",
       "      <th>Jan</th>\n",
       "      <th>Mar</th>\n",
       "      <th>May</th>\n",
       "    </tr>\n",
       "    <tr>\n",
       "      <th>district</th>\n",
       "      <th>organisationunitid</th>\n",
       "      <th>indic</th>\n",
       "      <th></th>\n",
       "      <th></th>\n",
       "      <th></th>\n",
       "      <th></th>\n",
       "      <th></th>\n",
       "      <th></th>\n",
       "      <th></th>\n",
       "      <th></th>\n",
       "      <th></th>\n",
       "      <th></th>\n",
       "      <th></th>\n",
       "      <th></th>\n",
       "      <th></th>\n",
       "      <th></th>\n",
       "      <th></th>\n",
       "      <th></th>\n",
       "      <th></th>\n",
       "      <th></th>\n",
       "      <th></th>\n",
       "      <th></th>\n",
       "      <th></th>\n",
       "      <th></th>\n",
       "      <th></th>\n",
       "      <th></th>\n",
       "      <th></th>\n",
       "      <th></th>\n",
       "      <th></th>\n",
       "      <th></th>\n",
       "      <th></th>\n",
       "    </tr>\n",
       "  </thead>\n",
       "  <tbody>\n",
       "    <tr>\n",
       "      <th rowspan=\"5\" valign=\"top\">ABIM</th>\n",
       "      <th rowspan=\"5\" valign=\"top\">JO1cLIghdBv</th>\n",
       "      <th>105-AN01a. ANC 1st Visit for women</th>\n",
       "      <td>17</td>\n",
       "      <td>21</td>\n",
       "      <td>6</td>\n",
       "      <td>8</td>\n",
       "      <td>NaN</td>\n",
       "      <td>9</td>\n",
       "      <td>8</td>\n",
       "      <td>19</td>\n",
       "      <td>10</td>\n",
       "      <td>4</td>\n",
       "      <td>12</td>\n",
       "      <td>16</td>\n",
       "      <td>9</td>\n",
       "      <td>15</td>\n",
       "      <td>4</td>\n",
       "      <td>14</td>\n",
       "      <td>15</td>\n",
       "      <td>18</td>\n",
       "      <td>7</td>\n",
       "      <td>12</td>\n",
       "      <td>12</td>\n",
       "      <td>16</td>\n",
       "      <td>16</td>\n",
       "      <td>15</td>\n",
       "      <td>21</td>\n",
       "      <td>12</td>\n",
       "      <td>11</td>\n",
       "      <td>17</td>\n",
       "      <td>NaN</td>\n",
       "    </tr>\n",
       "    <tr>\n",
       "      <th>105-AN02. ANC 4th Visit for women</th>\n",
       "      <td>5</td>\n",
       "      <td>6</td>\n",
       "      <td>3</td>\n",
       "      <td>4</td>\n",
       "      <td>6</td>\n",
       "      <td>10</td>\n",
       "      <td>4</td>\n",
       "      <td>7</td>\n",
       "      <td>4</td>\n",
       "      <td>3</td>\n",
       "      <td>11</td>\n",
       "      <td>4</td>\n",
       "      <td>9</td>\n",
       "      <td>5</td>\n",
       "      <td>1</td>\n",
       "      <td>4</td>\n",
       "      <td>5</td>\n",
       "      <td>5</td>\n",
       "      <td>8</td>\n",
       "      <td>6</td>\n",
       "      <td>8</td>\n",
       "      <td>13</td>\n",
       "      <td>3</td>\n",
       "      <td>2</td>\n",
       "      <td>7</td>\n",
       "      <td>4</td>\n",
       "      <td>NaN</td>\n",
       "      <td>4</td>\n",
       "      <td>NaN</td>\n",
       "    </tr>\n",
       "    <tr>\n",
       "      <th>105-CH01. Vit A supplement (1st Dose)</th>\n",
       "      <td>60</td>\n",
       "      <td>91</td>\n",
       "      <td>68</td>\n",
       "      <td>9</td>\n",
       "      <td>NaN</td>\n",
       "      <td>14</td>\n",
       "      <td>3</td>\n",
       "      <td>8</td>\n",
       "      <td>9</td>\n",
       "      <td>31</td>\n",
       "      <td>158</td>\n",
       "      <td>20</td>\n",
       "      <td>99</td>\n",
       "      <td>41</td>\n",
       "      <td>5</td>\n",
       "      <td>16</td>\n",
       "      <td>24</td>\n",
       "      <td>163</td>\n",
       "      <td>102</td>\n",
       "      <td>96</td>\n",
       "      <td>28</td>\n",
       "      <td>13</td>\n",
       "      <td>20</td>\n",
       "      <td>33</td>\n",
       "      <td>19</td>\n",
       "      <td>23</td>\n",
       "      <td>35</td>\n",
       "      <td>106</td>\n",
       "      <td>311</td>\n",
       "    </tr>\n",
       "    <tr>\n",
       "      <th>105-CH02. Vit A supplement (2nd Dose)</th>\n",
       "      <td>93</td>\n",
       "      <td>22</td>\n",
       "      <td>40</td>\n",
       "      <td>5</td>\n",
       "      <td>3</td>\n",
       "      <td>3</td>\n",
       "      <td>1</td>\n",
       "      <td>13</td>\n",
       "      <td>10</td>\n",
       "      <td>190</td>\n",
       "      <td>192</td>\n",
       "      <td>3</td>\n",
       "      <td>171</td>\n",
       "      <td>104</td>\n",
       "      <td>NaN</td>\n",
       "      <td>135</td>\n",
       "      <td>10</td>\n",
       "      <td>370</td>\n",
       "      <td>140</td>\n",
       "      <td>56</td>\n",
       "      <td>106</td>\n",
       "      <td>4</td>\n",
       "      <td>1</td>\n",
       "      <td>216</td>\n",
       "      <td>4</td>\n",
       "      <td>10</td>\n",
       "      <td>39</td>\n",
       "      <td>100</td>\n",
       "      <td>187</td>\n",
       "    </tr>\n",
       "    <tr>\n",
       "      <th>105-MA01. Admissions</th>\n",
       "      <td>7</td>\n",
       "      <td>14</td>\n",
       "      <td>4</td>\n",
       "      <td>4</td>\n",
       "      <td>NaN</td>\n",
       "      <td>9</td>\n",
       "      <td>10</td>\n",
       "      <td>8</td>\n",
       "      <td>3</td>\n",
       "      <td>2</td>\n",
       "      <td>11</td>\n",
       "      <td>11</td>\n",
       "      <td>4</td>\n",
       "      <td>10</td>\n",
       "      <td>2</td>\n",
       "      <td>10</td>\n",
       "      <td>5</td>\n",
       "      <td>7</td>\n",
       "      <td>9</td>\n",
       "      <td>5</td>\n",
       "      <td>7</td>\n",
       "      <td>9</td>\n",
       "      <td>9</td>\n",
       "      <td>5</td>\n",
       "      <td>11</td>\n",
       "      <td>6</td>\n",
       "      <td>5</td>\n",
       "      <td>6</td>\n",
       "      <td>NaN</td>\n",
       "    </tr>\n",
       "  </tbody>\n",
       "</table>\n",
       "</div>"
      ],
      "text/plain": [
       "type                                                              without_outliers  \\\n",
       "year                                                                          2018   \n",
       "month                                                                          Apr   \n",
       "district organisationunitid indic                                                    \n",
       "ABIM     JO1cLIghdBv        105-AN01a. ANC 1st Visit for women                  17   \n",
       "                            105-AN02. ANC 4th Visit for women                    5   \n",
       "                            105-CH01. Vit A supplement (1st Dose)               60   \n",
       "                            105-CH02. Vit A supplement (2nd Dose)               93   \n",
       "                            105-MA01. Admissions                                 7   \n",
       "\n",
       "type                                                                           \\\n",
       "year                                                                            \n",
       "month                                                             Aug Dec Feb   \n",
       "district organisationunitid indic                                               \n",
       "ABIM     JO1cLIghdBv        105-AN01a. ANC 1st Visit for women     21   6   8   \n",
       "                            105-AN02. ANC 4th Visit for women       6   3   4   \n",
       "                            105-CH01. Vit A supplement (1st Dose)  91  68   9   \n",
       "                            105-CH02. Vit A supplement (2nd Dose)  22  40   5   \n",
       "                            105-MA01. Admissions                   14   4   4   \n",
       "\n",
       "type                                                                        \\\n",
       "year                                                                         \n",
       "month                                                              Jan Jul   \n",
       "district organisationunitid indic                                            \n",
       "ABIM     JO1cLIghdBv        105-AN01a. ANC 1st Visit for women     NaN   9   \n",
       "                            105-AN02. ANC 4th Visit for women        6  10   \n",
       "                            105-CH01. Vit A supplement (1st Dose)  NaN  14   \n",
       "                            105-CH02. Vit A supplement (2nd Dose)    3   3   \n",
       "                            105-MA01. Admissions                   NaN   9   \n",
       "\n",
       "type                                                                           \\\n",
       "year                                                                            \n",
       "month                                                             Jun Mar May   \n",
       "district organisationunitid indic                                               \n",
       "ABIM     JO1cLIghdBv        105-AN01a. ANC 1st Visit for women      8  19  10   \n",
       "                            105-AN02. ANC 4th Visit for women       4   7   4   \n",
       "                            105-CH01. Vit A supplement (1st Dose)   3   8   9   \n",
       "                            105-CH02. Vit A supplement (2nd Dose)   1  13  10   \n",
       "                            105-MA01. Admissions                   10   8   3   \n",
       "\n",
       "type                                                                         \\\n",
       "year                                                                          \n",
       "month                                                              Nov  Oct   \n",
       "district organisationunitid indic                                             \n",
       "ABIM     JO1cLIghdBv        105-AN01a. ANC 1st Visit for women       4   12   \n",
       "                            105-AN02. ANC 4th Visit for women        3   11   \n",
       "                            105-CH01. Vit A supplement (1st Dose)   31  158   \n",
       "                            105-CH02. Vit A supplement (2nd Dose)  190  192   \n",
       "                            105-MA01. Admissions                     2   11   \n",
       "\n",
       "type                                                                        \\\n",
       "year                                                                  2019   \n",
       "month                                                             Sep  Apr   \n",
       "district organisationunitid indic                                            \n",
       "ABIM     JO1cLIghdBv        105-AN01a. ANC 1st Visit for women     16    9   \n",
       "                            105-AN02. ANC 4th Visit for women       4    9   \n",
       "                            105-CH01. Vit A supplement (1st Dose)  20   99   \n",
       "                            105-CH02. Vit A supplement (2nd Dose)   3  171   \n",
       "                            105-MA01. Admissions                   11    4   \n",
       "\n",
       "type                                                                         \\\n",
       "year                                                                          \n",
       "month                                                              Aug  Dec   \n",
       "district organisationunitid indic                                             \n",
       "ABIM     JO1cLIghdBv        105-AN01a. ANC 1st Visit for women      15    4   \n",
       "                            105-AN02. ANC 4th Visit for women        5    1   \n",
       "                            105-CH01. Vit A supplement (1st Dose)   41    5   \n",
       "                            105-CH02. Vit A supplement (2nd Dose)  104  NaN   \n",
       "                            105-MA01. Admissions                    10    2   \n",
       "\n",
       "type                                                                        \\\n",
       "year                                                                         \n",
       "month                                                              Feb Jan   \n",
       "district organisationunitid indic                                            \n",
       "ABIM     JO1cLIghdBv        105-AN01a. ANC 1st Visit for women      14  15   \n",
       "                            105-AN02. ANC 4th Visit for women        4   5   \n",
       "                            105-CH01. Vit A supplement (1st Dose)   16  24   \n",
       "                            105-CH02. Vit A supplement (2nd Dose)  135  10   \n",
       "                            105-MA01. Admissions                    10   5   \n",
       "\n",
       "type                                                                         \\\n",
       "year                                                                          \n",
       "month                                                              Jul  Jun   \n",
       "district organisationunitid indic                                             \n",
       "ABIM     JO1cLIghdBv        105-AN01a. ANC 1st Visit for women      18    7   \n",
       "                            105-AN02. ANC 4th Visit for women        5    8   \n",
       "                            105-CH01. Vit A supplement (1st Dose)  163  102   \n",
       "                            105-CH02. Vit A supplement (2nd Dose)  370  140   \n",
       "                            105-MA01. Admissions                     7    9   \n",
       "\n",
       "type                                                                        \\\n",
       "year                                                                         \n",
       "month                                                             Mar  May   \n",
       "district organisationunitid indic                                            \n",
       "ABIM     JO1cLIghdBv        105-AN01a. ANC 1st Visit for women     12   12   \n",
       "                            105-AN02. ANC 4th Visit for women       6    8   \n",
       "                            105-CH01. Vit A supplement (1st Dose)  96   28   \n",
       "                            105-CH02. Vit A supplement (2nd Dose)  56  106   \n",
       "                            105-MA01. Admissions                    5    7   \n",
       "\n",
       "type                                                                       \\\n",
       "year                                                                        \n",
       "month                                                             Nov Oct   \n",
       "district organisationunitid indic                                           \n",
       "ABIM     JO1cLIghdBv        105-AN01a. ANC 1st Visit for women     16  16   \n",
       "                            105-AN02. ANC 4th Visit for women      13   3   \n",
       "                            105-CH01. Vit A supplement (1st Dose)  13  20   \n",
       "                            105-CH02. Vit A supplement (2nd Dose)   4   1   \n",
       "                            105-MA01. Admissions                    9   9   \n",
       "\n",
       "type                                                                         \\\n",
       "year                                                                   2020   \n",
       "month                                                              Sep  Apr   \n",
       "district organisationunitid indic                                             \n",
       "ABIM     JO1cLIghdBv        105-AN01a. ANC 1st Visit for women      15   21   \n",
       "                            105-AN02. ANC 4th Visit for women        2    7   \n",
       "                            105-CH01. Vit A supplement (1st Dose)   33   19   \n",
       "                            105-CH02. Vit A supplement (2nd Dose)  216    4   \n",
       "                            105-MA01. Admissions                     5   11   \n",
       "\n",
       "type                                                                        \\\n",
       "year                                                                         \n",
       "month                                                             Feb  Jan   \n",
       "district organisationunitid indic                                            \n",
       "ABIM     JO1cLIghdBv        105-AN01a. ANC 1st Visit for women     12   11   \n",
       "                            105-AN02. ANC 4th Visit for women       4  NaN   \n",
       "                            105-CH01. Vit A supplement (1st Dose)  23   35   \n",
       "                            105-CH02. Vit A supplement (2nd Dose)  10   39   \n",
       "                            105-MA01. Admissions                    6    5   \n",
       "\n",
       "type                                                                         \n",
       "year                                                                         \n",
       "month                                                              Mar  May  \n",
       "district organisationunitid indic                                            \n",
       "ABIM     JO1cLIghdBv        105-AN01a. ANC 1st Visit for women      17  NaN  \n",
       "                            105-AN02. ANC 4th Visit for women        4  NaN  \n",
       "                            105-CH01. Vit A supplement (1st Dose)  106  311  \n",
       "                            105-CH02. Vit A supplement (2nd Dose)  100  187  \n",
       "                            105-MA01. Admissions                     6  NaN  "
      ]
     },
     "execution_count": 83,
     "metadata": {},
     "output_type": "execute_result"
    }
   ],
   "source": [
    "pivot_no_outliers_iqr.head()"
   ]
  },
  {
   "cell_type": "markdown",
   "metadata": {},
   "source": [
    "## Stack the outlier corrected data"
   ]
  },
  {
   "cell_type": "code",
   "execution_count": 84,
   "metadata": {},
   "outputs": [],
   "source": [
    "def pivot_stack(pivot):\n",
    "    stack = pivot.stack(level=[0,1,2],dropna=False).reset_index()\n",
    "    stack.rename(columns={0:'value'},inplace=True)\n",
    "    stack.drop('type',axis=1,inplace=True)\n",
    "    stack['value']=stack['value'].astype(dtype='float64')\n",
    "    return stack\n",
    "\n"
   ]
  },
  {
   "cell_type": "code",
   "execution_count": 85,
   "metadata": {},
   "outputs": [],
   "source": [
    "stack_t_noout=pivot_stack(pivot_no_outliers)\n",
    "stack_t_noout_iqr=pivot_stack(pivot_no_outliers_iqr)\n"
   ]
  },
  {
   "cell_type": "markdown",
   "metadata": {},
   "source": [
    "## Record which data points were changed"
   ]
  },
  {
   "cell_type": "code",
   "execution_count": 86,
   "metadata": {},
   "outputs": [],
   "source": [
    "stack_compare = pd.merge(stack_t,stack_t_noout,how='inner',\n",
    "                           left_on=['district', 'organisationunitid', 'year', 'indic', 'month'],\n",
    "                           right_on=['district', 'organisationunitid', 'year', 'indic', 'month']).rename(columns={'value_x':'value_out','value_y':'value_noout'})\n",
    "stack_compare.dropna(subset=['value_out','value_noout'],inplace=True)\n",
    "stack_compare['changed']=np.where((stack_compare['value_out'] != stack_compare['value_noout']),True,False)\n",
    "changed = stack_compare[stack_compare['changed']==True]"
   ]
  },
  {
   "cell_type": "code",
   "execution_count": 87,
   "metadata": {},
   "outputs": [],
   "source": [
    "stack_compare_iqr = pd.merge(stack_t,stack_t_noout_iqr,how='inner',\n",
    "                           left_on=['district', 'organisationunitid', 'year', 'indic', 'month'],\n",
    "                           right_on=['district', 'organisationunitid', 'year', 'indic', 'month']).rename(columns={'value_x':'value_out','value_y':'value_noout'})\n",
    "stack_compare_iqr.dropna(subset=['value_out','value_noout'],inplace=True)\n",
    "stack_compare_iqr['changed']=np.where((stack_compare_iqr['value_out'] != stack_compare_iqr['value_noout']),True,False)\n",
    "changed_iqr = stack_compare_iqr[stack_compare_iqr['changed']==True]"
   ]
  },
  {
   "cell_type": "code",
   "execution_count": 88,
   "metadata": {},
   "outputs": [
    {
     "data": {
      "text/html": [
       "<div>\n",
       "<style scoped>\n",
       "    .dataframe tbody tr th:only-of-type {\n",
       "        vertical-align: middle;\n",
       "    }\n",
       "\n",
       "    .dataframe tbody tr th {\n",
       "        vertical-align: top;\n",
       "    }\n",
       "\n",
       "    .dataframe thead th {\n",
       "        text-align: right;\n",
       "    }\n",
       "</style>\n",
       "<table border=\"1\" class=\"dataframe\">\n",
       "  <thead>\n",
       "    <tr style=\"text-align: right;\">\n",
       "      <th></th>\n",
       "      <th>district</th>\n",
       "      <th>organisationunitid</th>\n",
       "      <th>year</th>\n",
       "      <th>indic</th>\n",
       "      <th>month</th>\n",
       "      <th>value_out</th>\n",
       "      <th>value_noout</th>\n",
       "      <th>changed</th>\n",
       "    </tr>\n",
       "  </thead>\n",
       "  <tbody>\n",
       "    <tr>\n",
       "      <th>41</th>\n",
       "      <td>LUWERO</td>\n",
       "      <td>T4M9UgfqV5q</td>\n",
       "      <td>2019</td>\n",
       "      <td>EPI - BCG doses given</td>\n",
       "      <td>Jul</td>\n",
       "      <td>44.0</td>\n",
       "      <td>22.0</td>\n",
       "      <td>True</td>\n",
       "    </tr>\n",
       "    <tr>\n",
       "      <th>394</th>\n",
       "      <td>PADER</td>\n",
       "      <td>auzuV39xOTU</td>\n",
       "      <td>2018</td>\n",
       "      <td>EPI - BCG doses given</td>\n",
       "      <td>Oct</td>\n",
       "      <td>58.0</td>\n",
       "      <td>12.0</td>\n",
       "      <td>True</td>\n",
       "    </tr>\n",
       "    <tr>\n",
       "      <th>831</th>\n",
       "      <td>AMURIA</td>\n",
       "      <td>o7CJeTwDapk</td>\n",
       "      <td>2019</td>\n",
       "      <td>EPI - BCG doses given</td>\n",
       "      <td>Feb</td>\n",
       "      <td>20.0</td>\n",
       "      <td>4.0</td>\n",
       "      <td>True</td>\n",
       "    </tr>\n",
       "    <tr>\n",
       "      <th>928</th>\n",
       "      <td>MOYO</td>\n",
       "      <td>ZubUtSX9erU</td>\n",
       "      <td>2019</td>\n",
       "      <td>EPI - BCG doses given</td>\n",
       "      <td>Jan</td>\n",
       "      <td>6.0</td>\n",
       "      <td>2.0</td>\n",
       "      <td>True</td>\n",
       "    </tr>\n",
       "    <tr>\n",
       "      <th>1010</th>\n",
       "      <td>ABIM</td>\n",
       "      <td>ltIECAx2ppI</td>\n",
       "      <td>2018</td>\n",
       "      <td>EPI - BCG doses given</td>\n",
       "      <td>Dec</td>\n",
       "      <td>57.0</td>\n",
       "      <td>7.0</td>\n",
       "      <td>True</td>\n",
       "    </tr>\n",
       "    <tr>\n",
       "      <th>...</th>\n",
       "      <td>...</td>\n",
       "      <td>...</td>\n",
       "      <td>...</td>\n",
       "      <td>...</td>\n",
       "      <td>...</td>\n",
       "      <td>...</td>\n",
       "      <td>...</td>\n",
       "      <td>...</td>\n",
       "    </tr>\n",
       "    <tr>\n",
       "      <th>2343762</th>\n",
       "      <td>BUYENDE</td>\n",
       "      <td>DCjQKtUiiHH</td>\n",
       "      <td>2020</td>\n",
       "      <td>EPI - DPT-HepB-HIB 3 doses given</td>\n",
       "      <td>May</td>\n",
       "      <td>185.0</td>\n",
       "      <td>60.5</td>\n",
       "      <td>True</td>\n",
       "    </tr>\n",
       "    <tr>\n",
       "      <th>2343763</th>\n",
       "      <td>BUYENDE</td>\n",
       "      <td>DCjQKtUiiHH</td>\n",
       "      <td>2020</td>\n",
       "      <td>EPI - MR 1 doses given</td>\n",
       "      <td>May</td>\n",
       "      <td>176.0</td>\n",
       "      <td>52.0</td>\n",
       "      <td>True</td>\n",
       "    </tr>\n",
       "    <tr>\n",
       "      <th>2343764</th>\n",
       "      <td>BUYENDE</td>\n",
       "      <td>DCjQKtUiiHH</td>\n",
       "      <td>2020</td>\n",
       "      <td>EPI - PCV 1 doses_Under 1</td>\n",
       "      <td>May</td>\n",
       "      <td>214.0</td>\n",
       "      <td>61.5</td>\n",
       "      <td>True</td>\n",
       "    </tr>\n",
       "    <tr>\n",
       "      <th>2343765</th>\n",
       "      <td>BUYENDE</td>\n",
       "      <td>DCjQKtUiiHH</td>\n",
       "      <td>2020</td>\n",
       "      <td>EPI - PCV 3 doses_Under 1</td>\n",
       "      <td>May</td>\n",
       "      <td>177.0</td>\n",
       "      <td>54.0</td>\n",
       "      <td>True</td>\n",
       "    </tr>\n",
       "    <tr>\n",
       "      <th>2343839</th>\n",
       "      <td>KAMPALA</td>\n",
       "      <td>Irar0fFmohc</td>\n",
       "      <td>2020</td>\n",
       "      <td>EPI - PCV 1 doses_Under 1</td>\n",
       "      <td>May</td>\n",
       "      <td>14.0</td>\n",
       "      <td>6.0</td>\n",
       "      <td>True</td>\n",
       "    </tr>\n",
       "  </tbody>\n",
       "</table>\n",
       "<p>25327 rows × 8 columns</p>\n",
       "</div>"
      ],
      "text/plain": [
       "        district organisationunitid  year                             indic  \\\n",
       "41        LUWERO        T4M9UgfqV5q  2019             EPI - BCG doses given   \n",
       "394        PADER        auzuV39xOTU  2018             EPI - BCG doses given   \n",
       "831       AMURIA        o7CJeTwDapk  2019             EPI - BCG doses given   \n",
       "928         MOYO        ZubUtSX9erU  2019             EPI - BCG doses given   \n",
       "1010        ABIM        ltIECAx2ppI  2018             EPI - BCG doses given   \n",
       "...          ...                ...   ...                               ...   \n",
       "2343762  BUYENDE        DCjQKtUiiHH  2020  EPI - DPT-HepB-HIB 3 doses given   \n",
       "2343763  BUYENDE        DCjQKtUiiHH  2020            EPI - MR 1 doses given   \n",
       "2343764  BUYENDE        DCjQKtUiiHH  2020         EPI - PCV 1 doses_Under 1   \n",
       "2343765  BUYENDE        DCjQKtUiiHH  2020         EPI - PCV 3 doses_Under 1   \n",
       "2343839  KAMPALA        Irar0fFmohc  2020         EPI - PCV 1 doses_Under 1   \n",
       "\n",
       "        month  value_out  value_noout  changed  \n",
       "41        Jul       44.0         22.0     True  \n",
       "394       Oct       58.0         12.0     True  \n",
       "831       Feb       20.0          4.0     True  \n",
       "928       Jan        6.0          2.0     True  \n",
       "1010      Dec       57.0          7.0     True  \n",
       "...       ...        ...          ...      ...  \n",
       "2343762   May      185.0         60.5     True  \n",
       "2343763   May      176.0         52.0     True  \n",
       "2343764   May      214.0         61.5     True  \n",
       "2343765   May      177.0         54.0     True  \n",
       "2343839   May       14.0          6.0     True  \n",
       "\n",
       "[25327 rows x 8 columns]"
      ]
     },
     "execution_count": 88,
     "metadata": {},
     "output_type": "execute_result"
    }
   ],
   "source": [
    "changed_iqr"
   ]
  },
  {
   "cell_type": "code",
   "execution_count": 89,
   "metadata": {},
   "outputs": [],
   "source": [
    "changed.to_csv(output_path+'outliers_list.csv')\n",
    "changed_iqr.to_csv(output_path+'outliers_list_iqr.csv')"
   ]
  },
  {
   "cell_type": "markdown",
   "metadata": {},
   "source": [
    "# Export this to Tableau"
   ]
  },
  {
   "cell_type": "code",
   "execution_count": 90,
   "metadata": {},
   "outputs": [],
   "source": [
    "# to check any data point below:\n",
    "\n",
    "#stack_t[(stack_t['organisationunitid']=='JO1cLIghdBv') & \n",
    "        #(stack_t['year']=='2018') & \n",
    "        #(stack_t['indic']=='105-NA03e1. Identified malnourished clients(<10) this month - SAM With Oedema') & \n",
    "        #(stack_t['month']=='Apr')]['value'].notna()"
   ]
  },
  {
   "cell_type": "code",
   "execution_count": 98,
   "metadata": {},
   "outputs": [],
   "source": [
    "fac_stack_final = pd.merge(stack_t,stack_t_noout,how='inner',\n",
    "                           left_on=['district', 'organisationunitid', 'year', 'indic', 'month'],\n",
    "                           right_on=['district', 'organisationunitid', 'year', 'indic', 'month']).rename(columns={'value_x':'value_out','value_y':'value_noout'})\n",
    "\n",
    "fac_stack_final = pd.merge(fac_stack_final,stack_t_noout_iqr,how='inner',\n",
    "                           left_on=['district', 'organisationunitid', 'year', 'indic', 'month'],\n",
    "                           right_on=['district', 'organisationunitid', 'year', 'indic', 'month']).rename(columns={'value':'value_noout_iqr'})\n",
    "\n",
    "fac_stack_final['reported'] = fac_stack_final['value_out'].notna().astype('int')\n",
    "\n",
    "fac_pivot_final=fac_stack_final.pivot_table(index=['district','organisationunitid','year','month'], columns=['indic'])\n",
    "\n",
    "# The pivot creates new NaN values, that need to bereplaced by False for the 'reported' metric\n",
    "\n",
    "for i in list(fac_pivot_final.columns.levels[1]):\n",
    "    fac_pivot_final[('reported',i)].replace({np.nan:0},inplace=True)\n",
    "\n",
    "fac_pivot_final=fac_pivot_final.stack(level=[0])"
   ]
  },
  {
   "cell_type": "code",
   "execution_count": 100,
   "metadata": {},
   "outputs": [],
   "source": [
    "pivot_export=fac_pivot_final.copy()\n",
    "pivot_export.to_csv(output_path+'corrected_data_facility.csv')"
   ]
  },
  {
   "cell_type": "code",
   "execution_count": 101,
   "metadata": {},
   "outputs": [
    {
     "data": {
      "text/plain": [
       "(522053, 21)"
      ]
     },
     "execution_count": 101,
     "metadata": {},
     "output_type": "execute_result"
    }
   ],
   "source": [
    "pivot_export.shape"
   ]
  },
  {
   "cell_type": "code",
   "execution_count": null,
   "metadata": {},
   "outputs": [],
   "source": []
  }
 ],
 "metadata": {
  "kernelspec": {
   "display_name": "Python 3",
   "language": "python",
   "name": "python3"
  },
  "language_info": {
   "codemirror_mode": {
    "name": "ipython",
    "version": 3
   },
   "file_extension": ".py",
   "mimetype": "text/x-python",
   "name": "python",
   "nbconvert_exporter": "python",
   "pygments_lexer": "ipython3",
   "version": "3.8.3"
  }
 },
 "nbformat": 4,
 "nbformat_minor": 4
}
