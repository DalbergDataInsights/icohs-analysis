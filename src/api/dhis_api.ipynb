{
 "cells": [
  {
   "cell_type": "code",
   "execution_count": null,
   "metadata": {},
   "outputs": [],
   "source": [
    "import pandas as pd\n",
    "import requests\n",
    "from requests.auth import HTTPBasicAuth\n",
    "from pprint import pprint"
   ]
  },
  {
   "cell_type": "code",
   "execution_count": null,
   "metadata": {},
   "outputs": [],
   "source": [
    "username = 'm&e.unicef'\n",
    "password = 'Unicef@MoH_DHI9'"
   ]
  },
  {
   "cell_type": "code",
   "execution_count": null,
   "metadata": {},
   "outputs": [],
   "source": [
    "CONFIG =  {\n",
    "    'api_entrypoint': 'https://hmis.health.go.ug/api/'\n",
    "}"
   ]
  },
  {
   "cell_type": "code",
   "execution_count": null,
   "metadata": {},
   "outputs": [],
   "source": [
    "def get_dhis_index_table(auth, page_size=70000, table='dataElements'):\n",
    "    ENTRY = CONFIG.get('api_entrypoint')\n",
    "    response = requests.get(ENTRY + f'{table}?pageSize={page_size}', auth=auth)\n",
    "    df = pd.DataFrame(response.json().get(table))\n",
    "    return df"
   ]
  },
  {
   "cell_type": "code",
   "execution_count": null,
   "metadata": {},
   "outputs": [],
   "source": [
    "def set_name_from_index(df, column_name, index_table=None, fetch_index=False, auth=None):\n",
    "    if fetch_index:\n",
    "        assert auth is not None, 'Cannot retrieve the index tables without authentication object'\n",
    "        index_table = get_dhis_index_table(auth, page_size=10000, table=column_name+'s')\n",
    "    else:\n",
    "        assert index_table is not None, 'Set fetch index or pass index table'\n",
    "    if column_name == 'organisationUnit':\n",
    "        column_name = 'orgUnit'\n",
    "        index_table.rename(columns={'organisationUnit': 'orgUnit'})\n",
    "    df[column_name] = df[column_name].apply(lambda x: index_table[index_table['id'].str.contains(x)]['displayName'].values[0])\n",
    "    return df"
   ]
  },
  {
   "cell_type": "code",
   "execution_count": null,
   "metadata": {},
   "outputs": [],
   "source": [
    "auth = HTTPBasicAuth(username, password)"
   ]
  },
  {
   "cell_type": "code",
   "execution_count": null,
   "metadata": {},
   "outputs": [],
   "source": [
    "df = pd.DataFrame(requests.get('https://hmis.health.go.ug/api/dataValueSets?dataSet=IAtaRO1bTAO&orgUnit=j4zrX8QSkrA&period=2019', auth=auth).json().get('dataValues'))"
   ]
  },
  {
   "cell_type": "code",
   "execution_count": null,
   "metadata": {},
   "outputs": [],
   "source": [
    "df.head()"
   ]
  },
  {
   "cell_type": "code",
   "execution_count": null,
   "metadata": {},
   "outputs": [],
   "source": [
    "org_unit_index = get_dhis_index_table(auth, page_size=10000, table='organisationUnits')"
   ]
  },
  {
   "cell_type": "code",
   "execution_count": null,
   "metadata": {},
   "outputs": [],
   "source": [
    "data_elements = pd.DataFrame(requests.get('https://hmis.health.go.ug/api/dataElements?pageSize=10000', auth=auth).json().get('dataElements'))"
   ]
  },
  {
   "cell_type": "code",
   "execution_count": null,
   "metadata": {},
   "outputs": [],
   "source": [
    "data_elements.head()"
   ]
  },
  {
   "cell_type": "code",
   "execution_count": null,
   "metadata": {},
   "outputs": [],
   "source": [
    "data_elements[data_elements['displayName'].str.contains('105-AN01a')].values[-1]"
   ]
  },
  {
   "cell_type": "code",
   "execution_count": null,
   "metadata": {},
   "outputs": [],
   "source": [
    "data_sets = [x.get('dataSet').get('id') for x in requests.get('https://hmis.health.go.ug/api/dataElements/Q9nSogNmKPt?fields=dataSetElements', auth=auth).json().get('dataSetElements')]"
   ]
  },
  {
   "cell_type": "code",
   "execution_count": null,
   "metadata": {},
   "outputs": [],
   "source": [
    "data_sets"
   ]
  },
  {
   "cell_type": "code",
   "execution_count": null,
   "metadata": {},
   "outputs": [],
   "source": [
    "x = data_sets[0]"
   ]
  },
  {
   "cell_type": "code",
   "execution_count": null,
   "metadata": {},
   "outputs": [],
   "source": [
    "data_set = requests.get(f'https://hmis.health.go.ug/api/dataSets/{x}', auth=auth).json()"
   ]
  },
  {
   "cell_type": "code",
   "execution_count": null,
   "metadata": {},
   "outputs": [],
   "source": [
    "pprint(data_set)"
   ]
  },
  {
   "cell_type": "code",
   "execution_count": null,
   "metadata": {},
   "outputs": [],
   "source": [
    "org_units  = [x.get('id') for x in requests.get(f'https://hmis.health.go.ug/api/dataSets/{x}', auth=auth).json().get('organisationUnits')]"
   ]
  },
  {
   "cell_type": "code",
   "execution_count": null,
   "metadata": {},
   "outputs": [],
   "source": [
    "x"
   ]
  },
  {
   "cell_type": "code",
   "execution_count": null,
   "metadata": {},
   "outputs": [],
   "source": [
    "org_units_string = '&orgUnit='.join(org_units[50:100])"
   ]
  },
  {
   "cell_type": "code",
   "execution_count": null,
   "metadata": {},
   "outputs": [],
   "source": [
    "org_units_string"
   ]
  },
  {
   "cell_type": "code",
   "execution_count": null,
   "metadata": {},
   "outputs": [],
   "source": [
    "df = pd.DataFrame(requests.get(f'https://hmis.health.go.ug/api/dataValueSets?dataSet={x}&{org_units_string}&lastUpdatedDuration=100d&dataElementGroup=W1NQYn9zeT0&dataElementGroup=vPvLSIPrfnb', auth=auth).json().get('dataValues'))"
   ]
  },
  {
   "cell_type": "code",
   "execution_count": null,
   "metadata": {},
   "outputs": [],
   "source": [
    "df.head()"
   ]
  },
  {
   "cell_type": "code",
   "execution_count": null,
   "metadata": {},
   "outputs": [],
   "source": [
    "set_name_from_index(df, 'dataElement', auth=auth, fetch_index=True)"
   ]
  },
  {
   "cell_type": "code",
   "execution_count": null,
   "metadata": {},
   "outputs": [],
   "source": [
    "set_name_from_index(df, 'orgUnit', index_table=org_unit_index)"
   ]
  },
  {
   "cell_type": "code",
   "execution_count": null,
   "metadata": {},
   "outputs": [],
   "source": []
  }
 ],
 "metadata": {
  "kernelspec": {
   "display_name": "Python 3",
   "language": "python",
   "name": "python3"
  },
  "language_info": {
   "codemirror_mode": {
    "name": "ipython",
    "version": 3
   },
   "file_extension": ".py",
   "mimetype": "text/x-python",
   "name": "python",
   "nbconvert_exporter": "python",
   "pygments_lexer": "ipython3",
   "version": "3.7.6"
  }
 },
 "nbformat": 4,
 "nbformat_minor": 4
}
