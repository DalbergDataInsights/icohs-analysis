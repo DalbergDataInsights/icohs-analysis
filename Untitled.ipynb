{
 "cells": [
  {
   "cell_type": "code",
   "execution_count": 1,
   "metadata": {},
   "outputs": [],
   "source": [
    "import pandas as pd\n",
    "import numpy as np"
   ]
  },
  {
   "cell_type": "markdown",
   "metadata": {},
   "source": [
    "# Look at pop data"
   ]
  },
  {
   "cell_type": "code",
   "execution_count": 2,
   "metadata": {},
   "outputs": [
    {
     "data": {
      "text/html": [
       "<div>\n",
       "<style scoped>\n",
       "    .dataframe tbody tr th:only-of-type {\n",
       "        vertical-align: middle;\n",
       "    }\n",
       "\n",
       "    .dataframe tbody tr th {\n",
       "        vertical-align: top;\n",
       "    }\n",
       "\n",
       "    .dataframe thead th {\n",
       "        text-align: right;\n",
       "    }\n",
       "</style>\n",
       "<table border=\"1\" class=\"dataframe\">\n",
       "  <thead>\n",
       "    <tr style=\"text-align: right;\">\n",
       "      <th></th>\n",
       "      <th>District</th>\n",
       "      <th>Year</th>\n",
       "      <th>Male</th>\n",
       "      <th>Female</th>\n",
       "      <th>Total</th>\n",
       "      <th>age</th>\n",
       "    </tr>\n",
       "  </thead>\n",
       "  <tbody>\n",
       "    <tr>\n",
       "      <th>0</th>\n",
       "      <td>ABIM</td>\n",
       "      <td>2015</td>\n",
       "      <td>1950</td>\n",
       "      <td>2030</td>\n",
       "      <td>3980</td>\n",
       "      <td>0</td>\n",
       "    </tr>\n",
       "    <tr>\n",
       "      <th>1</th>\n",
       "      <td>ABIM</td>\n",
       "      <td>2016</td>\n",
       "      <td>2050</td>\n",
       "      <td>2130</td>\n",
       "      <td>4180</td>\n",
       "      <td>0</td>\n",
       "    </tr>\n",
       "    <tr>\n",
       "      <th>2</th>\n",
       "      <td>ABIM</td>\n",
       "      <td>2017</td>\n",
       "      <td>2150</td>\n",
       "      <td>2240</td>\n",
       "      <td>4390</td>\n",
       "      <td>0</td>\n",
       "    </tr>\n",
       "    <tr>\n",
       "      <th>3</th>\n",
       "      <td>ABIM</td>\n",
       "      <td>2018</td>\n",
       "      <td>2260</td>\n",
       "      <td>2350</td>\n",
       "      <td>4610</td>\n",
       "      <td>0</td>\n",
       "    </tr>\n",
       "    <tr>\n",
       "      <th>4</th>\n",
       "      <td>ABIM</td>\n",
       "      <td>2019</td>\n",
       "      <td>2370</td>\n",
       "      <td>2460</td>\n",
       "      <td>4830</td>\n",
       "      <td>0</td>\n",
       "    </tr>\n",
       "    <tr>\n",
       "      <th>...</th>\n",
       "      <td>...</td>\n",
       "      <td>...</td>\n",
       "      <td>...</td>\n",
       "      <td>...</td>\n",
       "      <td>...</td>\n",
       "      <td>...</td>\n",
       "    </tr>\n",
       "    <tr>\n",
       "      <th>120280</th>\n",
       "      <td>ZOMBO</td>\n",
       "      <td>2021</td>\n",
       "      <td>4770</td>\n",
       "      <td>4340</td>\n",
       "      <td>9110</td>\n",
       "      <td>9</td>\n",
       "    </tr>\n",
       "    <tr>\n",
       "      <th>120281</th>\n",
       "      <td>ZOMBO</td>\n",
       "      <td>2022</td>\n",
       "      <td>4910</td>\n",
       "      <td>4460</td>\n",
       "      <td>9370</td>\n",
       "      <td>9</td>\n",
       "    </tr>\n",
       "    <tr>\n",
       "      <th>120282</th>\n",
       "      <td>ZOMBO</td>\n",
       "      <td>2023</td>\n",
       "      <td>5040</td>\n",
       "      <td>4560</td>\n",
       "      <td>9600</td>\n",
       "      <td>9</td>\n",
       "    </tr>\n",
       "    <tr>\n",
       "      <th>120283</th>\n",
       "      <td>ZOMBO</td>\n",
       "      <td>2024</td>\n",
       "      <td>5180</td>\n",
       "      <td>4670</td>\n",
       "      <td>9850</td>\n",
       "      <td>9</td>\n",
       "    </tr>\n",
       "    <tr>\n",
       "      <th>120284</th>\n",
       "      <td>ZOMBO</td>\n",
       "      <td>2025</td>\n",
       "      <td>5310</td>\n",
       "      <td>4780</td>\n",
       "      <td>10090</td>\n",
       "      <td>9</td>\n",
       "    </tr>\n",
       "  </tbody>\n",
       "</table>\n",
       "<p>120285 rows × 6 columns</p>\n",
       "</div>"
      ],
      "text/plain": [
       "       District  Year  Male  Female  Total age\n",
       "0          ABIM  2015  1950    2030   3980   0\n",
       "1          ABIM  2016  2050    2130   4180   0\n",
       "2          ABIM  2017  2150    2240   4390   0\n",
       "3          ABIM  2018  2260    2350   4610   0\n",
       "4          ABIM  2019  2370    2460   4830   0\n",
       "...         ...   ...   ...     ...    ...  ..\n",
       "120280    ZOMBO  2021  4770    4340   9110   9\n",
       "120281    ZOMBO  2022  4910    4460   9370   9\n",
       "120282    ZOMBO  2023  5040    4560   9600   9\n",
       "120283    ZOMBO  2024  5180    4670   9850   9\n",
       "120284    ZOMBO  2025  5310    4780  10090   9\n",
       "\n",
       "[120285 rows x 6 columns]"
      ]
     },
     "execution_count": 2,
     "metadata": {},
     "output_type": "execute_result"
    }
   ],
   "source": [
    "path = 'data/input/static/demographics/UBOS_pop_proj_2015-25.csv'\n",
    "\n",
    "df = pd.read_csv(path)\n",
    "df[['age','del']]=df['Single Years'].str.split(\" \", expand=True)\n",
    "df.drop(columns=['Single Years','del','FY','Year2'],inplace=True)\n",
    "df"
   ]
  },
  {
   "cell_type": "markdown",
   "metadata": {},
   "source": [
    "# Test data for John Kissa"
   ]
  },
  {
   "cell_type": "code",
   "execution_count": null,
   "metadata": {},
   "outputs": [],
   "source": [
    "pd.DataFrame(data=columns.values(), index=columns.keys()\n",
    "             ).to_csv('./data/columns.csv', index=True)"
   ]
  },
  {
   "cell_type": "code",
   "execution_count": 6,
   "metadata": {},
   "outputs": [],
   "source": [
    "\n",
    "df_data = pd.read_csv('data/output/outlier_data.csv')\n",
    "\n",
    "df_district = pd.read_csv('data/input/static/facility_districts.csv')"
   ]
  },
  {
   "cell_type": "code",
   "execution_count": 7,
   "metadata": {},
   "outputs": [],
   "source": [
    "df=pd.merge(df_data,df_district,how='left',left_on='orgUnit',right_on='id')"
   ]
  },
  {
   "cell_type": "code",
   "execution_count": 10,
   "metadata": {},
   "outputs": [],
   "source": [
    "df=df[['district',\n",
    "       'name','orgUnit', 'year', 'month', '1st_anc_visits', '4th_anc_visits',\n",
    "       'actual_105_1_reporting', 'anc_initiated_hiv', 'anc_tested_hiv',\n",
    "       'anc_tested_hiv_positive', 'bcg', 'births', 'births_fresh_stillbirth',\n",
    "       'births_live', 'births_macerated_stillbirth', 'dpt1', 'dpt3',\n",
    "       'expected_105_1_reporting', 'hiv_positive_linked', 'hpv1', 'hpv2',\n",
    "       'ipd_attendance', 'low_weight_births', 'malaria_cases',\n",
    "       'malaria_cases_treated', 'malaria_deaths', 'malaria_tests',\n",
    "       'mam_identified', 'mat_initiated_hiv', 'mat_tested_hiv',\n",
    "       'mat_tested_hiv_positive', 'maternity_admissions', 'mr1',\n",
    "       'newborn_deaths', 'opd_attendance', 'pcv1', 'pcv3', 'pnc_initiated_hiv',\n",
    "       'pnc_tested_hiv', 'pnc_tested_hiv_positive', 'postnatal_visits',\n",
    "       'sam_identified', 'tb_cases_registered', 'td1', 'td2', 'td3', 'td4_5',\n",
    "       'tested_hiv', 'tested_hiv_positive', 'vitamin_a']]"
   ]
  },
  {
   "cell_type": "code",
   "execution_count": 13,
   "metadata": {},
   "outputs": [],
   "source": [
    "target_districts=['AMUDAT','KAMPALA','TORORO', 'KUMI', 'WAKISO', 'PADER', 'NAPAK', 'ARUA', 'BUKEDEA']"
   ]
  },
  {
   "cell_type": "code",
   "execution_count": 14,
   "metadata": {},
   "outputs": [],
   "source": [
    "df_t=df[df.district.isin(target_districts)]"
   ]
  },
  {
   "cell_type": "code",
   "execution_count": 16,
   "metadata": {},
   "outputs": [],
   "source": [
    "df_t.to_csv('test_outlier_data.csv')"
   ]
  },
  {
   "cell_type": "markdown",
   "metadata": {},
   "source": [
    "# Look at 'defualt column'"
   ]
  },
  {
   "cell_type": "code",
   "execution_count": 4,
   "metadata": {},
   "outputs": [],
   "source": [
    "USECOLS = list(range(0, 9))\n",
    "\n",
    "DTYPES = {'Unnamed: 0': int,\n",
    "          'dataElement': str,\n",
    "          'period': str,\n",
    "          'orgUnit': str,\n",
    "          'categoryOptionCombo': str,\n",
    "          'attributeOptionCombo': str,\n",
    "          'value': object,\n",
    "          'storedBy': str,\n",
    "          'created': str,\n",
    "          'lastUpdated': str}"
   ]
  },
  {
   "cell_type": "code",
   "execution_count": 7,
   "metadata": {},
   "outputs": [],
   "source": [
    "new = pd.read_csv('data/input/dhis2/processed/new_main_2020_Jul.csv',usecols=USECOLS,dtype=DTYPES)"
   ]
  },
  {
   "cell_type": "code",
   "execution_count": 8,
   "metadata": {},
   "outputs": [],
   "source": [
    "old = pd.read_csv('data/input/dhis2/processed/old_main_2019_Jul.csv',usecols=USECOLS,dtype=DTYPES) "
   ]
  },
  {
   "cell_type": "code",
   "execution_count": null,
   "metadata": {},
   "outputs": [],
   "source": [
    "config = pd.read_csv('config/variable_correspondance.csv') "
   ]
  },
  {
   "cell_type": "code",
   "execution_count": 21,
   "metadata": {},
   "outputs": [],
   "source": [
    "def get_breakdown(indics):\n",
    "    print(old[old.dataElement==indics[0]]['categoryOptionCombo'].unique())\n",
    "    print(new[new.dataElement==indics[1]]['categoryOptionCombo'].unique())"
   ]
  },
  {
   "cell_type": "code",
   "execution_count": 24,
   "metadata": {},
   "outputs": [
    {
     "name": "stdout",
     "output_type": "stream",
     "text": [
      "['Under 1, Static, Male' 'Under 1, Static, Female'\n",
      " 'Under 1, Outreach, Male' 'Under 1, Outreach, Female'\n",
      " '1-4 Yrs, Static, Male' '1-4 Yrs, Outreach, Male'\n",
      " '1-4 Yrs, Outreach, Female' '1-4 Yrs, Static, Female']\n",
      "['<1Yr, Static' '<1Yr, Outreach' '1-4Yrs, Outreach' '1-4Yrs, Static'\n",
      " '5-14Yrs, Static' '5-14Yrs, Outreach']\n",
      "['Under 1, Static, Male' 'Under 1, Static, Female'\n",
      " 'Under 1, Outreach, Female' 'Under 1, Outreach, Male'\n",
      " '1-4 Yrs, Static, Male' '1-4 Yrs, Static, Female'\n",
      " '1-4 Yrs, Outreach, Male' '1-4 Yrs, Outreach, Female']\n",
      "['1-4Yrs, Static' '<1Yr, Outreach' '<1Yr, Static' '1-4Yrs, Outreach'\n",
      " '5-14Yrs, Static' '5-14Yrs, Outreach']\n",
      "['Pregnant Women, Static' 'Non Pregnant Women, Static'\n",
      " 'Pregnant Women, Outreach' 'Non Pregnant Women, Outreach'\n",
      " 'Immunization in School, Outreach']\n",
      "['Pregnant Women, Static' 'Pregnant Women, Outreach'\n",
      " 'Non-Pregnant Women, School' 'Non-Pregnant Women, Outreach'\n",
      " 'Non-Pregnant Women, Static']\n",
      "['19-<49 Years, Male' '>49 Years, Male' '>49 Years, Female'\n",
      " '15-<19 Years, Female' '19-<49 Years, Female' '15-<19 Years, Male'\n",
      " '5-<10 Years, Female' '10-<15 Years, Male' '18 Mths-<5 Years, Male'\n",
      " '5-<10 Years, Male' '18 Mths-<5 Years, Female' '10-<15 Years, Female']\n",
      "['40-44Yrs, Female' '35-39Yrs, Male' '30-34Yrs, Female' '30-34Yrs, Male'\n",
      " '25-29Yrs, Male' '15-19Yrs, Male' '25-29Yrs, Female' '35-39Yrs, Female'\n",
      " '15-19Yrs, Female' '20-24Yrs, Female' '50+Yrs, Male' '45-49Yrs, Male'\n",
      " '20-24Yrs, Male' '40-44Yrs, Male' '45-49Yrs, Female' '50+Yrs, Female']\n",
      "['default']\n",
      "['default']\n"
     ]
    }
   ],
   "source": [
    "indics=[['105-2.11 Measles','105-CL16. Measles (MR1)'],\n",
    "        ['105-2.11 DPT-HepB+Hib 3','105-CL10. DPT-HepB+Hib 3'],\n",
    "        ['105-2.9 Tetanus Immunization Dose 1','105-TD01. Td1-Dose 1'],\n",
    "        ['105-4 Number of clients who have been linked to care','105-HT03a3. Total Linked to HIV Care'],\n",
    "        ['Malaria Cases - WEP','033B-CD01a. Malaria (diagnosed)  - Cases']]\n",
    "\n",
    "for x in indics:\n",
    "    get_breakdown(x)"
   ]
  },
  {
   "cell_type": "code",
   "execution_count": 71,
   "metadata": {},
   "outputs": [
    {
     "name": "stdout",
     "output_type": "stream",
     "text": [
      "['1-4Yrs, Outreach' '1-4Yrs, Static' '5-14Yrs, Outreach' '5-14Yrs, Static'\n",
      " '<1Yr, Outreach' '<1Yr, Static']\n"
     ]
    }
   ],
   "source": [
    "a=np.sort(new[new.dataElement=='105-CL16. Measles (MR1)']['categoryOptionCombo'].unique())\n",
    "print(a)"
   ]
  },
  {
   "cell_type": "code",
   "execution_count": 72,
   "metadata": {},
   "outputs": [],
   "source": [
    "def get_breakdown(config, old, new):\n",
    "    \n",
    "    config_new=list(config[config['instance']=='new']['name'])\n",
    "    config_old=list(config[config['instance']=='old']['name'])\n",
    "    \n",
    "    new_out= pd.DataFrame(columns=['breakdown'])\n",
    "    for x in config_new:\n",
    "        new_out.loc[x,'breakdown'] = np.sort(new[new.dataElement==x]['categoryOptionCombo'].unique())\n",
    "    \n",
    "    old_out= pd.DataFrame(columns=['breakdown'])\n",
    "    for x in config_old:\n",
    "        old_out.loc[x,'breakdown'] = np.sort(old[old.dataElement==x]['categoryOptionCombo'].unique())\n",
    "    \n",
    "    new_out['instance']='new'    \n",
    "    old_out['instance']='old'     \n",
    "   \n",
    "    out= pd.concat([old_out,new_out])\n",
    "                                 \n",
    "    return out"
   ]
  },
  {
   "cell_type": "code",
   "execution_count": 73,
   "metadata": {},
   "outputs": [],
   "source": [
    "breakdown = get_breakdown(config=config, old=old, new=new).reset_index(inplace=True)"
   ]
  },
  {
   "cell_type": "code",
   "execution_count": 74,
   "metadata": {},
   "outputs": [],
   "source": [
    "breakdown"
   ]
  },
  {
   "cell_type": "code",
   "execution_count": 59,
   "metadata": {},
   "outputs": [
    {
     "data": {
      "text/html": [
       "<div>\n",
       "<style scoped>\n",
       "    .dataframe tbody tr th:only-of-type {\n",
       "        vertical-align: middle;\n",
       "    }\n",
       "\n",
       "    .dataframe tbody tr th {\n",
       "        vertical-align: top;\n",
       "    }\n",
       "\n",
       "    .dataframe thead th {\n",
       "        text-align: right;\n",
       "    }\n",
       "</style>\n",
       "<table border=\"1\" class=\"dataframe\">\n",
       "  <thead>\n",
       "    <tr style=\"text-align: right;\">\n",
       "      <th></th>\n",
       "      <th>name</th>\n",
       "      <th>instance</th>\n",
       "      <th>domain</th>\n",
       "      <th>identifier</th>\n",
       "      <th>display_name</th>\n",
       "      <th>type</th>\n",
       "      <th>index</th>\n",
       "      <th>breakdown</th>\n",
       "    </tr>\n",
       "  </thead>\n",
       "  <tbody>\n",
       "    <tr>\n",
       "      <th>0</th>\n",
       "      <td>105-CL01. BCG</td>\n",
       "      <td>new</td>\n",
       "      <td>EPI</td>\n",
       "      <td>bcg</td>\n",
       "      <td>BCG vaccines administered</td>\n",
       "      <td>float</td>\n",
       "      <td>105-CL01. BCG</td>\n",
       "      <td>[&lt;1Yr, Static, &lt;1Yr, Outreach, 1-4Yrs, Static,...</td>\n",
       "    </tr>\n",
       "    <tr>\n",
       "      <th>1</th>\n",
       "      <td>105-2.11 BCG</td>\n",
       "      <td>old</td>\n",
       "      <td>EPI</td>\n",
       "      <td>bcg</td>\n",
       "      <td>BCG vaccines administered</td>\n",
       "      <td>float</td>\n",
       "      <td>105-2.11 BCG</td>\n",
       "      <td>[Under 1, Static, Male, Under 1, Static, Femal...</td>\n",
       "    </tr>\n",
       "    <tr>\n",
       "      <th>2</th>\n",
       "      <td>105-CL08. DPT-HepB+Hib 1</td>\n",
       "      <td>new</td>\n",
       "      <td>EPI</td>\n",
       "      <td>dpt1</td>\n",
       "      <td>DPT1 vaccines administered</td>\n",
       "      <td>float</td>\n",
       "      <td>105-CL08. DPT-HepB+Hib 1</td>\n",
       "      <td>[1-4Yrs, Static, &lt;1Yr, Outreach, 1-4Yrs, Outre...</td>\n",
       "    </tr>\n",
       "    <tr>\n",
       "      <th>3</th>\n",
       "      <td>105-2.11 DPT-HepB+Hib 1</td>\n",
       "      <td>old</td>\n",
       "      <td>EPI</td>\n",
       "      <td>dpt1</td>\n",
       "      <td>DPT1 vaccines administered</td>\n",
       "      <td>float</td>\n",
       "      <td>105-2.11 DPT-HepB+Hib 1</td>\n",
       "      <td>[Under 1, Static, Male, Under 1, Static, Femal...</td>\n",
       "    </tr>\n",
       "    <tr>\n",
       "      <th>4</th>\n",
       "      <td>105-CL10. DPT-HepB+Hib 3</td>\n",
       "      <td>new</td>\n",
       "      <td>EPI</td>\n",
       "      <td>dpt3</td>\n",
       "      <td>DPT3 vaccines administered</td>\n",
       "      <td>float</td>\n",
       "      <td>105-CL10. DPT-HepB+Hib 3</td>\n",
       "      <td>[1-4Yrs, Static, &lt;1Yr, Outreach, &lt;1Yr, Static,...</td>\n",
       "    </tr>\n",
       "    <tr>\n",
       "      <th>...</th>\n",
       "      <td>...</td>\n",
       "      <td>...</td>\n",
       "      <td>...</td>\n",
       "      <td>...</td>\n",
       "      <td>...</td>\n",
       "      <td>...</td>\n",
       "      <td>...</td>\n",
       "      <td>...</td>\n",
       "    </tr>\n",
       "    <tr>\n",
       "      <th>111</th>\n",
       "      <td>HMIS 105:1 Actual reports</td>\n",
       "      <td>old</td>\n",
       "      <td>REPORT</td>\n",
       "      <td>actual_105_1_reporting</td>\n",
       "      <td>facilities actually reporting on their 105:1 form</td>\n",
       "      <td>float</td>\n",
       "      <td>HMIS 105:1 Actual reports</td>\n",
       "      <td>[]</td>\n",
       "    </tr>\n",
       "    <tr>\n",
       "      <th>112</th>\n",
       "      <td>105-TP04. Total New and relapse TB cases regis...</td>\n",
       "      <td>new</td>\n",
       "      <td>TB</td>\n",
       "      <td>tb_cases_registered</td>\n",
       "      <td>TB cases registered in treatment unit</td>\n",
       "      <td>float</td>\n",
       "      <td>105-TP04. Total New and relapse TB cases regis...</td>\n",
       "      <td>[10-14Yrs, Male, 15-19Yrs, Male, 15-19Yrs, Fem...</td>\n",
       "    </tr>\n",
       "    <tr>\n",
       "      <th>113</th>\n",
       "      <td>105-1.3 OPD New TB cases (Bacteriologically co...</td>\n",
       "      <td>old</td>\n",
       "      <td>TB</td>\n",
       "      <td>tb_cases_registered</td>\n",
       "      <td>TB cases registered in treatment unit</td>\n",
       "      <td>float</td>\n",
       "      <td>105-1.3 OPD New TB cases (Bacteriologically co...</td>\n",
       "      <td>[29 Days-4 Years, Male, 5-59 Years, Male, 60an...</td>\n",
       "    </tr>\n",
       "    <tr>\n",
       "      <th>114</th>\n",
       "      <td>105-1.3 OPD New TB cases (Clinically Diagnosed)</td>\n",
       "      <td>old</td>\n",
       "      <td>TB</td>\n",
       "      <td>tb_cases_registered</td>\n",
       "      <td>TB cases registered in treatment unit</td>\n",
       "      <td>float</td>\n",
       "      <td>105-1.3 OPD New TB cases (Clinically Diagnosed)</td>\n",
       "      <td>[29 Days-4 Years, Female, 5-59 Years, Male, 5-...</td>\n",
       "    </tr>\n",
       "    <tr>\n",
       "      <th>115</th>\n",
       "      <td>105-1.3 OPD New TB cases (EPTB)</td>\n",
       "      <td>old</td>\n",
       "      <td>TB</td>\n",
       "      <td>tb_cases_registered</td>\n",
       "      <td>TB cases registered in treatment unit</td>\n",
       "      <td>float</td>\n",
       "      <td>105-1.3 OPD New TB cases (EPTB)</td>\n",
       "      <td>[5-59 Years, Female, 5-59 Years, Male, 29 Days...</td>\n",
       "    </tr>\n",
       "  </tbody>\n",
       "</table>\n",
       "<p>116 rows × 8 columns</p>\n",
       "</div>"
      ],
      "text/plain": [
       "                                                  name instance  domain  \\\n",
       "0                                        105-CL01. BCG      new     EPI   \n",
       "1                                         105-2.11 BCG      old     EPI   \n",
       "2                             105-CL08. DPT-HepB+Hib 1      new     EPI   \n",
       "3                              105-2.11 DPT-HepB+Hib 1      old     EPI   \n",
       "4                             105-CL10. DPT-HepB+Hib 3      new     EPI   \n",
       "..                                                 ...      ...     ...   \n",
       "111                          HMIS 105:1 Actual reports      old  REPORT   \n",
       "112  105-TP04. Total New and relapse TB cases regis...      new      TB   \n",
       "113  105-1.3 OPD New TB cases (Bacteriologically co...      old      TB   \n",
       "114    105-1.3 OPD New TB cases (Clinically Diagnosed)      old      TB   \n",
       "115                    105-1.3 OPD New TB cases (EPTB)      old      TB   \n",
       "\n",
       "                 identifier  \\\n",
       "0                       bcg   \n",
       "1                       bcg   \n",
       "2                      dpt1   \n",
       "3                      dpt1   \n",
       "4                      dpt3   \n",
       "..                      ...   \n",
       "111  actual_105_1_reporting   \n",
       "112     tb_cases_registered   \n",
       "113     tb_cases_registered   \n",
       "114     tb_cases_registered   \n",
       "115     tb_cases_registered   \n",
       "\n",
       "                                          display_name   type  \\\n",
       "0                            BCG vaccines administered  float   \n",
       "1                            BCG vaccines administered  float   \n",
       "2                           DPT1 vaccines administered  float   \n",
       "3                           DPT1 vaccines administered  float   \n",
       "4                           DPT3 vaccines administered  float   \n",
       "..                                                 ...    ...   \n",
       "111  facilities actually reporting on their 105:1 form  float   \n",
       "112              TB cases registered in treatment unit  float   \n",
       "113              TB cases registered in treatment unit  float   \n",
       "114              TB cases registered in treatment unit  float   \n",
       "115              TB cases registered in treatment unit  float   \n",
       "\n",
       "                                                 index  \\\n",
       "0                                        105-CL01. BCG   \n",
       "1                                         105-2.11 BCG   \n",
       "2                             105-CL08. DPT-HepB+Hib 1   \n",
       "3                              105-2.11 DPT-HepB+Hib 1   \n",
       "4                             105-CL10. DPT-HepB+Hib 3   \n",
       "..                                                 ...   \n",
       "111                          HMIS 105:1 Actual reports   \n",
       "112  105-TP04. Total New and relapse TB cases regis...   \n",
       "113  105-1.3 OPD New TB cases (Bacteriologically co...   \n",
       "114    105-1.3 OPD New TB cases (Clinically Diagnosed)   \n",
       "115                    105-1.3 OPD New TB cases (EPTB)   \n",
       "\n",
       "                                             breakdown  \n",
       "0    [<1Yr, Static, <1Yr, Outreach, 1-4Yrs, Static,...  \n",
       "1    [Under 1, Static, Male, Under 1, Static, Femal...  \n",
       "2    [1-4Yrs, Static, <1Yr, Outreach, 1-4Yrs, Outre...  \n",
       "3    [Under 1, Static, Male, Under 1, Static, Femal...  \n",
       "4    [1-4Yrs, Static, <1Yr, Outreach, <1Yr, Static,...  \n",
       "..                                                 ...  \n",
       "111                                                 []  \n",
       "112  [10-14Yrs, Male, 15-19Yrs, Male, 15-19Yrs, Fem...  \n",
       "113  [29 Days-4 Years, Male, 5-59 Years, Male, 60an...  \n",
       "114  [29 Days-4 Years, Female, 5-59 Years, Male, 5-...  \n",
       "115  [5-59 Years, Female, 5-59 Years, Male, 29 Days...  \n",
       "\n",
       "[116 rows x 8 columns]"
      ]
     },
     "execution_count": 59,
     "metadata": {},
     "output_type": "execute_result"
    }
   ],
   "source": [
    "config2"
   ]
  },
  {
   "cell_type": "code",
   "execution_count": 75,
   "metadata": {},
   "outputs": [],
   "source": [
    "config2 = pd.merge(config, breakdown, 'left',right_on=['index','instance'],left_on=['name','instance'])"
   ]
  },
  {
   "cell_type": "code",
   "execution_count": 76,
   "metadata": {},
   "outputs": [],
   "source": [
    "config2.to_csv('config/data_breakdown.csv')"
   ]
  },
  {
   "source": [
    "# Get sample data for Jessica"
   ],
   "cell_type": "markdown",
   "metadata": {}
  },
  {
   "cell_type": "code",
   "execution_count": 50,
   "metadata": {},
   "outputs": [],
   "source": [
    "TD=['PAKWACH',\n",
    " 'NEBBI',\n",
    " 'ZOMBO',\n",
    " 'MADI OKOLLO',\n",
    " 'ARUA',\n",
    " 'MARACHA',\n",
    " 'KOBOKO',\n",
    " 'YUMBE',\n",
    " 'MOYO',\n",
    " 'OBONGI',\n",
    " 'ADJUMANI']\n",
    "TC = ['district',\n",
    "       'name','orgUnit', \n",
    "       'year', 'month', \n",
    "       '4th_anc_visits','births', 'dpt3','vitamin_a']"
   ]
  },
  {
   "cell_type": "code",
   "execution_count": 72,
   "metadata": {},
   "outputs": [],
   "source": [
    "\n",
    "outlier = pd.read_csv('data/output/outlier_data.csv')\n",
    "std = pd.read_csv('data/output/std_no_outlier_data.csv')\n",
    "district = pd.read_csv('data/input/static/facility_districts.csv')\n",
    "\n",
    "outlier=pd.merge(outlier,district,how='left',left_on='orgUnit',right_on='id')\n",
    "std=pd.merge(std,district,how='left',left_on='orgUnit',right_on='id')\n",
    "\n",
    "outlier=outlier[TC]\n",
    "std=std[TC]\n",
    "\n",
    "outlier=outlier[outlier.district.isin(TD)]\n",
    "std=std[std.district.isin(TD)]\n",
    "\n",
    "outlier.to_csv('sample_outlier_data.csv')\n",
    "std.to_csv('sample_std_data.csv')\n"
   ]
  },
  {
   "cell_type": "code",
   "execution_count": 77,
   "metadata": {},
   "outputs": [
    {
     "output_type": "execute_result",
     "data": {
      "text/plain": "   district          name      orgUnit  year month  4th_anc_visits  births  \\\n62    YUMBE  Alnoor HC II  A4g2J49bMOr  2018   Apr            14.0     8.0   \n63    YUMBE  Alnoor HC II  A4g2J49bMOr  2018   Aug            13.0     9.0   \n64    YUMBE  Alnoor HC II  A4g2J49bMOr  2018   Dec            10.0     6.0   \n65    YUMBE  Alnoor HC II  A4g2J49bMOr  2018   Feb             5.0    12.0   \n66    YUMBE  Alnoor HC II  A4g2J49bMOr  2018   Jan            10.0     7.0   \n\n    dpt3  vitamin_a  \n62  56.0     1210.0  \n63  38.0        NaN  \n64  47.0        NaN  \n65  29.0        NaN  \n66  33.0       32.0  ",
      "text/html": "<div>\n<style scoped>\n    .dataframe tbody tr th:only-of-type {\n        vertical-align: middle;\n    }\n\n    .dataframe tbody tr th {\n        vertical-align: top;\n    }\n\n    .dataframe thead th {\n        text-align: right;\n    }\n</style>\n<table border=\"1\" class=\"dataframe\">\n  <thead>\n    <tr style=\"text-align: right;\">\n      <th></th>\n      <th>district</th>\n      <th>name</th>\n      <th>orgUnit</th>\n      <th>year</th>\n      <th>month</th>\n      <th>4th_anc_visits</th>\n      <th>births</th>\n      <th>dpt3</th>\n      <th>vitamin_a</th>\n    </tr>\n  </thead>\n  <tbody>\n    <tr>\n      <th>62</th>\n      <td>YUMBE</td>\n      <td>Alnoor HC II</td>\n      <td>A4g2J49bMOr</td>\n      <td>2018</td>\n      <td>Apr</td>\n      <td>14.0</td>\n      <td>8.0</td>\n      <td>56.0</td>\n      <td>1210.0</td>\n    </tr>\n    <tr>\n      <th>63</th>\n      <td>YUMBE</td>\n      <td>Alnoor HC II</td>\n      <td>A4g2J49bMOr</td>\n      <td>2018</td>\n      <td>Aug</td>\n      <td>13.0</td>\n      <td>9.0</td>\n      <td>38.0</td>\n      <td>NaN</td>\n    </tr>\n    <tr>\n      <th>64</th>\n      <td>YUMBE</td>\n      <td>Alnoor HC II</td>\n      <td>A4g2J49bMOr</td>\n      <td>2018</td>\n      <td>Dec</td>\n      <td>10.0</td>\n      <td>6.0</td>\n      <td>47.0</td>\n      <td>NaN</td>\n    </tr>\n    <tr>\n      <th>65</th>\n      <td>YUMBE</td>\n      <td>Alnoor HC II</td>\n      <td>A4g2J49bMOr</td>\n      <td>2018</td>\n      <td>Feb</td>\n      <td>5.0</td>\n      <td>12.0</td>\n      <td>29.0</td>\n      <td>NaN</td>\n    </tr>\n    <tr>\n      <th>66</th>\n      <td>YUMBE</td>\n      <td>Alnoor HC II</td>\n      <td>A4g2J49bMOr</td>\n      <td>2018</td>\n      <td>Jan</td>\n      <td>10.0</td>\n      <td>7.0</td>\n      <td>33.0</td>\n      <td>32.0</td>\n    </tr>\n  </tbody>\n</table>\n</div>"
     },
     "metadata": {},
     "execution_count": 77
    }
   ],
   "source": [
    "std.head()"
   ]
  },
  {
   "cell_type": "code",
   "execution_count": 83,
   "metadata": {
    "tags": []
   },
   "outputs": [
    {
     "output_type": "stream",
     "name": "stdout",
     "text": "6304 6171\n"
    }
   ],
   "source": [
    "out=set(std_full.orgUnit.unique())\n",
    "inn = set(new_district.id.unique())\n",
    " \n",
    "print(len(out),len(out.intersection(inn)))"
   ]
  },
  {
   "cell_type": "code",
   "execution_count": 80,
   "metadata": {},
   "outputs": [],
   "source": [
    "std_full=pd.read_csv('data/output/std_no_outlier_data.csv')"
   ]
  },
  {
   "cell_type": "code",
   "execution_count": 38,
   "metadata": {
    "tags": []
   },
   "outputs": [],
   "source": [
    "district = pd.read_csv('data/input/static/facility_districts.csv')\n",
    "district.set_index('name',inplace=True)\n",
    "\n",
    "zombo = pd.read_csv('data/input/static/zombo_facilities.csv')\n",
    "\n",
    "ZF=list(zombo.organisationunitname.unique())\n",
    "\n",
    "for f in ZF:\n",
    "    try:\n",
    "        district.loc[f,'district']='ZOMBO'\n",
    "    except Exception as e:\n",
    "        pass"
   ]
  },
  {
   "cell_type": "code",
   "execution_count": 40,
   "metadata": {},
   "outputs": [],
   "source": [
    "district.to_csv('data/input/static/facility_districts.csv')"
   ]
  },
  {
   "cell_type": "code",
   "execution_count": 20,
   "metadata": {},
   "outputs": [
    {
     "output_type": "execute_result",
     "data": {
      "text/plain": "array(['ABIM', 'ADJUMANI', 'AGAGO', 'ALEBTONG', 'AMOLATAR', 'AMUDAT',\n       'AMURIA', 'AMURU', 'APAC', 'ARUA', 'BUDAKA', 'BUDUDA', 'BUGIRI',\n       'BUGWERI', 'BUHWEJU', 'BUIKWE', 'BUKEDEA', 'BUKOMANSIMBI', 'BUKWO',\n       'BULAMBULI', 'BULIISA', 'BUNDIBUGYO', 'BUNYANGABU', 'BUSHENYI',\n       'BUSIA', 'BUTALEJA', 'BUTAMBALA', 'BUTEBO', 'BUVUMA', 'BUYENDE',\n       'DOKOLO', 'GOMBA', 'GULU', 'HOIMA', 'IBANDA', 'IGANGA', 'ISINGIRO',\n       'JINJA', 'KAABONG', 'KABALE', 'KABAROLE', 'KABERAMAIDO', 'KAGADI',\n       'KAKUMIRO', 'KALAKI', 'KALANGALA', 'KALIRO', 'KALUNGU', 'KAMPALA',\n       'KAMULI', 'KAMWENGE', 'KANUNGU', 'KAPCHORWA', 'KAPELEBYONG',\n       'KARENGA', 'KASESE', 'KASSANDA', 'KATAKWI', 'KAYUNGA', 'KAZO',\n       'KIBAALE', 'KIBOGA', 'KIBUKU', 'KIKUUBE', 'KIRUHURA',\n       'KIRYANDONGO', 'KISORO', 'KITAGWENDA', 'KITGUM', 'KOBOKO', 'KOLE',\n       'KOTIDO', 'KUMI', 'KWANIA', 'KWEEN', 'KYANKWANZI', 'KYEGEGWA',\n       'KYENJOJO', 'KYOTERA', 'LAMWO', 'LIRA', 'LUUKA', 'LUWERO',\n       'LWENGO', 'LYANTONDE', 'MADI OKOLLO', 'MANAFWA', 'MARACHA',\n       'MASAKA', 'MASINDI', 'MAYUGE', 'MBALE', 'MBARARA', 'MITOOMA',\n       'MITYANA', 'MOROTO', 'MOYO', 'MPIGI', 'MUBENDE', 'MUKONO',\n       'NABILATUK', 'NAKAPIRIPIRIT', 'NAKASEKE', 'NAKASONGOLA',\n       'NAMAYINGO', 'NAMISINDWA', 'NAMUTUMBA', 'NAPAK', 'NEBBI', 'NGORA',\n       'NTOROKO', 'NTUNGAMO', 'NWOYA', 'OBONGI', 'OMORO', 'OTUKE', 'OYAM',\n       'PADER', 'PAKWACH', 'PALLISA', 'RAKAI', 'RUBANDA', 'RUBIRIZI',\n       'RUKIGA', 'RUKUNGIRI', 'RWAMPARA', 'SERERE', 'SHEEMA', 'SIRONKO',\n       'SOROTI', 'SSEMBABULE', 'TORORO', 'WAKISO', 'YUMBE'], dtype=object)"
     },
     "metadata": {},
     "execution_count": 20
    }
   ],
   "source": [
    "district.district.unique()"
   ]
  },
  {
   "cell_type": "code",
   "execution_count": 9,
   "metadata": {},
   "outputs": [
    {
     "output_type": "execute_result",
     "data": {
      "text/plain": "array(['TORORO', 'KUMI', 'WAKISO', 'PADER', 'NAPAK', 'ARUA', 'BUKEDEA',\n       'SERERE', 'LWENGO', 'OMORO', 'NAKASONGOLA', nan, 'KAMULI',\n       'RUBIRIZI', 'BUVUMA', 'KAPCHORWA', 'BULIISA', 'KAKUMIRO', 'AMUDAT',\n       'BUNDIBUGYO', 'KIBOGA', 'KABAROLE', 'KYENJOJO', 'BUTEBO',\n       'KALUNGU', 'AMURIA', 'AGAGO', 'IGANGA', 'ADJUMANI', 'MASAKA',\n       'LUUKA', 'KITGUM', 'MUKONO', 'KYANKWANZI', 'BUYENDE', 'KYOTERA',\n       'SHEEMA', 'NTUNGAMO', 'KALAKI', 'NEBBI', 'DOKOLO', 'RWAMPARA',\n       'IBANDA', 'KASESE', 'APAC', 'RUKUNGIRI', 'PAKWACH', 'BUSHENYI',\n       'KOLE', 'MADI OKOLLO', 'MBARARA', 'KAPELEBYONG', 'KAZO', 'BUDUDA',\n       'MAYUGE', 'KISORO', 'KATAKWI', 'NAMAYINGO', 'KIRYANDONGO', 'JINJA',\n       'KAABONG', 'ISINGIRO', 'KAYUNGA', 'ABIM', 'BUTALEJA', 'KAMPALA',\n       'MBALE', 'MOROTO', 'HOIMA', 'BUHWEJU', 'KWANIA', 'AMURU',\n       'MASINDI', 'OBONGI', 'LIRA', 'KWEEN', 'KANUNGU', 'SOROTI', 'BUSIA',\n       'BUNYANGABU', 'MITYANA', 'KABALE', 'MPIGI', 'KASSANDA', 'BUIKWE',\n       'SIRONKO', 'OYAM', 'KAMWENGE', 'BUKWO', 'MUBENDE', 'GOMBA',\n       'KABERAMAIDO', 'KALIRO', 'RUBANDA', 'BUDAKA', 'LUWERO', 'RAKAI',\n       'BUGWERI', 'NABILATUK', 'AMOLATAR', 'GULU', 'BUGIRI', 'BUTAMBALA',\n       'BULAMBULI', 'KAGADI', 'LYANTONDE', 'KALANGALA', 'ALEBTONG',\n       'NAMISINDWA', 'NAMUTUMBA', 'LAMWO', 'KOBOKO', 'KYEGEGWA', 'KIBUKU',\n       'MANAFWA', 'KIKUUBE', 'NAKAPIRIPIRIT', 'MITOOMA', 'NWOYA',\n       'SSEMBABULE', 'KARENGA', 'RUKIGA', 'KIRUHURA', 'KITAGWENDA',\n       'KIBAALE', 'BUKOMANSIMBI', 'KOTIDO', 'MOYO', 'NGORA', 'MARACHA',\n       'NAKASEKE', 'PALLISA', 'YUMBE', 'NTOROKO', 'OTUKE'], dtype=object)"
     },
     "metadata": {},
     "execution_count": 9
    }
   ],
   "source": [
    "df = pd.read_csv('sample_std_data.csv')\n",
    "\n",
    "df.district.unique()"
   ]
  },
  {
   "cell_type": "code",
   "execution_count": 56,
   "metadata": {},
   "outputs": [],
   "source": [
    "new_district=pd.read_csv('data/input/static/facility_district_rework.csv')"
   ]
  },
  {
   "cell_type": "code",
   "execution_count": 62,
   "metadata": {},
   "outputs": [],
   "source": [
    "new_district=new_district[['orgunitlevel3','organisationunitid','organisationunitname']]"
   ]
  },
  {
   "cell_type": "code",
   "execution_count": 63,
   "metadata": {},
   "outputs": [
    {
     "output_type": "execute_result",
     "data": {
      "text/plain": "7678"
     },
     "metadata": {},
     "execution_count": 63
    }
   ],
   "source": [
    "len(new_district)"
   ]
  },
  {
   "cell_type": "code",
   "execution_count": 64,
   "metadata": {},
   "outputs": [
    {
     "output_type": "execute_result",
     "data": {
      "text/plain": "7678"
     },
     "metadata": {},
     "execution_count": 64
    }
   ],
   "source": [
    "new_district.organisationunitid.nunique()"
   ]
  },
  {
   "cell_type": "code",
   "execution_count": 65,
   "metadata": {},
   "outputs": [],
   "source": [
    "new_district.rename(columns={'orgunitlevel3': \"district\", 'organisationunitid': 'id','organisationunitname':'name'},inplace=True)"
   ]
  },
  {
   "cell_type": "code",
   "execution_count": 66,
   "metadata": {},
   "outputs": [
    {
     "output_type": "execute_result",
     "data": {
      "text/plain": "                  district           id                              name\n0            Oyam District  ftNNOiF8eLQ         L&S Medical Centre Clinic\n1      Kyankwanzi District  SkWKqttPnXq                    Mirembe Clinic\n2     Kiryandongo District  QHsCNVmRURq  St. Jude Thaddeos Karungu HC III\n3         Mubende District  atHXbhmWAsh                 303 Brigade HC II\n4            Moyo District  iNLsVN6SOQg  309 Brigade Military Moyo HC III\n...                    ...          ...                               ...\n7673        Zombo District  tuYjF238GTf                      Zumbo HC III\n7674      Kampala District  CdeWhFwzuBl               Zzaazi Clinic HC II\n7675       Wakiso District  J4WM8XQnHcP             Zzanta Medical Centre\n7676       Masaka District  NTLrytYmRhO                      Zzimwe HC II\n7677       Wakiso District  nYpQROJrK2y                      Zzinga HC II\n\n[7678 rows x 3 columns]",
      "text/html": "<div>\n<style scoped>\n    .dataframe tbody tr th:only-of-type {\n        vertical-align: middle;\n    }\n\n    .dataframe tbody tr th {\n        vertical-align: top;\n    }\n\n    .dataframe thead th {\n        text-align: right;\n    }\n</style>\n<table border=\"1\" class=\"dataframe\">\n  <thead>\n    <tr style=\"text-align: right;\">\n      <th></th>\n      <th>district</th>\n      <th>id</th>\n      <th>name</th>\n    </tr>\n  </thead>\n  <tbody>\n    <tr>\n      <th>0</th>\n      <td>Oyam District</td>\n      <td>ftNNOiF8eLQ</td>\n      <td>L&amp;S Medical Centre Clinic</td>\n    </tr>\n    <tr>\n      <th>1</th>\n      <td>Kyankwanzi District</td>\n      <td>SkWKqttPnXq</td>\n      <td>Mirembe Clinic</td>\n    </tr>\n    <tr>\n      <th>2</th>\n      <td>Kiryandongo District</td>\n      <td>QHsCNVmRURq</td>\n      <td>St. Jude Thaddeos Karungu HC III</td>\n    </tr>\n    <tr>\n      <th>3</th>\n      <td>Mubende District</td>\n      <td>atHXbhmWAsh</td>\n      <td>303 Brigade HC II</td>\n    </tr>\n    <tr>\n      <th>4</th>\n      <td>Moyo District</td>\n      <td>iNLsVN6SOQg</td>\n      <td>309 Brigade Military Moyo HC III</td>\n    </tr>\n    <tr>\n      <th>...</th>\n      <td>...</td>\n      <td>...</td>\n      <td>...</td>\n    </tr>\n    <tr>\n      <th>7673</th>\n      <td>Zombo District</td>\n      <td>tuYjF238GTf</td>\n      <td>Zumbo HC III</td>\n    </tr>\n    <tr>\n      <th>7674</th>\n      <td>Kampala District</td>\n      <td>CdeWhFwzuBl</td>\n      <td>Zzaazi Clinic HC II</td>\n    </tr>\n    <tr>\n      <th>7675</th>\n      <td>Wakiso District</td>\n      <td>J4WM8XQnHcP</td>\n      <td>Zzanta Medical Centre</td>\n    </tr>\n    <tr>\n      <th>7676</th>\n      <td>Masaka District</td>\n      <td>NTLrytYmRhO</td>\n      <td>Zzimwe HC II</td>\n    </tr>\n    <tr>\n      <th>7677</th>\n      <td>Wakiso District</td>\n      <td>nYpQROJrK2y</td>\n      <td>Zzinga HC II</td>\n    </tr>\n  </tbody>\n</table>\n<p>7678 rows × 3 columns</p>\n</div>"
     },
     "metadata": {},
     "execution_count": 66
    }
   ],
   "source": [
    "new_district"
   ]
  },
  {
   "cell_type": "code",
   "execution_count": null,
   "metadata": {},
   "outputs": [],
   "source": []
  },
  {
   "cell_type": "code",
   "execution_count": 67,
   "metadata": {},
   "outputs": [],
   "source": [
    "\n",
    "district_name_dict = {'SEMBABULE': 'SSEMBABULE',\n",
    "                          'MADI-OKOLLO': 'MADI OKOLLO',\n",
    "                          'LUWEERO': 'LUWERO'}\n",
    "new_district['district'] = new_district['district'].apply(lambda x: x[:-9].upper())\n",
    "new_district['district'].replace(district_name_dict, inplace=True)"
   ]
  },
  {
   "cell_type": "code",
   "execution_count": 70,
   "metadata": {},
   "outputs": [
    {
     "output_type": "execute_result",
     "data": {
      "text/plain": "135"
     },
     "metadata": {},
     "execution_count": 70
    }
   ],
   "source": [
    "new_district.district.nunique()"
   ]
  },
  {
   "cell_type": "code",
   "execution_count": 71,
   "metadata": {},
   "outputs": [],
   "source": [
    "new_district.to_csv('data/input/static/facility_districts.csv')"
   ]
  },
  {
   "cell_type": "code",
   "execution_count": null,
   "metadata": {},
   "outputs": [],
   "source": []
  }
 ],
 "metadata": {
  "kernelspec": {
   "display_name": "Python 3",
   "language": "python",
   "name": "python3"
  },
  "language_info": {
   "codemirror_mode": {
    "name": "ipython",
    "version": 3
   },
   "file_extension": ".py",
   "mimetype": "text/x-python",
   "name": "python",
   "nbconvert_exporter": "python",
   "pygments_lexer": "ipython3",
   "version": "3.8.3-final"
  }
 },
 "nbformat": 4,
 "nbformat_minor": 4
}