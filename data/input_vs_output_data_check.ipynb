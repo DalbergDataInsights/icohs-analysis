{
 "cells": [
  {
   "cell_type": "code",
   "execution_count": 96,
   "metadata": {},
   "outputs": [],
   "source": [
    "import pandas as pd\n",
    "import numpy as np\n",
    "from os import getcwd, chdir,rename\n",
    "from glob import glob"
   ]
  },
  {
   "cell_type": "code",
   "execution_count": 97,
   "metadata": {},
   "outputs": [
    {
     "data": {
      "text/plain": [
       "'C:\\\\Users\\\\Dalberg\\\\Desktop\\\\icohs_local_repo\\\\data\\\\input\\\\dhis2\\\\processed'"
      ]
     },
     "execution_count": 97,
     "metadata": {},
     "output_type": "execute_result"
    }
   ],
   "source": [
    "chdir(f'C:\\\\Users\\\\Dalberg\\\\Desktop\\\\icohs_local_repo\\\\data\\\\input\\\\dhis2\\\\processed') #TOCHANGE\n",
    "getcwd()"
   ]
  },
  {
   "cell_type": "code",
   "execution_count": 98,
   "metadata": {},
   "outputs": [],
   "source": [
    "extension = 'csv'\n",
    "result = glob('*.{}'.format(extension))\n",
    "test_files=result[:7]"
   ]
  },
  {
   "cell_type": "code",
   "execution_count": 99,
   "metadata": {},
   "outputs": [],
   "source": [
    "USECOLS = list(range(0, 9))\n",
    "\n",
    "DTYPES = {'Unnamed: 0': int,\n",
    "          'dataElement': str,\n",
    "          'period': str,\n",
    "          'orgUnit': str,\n",
    "          'categoryOptionCombo': str,\n",
    "          'attributeOptionCombo': str,\n",
    "          'value': object,\n",
    "          'storedBy': str,\n",
    "          'created': str,\n",
    "          'lastUpdated': str}"
   ]
  },
  {
   "cell_type": "code",
   "execution_count": 100,
   "metadata": {},
   "outputs": [],
   "source": [
    "indics_in=['105-CL10. DPT-HepB+Hib 3','105-AN01a. ANC 1st Visit for women','105-CH01. Vit A supplement (1st Dose)','105-CH02. Vit A supplement (2nd Dose)']\n",
    "indics_out=['dpt3','1st_anc_visits','vitamin_a']\n",
    "months=['Jan','Feb','Mar','Apr','Jun','Jul']"
   ]
  },
  {
   "cell_type": "markdown",
   "metadata": {},
   "source": [
    "# Input"
   ]
  },
  {
   "cell_type": "code",
   "execution_count": 101,
   "metadata": {},
   "outputs": [],
   "source": [
    "df_in=pd.DataFrame(index=indics_in,columns=test_files)\n",
    "for f in test_files:\n",
    "    df1=pd.read_csv(f,usecols=USECOLS, dtype=DTYPES)\n",
    "    for i in indics_in:\n",
    "        v=df1[df1.dataElement == i]['value'].astype(float).sum()\n",
    "        df_in.loc[i,f] = v"
   ]
  },
  {
   "cell_type": "code",
   "execution_count": 102,
   "metadata": {},
   "outputs": [],
   "source": [
    "l=[]\n",
    "for x in list(df_in.columns):\n",
    "    month=x[14:-4]\n",
    "    l.append(month)\n",
    "df_in.columns=l\n",
    "df_in.loc['vitamin_a']=df_in.loc['105-CH01. Vit A supplement (1st Dose)']+df_in.loc['105-CH02. Vit A supplement (2nd Dose)']\n",
    "df_in.drop(['105-CH01. Vit A supplement (1st Dose)','105-CH02. Vit A supplement (2nd Dose)'],inplace=True,axis=0)\n",
    "df_in.index=indics_out\n",
    "df_in=df_in[months]"
   ]
  },
  {
   "cell_type": "markdown",
   "metadata": {},
   "source": [
    "# Output "
   ]
  },
  {
   "cell_type": "code",
   "execution_count": 103,
   "metadata": {},
   "outputs": [],
   "source": [
    "chdir(f'C:\\\\Users\\\\Dalberg\\\\Desktop\\\\icohs_local_repo\\\\data\\\\output') "
   ]
  },
  {
   "cell_type": "code",
   "execution_count": 104,
   "metadata": {},
   "outputs": [],
   "source": [
    "df=pd.read_csv('outlier_data.csv')\n",
    "df=df[df['year']==2020]\n",
    "df_out=pd.DataFrame(index=indics_out,columns=months)\n",
    "\n",
    "for m in months:\n",
    "    df1=df[df['month']==m]\n",
    "    for i in indics_out:\n",
    "        v=df1[i].astype(float).sum()\n",
    "        df_out.loc[i,m] = v"
   ]
  },
  {
   "cell_type": "code",
   "execution_count": 107,
   "metadata": {},
   "outputs": [
    {
     "data": {
      "text/html": [
       "<div>\n",
       "<style scoped>\n",
       "    .dataframe tbody tr th:only-of-type {\n",
       "        vertical-align: middle;\n",
       "    }\n",
       "\n",
       "    .dataframe tbody tr th {\n",
       "        vertical-align: top;\n",
       "    }\n",
       "\n",
       "    .dataframe thead th {\n",
       "        text-align: right;\n",
       "    }\n",
       "</style>\n",
       "<table border=\"1\" class=\"dataframe\">\n",
       "  <thead>\n",
       "    <tr style=\"text-align: right;\">\n",
       "      <th></th>\n",
       "      <th>Jan</th>\n",
       "      <th>Feb</th>\n",
       "      <th>Mar</th>\n",
       "      <th>Apr</th>\n",
       "      <th>Jun</th>\n",
       "      <th>Jul</th>\n",
       "    </tr>\n",
       "  </thead>\n",
       "  <tbody>\n",
       "    <tr>\n",
       "      <th>dpt3</th>\n",
       "      <td>0</td>\n",
       "      <td>0</td>\n",
       "      <td>0</td>\n",
       "      <td>0</td>\n",
       "      <td>0</td>\n",
       "      <td>0.0517439</td>\n",
       "    </tr>\n",
       "    <tr>\n",
       "      <th>1st_anc_visits</th>\n",
       "      <td>0</td>\n",
       "      <td>0.0392238</td>\n",
       "      <td>0</td>\n",
       "      <td>0</td>\n",
       "      <td>0</td>\n",
       "      <td>0.0776545</td>\n",
       "    </tr>\n",
       "    <tr>\n",
       "      <th>vitamin_a</th>\n",
       "      <td>0</td>\n",
       "      <td>0</td>\n",
       "      <td>0</td>\n",
       "      <td>0</td>\n",
       "      <td>0</td>\n",
       "      <td>0.0169736</td>\n",
       "    </tr>\n",
       "  </tbody>\n",
       "</table>\n",
       "</div>"
      ],
      "text/plain": [
       "               Jan        Feb Mar Apr Jun        Jul\n",
       "dpt3             0          0   0   0   0  0.0517439\n",
       "1st_anc_visits   0  0.0392238   0   0   0  0.0776545\n",
       "vitamin_a        0          0   0   0   0  0.0169736"
      ]
     },
     "execution_count": 107,
     "metadata": {},
     "output_type": "execute_result"
    }
   ],
   "source": [
    "((df_in-df_out)/df_in)*100"
   ]
  },
  {
   "cell_type": "code",
   "execution_count": null,
   "metadata": {},
   "outputs": [],
   "source": []
  }
 ],
 "metadata": {
  "kernelspec": {
   "display_name": "Python 3",
   "language": "python",
   "name": "python3"
  },
  "language_info": {
   "codemirror_mode": {
    "name": "ipython",
    "version": 3
   },
   "file_extension": ".py",
   "mimetype": "text/x-python",
   "name": "python",
   "nbconvert_exporter": "python",
   "pygments_lexer": "ipython3",
   "version": "3.8.3"
  }
 },
 "nbformat": 4,
 "nbformat_minor": 4
}
