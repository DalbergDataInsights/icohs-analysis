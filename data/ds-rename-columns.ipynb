{
 "cells": [
  {
   "cell_type": "code",
   "execution_count": 70,
   "metadata": {},
   "outputs": [],
   "source": [
    "data_path = \"output\""
   ]
  },
  {
   "cell_type": "code",
   "execution_count": 71,
   "metadata": {},
   "outputs": [],
   "source": [
    "fname = 'outlier_data.csv'"
   ]
  },
  {
   "cell_type": "code",
   "execution_count": 72,
   "metadata": {},
   "outputs": [],
   "source": [
    "data = data_path + '/' + fname"
   ]
  },
  {
   "cell_type": "code",
   "execution_count": 73,
   "metadata": {},
   "outputs": [],
   "source": [
    "import pandas as pd"
   ]
  },
  {
   "cell_type": "code",
   "execution_count": 74,
   "metadata": {},
   "outputs": [],
   "source": [
    "df = pd.read_csv(data)"
   ]
  },
  {
   "cell_type": "code",
   "execution_count": 75,
   "metadata": {},
   "outputs": [
    {
     "output_type": "execute_result",
     "data": {
      "text/plain": "            orgUnit  year month  1st_anc_visits  4th_anc_visits  \\\n0       A0KeWapELXA  2018   Apr             NaN             NaN   \n1       A0KeWapELXA  2018   Aug             NaN             NaN   \n2       A0KeWapELXA  2018   Dec             NaN             NaN   \n3       A0KeWapELXA  2018   Feb             NaN             NaN   \n4       A0KeWapELXA  2018   Jan             NaN             NaN   \n...             ...   ...   ...             ...             ...   \n168413  zyI8GDUVYdE  2020   Jan           159.0            36.0   \n168414  zyI8GDUVYdE  2020   Jul           125.0            21.0   \n168415  zyI8GDUVYdE  2020   Jun           209.0            18.0   \n168416  zyI8GDUVYdE  2020   Mar            99.0            20.0   \n168417  zyI8GDUVYdE  2020   May           150.0            20.0   \n\n        actual_105_1_reporting  anc_initiated_hiv  anc_tested_hiv  \\\n0                            1                NaN             NaN   \n1                            1                NaN             NaN   \n2                            1                NaN             NaN   \n3                            1                NaN             NaN   \n4                            1                NaN             NaN   \n...                        ...                ...             ...   \n168413                       1                1.0           156.0   \n168414                       1                1.0           125.0   \n168415                       1                NaN           209.0   \n168416                       1                1.0            93.0   \n168417                       1                NaN           150.0   \n\n        anc_tested_hiv_positive   bcg  ...  postnatal_visits  sam_identified  \\\n0                           NaN   NaN  ...               NaN             NaN   \n1                           NaN   NaN  ...               NaN             NaN   \n2                           NaN   NaN  ...               NaN             NaN   \n3                           NaN   NaN  ...               NaN             NaN   \n4                           NaN   NaN  ...               NaN             NaN   \n...                         ...   ...  ...               ...             ...   \n168413                      1.0  65.0  ...             147.0             NaN   \n168414                      1.0   NaN  ...             160.0             NaN   \n168415                      NaN  59.0  ...             174.0             NaN   \n168416                      1.0  56.0  ...             144.0             NaN   \n168417                      NaN  76.0  ...             136.0             NaN   \n\n        tb_cases_registered    td1   td2   td3  td4_5  tested_hiv  \\\n0                       NaN    NaN   NaN   NaN    NaN         NaN   \n1                       NaN    NaN   NaN   NaN    NaN         NaN   \n2                       NaN    NaN   NaN   NaN    NaN         NaN   \n3                       NaN    NaN   NaN   NaN    NaN         NaN   \n4                       NaN    NaN   NaN   NaN    NaN         NaN   \n...                     ...    ...   ...   ...    ...         ...   \n168413                  5.0   65.0  65.0  26.0  162.0         NaN   \n168414                 10.0    NaN   NaN   NaN    NaN         NaN   \n168415                  1.0  386.0  89.0  14.0    3.0         NaN   \n168416                  5.0  161.0  10.0   2.0    0.0         NaN   \n168417                  NaN  223.0  66.0   6.0    1.0         NaN   \n\n        tested_hiv_positive  vitamin_a  \n0                       NaN        NaN  \n1                       NaN        NaN  \n2                       NaN        NaN  \n3                       NaN        NaN  \n4                       NaN        NaN  \n...                     ...        ...  \n168413                  NaN      205.0  \n168414                  NaN        NaN  \n168415                  NaN      220.0  \n168416                  NaN       84.0  \n168417                  NaN        NaN  \n\n[168418 rows x 49 columns]",
      "text/html": "<div>\n<style scoped>\n    .dataframe tbody tr th:only-of-type {\n        vertical-align: middle;\n    }\n\n    .dataframe tbody tr th {\n        vertical-align: top;\n    }\n\n    .dataframe thead th {\n        text-align: right;\n    }\n</style>\n<table border=\"1\" class=\"dataframe\">\n  <thead>\n    <tr style=\"text-align: right;\">\n      <th></th>\n      <th>orgUnit</th>\n      <th>year</th>\n      <th>month</th>\n      <th>1st_anc_visits</th>\n      <th>4th_anc_visits</th>\n      <th>actual_105_1_reporting</th>\n      <th>anc_initiated_hiv</th>\n      <th>anc_tested_hiv</th>\n      <th>anc_tested_hiv_positive</th>\n      <th>bcg</th>\n      <th>...</th>\n      <th>postnatal_visits</th>\n      <th>sam_identified</th>\n      <th>tb_cases_registered</th>\n      <th>td1</th>\n      <th>td2</th>\n      <th>td3</th>\n      <th>td4_5</th>\n      <th>tested_hiv</th>\n      <th>tested_hiv_positive</th>\n      <th>vitamin_a</th>\n    </tr>\n  </thead>\n  <tbody>\n    <tr>\n      <th>0</th>\n      <td>A0KeWapELXA</td>\n      <td>2018</td>\n      <td>Apr</td>\n      <td>NaN</td>\n      <td>NaN</td>\n      <td>1</td>\n      <td>NaN</td>\n      <td>NaN</td>\n      <td>NaN</td>\n      <td>NaN</td>\n      <td>...</td>\n      <td>NaN</td>\n      <td>NaN</td>\n      <td>NaN</td>\n      <td>NaN</td>\n      <td>NaN</td>\n      <td>NaN</td>\n      <td>NaN</td>\n      <td>NaN</td>\n      <td>NaN</td>\n      <td>NaN</td>\n    </tr>\n    <tr>\n      <th>1</th>\n      <td>A0KeWapELXA</td>\n      <td>2018</td>\n      <td>Aug</td>\n      <td>NaN</td>\n      <td>NaN</td>\n      <td>1</td>\n      <td>NaN</td>\n      <td>NaN</td>\n      <td>NaN</td>\n      <td>NaN</td>\n      <td>...</td>\n      <td>NaN</td>\n      <td>NaN</td>\n      <td>NaN</td>\n      <td>NaN</td>\n      <td>NaN</td>\n      <td>NaN</td>\n      <td>NaN</td>\n      <td>NaN</td>\n      <td>NaN</td>\n      <td>NaN</td>\n    </tr>\n    <tr>\n      <th>2</th>\n      <td>A0KeWapELXA</td>\n      <td>2018</td>\n      <td>Dec</td>\n      <td>NaN</td>\n      <td>NaN</td>\n      <td>1</td>\n      <td>NaN</td>\n      <td>NaN</td>\n      <td>NaN</td>\n      <td>NaN</td>\n      <td>...</td>\n      <td>NaN</td>\n      <td>NaN</td>\n      <td>NaN</td>\n      <td>NaN</td>\n      <td>NaN</td>\n      <td>NaN</td>\n      <td>NaN</td>\n      <td>NaN</td>\n      <td>NaN</td>\n      <td>NaN</td>\n    </tr>\n    <tr>\n      <th>3</th>\n      <td>A0KeWapELXA</td>\n      <td>2018</td>\n      <td>Feb</td>\n      <td>NaN</td>\n      <td>NaN</td>\n      <td>1</td>\n      <td>NaN</td>\n      <td>NaN</td>\n      <td>NaN</td>\n      <td>NaN</td>\n      <td>...</td>\n      <td>NaN</td>\n      <td>NaN</td>\n      <td>NaN</td>\n      <td>NaN</td>\n      <td>NaN</td>\n      <td>NaN</td>\n      <td>NaN</td>\n      <td>NaN</td>\n      <td>NaN</td>\n      <td>NaN</td>\n    </tr>\n    <tr>\n      <th>4</th>\n      <td>A0KeWapELXA</td>\n      <td>2018</td>\n      <td>Jan</td>\n      <td>NaN</td>\n      <td>NaN</td>\n      <td>1</td>\n      <td>NaN</td>\n      <td>NaN</td>\n      <td>NaN</td>\n      <td>NaN</td>\n      <td>...</td>\n      <td>NaN</td>\n      <td>NaN</td>\n      <td>NaN</td>\n      <td>NaN</td>\n      <td>NaN</td>\n      <td>NaN</td>\n      <td>NaN</td>\n      <td>NaN</td>\n      <td>NaN</td>\n      <td>NaN</td>\n    </tr>\n    <tr>\n      <th>...</th>\n      <td>...</td>\n      <td>...</td>\n      <td>...</td>\n      <td>...</td>\n      <td>...</td>\n      <td>...</td>\n      <td>...</td>\n      <td>...</td>\n      <td>...</td>\n      <td>...</td>\n      <td>...</td>\n      <td>...</td>\n      <td>...</td>\n      <td>...</td>\n      <td>...</td>\n      <td>...</td>\n      <td>...</td>\n      <td>...</td>\n      <td>...</td>\n      <td>...</td>\n      <td>...</td>\n    </tr>\n    <tr>\n      <th>168413</th>\n      <td>zyI8GDUVYdE</td>\n      <td>2020</td>\n      <td>Jan</td>\n      <td>159.0</td>\n      <td>36.0</td>\n      <td>1</td>\n      <td>1.0</td>\n      <td>156.0</td>\n      <td>1.0</td>\n      <td>65.0</td>\n      <td>...</td>\n      <td>147.0</td>\n      <td>NaN</td>\n      <td>5.0</td>\n      <td>65.0</td>\n      <td>65.0</td>\n      <td>26.0</td>\n      <td>162.0</td>\n      <td>NaN</td>\n      <td>NaN</td>\n      <td>205.0</td>\n    </tr>\n    <tr>\n      <th>168414</th>\n      <td>zyI8GDUVYdE</td>\n      <td>2020</td>\n      <td>Jul</td>\n      <td>125.0</td>\n      <td>21.0</td>\n      <td>1</td>\n      <td>1.0</td>\n      <td>125.0</td>\n      <td>1.0</td>\n      <td>NaN</td>\n      <td>...</td>\n      <td>160.0</td>\n      <td>NaN</td>\n      <td>10.0</td>\n      <td>NaN</td>\n      <td>NaN</td>\n      <td>NaN</td>\n      <td>NaN</td>\n      <td>NaN</td>\n      <td>NaN</td>\n      <td>NaN</td>\n    </tr>\n    <tr>\n      <th>168415</th>\n      <td>zyI8GDUVYdE</td>\n      <td>2020</td>\n      <td>Jun</td>\n      <td>209.0</td>\n      <td>18.0</td>\n      <td>1</td>\n      <td>NaN</td>\n      <td>209.0</td>\n      <td>NaN</td>\n      <td>59.0</td>\n      <td>...</td>\n      <td>174.0</td>\n      <td>NaN</td>\n      <td>1.0</td>\n      <td>386.0</td>\n      <td>89.0</td>\n      <td>14.0</td>\n      <td>3.0</td>\n      <td>NaN</td>\n      <td>NaN</td>\n      <td>220.0</td>\n    </tr>\n    <tr>\n      <th>168416</th>\n      <td>zyI8GDUVYdE</td>\n      <td>2020</td>\n      <td>Mar</td>\n      <td>99.0</td>\n      <td>20.0</td>\n      <td>1</td>\n      <td>1.0</td>\n      <td>93.0</td>\n      <td>1.0</td>\n      <td>56.0</td>\n      <td>...</td>\n      <td>144.0</td>\n      <td>NaN</td>\n      <td>5.0</td>\n      <td>161.0</td>\n      <td>10.0</td>\n      <td>2.0</td>\n      <td>0.0</td>\n      <td>NaN</td>\n      <td>NaN</td>\n      <td>84.0</td>\n    </tr>\n    <tr>\n      <th>168417</th>\n      <td>zyI8GDUVYdE</td>\n      <td>2020</td>\n      <td>May</td>\n      <td>150.0</td>\n      <td>20.0</td>\n      <td>1</td>\n      <td>NaN</td>\n      <td>150.0</td>\n      <td>NaN</td>\n      <td>76.0</td>\n      <td>...</td>\n      <td>136.0</td>\n      <td>NaN</td>\n      <td>NaN</td>\n      <td>223.0</td>\n      <td>66.0</td>\n      <td>6.0</td>\n      <td>1.0</td>\n      <td>NaN</td>\n      <td>NaN</td>\n      <td>NaN</td>\n    </tr>\n  </tbody>\n</table>\n<p>168418 rows × 49 columns</p>\n</div>"
     },
     "metadata": {},
     "execution_count": 75
    }
   ],
   "source": [
    "df"
   ]
  },
  {
   "cell_type": "code",
   "execution_count": 76,
   "metadata": {},
   "outputs": [],
   "source": [
    "from datetime import datetime"
   ]
  },
  {
   "cell_type": "code",
   "execution_count": 77,
   "metadata": {},
   "outputs": [],
   "source": [
    "df['date'] = df['year'].astype(str) + '-' + df['month']"
   ]
  },
  {
   "cell_type": "code",
   "execution_count": 78,
   "metadata": {},
   "outputs": [],
   "source": [
    "def format_date(date):\n",
    "    dates = ['Jan', 'Feb', 'Mar', 'Apr', 'May', 'Jun', 'Jul', 'Aug', 'Sep', 'Oct', 'Nov', 'Dec']\n",
    "    assert len(dates) == 12\n",
    "    year, month = date.split('-')\n",
    "    month_order = str(dates.index(month)+1)\n",
    "    month_order = '0' + month_order if len(month_order) == 1 else month_order\n",
    "    return year + '-' + month_order + '-01'"
   ]
  },
  {
   "cell_type": "code",
   "execution_count": 79,
   "metadata": {},
   "outputs": [],
   "source": [
    "df['date'] = df.date.apply(format_date)"
   ]
  },
  {
   "cell_type": "code",
   "execution_count": 80,
   "metadata": {},
   "outputs": [],
   "source": [
    "df['type'] = ''"
   ]
  },
  {
   "cell_type": "code",
   "execution_count": 81,
   "metadata": {},
   "outputs": [],
   "source": [
    "lookup = pd.read_csv('input/static/lookup_facilities.csv')"
   ]
  },
  {
   "cell_type": "code",
   "execution_count": 82,
   "metadata": {},
   "outputs": [],
   "source": [
    "df = pd.merge(df, lookup, left_on='orgUnit', right_on='facilitycode', how='left')"
   ]
  },
  {
   "cell_type": "code",
   "execution_count": 83,
   "metadata": {},
   "outputs": [],
   "source": [
    "rename_dict = {\n",
    "    'districtname': 'id',\n",
    "    'date': 'date',\n",
    "    'year': 'year',\n",
    "    'month': 'month',\n",
    "    'orgUnit': 'facility_id',\n",
    "    'type': 'type',\n",
    "    '1st_anc_visits': '1st_anc_visits',\n",
    "    '4th_anc_visits': '4th_anc_visits',\n",
    "    'maternity_admissions' : 'maternity_admissions',\n",
    "    'births':'deliveries_in_unit',\n",
    "    'births_live': 'deliveries_in_unit_live',\n",
    "    'births_fresh_stillbirth': 'deliveries_in_unit_fresh_stillbirth',\n",
    "    'births_macerated_stillbirth': 'deliveries_in_unit_macerated_stillbirth',\n",
    "    'newborn_deaths': 'newborn_deaths',\n",
    "    'postnatal_visits': 'postnatal_visits',\n",
    "    'low_weight_births': 'low_weigh_births',\n",
    "    'bcg': 'bcg',\n",
    "    'dpt1': 'dpt1',\n",
    "    'dpt3': 'dpt3',\n",
    "    'hpv1': 'hpv1',\n",
    "    'hpv2': 'hpv2',\n",
    "    'mr1': 'mr1',\n",
    "    'pcv1': 'pcv1',\n",
    "    'pcv3': 'pcv3',\n",
    "    'td1': 'td1',\n",
    "    'td2': 'td2',\n",
    "    'td3': 'td3',\n",
    "    'td4_5': 'td45',\n",
    "    'malaria_cases': 'malaria_cases',\n",
    "    'opd_attendance': 'opd_attendance',\n",
    "    'malaria_cases_treated': 'malaria_cases_treated',\n",
    "    'malaria_tests': 'malaria_tests',\n",
    "    'mat_tested_hiv_positive': 'mat_tested_hiv_positive',\n",
    "    'mat_tested_hiv': 'mat_tested_hiv',\n",
    "    'malaria_deaths': 'malaria_deaths',\n",
    "    'anc_tested_hiv': 'anc_tested_hiv',\n",
    "    'anc_tested_hiv_positive': 'anc_tested_hiv_positive',\n",
    "    'anc_initiated_hiv': 'anc_initiated_on_art',\n",
    "    'tested_hiv': 'tested_hiv',\n",
    "    'tested_hiv_positive': 'tested_hiv_positive',\n",
    "    'hiv_positive_linked': 'hiv_positive_linked_to_care',\n",
    "    'mat_initiated_hiv': 'mat_initiated_on_art',\n",
    "    'pnc_tested_hiv': 'pnc_tested_hiv',\n",
    "    'pnc_tested_hiv_positive': 'pnc_tested_hiv_positive',\n",
    "    'pnc_initiated_hiv': 'pnc_initiated_on_art',\n",
    "    'ipd_attendance': 'ipd_attendance',\n",
    "    'tb_cases_registered': 'tb_cases_registered',\n",
    "    'vitamin_a': 'number_of_doses_of_vitamin_a_distributed',\n",
    "    'sam_identified': 'number_of_sam_admissions',\n",
    "    'mam_identified' :'number_of_mam_admissions'    \n",
    "    }"
   ]
  },
  {
   "cell_type": "code",
   "execution_count": 84,
   "metadata": {},
   "outputs": [
    {
     "output_type": "execute_result",
     "data": {
      "text/plain": "            orgUnit  year month  1st_anc_visits  4th_anc_visits  \\\n0       A0KeWapELXA  2018   Apr             NaN             NaN   \n1       A0KeWapELXA  2018   Aug             NaN             NaN   \n2       A0KeWapELXA  2018   Dec             NaN             NaN   \n3       A0KeWapELXA  2018   Feb             NaN             NaN   \n4       A0KeWapELXA  2018   Jan             NaN             NaN   \n...             ...   ...   ...             ...             ...   \n168413  zyI8GDUVYdE  2020   Jan           159.0            36.0   \n168414  zyI8GDUVYdE  2020   Jul           125.0            21.0   \n168415  zyI8GDUVYdE  2020   Jun           209.0            18.0   \n168416  zyI8GDUVYdE  2020   Mar            99.0            20.0   \n168417  zyI8GDUVYdE  2020   May           150.0            20.0   \n\n        actual_105_1_reporting  anc_initiated_hiv  anc_tested_hiv  \\\n0                            1                NaN             NaN   \n1                            1                NaN             NaN   \n2                            1                NaN             NaN   \n3                            1                NaN             NaN   \n4                            1                NaN             NaN   \n...                        ...                ...             ...   \n168413                       1                1.0           156.0   \n168414                       1                1.0           125.0   \n168415                       1                NaN           209.0   \n168416                       1                1.0            93.0   \n168417                       1                NaN           150.0   \n\n        anc_tested_hiv_positive   bcg  ...   td3  td4_5  tested_hiv  \\\n0                           NaN   NaN  ...   NaN    NaN         NaN   \n1                           NaN   NaN  ...   NaN    NaN         NaN   \n2                           NaN   NaN  ...   NaN    NaN         NaN   \n3                           NaN   NaN  ...   NaN    NaN         NaN   \n4                           NaN   NaN  ...   NaN    NaN         NaN   \n...                         ...   ...  ...   ...    ...         ...   \n168413                      1.0  65.0  ...  26.0  162.0         NaN   \n168414                      1.0   NaN  ...   NaN    NaN         NaN   \n168415                      NaN  59.0  ...  14.0    3.0         NaN   \n168416                      1.0  56.0  ...   2.0    0.0         NaN   \n168417                      NaN  76.0  ...   6.0    1.0         NaN   \n\n        tested_hiv_positive  vitamin_a        date  type  facilitycode  \\\n0                       NaN        NaN  2018-04-01         A0KeWapELXA   \n1                       NaN        NaN  2018-08-01         A0KeWapELXA   \n2                       NaN        NaN  2018-12-01         A0KeWapELXA   \n3                       NaN        NaN  2018-02-01         A0KeWapELXA   \n4                       NaN        NaN  2018-01-01         A0KeWapELXA   \n...                     ...        ...         ...   ...           ...   \n168413                  NaN      205.0  2020-01-01         zyI8GDUVYdE   \n168414                  NaN        NaN  2020-07-01         zyI8GDUVYdE   \n168415                  NaN      220.0  2020-06-01         zyI8GDUVYdE   \n168416                  NaN       84.0  2020-03-01         zyI8GDUVYdE   \n168417                  NaN        NaN  2020-05-01         zyI8GDUVYdE   \n\n                  facilityname  districtname  \n0       HT Medical Clinic HCII        WAKISO  \n1       HT Medical Clinic HCII        WAKISO  \n2       HT Medical Clinic HCII        WAKISO  \n3       HT Medical Clinic HCII        WAKISO  \n4       HT Medical Clinic HCII        WAKISO  \n...                        ...           ...  \n168413         Namwendwa HC IV        KAMULI  \n168414         Namwendwa HC IV        KAMULI  \n168415         Namwendwa HC IV        KAMULI  \n168416         Namwendwa HC IV        KAMULI  \n168417         Namwendwa HC IV        KAMULI  \n\n[168418 rows x 54 columns]",
      "text/html": "<div>\n<style scoped>\n    .dataframe tbody tr th:only-of-type {\n        vertical-align: middle;\n    }\n\n    .dataframe tbody tr th {\n        vertical-align: top;\n    }\n\n    .dataframe thead th {\n        text-align: right;\n    }\n</style>\n<table border=\"1\" class=\"dataframe\">\n  <thead>\n    <tr style=\"text-align: right;\">\n      <th></th>\n      <th>orgUnit</th>\n      <th>year</th>\n      <th>month</th>\n      <th>1st_anc_visits</th>\n      <th>4th_anc_visits</th>\n      <th>actual_105_1_reporting</th>\n      <th>anc_initiated_hiv</th>\n      <th>anc_tested_hiv</th>\n      <th>anc_tested_hiv_positive</th>\n      <th>bcg</th>\n      <th>...</th>\n      <th>td3</th>\n      <th>td4_5</th>\n      <th>tested_hiv</th>\n      <th>tested_hiv_positive</th>\n      <th>vitamin_a</th>\n      <th>date</th>\n      <th>type</th>\n      <th>facilitycode</th>\n      <th>facilityname</th>\n      <th>districtname</th>\n    </tr>\n  </thead>\n  <tbody>\n    <tr>\n      <th>0</th>\n      <td>A0KeWapELXA</td>\n      <td>2018</td>\n      <td>Apr</td>\n      <td>NaN</td>\n      <td>NaN</td>\n      <td>1</td>\n      <td>NaN</td>\n      <td>NaN</td>\n      <td>NaN</td>\n      <td>NaN</td>\n      <td>...</td>\n      <td>NaN</td>\n      <td>NaN</td>\n      <td>NaN</td>\n      <td>NaN</td>\n      <td>NaN</td>\n      <td>2018-04-01</td>\n      <td></td>\n      <td>A0KeWapELXA</td>\n      <td>HT Medical Clinic HCII</td>\n      <td>WAKISO</td>\n    </tr>\n    <tr>\n      <th>1</th>\n      <td>A0KeWapELXA</td>\n      <td>2018</td>\n      <td>Aug</td>\n      <td>NaN</td>\n      <td>NaN</td>\n      <td>1</td>\n      <td>NaN</td>\n      <td>NaN</td>\n      <td>NaN</td>\n      <td>NaN</td>\n      <td>...</td>\n      <td>NaN</td>\n      <td>NaN</td>\n      <td>NaN</td>\n      <td>NaN</td>\n      <td>NaN</td>\n      <td>2018-08-01</td>\n      <td></td>\n      <td>A0KeWapELXA</td>\n      <td>HT Medical Clinic HCII</td>\n      <td>WAKISO</td>\n    </tr>\n    <tr>\n      <th>2</th>\n      <td>A0KeWapELXA</td>\n      <td>2018</td>\n      <td>Dec</td>\n      <td>NaN</td>\n      <td>NaN</td>\n      <td>1</td>\n      <td>NaN</td>\n      <td>NaN</td>\n      <td>NaN</td>\n      <td>NaN</td>\n      <td>...</td>\n      <td>NaN</td>\n      <td>NaN</td>\n      <td>NaN</td>\n      <td>NaN</td>\n      <td>NaN</td>\n      <td>2018-12-01</td>\n      <td></td>\n      <td>A0KeWapELXA</td>\n      <td>HT Medical Clinic HCII</td>\n      <td>WAKISO</td>\n    </tr>\n    <tr>\n      <th>3</th>\n      <td>A0KeWapELXA</td>\n      <td>2018</td>\n      <td>Feb</td>\n      <td>NaN</td>\n      <td>NaN</td>\n      <td>1</td>\n      <td>NaN</td>\n      <td>NaN</td>\n      <td>NaN</td>\n      <td>NaN</td>\n      <td>...</td>\n      <td>NaN</td>\n      <td>NaN</td>\n      <td>NaN</td>\n      <td>NaN</td>\n      <td>NaN</td>\n      <td>2018-02-01</td>\n      <td></td>\n      <td>A0KeWapELXA</td>\n      <td>HT Medical Clinic HCII</td>\n      <td>WAKISO</td>\n    </tr>\n    <tr>\n      <th>4</th>\n      <td>A0KeWapELXA</td>\n      <td>2018</td>\n      <td>Jan</td>\n      <td>NaN</td>\n      <td>NaN</td>\n      <td>1</td>\n      <td>NaN</td>\n      <td>NaN</td>\n      <td>NaN</td>\n      <td>NaN</td>\n      <td>...</td>\n      <td>NaN</td>\n      <td>NaN</td>\n      <td>NaN</td>\n      <td>NaN</td>\n      <td>NaN</td>\n      <td>2018-01-01</td>\n      <td></td>\n      <td>A0KeWapELXA</td>\n      <td>HT Medical Clinic HCII</td>\n      <td>WAKISO</td>\n    </tr>\n    <tr>\n      <th>...</th>\n      <td>...</td>\n      <td>...</td>\n      <td>...</td>\n      <td>...</td>\n      <td>...</td>\n      <td>...</td>\n      <td>...</td>\n      <td>...</td>\n      <td>...</td>\n      <td>...</td>\n      <td>...</td>\n      <td>...</td>\n      <td>...</td>\n      <td>...</td>\n      <td>...</td>\n      <td>...</td>\n      <td>...</td>\n      <td>...</td>\n      <td>...</td>\n      <td>...</td>\n      <td>...</td>\n    </tr>\n    <tr>\n      <th>168413</th>\n      <td>zyI8GDUVYdE</td>\n      <td>2020</td>\n      <td>Jan</td>\n      <td>159.0</td>\n      <td>36.0</td>\n      <td>1</td>\n      <td>1.0</td>\n      <td>156.0</td>\n      <td>1.0</td>\n      <td>65.0</td>\n      <td>...</td>\n      <td>26.0</td>\n      <td>162.0</td>\n      <td>NaN</td>\n      <td>NaN</td>\n      <td>205.0</td>\n      <td>2020-01-01</td>\n      <td></td>\n      <td>zyI8GDUVYdE</td>\n      <td>Namwendwa HC IV</td>\n      <td>KAMULI</td>\n    </tr>\n    <tr>\n      <th>168414</th>\n      <td>zyI8GDUVYdE</td>\n      <td>2020</td>\n      <td>Jul</td>\n      <td>125.0</td>\n      <td>21.0</td>\n      <td>1</td>\n      <td>1.0</td>\n      <td>125.0</td>\n      <td>1.0</td>\n      <td>NaN</td>\n      <td>...</td>\n      <td>NaN</td>\n      <td>NaN</td>\n      <td>NaN</td>\n      <td>NaN</td>\n      <td>NaN</td>\n      <td>2020-07-01</td>\n      <td></td>\n      <td>zyI8GDUVYdE</td>\n      <td>Namwendwa HC IV</td>\n      <td>KAMULI</td>\n    </tr>\n    <tr>\n      <th>168415</th>\n      <td>zyI8GDUVYdE</td>\n      <td>2020</td>\n      <td>Jun</td>\n      <td>209.0</td>\n      <td>18.0</td>\n      <td>1</td>\n      <td>NaN</td>\n      <td>209.0</td>\n      <td>NaN</td>\n      <td>59.0</td>\n      <td>...</td>\n      <td>14.0</td>\n      <td>3.0</td>\n      <td>NaN</td>\n      <td>NaN</td>\n      <td>220.0</td>\n      <td>2020-06-01</td>\n      <td></td>\n      <td>zyI8GDUVYdE</td>\n      <td>Namwendwa HC IV</td>\n      <td>KAMULI</td>\n    </tr>\n    <tr>\n      <th>168416</th>\n      <td>zyI8GDUVYdE</td>\n      <td>2020</td>\n      <td>Mar</td>\n      <td>99.0</td>\n      <td>20.0</td>\n      <td>1</td>\n      <td>1.0</td>\n      <td>93.0</td>\n      <td>1.0</td>\n      <td>56.0</td>\n      <td>...</td>\n      <td>2.0</td>\n      <td>0.0</td>\n      <td>NaN</td>\n      <td>NaN</td>\n      <td>84.0</td>\n      <td>2020-03-01</td>\n      <td></td>\n      <td>zyI8GDUVYdE</td>\n      <td>Namwendwa HC IV</td>\n      <td>KAMULI</td>\n    </tr>\n    <tr>\n      <th>168417</th>\n      <td>zyI8GDUVYdE</td>\n      <td>2020</td>\n      <td>May</td>\n      <td>150.0</td>\n      <td>20.0</td>\n      <td>1</td>\n      <td>NaN</td>\n      <td>150.0</td>\n      <td>NaN</td>\n      <td>76.0</td>\n      <td>...</td>\n      <td>6.0</td>\n      <td>1.0</td>\n      <td>NaN</td>\n      <td>NaN</td>\n      <td>NaN</td>\n      <td>2020-05-01</td>\n      <td></td>\n      <td>zyI8GDUVYdE</td>\n      <td>Namwendwa HC IV</td>\n      <td>KAMULI</td>\n    </tr>\n  </tbody>\n</table>\n<p>168418 rows × 54 columns</p>\n</div>"
     },
     "metadata": {},
     "execution_count": 84
    }
   ],
   "source": [
    "df"
   ]
  },
  {
   "cell_type": "code",
   "execution_count": 85,
   "metadata": {},
   "outputs": [],
   "source": [
    "df.rename(columns=rename_dict, inplace=True)"
   ]
  },
  {
   "cell_type": "code",
   "execution_count": 86,
   "metadata": {},
   "outputs": [
    {
     "output_type": "execute_result",
     "data": {
      "text/plain": "Index([&#39;facility_id&#39;, &#39;year&#39;, &#39;month&#39;, &#39;1st_anc_visits&#39;, &#39;4th_anc_visits&#39;,\n       &#39;actual_105_1_reporting&#39;, &#39;anc_initiated_on_art&#39;, &#39;anc_tested_hiv&#39;,\n       &#39;anc_tested_hiv_positive&#39;, &#39;bcg&#39;, &#39;deliveries_in_unit&#39;,\n       &#39;deliveries_in_unit_fresh_stillbirth&#39;, &#39;deliveries_in_unit_live&#39;,\n       &#39;deliveries_in_unit_macerated_stillbirth&#39;, &#39;dpt1&#39;, &#39;dpt3&#39;,\n       &#39;expected_105_1_reporting&#39;, &#39;hiv_positive_linked_to_care&#39;, &#39;hpv1&#39;,\n       &#39;hpv2&#39;, &#39;ipd_attendance&#39;, &#39;low_weigh_births&#39;, &#39;malaria_cases&#39;,\n       &#39;malaria_cases_treated&#39;, &#39;malaria_deaths&#39;, &#39;malaria_tests&#39;,\n       &#39;number_of_mam_admissions&#39;, &#39;mat_initiated_on_art&#39;, &#39;mat_tested_hiv&#39;,\n       &#39;mat_tested_hiv_positive&#39;, &#39;maternity_admissions&#39;, &#39;mr1&#39;,\n       &#39;newborn_deaths&#39;, &#39;opd_attendance&#39;, &#39;pcv1&#39;, &#39;pcv3&#39;,\n       &#39;pnc_initiated_on_art&#39;, &#39;pnc_tested_hiv&#39;, &#39;pnc_tested_hiv_positive&#39;,\n       &#39;postnatal_visits&#39;, &#39;number_of_sam_admissions&#39;, &#39;tb_cases_registered&#39;,\n       &#39;td1&#39;, &#39;td2&#39;, &#39;td3&#39;, &#39;td45&#39;, &#39;tested_hiv&#39;, &#39;tested_hiv_positive&#39;,\n       &#39;number_of_doses_of_vitamin_a_distributed&#39;, &#39;date&#39;, &#39;type&#39;,\n       &#39;facilitycode&#39;, &#39;facilityname&#39;, &#39;id&#39;],\n      dtype=&#39;object&#39;)"
     },
     "metadata": {},
     "execution_count": 86
    }
   ],
   "source": [
    "df.columns"
   ]
  },
  {
   "cell_type": "code",
   "execution_count": 87,
   "metadata": {},
   "outputs": [],
   "source": [
    "df = df[rename_dict.values()]"
   ]
  },
  {
   "cell_type": "code",
   "execution_count": 88,
   "metadata": {},
   "outputs": [
    {
     "output_type": "execute_result",
     "data": {
      "text/plain": "(168418, 50)"
     },
     "metadata": {},
     "execution_count": 88
    }
   ],
   "source": [
    "df.shape"
   ]
  },
  {
   "cell_type": "code",
   "execution_count": null,
   "metadata": {},
   "outputs": [],
   "source": []
  },
  {
   "cell_type": "code",
   "execution_count": 89,
   "metadata": {},
   "outputs": [],
   "source": [
    "def replace_report(rep):\n",
    "    rep_dict = {\n",
    "        'not_expected_to_report': 'not_expected',\n",
    "        'reported_on_this_indic': 'positive_indic',\n",
    "        'did_not_report_on_this_indic': 'no_positive_indic',\n",
    "        'did_not_report_on_this_indic_nor_on_105_1_form': 'no_form_report'\n",
    "    }\n",
    "    return rep_dict.get(rep, rep)"
   ]
  },
  {
   "cell_type": "code",
   "execution_count": 90,
   "metadata": {},
   "outputs": [],
   "source": [
    "for col in df.columns:\n",
    "    df[col] = df[col].apply(replace_report)"
   ]
  },
  {
   "cell_type": "code",
   "execution_count": 91,
   "metadata": {},
   "outputs": [
    {
     "output_type": "execute_result",
     "data": {
      "text/plain": "       id        date  year month  facility_id type  1st_anc_visits  \\\n0  WAKISO  2018-04-01  2018   Apr  A0KeWapELXA                  NaN   \n1  WAKISO  2018-08-01  2018   Aug  A0KeWapELXA                  NaN   \n2  WAKISO  2018-12-01  2018   Dec  A0KeWapELXA                  NaN   \n3  WAKISO  2018-02-01  2018   Feb  A0KeWapELXA                  NaN   \n4  WAKISO  2018-01-01  2018   Jan  A0KeWapELXA                  NaN   \n\n   4th_anc_visits  maternity_admissions  deliveries_in_unit  ...  \\\n0             NaN                   NaN                 NaN  ...   \n1             NaN                   NaN                 NaN  ...   \n2             NaN                   NaN                 NaN  ...   \n3             NaN                   NaN                 NaN  ...   \n4             NaN                   NaN                 NaN  ...   \n\n   hiv_positive_linked_to_care  mat_initiated_on_art  pnc_tested_hiv  \\\n0                          NaN                   NaN             NaN   \n1                          NaN                   NaN             NaN   \n2                          NaN                   NaN             NaN   \n3                          NaN                   NaN             NaN   \n4                          NaN                   NaN             NaN   \n\n   pnc_tested_hiv_positive  pnc_initiated_on_art  ipd_attendance  \\\n0                      NaN                   NaN             NaN   \n1                      NaN                   NaN             NaN   \n2                      NaN                   NaN             NaN   \n3                      NaN                   NaN             NaN   \n4                      NaN                   NaN             NaN   \n\n   tb_cases_registered  number_of_doses_of_vitamin_a_distributed  \\\n0                  NaN                                       NaN   \n1                  NaN                                       NaN   \n2                  NaN                                       NaN   \n3                  NaN                                       NaN   \n4                  NaN                                       NaN   \n\n   number_of_sam_admissions  number_of_mam_admissions  \n0                       NaN                       NaN  \n1                       NaN                       NaN  \n2                       NaN                       NaN  \n3                       NaN                       NaN  \n4                       NaN                       NaN  \n\n[5 rows x 50 columns]",
      "text/html": "<div>\n<style scoped>\n    .dataframe tbody tr th:only-of-type {\n        vertical-align: middle;\n    }\n\n    .dataframe tbody tr th {\n        vertical-align: top;\n    }\n\n    .dataframe thead th {\n        text-align: right;\n    }\n</style>\n<table border=\"1\" class=\"dataframe\">\n  <thead>\n    <tr style=\"text-align: right;\">\n      <th></th>\n      <th>id</th>\n      <th>date</th>\n      <th>year</th>\n      <th>month</th>\n      <th>facility_id</th>\n      <th>type</th>\n      <th>1st_anc_visits</th>\n      <th>4th_anc_visits</th>\n      <th>maternity_admissions</th>\n      <th>deliveries_in_unit</th>\n      <th>...</th>\n      <th>hiv_positive_linked_to_care</th>\n      <th>mat_initiated_on_art</th>\n      <th>pnc_tested_hiv</th>\n      <th>pnc_tested_hiv_positive</th>\n      <th>pnc_initiated_on_art</th>\n      <th>ipd_attendance</th>\n      <th>tb_cases_registered</th>\n      <th>number_of_doses_of_vitamin_a_distributed</th>\n      <th>number_of_sam_admissions</th>\n      <th>number_of_mam_admissions</th>\n    </tr>\n  </thead>\n  <tbody>\n    <tr>\n      <th>0</th>\n      <td>WAKISO</td>\n      <td>2018-04-01</td>\n      <td>2018</td>\n      <td>Apr</td>\n      <td>A0KeWapELXA</td>\n      <td></td>\n      <td>NaN</td>\n      <td>NaN</td>\n      <td>NaN</td>\n      <td>NaN</td>\n      <td>...</td>\n      <td>NaN</td>\n      <td>NaN</td>\n      <td>NaN</td>\n      <td>NaN</td>\n      <td>NaN</td>\n      <td>NaN</td>\n      <td>NaN</td>\n      <td>NaN</td>\n      <td>NaN</td>\n      <td>NaN</td>\n    </tr>\n    <tr>\n      <th>1</th>\n      <td>WAKISO</td>\n      <td>2018-08-01</td>\n      <td>2018</td>\n      <td>Aug</td>\n      <td>A0KeWapELXA</td>\n      <td></td>\n      <td>NaN</td>\n      <td>NaN</td>\n      <td>NaN</td>\n      <td>NaN</td>\n      <td>...</td>\n      <td>NaN</td>\n      <td>NaN</td>\n      <td>NaN</td>\n      <td>NaN</td>\n      <td>NaN</td>\n      <td>NaN</td>\n      <td>NaN</td>\n      <td>NaN</td>\n      <td>NaN</td>\n      <td>NaN</td>\n    </tr>\n    <tr>\n      <th>2</th>\n      <td>WAKISO</td>\n      <td>2018-12-01</td>\n      <td>2018</td>\n      <td>Dec</td>\n      <td>A0KeWapELXA</td>\n      <td></td>\n      <td>NaN</td>\n      <td>NaN</td>\n      <td>NaN</td>\n      <td>NaN</td>\n      <td>...</td>\n      <td>NaN</td>\n      <td>NaN</td>\n      <td>NaN</td>\n      <td>NaN</td>\n      <td>NaN</td>\n      <td>NaN</td>\n      <td>NaN</td>\n      <td>NaN</td>\n      <td>NaN</td>\n      <td>NaN</td>\n    </tr>\n    <tr>\n      <th>3</th>\n      <td>WAKISO</td>\n      <td>2018-02-01</td>\n      <td>2018</td>\n      <td>Feb</td>\n      <td>A0KeWapELXA</td>\n      <td></td>\n      <td>NaN</td>\n      <td>NaN</td>\n      <td>NaN</td>\n      <td>NaN</td>\n      <td>...</td>\n      <td>NaN</td>\n      <td>NaN</td>\n      <td>NaN</td>\n      <td>NaN</td>\n      <td>NaN</td>\n      <td>NaN</td>\n      <td>NaN</td>\n      <td>NaN</td>\n      <td>NaN</td>\n      <td>NaN</td>\n    </tr>\n    <tr>\n      <th>4</th>\n      <td>WAKISO</td>\n      <td>2018-01-01</td>\n      <td>2018</td>\n      <td>Jan</td>\n      <td>A0KeWapELXA</td>\n      <td></td>\n      <td>NaN</td>\n      <td>NaN</td>\n      <td>NaN</td>\n      <td>NaN</td>\n      <td>...</td>\n      <td>NaN</td>\n      <td>NaN</td>\n      <td>NaN</td>\n      <td>NaN</td>\n      <td>NaN</td>\n      <td>NaN</td>\n      <td>NaN</td>\n      <td>NaN</td>\n      <td>NaN</td>\n      <td>NaN</td>\n    </tr>\n  </tbody>\n</table>\n<p>5 rows × 50 columns</p>\n</div>"
     },
     "metadata": {},
     "execution_count": 91
    }
   ],
   "source": [
    "df.head()"
   ]
  },
  {
   "cell_type": "code",
   "execution_count": 92,
   "metadata": {},
   "outputs": [],
   "source": [
    "df.to_csv(fname, index=False)"
   ]
  },
  {
   "cell_type": "code",
   "execution_count": null,
   "metadata": {},
   "outputs": [],
   "source": []
  },
  {
   "cell_type": "code",
   "execution_count": null,
   "metadata": {},
   "outputs": [],
   "source": []
  }
 ],
 "metadata": {
  "kernelspec": {
   "display_name": "Python 3",
   "language": "python",
   "name": "python3"
  },
  "language_info": {
   "codemirror_mode": {
    "name": "ipython",
    "version": 3
   },
   "file_extension": ".py",
   "mimetype": "text/x-python",
   "name": "python",
   "nbconvert_exporter": "python",
   "pygments_lexer": "ipython3",
   "version": "3.8.3-final"
  }
 },
 "nbformat": 4,
 "nbformat_minor": 4
}